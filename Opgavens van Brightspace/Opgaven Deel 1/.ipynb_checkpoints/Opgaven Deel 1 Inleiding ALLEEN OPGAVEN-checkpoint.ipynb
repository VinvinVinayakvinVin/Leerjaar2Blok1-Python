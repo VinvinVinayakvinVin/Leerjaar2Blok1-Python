{
 "cells": [
  {
   "cell_type": "markdown",
   "id": "964c2787",
   "metadata": {},
   "source": [
    "# Opgaven Deel 1: Inleiding\n",
    "**(Boek: The Way of the Program: par 1.1 - 1.9 zonder 1.5)**\n",
    "\n",
    "De opgaven hebben verschillende moeilijkheidsgraden:\n",
    "\n",
    "\\* 1 ster: Nieuwe functies en methodes kun je direct toepassen. Kijk even in je aantekeningen of boek. \n",
    "Kijk niet te snel naar de uitwerkingen. Probeer op zijn minst vijf minuten na te denken en te proberen of in je aantekeningen te kijken, voordat je het opgeeft. Anders leer je er echt bijna niets van.\n",
    "\n",
    "\\** 2 sterren: Nieuwe functies en methodes moet je integreren in je oplossing. Die oplossing bedenken vergt wat creativiteit en vindingrijkheid (uiteindelijk ook ervaring). Dat maakt deze opgaven moeilijker. \n",
    "Kijk niet te snel naar de uitwerkingen. Probeer op zijn minst vijf tot tien minuten na te denken en te proberen, voordat je het opgeeft. \n",
    "\n",
    "\\*** 3 sterren: Zoals bij de twee sterren opgaven, maar er wordt nu een nog grotere vindingrijkheid van je verwacht. Vaak moet je ook meerdere functies en methoden toepassen. De codes zijn vaak wat langer daardoor.\n",
    "Kijk niet te snel naar de uitwerkingen. Probeer op zijn minst twintig tot dertig minuten na te denken en te proberen, voordat je het opgeeft. \n",
    "\n",
    "(LEUK) Hiervan denken we dat je het een (extra) leuke opgave vindt (met name het resultaat/uitvoer). Dus als je moet kiezen tussen opgaven is het een idee om deze opgaven in ieder geval te maken."
   ]
  },
  {
   "cell_type": "markdown",
   "id": "f1c8738e",
   "metadata": {},
   "source": [
    "### 1.1\n",
    "\n",
    "\\* Schrijf een programma dat *Hello, World!* uitprint."
   ]
  },
  {
   "cell_type": "markdown",
   "id": "945aa03f",
   "metadata": {},
   "source": [
    "### 1.2\n",
    "\n",
    "\\* Schrijf een programma dat *Hello, World!* vijfmaal onder elkaar uitprint."
   ]
  },
  {
   "cell_type": "markdown",
   "id": "2181e6ce",
   "metadata": {},
   "source": [
    "### 1.3\n",
    "\n",
    "\\* Schrijf een programma dat de getallen 4 en 7 bij elkaar optelt en uitprint."
   ]
  },
  {
   "cell_type": "markdown",
   "id": "e1442046",
   "metadata": {},
   "source": [
    "### 1.4\n",
    "\\* Dit is een opgave uit het boek: \n",
    "\n",
    "Exercise 1.2: Start the Python interpreter and use it as a calculator. \n",
    "\n",
    "1. How many seconds are there in 42 minutes 42 seconds? \n",
    "2. How many miles are there in 10 kilometers? Hint: there are 1.61 kilometers in a mile. \n",
    "3. If you run a 10 kilometer race in 42 minutes 42 seconds, what is your average pace (time per mile in minutes and seconds)? What is your average speed in miles per hour?\n"
   ]
  },
  {
   "cell_type": "markdown",
   "id": "db95a9a4",
   "metadata": {},
   "source": [
    "### 1.5\n",
    "\n",
    "\\** **Rentenieren I.**\n",
    "Iemand wil bij een bank sparen. Over 10 jaar wil de persoon een bedrag van 1000 euro ontvangen. De  vaste rekenrente is 2,5%.\n",
    "\n",
    "Schrijf een programma dat de contante waarde  berekent op $t = 0$ en uitprint.\n",
    "(Laat de kans op overlijden buiten beschouwing).\n",
    "\n",
    "Tip: Hoe zou je dit wiskundig uitrekenen (financiële wiskunde)?\n",
    "Laat die manier inspiratie zijn voor je programma."
   ]
  },
  {
   "cell_type": "markdown",
   "id": "6de59bbe",
   "metadata": {},
   "source": [
    "### 1.6\t\n",
    "\\* Dit is een opgave uit het boek: \n",
    "\n",
    "Exercise 1.1:\n",
    "It is a good idea to read this book in front of a computer so you can try out the examples as you go. Whenever you are experimenting with a new feature, you should try to make mistakes. For example, in the “Hello, world!” program, what happens if you leave out one of the quotation marks? What if you leave out both? What if you spell print wrong? This kind of experiment helps you remember what you read; it also helps when you are programming, because you get to know what the error messages mean. It is better to make mistakes now and on purpose than later and accidentally. \n",
    "(Op deze manier leer je fouten herkennen en kun je ze later veel sneller opsporen!)\n",
    "\n",
    "1. In a print statement, what happens if you leave out one of the parentheses, or both? \n",
    "2. If you are trying to print a string, what happens if you leave out one of the quotation marks, or both? \n",
    "3. You can use a minus sign to make a negative number like -2. What happens if you put a plus sign before a number? What about 2++2? \n",
    "4. In math notation, leading zeros are ok, as in 09. What happens if you try this in Python? What about 011? \n",
    "5. What happens if you have two values with no operator between them?\n",
    "\n",
    "Tip: Dus voer de taken 1 tm 5 ook echt uit. Dus bij 1 type je print(\"Wat tekst\"\n",
    "\n",
    "En dan zonder haakje sluiten, etc."
   ]
  }
 ],
 "metadata": {
  "celltoolbar": "Create Assignment",
  "kernelspec": {
   "display_name": "Python 3 (ipykernel)",
   "language": "python",
   "name": "python3"
  },
  "language_info": {
   "codemirror_mode": {
    "name": "ipython",
    "version": 3
   },
   "file_extension": ".py",
   "mimetype": "text/x-python",
   "name": "python",
   "nbconvert_exporter": "python",
   "pygments_lexer": "ipython3",
   "version": "3.9.12"
  },
  "toc": {
   "base_numbering": 1,
   "nav_menu": {},
   "number_sections": false,
   "sideBar": true,
   "skip_h1_title": false,
   "title_cell": "Table of Contents",
   "title_sidebar": "Contents",
   "toc_cell": false,
   "toc_position": {},
   "toc_section_display": true,
   "toc_window_display": false
  }
 },
 "nbformat": 4,
 "nbformat_minor": 5
}
