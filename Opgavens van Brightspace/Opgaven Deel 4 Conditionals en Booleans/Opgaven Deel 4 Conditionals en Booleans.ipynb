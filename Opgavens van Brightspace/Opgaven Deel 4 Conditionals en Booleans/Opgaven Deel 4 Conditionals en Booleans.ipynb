{
 "cells": [
  {
   "cell_type": "markdown",
   "metadata": {},
   "source": [
    "# Opgaven Deel 4: Conditionals en Booleans\n",
    "**(Boek: Conditionals and recursion: par 5.1 - 5.14 zonder: par 5.8 - 5.10 plus 6.4)**\n",
    "\n",
    "!! Twee uitroeptekens: Deze opgave moet je echt maken. Het geeft je kennis of technieken die niet in het college besproken zijn of in het boek staan, maar die je wel nodig hebt in de toekomstige opgaven/praktijk.\n",
    "\n",
    "De opgaven hebben verder verschillende moeilijkheidsgraden:\n",
    "\n",
    "\\* 1 ster: Nieuwe functies en methodes kun je direct toepassen. Kijk even in je aantekeningen of boek. \n",
    "Kijk niet te snel naar de uitwerkingen. Probeer op zijn minst vijf minuten na te denken en te proberen of in je aantekeningen te kijken, voordat je het opgeeft. Anders leer je er echt bijna niets van.\n",
    "\n",
    "\\** 2 sterren: Nieuwe functies en methodes moet je integreren in je oplossing. Die oplossing bedenken vergt wat creativiteit en vindingrijkheid (uiteindelijk ook ervaring). Dat maakt deze opgaven moeilijker. \n",
    "Kijk niet te snel naar de uitwerkingen. Probeer op zijn minst vijf tot tien minuten na te denken en te proberen, voordat je het opgeeft. \n",
    "\n",
    "\\*** 3 sterren: Zoals bij de twee sterren opgaven, maar er wordt nu een nog grotere vindingrijkheid van je verwacht. Vaak moet je ook meerdere functies en methoden toepassen. De codes zijn vaak wat langer daardoor.\n",
    "Kijk niet te snel naar de uitwerkingen. Probeer op zijn minst twintig tot dertig minuten na te denken en te proberen, voordat je het opgeeft. \n",
    "\n",
    "(LEUK) Hiervan denken we dat je het een (extra) leuke opgave vindt (met name het resultaat/uitvoer). Dus als je moet kiezen tussen opgaven is het een idee om deze opgaven in ieder geval te maken."
   ]
  },
  {
   "cell_type": "markdown",
   "metadata": {},
   "source": [
    "#### Algemene Opmerking:\n",
    "De comments in de uitwerkingen zijn vaak didactische opmerkingen en zijn alleen bedoeld om de uitwerking toe te lichten. Deze zijn niet indicatief voor de comments die je schrijft in je eigen code.   "
   ]
  },
  {
   "cell_type": "markdown",
   "metadata": {
    "solution2": "hidden",
    "solution2_first": true
   },
   "source": [
    "### 4.1\n",
    "\\* Schrijf een programma met invoer twee gehele getallen a en b en dat als uitvoer de waarde  a∙b uitprint én als a en b gelijk zijn ook de volgende zin uitprint:\n",
    "<div align=\"center\"> a en b zijn hetzelfde <div align=\"center\">"
   ]
  },
  {
   "cell_type": "code",
   "execution_count": 2,
   "metadata": {
    "scrolled": true,
    "solution2": "hidden"
   },
   "outputs": [
    {
     "name": "stdout",
     "output_type": "stream",
     "text": [
      "Vul getal a in: 3\n",
      "Vul getal b in: 3\n",
      "a * b: 9\n",
      "a * b: 9\n",
      "a en b zijn hetzelfde\n"
     ]
    }
   ],
   "source": [
    "#geef de input a en b aan met input() en maak er gelijk een geheel getal van met int()\n",
    "a = int(input('Vul getal a in: '))\n",
    "b = int(input('Vul getal b in: '))\n",
    "\n",
    "print('a * b: ' + str(a*b))\n",
    "#printen kan ook op de volgende manier met een formatted string:\n",
    "print(f'a * b: {a*b}')\n",
    "\n",
    "#Om te controleren op gelijkheid, gebruik je de boolean operator ==\n",
    "#a==b is een boolean vergelijking en is True als a gelijk is aan b en False als a ongelijk is aan b\n",
    "#als a gelijk is aan b, dan is de if-statement True en \n",
    "#print dan 'a en b zijn hetzelfde'\n",
    "if a==b:\n",
    "    print('a en b zijn hetzelfde')"
   ]
  },
  {
   "cell_type": "markdown",
   "metadata": {
    "solution2": "hidden",
    "solution2_first": true
   },
   "source": [
    "### 4.2\n",
    "\\* Schrijf een programma met invoer je leeftijd als een geheel getal en dat als uitvoer de volgende tekst geeft:\n",
    "\n",
    "Als je leeftijd kleiner is dan 12: “Je bent een pupil.”\n",
    "\n",
    "Als je leeftijd gelijk of groter is dan 12 maar kleiner dan 18: “Je bent een junior.”\n",
    "\n",
    "Voor de overige leeftijden: “Je bent een senior.”\n"
   ]
  },
  {
   "cell_type": "code",
   "execution_count": 3,
   "metadata": {
    "solution2": "hidden"
   },
   "outputs": [
    {
     "name": "stdout",
     "output_type": "stream",
     "text": [
      "Leeftijd: 21\n",
      "Je bent een senior.\n"
     ]
    }
   ],
   "source": [
    "#Geef leeftijd als input en maar daar een geheel getal van\n",
    "leeftijd = int(input('Leeftijd: '))\n",
    "\n",
    "if leeftijd < 12:                       #als leeftijd < 12\n",
    "    print('Je bent een pupil.')         #print dan 'pupil'\n",
    "elif leeftijd >= 12 and leeftijd < 18:  #anders, als 12 <= leeftijd <= 18\n",
    "    print('Je bent een junior.')        #print dan 'junior'\n",
    "else:                                   #in alle andere gevallen\n",
    "    print('Je bent een senior.')        #print dan 'senior'"
   ]
  },
  {
   "cell_type": "markdown",
   "metadata": {
    "solution2": "hidden",
    "solution2_first": true
   },
   "source": [
    "### 4.3\n",
    "\\* Schrijf een programma dat als invoer drie gehele getallen a, b en c heeft en bepaalt of b tussen  a en c ligt ([a, c]). \n",
    "\n",
    "Als dat zo is print je uit: “[b] ligt tussen [a] en [c]” , \n",
    "\n",
    "anders print je uit “[b] ligt niet tussen [a] en [c]”. \n",
    "\n",
    "Bijv. invoer is 1 9 7, dan uitvoer: “9 ligt niet tussen 1 en 7.”"
   ]
  },
  {
   "cell_type": "code",
   "execution_count": 4,
   "metadata": {
    "solution2": "hidden"
   },
   "outputs": [
    {
     "name": "stdout",
     "output_type": "stream",
     "text": [
      "Vul getal a in: 1\n",
      "Vul getal b in: 9\n",
      "Vul getal c in: 7\n",
      "9 ligt niet tussen 1 en 7\n",
      "9 ligt niet tussen 1 en 7\n"
     ]
    }
   ],
   "source": [
    "a = int(input('Vul getal a in: '))\n",
    "b = int(input('Vul getal b in: '))\n",
    "c = int(input('Vul getal c in: '))\n",
    "\n",
    "if a <= b <= c:\n",
    "    print(str(b) + ' ligt tussen ' + str(a) + ' en ' + str(c))\n",
    "else:\n",
    "    print(str(b) + ' ligt niet tussen ' + str(a) + ' en ' + str(c))\n",
    "\n",
    "\n",
    "# Alternatief:\n",
    "if a <= b <= c:\n",
    "    print(f'{b} ligt tussen {a} en {c}')\n",
    "else:\n",
    "    print(f'{b} ligt niet tussen {a} en {c}')\n"
   ]
  },
  {
   "cell_type": "markdown",
   "metadata": {
    "solution2": "hidden",
    "solution2_first": true
   },
   "source": [
    "### 4.4\n",
    "!! \\** Schrijf een programma met invoer een geheel getal. Je programma bepaalt of dit getal een even of oneven getal is. Print het resultaat. \n",
    "Hint: gebruik de % operator (modulus)."
   ]
  },
  {
   "cell_type": "code",
   "execution_count": 5,
   "metadata": {
    "solution2": "hidden"
   },
   "outputs": [
    {
     "name": "stdout",
     "output_type": "stream",
     "text": [
      "Vul een geheel getal in: 7\n",
      "7 is een oneven getal\n"
     ]
    }
   ],
   "source": [
    "getal = int(input('Vul een geheel getal in: '))\n",
    "\n",
    "#Als getal/2 een restwaarde van 0 heeft, dan is het een even getal\n",
    "#getal%2 geeft de restwaarde van getal/2\n",
    "if getal%2 == 0:\n",
    "    print(f'{getal} is een even getal')\n",
    "else:\n",
    "    print(f'{getal} is een oneven getal')"
   ]
  },
  {
   "cell_type": "markdown",
   "metadata": {
    "solution2": "hidden",
    "solution2_first": true
   },
   "source": [
    "### 4.5\n",
    "\\** *Absolute waarde*\n",
    "\n",
    "a. Schrijf een programma met invoer een getal en als uitvoer de absolute waarde van dit getal. Gebruik de math module.\n",
    "\n",
    "b. Zie a, maar gebruik de math module nu niet, maak zelf een programma dat de absolute waarde van een getal bepaalt.\n",
    "Hint: iets met een if-statement.\n",
    "\n",
    "c. Zie b, maar schrijf nu geen programma, maar een functie die hetzelfde doet (dus van een getal de absolute waarde maken) en noem die functie bijvoorbeeld absoluut."
   ]
  },
  {
   "cell_type": "code",
   "execution_count": 9,
   "metadata": {
    "solution2": "hidden"
   },
   "outputs": [
    {
     "name": "stdout",
     "output_type": "stream",
     "text": [
      "Vul een getal in: -6\n",
      "De absolute waarde met fabs functie 6.0\n",
      "De absolute waarde met if-statement 6.0\n",
      "De absolute waarde met absoluut functie 6.0\n"
     ]
    }
   ],
   "source": [
    "#Omdat we de math module gaan gebruiken, moeten we die eerst inladen\n",
    "#Als je modules gaat gebruiken, importeer die altijd helemaal bovenaan je code\n",
    "import math\n",
    "\n",
    "#Geef een getal als invoer\n",
    "getal = float(input('Vul een getal in: '))\n",
    "\n",
    "#a\n",
    "#fabs is de functie uit de math module dat de absolute waarde bepaald\n",
    "print('De absolute waarde met fabs functie ' + str(math.fabs(getal))) \n",
    "\n",
    "#b\n",
    "#zonder functie kunnen we met een if-statement controleren of het getal kleiner is dan 0\n",
    "#als getal < 0 True is, print dan -getal uit.\n",
    "if getal < 0:\n",
    "    getal = -getal\n",
    "\n",
    "print('De absolute waarde met if-statement '+ str(getal))\n",
    "    \n",
    "#c\n",
    "#gebruik de methode van b in jouw zelfgemaakte functie\n",
    "def absoluut(x):\n",
    "    if x < 0:\n",
    "        x = -x\n",
    "    print('De absolute waarde met absoluut functie ' + str(x)) \n",
    "    \n",
    "absoluut(getal)"
   ]
  },
  {
   "cell_type": "markdown",
   "metadata": {
    "solution2": "hidden",
    "solution2_first": true
   },
   "source": [
    "### 4.6\n",
    "\\* Maak een functie die twee getallen als parameters heeft, a en b. De uitvoer is a/b, maar altijd naar beneden afgerond. Test je functie ook of die werkt. Probeer een geschikte naam voor je functie te bedenken.\n",
    "\n",
    "Hint: floor division // gebruiken.\n"
   ]
  },
  {
   "cell_type": "code",
   "execution_count": 10,
   "metadata": {
    "solution2": "hidden"
   },
   "outputs": [
    {
     "name": "stdout",
     "output_type": "stream",
     "text": [
      "3\n",
      "3\n"
     ]
    }
   ],
   "source": [
    "# import math\n",
    "\n",
    "#2 getallen als testinput\n",
    "x = 10\n",
    "y = 3\n",
    "\n",
    "def myFloorFunction(a, b):\n",
    "    print(a//b) #naar beneden afronden doe je met //\n",
    "    \n",
    "myFloorFunction(x, y) # Testen\n",
    "\n",
    "#Er is ook een \"floor functie in de math module\"\n",
    "#Als \"math\" niet herkend word, moet je het nog importeren. Dit is nu achterwege gelaten \n",
    "#omdat math al wordt ingeladen bij opgave 5.5\n",
    "print(math.floor(x/y))"
   ]
  },
  {
   "cell_type": "markdown",
   "metadata": {
    "solution2": "hidden",
    "solution2_first": true
   },
   "source": [
    "### 4.7\n",
    "\\***  Boolean Expressions\n",
    "\n",
    "We hebben vier variabelen a, b, c en d van het type boolean. \n",
    "\t\n",
    "De (boolean) expressie **a and b** geeft als resultaat *True* als a en b beide *True* zijn, anders *False*.\n",
    "\n",
    "Als we een (boolean) expressie willen opstellen die alleen *True* is als a *True* is en b *False* \n",
    "krijgen we dit: **a and not b**.\n",
    "\n",
    "In deze opgave moet je een aantal boolean expressions opstellen. Dit mag ook met pen en papier.\n",
    "\n",
    "Stel een boolean expressie op waarvoor geldt:\n",
    "\n",
    "1. Als de variabele a *False* is dan moet de expressie *True* zijn, anders *False*.\n",
    "\n",
    "2. Als minstens één van de variabelen a, b *True* is dan moet de uitvoer *True* zijn, anders *False*.\n",
    "\n",
    "3. Als minstens één van de variabelen a, b, c *True* is dan moet de uitvoer *True* zijn, anders *False*.\n",
    "\n",
    "4. Als beide variabelen a, b *False* zijn dan moet de uitvoer *True* zijn, anders *False*.\n",
    "\n",
    "5. We gebruiken nu vier variabelen van type boolean, a, b, c en d. De uitvoer van de expressie moet zijn:  \n",
    "\n",
    "*True* als:\n",
    "\n",
    "<div align=\"center\"> a en b zijn beide True én c en d zijn beide False\n",
    "    \n",
    "    of\n",
    "    \n",
    "    a en b zijn beide False én c en d zijn beide True\n",
    "\n",
    "*False* als:\n",
    "    <div align=\"center\"> Alle andere varianten\n",
    "        \n",
    "In een overzicht:\n",
    "        \n",
    "|   a   |    b   |      c     |   d   | Uitvoer |\n",
    "|:-----:|:------:|:----------:|:-----:|:-------:|\n",
    "|  True |  True  |    False   | False |   True  |\n",
    "| False |  False |    True    | True  |   True  |\n",
    "|  elke | andere | combinatie |       |  False  |"
   ]
  },
  {
   "cell_type": "code",
   "execution_count": 1,
   "metadata": {
    "solution2": "hidden"
   },
   "outputs": [
    {
     "name": "stdout",
     "output_type": "stream",
     "text": [
      "vraag 1: True\n",
      "vraag 1: False\n",
      "vraag 2: True\n",
      "vraag 3: True\n",
      "vraag 4: True\n",
      "vraag 5: True\n"
     ]
    }
   ],
   "source": [
    "#Zie voor deze opgave ook de slides van les 1.2 onder de kop 'waarheids waarden'\n",
    "\n",
    "#1\n",
    "a = False\n",
    "print('vraag 1: ' + str(not a)) #als a False is moet de expressie True zijn. Expressie 'not a' geeft het tegenovergestelde van a\n",
    "\n",
    "a = True\n",
    "print('vraag 1: ' + str(not a)) #Probeer het wanneer a True is\n",
    "\n",
    "#2\n",
    "#Probeer zelf ook andere combinaties van true en false voor a en b en controleer of de expressie nog klopt\n",
    "a = True\n",
    "b = False\n",
    "\n",
    "print('vraag 2: ' + str(a or b)) #a OF b is true als minstens een van de twee true is\n",
    "\n",
    "#3\n",
    "a = False\n",
    "b = False\n",
    "c = True\n",
    "\n",
    "print('vraag 3: ' + str(a or b or c)) \n",
    "\n",
    "\n",
    "#4\n",
    "#Probeer ook andere combinaties voor a en b\n",
    "a = False\n",
    "b = False\n",
    "\n",
    "print('vraag 4: ' + str(not a and not b))\n",
    "\n",
    "#5\n",
    "a = False\n",
    "b = False\n",
    "c = True\n",
    "d = True\n",
    "\n",
    "print('vraag 5: ' + str((a and b and not c and not d) or (not a and not b and c and d)))\n"
   ]
  },
  {
   "cell_type": "markdown",
   "metadata": {
    "solution2": "hidden",
    "solution2_first": true
   },
   "source": [
    "### 4.8\n",
    "\\** Schrijf een programma dat als invoer drie gehele getallen a, b en c heeft en de uitvoer is True alleen als c tussen a en b ligt, zo niet dan is de uitvoer False. \n",
    "De grenzen tellen mee, dus [a, b].\n",
    "\n",
    "<ins>Probeer je code zo kort mogelijk te houden!<ins>\n"
   ]
  },
  {
   "cell_type": "code",
   "execution_count": 11,
   "metadata": {
    "solution2": "hidden"
   },
   "outputs": [
    {
     "name": "stdout",
     "output_type": "stream",
     "text": [
      "Vul getal a in: 6\n",
      "Vul getal b in: 1\n",
      "Vul getal c in: 3\n",
      "False\n"
     ]
    }
   ],
   "source": [
    "a = int(input('Vul getal a in: '))\n",
    "b = int(input('Vul getal b in: '))\n",
    "c = int(input('Vul getal c in: '))\n",
    "\n",
    "print(a <= c <= b) # Je hoeft in je print-statement dus helemaal niet de woorden True of False te gebruiken! \n",
    "                   # De boolean expressie wordt zelf namelijk al True of False. Er is dus ook geen if-else nodig."
   ]
  },
  {
   "cell_type": "markdown",
   "metadata": {
    "solution2": "hidden",
    "solution2_first": true
   },
   "source": [
    "### 4.9\n",
    "\\** Schrijf een functie met twee parameters, a en b van het type int. De functie bepaald of a deelbaar is door b. De return waarde van de functie moet een boolean zijn. \n",
    "Kies een geschikte naam voor je functie en voorkom overbodige code. Zie par 6.4 voor tips.\n",
    "\t\n",
    "Hint: Gebruik %.\n"
   ]
  },
  {
   "cell_type": "code",
   "execution_count": 12,
   "metadata": {
    "solution2": "hidden"
   },
   "outputs": [
    {
     "name": "stdout",
     "output_type": "stream",
     "text": [
      "False\n"
     ]
    }
   ],
   "source": [
    "def deelbaar(a, b):\n",
    "    return a%b == 0  #als de restwaarde van a/b gelijk is aan 0\n",
    "\n",
    "print(deelbaar(10, 3))"
   ]
  },
  {
   "cell_type": "markdown",
   "metadata": {},
   "source": [
    "### 4.10\n",
    "\\** Hieronder staat een programma dat de getallen a en b vermenigvuldigt en  het resultaat print. "
   ]
  },
  {
   "cell_type": "code",
   "execution_count": null,
   "metadata": {},
   "outputs": [],
   "source": [
    "1egetal = Float(input('Vul getal 1 in/n\")) \n",
    "2egetal = Float(input('Vul getal 2 in/n\"))\n",
    "               \n",
    "maal = 1egetal * 2egetal\n",
    "                      \n",
    "print('De vermenigvuldiging is: \" + maal)"
   ]
  },
  {
   "cell_type": "markdown",
   "metadata": {
    "solution2": "hidden",
    "solution2_first": true
   },
   "source": [
    "In de code staan echter fouten! Zie jij welke fouten er allemaal in staan? "
   ]
  },
  {
   "cell_type": "code",
   "execution_count": null,
   "metadata": {
    "solution2": "hidden"
   },
   "outputs": [],
   "source": [
    "#een variabelnaam mag niet met een cijfer beginnen\n",
    "#Float moet float zijn\n",
    "#' wordt afgesloten met \" ipv '\n",
    "#/n moet \\n zijn\n",
    "1egetal = Float(input('Vul getal 1 in/n\")) \n",
    "2egetal = Float(input('Vul getal 2 in/n\"))\n",
    "                \n",
    "#variable naam kan beter                      \n",
    "maal = 1egetal * 2egetal\n",
    "                      \n",
    "#' wordt afgesloten met \"\n",
    "# + (concatenate) werkt alleen tussen strings. \"maal\" is nu nog een float en \n",
    "#moet dus worden omgezet\n",
    "print('De vermenigvuldiging is: \" + maal)"
   ]
  },
  {
   "cell_type": "code",
   "execution_count": null,
   "metadata": {
    "solution2": "hidden"
   },
   "outputs": [],
   "source": [
    "#verbeterde versie\n",
    "getal1 = float(input('Vul getal 1 in\\n')) \n",
    "getal2 = float(input('Vul getal 2 in\\n'))\n",
    "                      \n",
    "product = getal1 * getal2\n",
    "\n",
    "print('De vermenigvuldiging is: ' + str(product))"
   ]
  },
  {
   "cell_type": "markdown",
   "metadata": {
    "solution2": "hidden",
    "solution2_first": true
   },
   "source": [
    "### 4.11\n",
    "\\* Schrijf een programma dat als invoer twee decimale getallen x en y heeft en dan de volgende  functiewaarden berekent en uitprint onder elkaar:\n",
    "\n",
    "$f(x,y) = ln(x) * \\sqrt{y} \\quad voor \\quad x>0 \\quad en \\quad y\\ge 0$\n",
    "\n",
    "$g(x,y) = ln(x) * \\sqrt{\\sqrt{y}} \\quad voor \\quad x>0 \\quad en \\quad y\\ge 0$\n",
    "\n",
    "$h(x,y) = ln(x) * \\sqrt{\\sqrt{\\sqrt{y}}} \\quad voor \\quad x>0 \\quad en \\quad y\\ge 0$\n",
    "\n",
    "Laat je programma een foutmelding geven als er geen geschikte x en/of y waarde is ingevuld. (Met een foutmelding bedoelen we dat je programma iets uitprint over wat je fout doet of fout hebt ingevuld in de commandprompt). Hint: bijv y < 0?"
   ]
  },
  {
   "cell_type": "code",
   "execution_count": 13,
   "metadata": {
    "solution2": "hidden"
   },
   "outputs": [
    {
     "name": "stdout",
     "output_type": "stream",
     "text": [
      "Vul x in: 3\n",
      "Vul y in: 10\n",
      "f(x, y) = 3.4741170976416185\n",
      "g(x, y) = 1.953639612554237\n",
      "h(x, y) = 1.465023032576925\n"
     ]
    }
   ],
   "source": [
    "x = float(input('Vul x in: '))\n",
    "y = float(input('Vul y in: '))\n",
    "\n",
    "#controleer of x>0 en y>=0\n",
    "if x <= 0 or y < 0:\n",
    "    print('Ongeldige waarde voor x en/of y!')\n",
    "else:\n",
    "    print('f(x, y) = ' + str(math.log(x) * math.sqrt(y)))\n",
    "    print('g(x, y) = ' + str(math.log(x) * math.sqrt(math.sqrt(y))))\n",
    "    print('h(x, y) = ' + str(math.log(x) * math.sqrt(math.sqrt(math.sqrt(y)))))"
   ]
  },
  {
   "cell_type": "markdown",
   "metadata": {},
   "source": [
    "### 4.12\n",
    "\\* *Nested conditional*\n",
    "\n",
    "In plaats van elif te gebruiken kunnen we ook zogenaamde nested conditionals gebruiken. Dat zijn if en else statements binnenin een andere if of else statement. Meestal is dit onoverzichtelijker en gebruik je liever elif. \n",
    "Hieronder een nested conditional. \n"
   ]
  },
  {
   "cell_type": "code",
   "execution_count": null,
   "metadata": {},
   "outputs": [],
   "source": [
    "getal = float(input('Vul een getal in\\n'))\n",
    "\n",
    "if getal > 0:\n",
    "    print('Het ingevulde getal is positief\\n')\n",
    "else: \n",
    "    if getal < 0:\n",
    "        print('Het ingevulde getal is negatief\\n')\n",
    "    else:\n",
    "        print('Het ingevulde getal is neutraal: niet positief, niet negatief\\n')"
   ]
  },
  {
   "cell_type": "markdown",
   "metadata": {
    "solution2": "hidden",
    "solution2_first": true
   },
   "source": [
    "Kun jij bovenstaande code omzetten **zonder** nesting? Dus naar een structuur met if, elif en else?"
   ]
  },
  {
   "cell_type": "code",
   "execution_count": null,
   "metadata": {
    "solution2": "hidden"
   },
   "outputs": [],
   "source": [
    "getal = float(input('Vul een getal in \\n'))\n",
    "\n",
    "if getal > 0:\n",
    "    print('Het ingevulde getal is positief \\n')\n",
    "elif getal < 0:\n",
    "    print('Het ingevulde getal is negatief \\n')\n",
    "else:\n",
    "    print('Het ingevulde getal is neutraal: niet positief, niet negatief \\n')"
   ]
  },
  {
   "cell_type": "markdown",
   "metadata": {
    "solution2": "hidden",
    "solution2_first": true
   },
   "source": [
    "### 4.13\n",
    "\\*** Abc-formule\n",
    "\n",
    "**Maak deze opgave in Spyder. Want in Spyder maak je je eindopdracht. Dus oefen er nu alvast mee.**\n",
    "\n",
    "Schrijf een programma dat als invoer drie variabelen, a, b en c heeft en de oplossing geeft van       de kwadratische vergelijking:\n",
    "\n",
    "<div align=\"center\"> $ax^2+bx+c=0$ </div>\n",
    "    \n",
    "    \n",
    "Je moet hiervoor de ABC-formule in Python programmeren. Let er wel op dat:\n",
    "    \n",
    "- Er soms geen oplossingen zijn\n",
    "- Er soms maar 1 oplossing is\n",
    "- Of dat het een lineaire oplossing is als a = 0\n",
    "    \n",
    "M.a.w. als a = 0 moet je programma nog steeds de juiste oplossing voor x geven (maar dan dus  niet m.b.v. de ABC-formule).\n",
    "    \n",
    "Als de discriminant kleiner is dan 0, dan moet je programma als uitvoer geven dat er geen oplossingen zijn. \n",
    "    \n",
    "Als de discriminant 0 is, dan moet je programma als uitvoer maar één oplossing  geven.\n",
    "\n",
    "Hint: In deze opgave moet je dus gebruik maken van if, elif, else.\n"
   ]
  },
  {
   "cell_type": "code",
   "execution_count": null,
   "metadata": {
    "solution2": "hidden"
   },
   "outputs": [],
   "source": [
    "#Zie de 5.13.py file op brightspace "
   ]
  },
  {
   "cell_type": "markdown",
   "metadata": {
    "solution2": "hidden",
    "solution2_first": true
   },
   "source": [
    "### 4.14\n",
    "\\*** Schrijf een programma met invoer een aantal minuten (een getal dus). De uitvoer is hoeveel dagen, resterende uren en resterende minuten hierin zitten.\n",
    "\n",
    "vb: in 3.005 minuten zitten 2 dagen, 2 uur en 5 minuten.\n",
    "Laat je uitvoer ook zo een soortgelijke zin zijn."
   ]
  },
  {
   "cell_type": "code",
   "execution_count": 14,
   "metadata": {
    "solution2": "hidden"
   },
   "outputs": [
    {
     "name": "stdout",
     "output_type": "stream",
     "text": [
      "Vul het aantal minuten in: 3005\n",
      "In 3005 minuten zitten 2 dagen, 2 uur en 5 minuten\n"
     ]
    }
   ],
   "source": [
    "totaal_minuten = int(input('Vul het aantal minuten in: '))\n",
    "\n",
    "#manier 1:\n",
    "dagen = int(totaal_minuten/(24 * 60))\n",
    "uren = int((totaal_minuten - (dagen*24*60))/60)\n",
    "minuten = int(totaal_minuten - (dagen * 24 * 60) - (uren * 60))\n",
    "\n",
    "print(f'In {totaal_minuten} minuten zitten {dagen} dagen, {uren} uur en {minuten} minuten')"
   ]
  },
  {
   "cell_type": "code",
   "execution_count": 15,
   "metadata": {
    "solution2": "hidden"
   },
   "outputs": [
    {
     "name": "stdout",
     "output_type": "stream",
     "text": [
      "Vul het aantal minuten in: 3005\n",
      "In 3005 minuten zitten 2 dagen, 2 uur en 5 minuten\n"
     ]
    }
   ],
   "source": [
    "totaal_minuten = int(input('Vul het aantal minuten in: '))\n",
    "\n",
    "#manier 2:\n",
    "dagen = totaal_minuten//(24*60)\n",
    "uren = (totaal_minuten - (dagen * 24 * 60))//60\n",
    "minuten = totaal_minuten%60\n",
    "\n",
    "print(f'In {totaal_minuten} minuten zitten {dagen} dagen, {uren} uur en {minuten} minuten')"
   ]
  },
  {
   "cell_type": "markdown",
   "metadata": {
    "solution2": "hidden",
    "solution2_first": true
   },
   "source": [
    "### 4.15\n",
    "\\** Belasting.\n",
    "Schrijf een programma met invoer een salaris (een getal). De uitvoer is hoeveel belasting je  jaarlijks over dit salaris moet afdragen volgens onderstaande tabel.\n",
    "\n",
    "| Salaris           | Belastingtarief |\n",
    "|-------------------|-----------------|\n",
    "| < €25.142         | 18,65%          |\n",
    "| €25.142 - €33.994 | 22,95%          |\n",
    "| €33.994 - €68.507 | 40,85%          |\n",
    "| > €68.507         | 51,95%          |\n",
    "\n",
    "\n",
    "Het belastingtarief is het tarief dat je aan belasting moet betalen over alleen het bijbehorende salarisdeel. Over de andere salarisdelen betaal je de andere bijbehorende tarieven.\n",
    "Voorbeeld: iemand met een salaris van € 30.000 betaald aan belasting:  \n",
    "$25.142*18,65\\% + (30.000 – 25.142)*22,95\\% = 5.803,89$"
   ]
  },
  {
   "cell_type": "code",
   "execution_count": 16,
   "metadata": {
    "solution2": "hidden"
   },
   "outputs": [
    {
     "name": "stdout",
     "output_type": "stream",
     "text": [
      "Geef het salaris: 30000\n",
      "5803.894\n"
     ]
    }
   ],
   "source": [
    "salaris = float(input('Geef het salaris: '))\n",
    "\n",
    "maxtarief1 = 25142*18.65/100 #totale belasting t/m de eerste grens\n",
    "maxtarief2 = maxtarief1 + (33994 - 25142)*22.95/100 #totale belasting t/m de tweede grens\n",
    "maxtarief3 = maxtarief2 + (68507 - 33994)*40.85/100 #totale belasting t/m de derde grens\n",
    "\n",
    "if salaris < 25142:\n",
    "    print(salaris*18.65/100)\n",
    "elif salaris < 33994:\n",
    "    print(maxtarief1 + (salaris - 25142)*22.95/100)\n",
    "elif salaris < 68507:\n",
    "    print(maxtarief2 + (salaris - 33994)*40.85/100)\n",
    "else:\n",
    "    print(maxtarief3 + (salaris - 68507)*51.95/100)"
   ]
  },
  {
   "cell_type": "markdown",
   "metadata": {
    "solution2": "hidden",
    "solution2_first": true
   },
   "source": [
    "### 4.16\n",
    "\\** Schrijf een programma met drie gehele getallen als invoervariabelen en waarvan de output *False* is als een van de variabelen gelijk of groter is dan de som van de twee andere variabelen, anders is de output *True*. \n",
    "\n",
    "PS: Dit programma bepaalt of de drie getallen de lengte zouden kunnen zijn van de zijden van een driehoek! Ben je het hiermee eens?"
   ]
  },
  {
   "cell_type": "code",
   "execution_count": null,
   "metadata": {
    "solution2": "hidden"
   },
   "outputs": [],
   "source": [
    "a = int(input('Geef a: '))\n",
    "b = int(input('Geef b: '))\n",
    "c = int(input('Geef c: '))\n",
    "\n",
    "if a >= b + c or b >= a + c or c >= a + b:\n",
    "    print(False)\n",
    "else:\n",
    "    print(True)"
   ]
  },
  {
   "cell_type": "markdown",
   "metadata": {
    "solution2": "hidden",
    "solution2_first": true
   },
   "source": [
    "### 4.17\n",
    "\\** Schrijf een programma met drie gehele getallen als invoervariabelen en waarvan de output **gelijk** (dit woord print je dus) is als alle drie de getallen hetzelfde zijn, anders is de output **niet gelijk**.\n",
    "\n",
    "Opmerking: Houd de code zo kort mogelijk.\n"
   ]
  },
  {
   "cell_type": "code",
   "execution_count": 24,
   "metadata": {
    "solution2": "hidden"
   },
   "outputs": [
    {
     "name": "stdout",
     "output_type": "stream",
     "text": [
      "Geef a: 4\n",
      "Geef b: 4\n",
      "Geef c: 4\n",
      "gelijk\n",
      "gelijk\n"
     ]
    }
   ],
   "source": [
    "a = int(input('Geef a: '))\n",
    "b = int(input('Geef b: '))\n",
    "c = int(input('Geef c: '))\n",
    "\n",
    "if a == b and b == c:\n",
    "    print('gelijk')\n",
    "else:\n",
    "    print('niet gelijk')\n",
    "    \n",
    "# Alternatief:\n",
    "if a == b == c:\n",
    "    print('gelijk')\n",
    "else:\n",
    "    print('niet gelijk')"
   ]
  },
  {
   "cell_type": "markdown",
   "metadata": {},
   "source": [
    "### 4.18\n",
    "!! \\* pass statement en # TODO:\n",
    "\n",
    "Tijdens het programmeren zijn er soms onderdelen van het programma die je later wil maken, afmaken of aanvullen. Echter als je een programma uitvoert moet gelijk de hele code kloppen en kun je niet tot later wachten met afmaken. Gelukkig zijn er manieren om dit toch te kunnen doen: m.b.v. het zogenaamde pass statement.\n",
    "Dit werkt o.a. bij if, elif en else. Zie voorbeeld code hieronder:\n"
   ]
  },
  {
   "cell_type": "code",
   "execution_count": null,
   "metadata": {},
   "outputs": [],
   "source": [
    "getal = int(input('Vul een geheel getal in\\n'))\n",
    "\n",
    "if getal >0:\n",
    "    print('Het ingevulde getal is positief\\n')\n",
    "elif getal == 0:\n",
    "    pass #TODO: Uitzoeken of 0 positief of negatief of geen van beide is\n",
    "else:\n",
    "    print('Het ingevulde getal is negatief\\n')"
   ]
  },
  {
   "cell_type": "markdown",
   "metadata": {},
   "source": [
    "Misschien weet je niet of 0 als positief of negatief wordt beschouwd en wil je dit later uitzoeken. Maar nu wil je controleren of de code werkt. Als je als invoer 0 opgeeft dan kom je uit bij de elif, want getal == 0. \n",
    "De pass statement geeft de computer de instructie om bij die elif even niets uit te voeren en door te gaan met de rest van de code (die hier niet is afgebeeld overigens). Dus ondanks dat je nog geen code hebt bedacht die bij de elif moet komen staan, kun je je programma dankzij de pass statement toch uitvoeren.\n",
    "\n",
    "Opmerking: Als je later iets wil afmaken in je code, dan zet je achter het pass statement de comment # TODO: [en dan de taak die je hier wil doen/uitzoeken nog].\n",
    "\n",
    "De # TODO: comment wel weghalen als je die taak later dan ook echt gedaan hebt!\n",
    "\n",
    "Opdracht:  \n",
    "a. Neem de voorbeeldcode over en voer het programma uit.  \n",
    "b. Haal de pass statement weg en voer het programma uit. Wat gebeurt er nu?"
   ]
  },
  {
   "cell_type": "code",
   "execution_count": null,
   "metadata": {},
   "outputs": [],
   "source": []
  },
  {
   "cell_type": "markdown",
   "metadata": {
    "solution2": "hidden",
    "solution2_first": true
   },
   "source": [
    "Oplossing:"
   ]
  },
  {
   "cell_type": "code",
   "execution_count": 26,
   "metadata": {
    "solution2": "hidden"
   },
   "outputs": [
    {
     "ename": "IndentationError",
     "evalue": "expected an indented block (<ipython-input-26-2e9bd7efe692>, line 6)",
     "output_type": "error",
     "traceback": [
      "\u001b[1;36m  File \u001b[1;32m\"<ipython-input-26-2e9bd7efe692>\"\u001b[1;36m, line \u001b[1;32m6\u001b[0m\n\u001b[1;33m    else:\u001b[0m\n\u001b[1;37m    ^\u001b[0m\n\u001b[1;31mIndentationError\u001b[0m\u001b[1;31m:\u001b[0m expected an indented block\n"
     ]
    }
   ],
   "source": [
    "getal = int(input('Vul een geheel getal in\\n'))\n",
    "\n",
    "if getal >0:\n",
    "    print('Het ingevulde getal is positief\\n')\n",
    "elif getal == 0:    \n",
    "else:\n",
    "    print('Het ingevulde getal is negatief\\n')"
   ]
  },
  {
   "cell_type": "markdown",
   "metadata": {},
   "source": [
    "### 4.19\n",
    "\\** Hieronder staat een programma, met daarin een functie **gelijk**.    "
   ]
  },
  {
   "cell_type": "code",
   "execution_count": null,
   "metadata": {},
   "outputs": [],
   "source": [
    "def gelijk(x, y):\n",
    "    if x = y:      \n",
    "        print('x en y zijn gelijk')\n",
    "    else:\n",
    "        if x < y:    \n",
    "            print('x is groter dan y')\n",
    "        else:\n",
    "            print('x is kleiner dan y')\n",
    "            \n",
    "gelijk(2,3)"
   ]
  },
  {
   "cell_type": "markdown",
   "metadata": {
    "solution2": "hidden",
    "solution2_first": true
   },
   "source": [
    "a. In de code staan twee fouten, welke twee? Syntax? Runtime? Semantic? Herstel ze.    \n",
    "b. Herschrijf de code zonder nesting.\n",
    "\n",
    "PS: Dat er geen comments bijstaan is ook fout eigenlijk, maar geen codefout. Dus die fout zoeken we niet!"
   ]
  },
  {
   "cell_type": "code",
   "execution_count": null,
   "metadata": {
    "solution2": "hidden"
   },
   "outputs": [],
   "source": [
    "def gelijk(x, y):\n",
    "    if x = y:       #SYNTAX FOUT: 2 variabelen vergelijken doe je met ==\n",
    "        print('x en y zijn gelijk')\n",
    "    else:\n",
    "        if x < y:    #Semantic: hier test je of x < y maar het tegenovergestelde wordt uitgeprint\n",
    "            print('x is groter dan y')\n",
    "        else:\n",
    "            print('x is kleiner dan y')\n",
    "            \n",
    "gelijk(2,3)"
   ]
  },
  {
   "cell_type": "code",
   "execution_count": null,
   "metadata": {
    "solution2": "hidden"
   },
   "outputs": [],
   "source": [
    "#verbeterde versie\n",
    "def gelijk(x, y):\n",
    "    if x == y:      \n",
    "        print('x en y zijn gelijk')\n",
    "    elif x > y:\n",
    "        print('x is groter dan y')\n",
    "    else:\n",
    "        print('x is kleiner dan y')\n",
    "            \n",
    "gelijk(2,3)"
   ]
  }
 ],
 "metadata": {
  "kernelspec": {
   "display_name": "Python 3",
   "language": "python",
   "name": "python3"
  },
  "language_info": {
   "codemirror_mode": {
    "name": "ipython",
    "version": 3
   },
   "file_extension": ".py",
   "mimetype": "text/x-python",
   "name": "python",
   "nbconvert_exporter": "python",
   "pygments_lexer": "ipython3",
   "version": "3.8.8"
  },
  "toc": {
   "base_numbering": 1,
   "nav_menu": {},
   "number_sections": false,
   "sideBar": true,
   "skip_h1_title": false,
   "title_cell": "Table of Contents",
   "title_sidebar": "Contents",
   "toc_cell": false,
   "toc_position": {
    "height": "calc(100% - 180px)",
    "left": "10px",
    "top": "150px",
    "width": "235px"
   },
   "toc_section_display": true,
   "toc_window_display": false
  }
 },
 "nbformat": 4,
 "nbformat_minor": 4
}
