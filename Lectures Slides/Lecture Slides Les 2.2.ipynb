{
 "cells": [
  {
   "cell_type": "markdown",
   "id": "c63768a0",
   "metadata": {
    "slideshow": {
     "slide_type": "slide"
    }
   },
   "source": [
    "# Programmeren 2.1\n",
    "\n",
    "## Les 2.2 -- Conditional statements en Boolean functies\n",
    "\n",
    "15 Sep 2022"
   ]
  },
  {
   "cell_type": "markdown",
   "id": "8aa0c510",
   "metadata": {
    "slideshow": {
     "slide_type": "slide"
    }
   },
   "source": [
    "## Inhoud\n",
    "- Boolean uitdrukkingen (herhaling)\n",
    "- Conditional statements\n",
    "  - **if**\n",
    "  - **else**\n",
    "  - **elif**\n",
    "- Boolean functies\n",
    "- Programmeerstijl"
   ]
  },
  {
   "cell_type": "markdown",
   "id": "b3c67d94",
   "metadata": {
    "slideshow": {
     "slide_type": "slide"
    }
   },
   "source": [
    "## Boolean uitdrukkingen\n",
    "\n",
    "Boolean uitdrukkingen zijn uitdrukkingen die waar (**True**) of niet waar (**False**) zijn. Dit is meestal de uitkomst van een vergelijking met **==**, **<** of **>**."
   ]
  },
  {
   "cell_type": "code",
   "execution_count": 19,
   "id": "93a743da",
   "metadata": {},
   "outputs": [
    {
     "name": "stdout",
     "output_type": "stream",
     "text": [
      "Geef een getal:-3\n",
      "Is de waarde positief? False\n"
     ]
    }
   ],
   "source": [
    "x = float(input('Geef een getal:'))\n",
    "x_is_positief = (x >= 0)\n",
    "print(\"Is de waarde positief?\", x_is_positief)"
   ]
  },
  {
   "cell_type": "markdown",
   "id": "619d7d0d",
   "metadata": {
    "slideshow": {
     "slide_type": "slide"
    }
   },
   "source": [
    "Boolean uitdrukkingen kunnen we ook combineren d.m.v. **and**, **or** en **not**.\n",
    "\n",
    "| code | wisk. notatie | Betekenis |\n",
    "|------|------------|-----------|\n",
    "| **x or y** | $x \\vee y$ | Waar als tenminste één van **x** of **y** waar is |\n",
    "| **x and y** | $x \\wedge y$ | Waar als beide **x** en **y** waar zijn |\n",
    "| **not x** | $\\neg x$ | Waar als **x** niet waar is |"
   ]
  },
  {
   "cell_type": "code",
   "execution_count": 21,
   "id": "7f7831ea",
   "metadata": {},
   "outputs": [
    {
     "name": "stdout",
     "output_type": "stream",
     "text": [
      "Geef een getal:8\n",
      "Ligt deze waarde tussen 0 en 10? True\n"
     ]
    }
   ],
   "source": [
    "x = float(input('Geef een getal:'))\n",
    "print(\"Ligt deze waarde tussen 0 en 10?\", 0 < x and x < 10)"
   ]
  },
  {
   "cell_type": "markdown",
   "id": "5a6aad4c",
   "metadata": {
    "slideshow": {
     "slide_type": "slide"
    }
   },
   "source": [
    "## Conditional statements\n",
    "\n",
    "Meestal willen we niet alleen de waarde **True** of **False** uitprinten, maar willen we dat ons programma daadwerkelijk iets verschillends doet afhankelijk van deze waarde. Dit noemen we *conditional* (voowaardelijke) code."
   ]
  },
  {
   "cell_type": "code",
   "execution_count": 23,
   "id": "f9c2adea",
   "metadata": {},
   "outputs": [
    {
     "name": "stdout",
     "output_type": "stream",
     "text": [
      "Geef een getal:-3\n"
     ]
    }
   ],
   "source": [
    "x = float(input('Geef een getal:'))\n",
    "if x > 0:\n",
    "    print(\"Deze waarde is positief!\")"
   ]
  },
  {
   "cell_type": "markdown",
   "id": "6d7fe86c",
   "metadata": {},
   "source": [
    "Dit heeft de vorm: \n",
    "\n",
    "    if <boolean uitdrukking> :\n",
    "        # Code\n",
    "    \n",
    "De ingesprongen code word alleen uitgevoerd als de *\\<boolean uitdrukking\\>* waar (**True**) is."
   ]
  },
  {
   "cell_type": "code",
   "execution_count": 25,
   "id": "77ac9bb5",
   "metadata": {
    "slideshow": {
     "slide_type": "slide"
    }
   },
   "outputs": [
    {
     "name": "stdout",
     "output_type": "stream",
     "text": [
      "Geef een getal:-3\n",
      "Dit wordt altijd geprint.\n"
     ]
    }
   ],
   "source": [
    "x = float(input('Geef een getal:'))\n",
    "if x > 0:\n",
    "    print(\"Dit wordt alleen geprint als de waarde positief is.\")\n",
    "print(\"Dit wordt altijd geprint.\")"
   ]
  },
  {
   "cell_type": "code",
   "execution_count": 28,
   "id": "24c2c6fe",
   "metadata": {},
   "outputs": [
    {
     "name": "stdout",
     "output_type": "stream",
     "text": [
      "Geef een getal:4\n",
      "Dit word altijd geprint.\n",
      "Dit wordt alleen geprint als de waarde positief is.\n"
     ]
    }
   ],
   "source": [
    "x = float(input('Geef een getal:'))\n",
    "print(\"Dit word altijd geprint.\")\n",
    "if x > 0:\n",
    "    print(\"Dit wordt alleen geprint als de waarde positief is.\")\n",
    "if x <= 0:\n",
    "    print(\"Dit wordt alleen geprint als de waarde niet positief is.\")\n"
   ]
  },
  {
   "cell_type": "markdown",
   "id": "01ef18ea",
   "metadata": {
    "slideshow": {
     "slide_type": "slide"
    }
   },
   "source": [
    "Een **if**-statement kan gevolgd worden door een **else**-statement. Hiervoor gelden dezelfde regels, alles dat ingeprongen is word uitgevoerd als de uidrukking in de **if** niet waar is."
   ]
  },
  {
   "cell_type": "code",
   "execution_count": 29,
   "id": "5ef51551",
   "metadata": {},
   "outputs": [
    {
     "name": "stdout",
     "output_type": "stream",
     "text": [
      "Geef een getal:-4\n",
      "Dit wordt alleen geprint als de waarde niet positief is.\n",
      "Dit wordt altijd geprint.\n"
     ]
    }
   ],
   "source": [
    "x = float(input('Geef een getal:'))\n",
    "if x > 0:\n",
    "    print(\"Dit wordt alleen geprint als de waarde positief is.\")\n",
    "else:\n",
    "    print(\"Dit wordt alleen geprint als de waarde niet positief is.\")\n",
    "print(\"Dit wordt altijd geprint.\")"
   ]
  },
  {
   "cell_type": "markdown",
   "id": "7b667b2a",
   "metadata": {
    "slideshow": {
     "slide_type": "slide"
    }
   },
   "source": [
    "**if** en **else** statements kan je ook plaatsen binnen het ingesprongen gedeelte van een andere **if** of **else**, je moet dan nog een keer inspringen."
   ]
  },
  {
   "cell_type": "code",
   "execution_count": 32,
   "id": "52607d26",
   "metadata": {},
   "outputs": [
    {
     "name": "stdout",
     "output_type": "stream",
     "text": [
      "Geef een getal:0\n",
      "Dit wordt alleen geprint als de waarde niet positief is.\n",
      "Dit wordt alleen geprint als de waarde nul is.\n",
      "Dit word altijd geprint.\n"
     ]
    }
   ],
   "source": [
    "x = float(input('Geef een getal:'))\n",
    "if x > 0:\n",
    "    print(\"Dit wordt alleen geprint als de waarde positief is.\")\n",
    "else:\n",
    "    print(\"Dit wordt alleen geprint als de waarde niet positief is.\")\n",
    "    if x < 0:\n",
    "        print(\"Dit wordt alleen geprint als de waarde negatief is.\")\n",
    "    else:\n",
    "        print(\"Dit wordt alleen geprint als de waarde nul is.\")\n",
    "print(\"Dit word altijd geprint.\")"
   ]
  },
  {
   "cell_type": "markdown",
   "id": "73cbb728",
   "metadata": {
    "slideshow": {
     "slide_type": "slide"
    }
   },
   "source": [
    "Een veel voorkomende situatie is dat je drie mogelijkheden af moet gaan, je krijgt dan vaak een **else: if:** met veel inspringen."
   ]
  },
  {
   "cell_type": "code",
   "execution_count": 8,
   "id": "1382ce31",
   "metadata": {
    "slideshow": {
     "slide_type": "-"
    }
   },
   "outputs": [
    {
     "name": "stdout",
     "output_type": "stream",
     "text": [
      "Geef een getal:4\n",
      "De waarde is positief.\n"
     ]
    }
   ],
   "source": [
    "x = float(input('Geef een getal:'))\n",
    "if x > 0:\n",
    "    print(\"De waarde is positief.\")\n",
    "else:\n",
    "    if x < 0:\n",
    "        print(\"De waarde is negatief.\")\n",
    "    else:\n",
    "        print(\"De waarde is nul.\")"
   ]
  },
  {
   "cell_type": "markdown",
   "id": "3738dda9",
   "metadata": {
    "slideshow": {
     "slide_type": "slide"
    }
   },
   "source": [
    "Een **else: if:** kan ook afgekort worden tot **elif:** je hoeft dan niet in te springen."
   ]
  },
  {
   "cell_type": "code",
   "execution_count": 36,
   "id": "40d207d0",
   "metadata": {},
   "outputs": [
    {
     "name": "stdout",
     "output_type": "stream",
     "text": [
      "Geef een getal:4\n",
      "De waarde is positief.\n"
     ]
    }
   ],
   "source": [
    "x = float(input('Geef een getal:'))\n",
    "if x > 0:\n",
    "    print(\"De waarde is positief.\")\n",
    "elif x < 0:\n",
    "    print(\"De waarde is negatief.\")\n",
    "else:\n",
    "    print(\"De waarde is nul.\")"
   ]
  },
  {
   "cell_type": "markdown",
   "id": "d2daff77",
   "metadata": {},
   "source": [
    "Het ingesprongen gedeelte onder de **else:** word alleen uitgevoerd als de voorwaarde bij geen enkele **if** of **elif** waar was."
   ]
  },
  {
   "cell_type": "markdown",
   "id": "391b08b1",
   "metadata": {
    "slideshow": {
     "slide_type": "slide"
    }
   },
   "source": [
    "Je kan zo meerdere keuzes verwerken:"
   ]
  },
  {
   "cell_type": "code",
   "execution_count": 1,
   "id": "4fc6d0a1",
   "metadata": {},
   "outputs": [
    {
     "name": "stdout",
     "output_type": "stream",
     "text": [
      "Maak een keuze, A, B, C of D: D\n",
      "Keuze D... echt waar?\n"
     ]
    }
   ],
   "source": [
    "s = input('Maak een keuze, A, B, C of D: ')\n",
    "if s == 'a' or s == 'A':\n",
    "    print('Je hebt keuze A gekozen!')\n",
    "elif s == 'b' or s == 'B':\n",
    "    print('B... interesante keuze...')\n",
    "elif s == 'c' or s == 'C':\n",
    "    print('Weet je wel zeker dat voor C kiest?')\n",
    "elif s == 'd' or s == 'D':\n",
    "    print('Keuze D... echt waar?')\n",
    "else:\n",
    "    print('Ongeldige keuze!')"
   ]
  },
  {
   "cell_type": "code",
   "execution_count": 38,
   "id": "3ae9efd7",
   "metadata": {
    "cell_style": "split",
    "slideshow": {
     "slide_type": "slide"
    }
   },
   "outputs": [],
   "source": [
    "def abc_formule(a, b, c):\n",
    "    s = f\"{a}x^2 {b:+} x {c:+} = 0\"\n",
    "    disc = b*b - 4*a*c\n",
    "    if disc >= 0:\n",
    "        x1 = (-b + disc**0.5)/(2*a)\n",
    "        x2 = (-b - disc**0.5)/(2*a)\n",
    "    if disc > 0:\n",
    "        print(f\"\"\"\n",
    "        De vergelijking\n",
    "          {s}\n",
    "        heeft twee oplossingen\n",
    "        x1 = {x1}, en\n",
    "        x2 = {x2}.\n",
    "        \"\"\")\n",
    "    elif disc == 0:\n",
    "        print(f\"\"\"\n",
    "        De vergelijking\n",
    "          {s}\n",
    "        heeft één oplossing\n",
    "        x1 = {x1}.\n",
    "        \"\"\")\n",
    "    else:\n",
    "        print(f\"\"\"\n",
    "        De vergelijking\n",
    "          {s}\n",
    "        is niet oplosbaar.\n",
    "        \"\"\")\n",
    "        \n",
    "       "
   ]
  },
  {
   "cell_type": "code",
   "execution_count": 39,
   "id": "c4bf8e13",
   "metadata": {
    "cell_style": "split"
   },
   "outputs": [
    {
     "name": "stdout",
     "output_type": "stream",
     "text": [
      "\n",
      "        De vergelijking\n",
      "          1x^2 -2 x +1 = 0\n",
      "        heeft één oplossing\n",
      "        x1 = 1.0.\n",
      "        \n",
      "\n",
      "        De vergelijking\n",
      "          1x^2 +2 x +5 = 0\n",
      "        is niet oplosbaar.\n",
      "        \n",
      "\n",
      "        De vergelijking\n",
      "          1x^2 +2 x -5 = 0\n",
      "        heeft twee oplossingen\n",
      "        x1 = 1.4494897427831779, en\n",
      "        x2 = -3.449489742783178.\n",
      "        \n"
     ]
    }
   ],
   "source": [
    "abc_formule(1, -2, 1)\n",
    "abc_formule(1, 2, 5)\n",
    "abc_formule(1, 2, -5)"
   ]
  },
  {
   "cell_type": "markdown",
   "id": "358f51f0",
   "metadata": {
    "slideshow": {
     "slide_type": "slide"
    }
   },
   "source": [
    "Je kan een korte **if** **else** ook binnen een berekening zetten. Bijvoorbeeld als we een absolute waarde functie willen programmeren:\n",
    "$$\n",
    "|x| = \\begin{cases} x & \\text{als $x > 0$,} \\\\ -x & \\text{anders.} \\end{cases}\n",
    "$$"
   ]
  },
  {
   "cell_type": "code",
   "execution_count": 13,
   "id": "06672ac3",
   "metadata": {
    "cell_style": "split"
   },
   "outputs": [],
   "source": [
    "# Met een 'normale' if-else:\n",
    "def absoluut(x):\n",
    "    if x > 0:\n",
    "        return x\n",
    "    else:\n",
    "        return -x"
   ]
  },
  {
   "cell_type": "code",
   "execution_count": 14,
   "id": "fb705511",
   "metadata": {
    "cell_style": "split"
   },
   "outputs": [],
   "source": [
    "# Kortere variant\n",
    "def absoluut(x):\n",
    "    return (x if x > 0 else -x)"
   ]
  },
  {
   "cell_type": "markdown",
   "id": "882aa351",
   "metadata": {
    "slideshow": {
     "slide_type": "slide"
    }
   },
   "source": [
    "## Boolean functies\n",
    "\n",
    "Een boolean functie is een functie met een **True** of **False** resultaat. Ze worden meestal gebruikt om uitspraken over hun invoer te toetsen."
   ]
  },
  {
   "cell_type": "code",
   "execution_count": 40,
   "id": "59b7b0ff",
   "metadata": {},
   "outputs": [
    {
     "name": "stdout",
     "output_type": "stream",
     "text": [
      "Geef een geheel getal: 5\n",
      "5 is oneven.\n"
     ]
    }
   ],
   "source": [
    "def is_even(n):\n",
    "    \"\"\"Geef aan of de invoer even is.\"\"\"\n",
    "    return (n%2 == 0)\n",
    "\n",
    "k = int(input(\"Geef een geheel getal: \"))\n",
    "if is_even(k):\n",
    "    print(f\"{k} is even.\")\n",
    "else:\n",
    "    print(f\"{k} is oneven.\")"
   ]
  },
  {
   "cell_type": "code",
   "execution_count": 42,
   "id": "e267068b",
   "metadata": {
    "slideshow": {
     "slide_type": "slide"
    }
   },
   "outputs": [
    {
     "name": "stdout",
     "output_type": "stream",
     "text": [
      "Geef een geheel getal: 61\n",
      "61 is priem.\n"
     ]
    }
   ],
   "source": [
    "def is_priem(n):\n",
    "    \"\"\"Bepaal, voor getallen n van 1 t/m 120 of n een priemgetal is.\"\"\"\n",
    "    if n < 1 or n > 120:\n",
    "        print(\"\"\"\n",
    "        Waarschuwing: deze functie geeft alleen een correct\n",
    "        resultaat voor getallen van 1 t/m 120.\"\"\")\n",
    "    return (n != 1) and (n%2 != 0) and (n%3 != 0) and (n%5 != 0) and (n%7 != 0)\n",
    "\n",
    "k = int(input(\"Geef een geheel getal: \"))\n",
    "if is_priem(k):\n",
    "    print(f\"{k} is priem.\")\n",
    "else:\n",
    "    print(f\"{k} is niet priem.\")"
   ]
  },
  {
   "cell_type": "code",
   "execution_count": 17,
   "id": "4d79783a",
   "metadata": {
    "slideshow": {
     "slide_type": "slide"
    }
   },
   "outputs": [
    {
     "name": "stdout",
     "output_type": "stream",
     "text": [
      "Geef een geheel getal: 4\n",
      "4 is niet priem.\n"
     ]
    }
   ],
   "source": [
    "def is_priem(n):\n",
    "    \"\"\"Bepaal, voor getallen n van 1 t/m 120 of n een priemgetal is.\"\"\"\n",
    "    if n < 1 or n > 120:\n",
    "        print(\"\"\"\n",
    "        Waarschuwing: deze functie geeft alleen een correct\n",
    "        resultaat voor getallen van 1 t/m 120.\"\"\")\n",
    "    if n == 1:\n",
    "        return False\n",
    "    if n%2 == 0:\n",
    "        return False\n",
    "    if n%3 == 0:\n",
    "        return False\n",
    "    if n%5 == 0:\n",
    "        return False\n",
    "    if n%7 == 0:\n",
    "        return False\n",
    "    return True\n",
    "\n",
    "k = int(input(\"Geef een geheel getal: \"))\n",
    "if is_priem(k):\n",
    "    print(f\"{k} is priem.\")\n",
    "else:\n",
    "    print(f\"{k} is niet priem.\")"
   ]
  },
  {
   "cell_type": "markdown",
   "id": "2ed1a6ec",
   "metadata": {
    "slideshow": {
     "slide_type": "slide"
    }
   },
   "source": [
    "## Programmeerstijl\n",
    "\n",
    "- Vermijd dubbele code -- als je dezelfde code in beide het **if** en het **else** gedeelte hebt staan, dan kon deze code ook buiten de **if-else** staan.\n",
    "- Gebruik waar mogelijk **elif:** in plaats van **else: if:** met verder inspringen.\n",
    "- Als je heel veel inspringt, probeer de code te versimpelen door boolean functies te gebruiken.\n",
    "- Naamgeving: De naam van Boolean functies begint met het woord \"is\" gevolgd door de uitspraak die ze toetsen.\n"
   ]
  }
 ],
 "metadata": {
  "celltoolbar": "Slideshow",
  "kernelspec": {
   "display_name": "Python 3 (ipykernel)",
   "language": "python",
   "name": "python3"
  },
  "language_info": {
   "codemirror_mode": {
    "name": "ipython",
    "version": 3
   },
   "file_extension": ".py",
   "mimetype": "text/x-python",
   "name": "python",
   "nbconvert_exporter": "python",
   "pygments_lexer": "ipython3",
   "version": "3.9.13"
  },
  "toc": {
   "base_numbering": 1,
   "nav_menu": {},
   "number_sections": false,
   "sideBar": true,
   "skip_h1_title": true,
   "title_cell": "Table of Contents",
   "title_sidebar": "Contents",
   "toc_cell": false,
   "toc_position": {},
   "toc_section_display": true,
   "toc_window_display": false
  }
 },
 "nbformat": 4,
 "nbformat_minor": 5
}
