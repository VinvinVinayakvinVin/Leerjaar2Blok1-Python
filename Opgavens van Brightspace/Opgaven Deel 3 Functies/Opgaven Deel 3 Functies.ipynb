{
 "cells": [
  {
   "cell_type": "markdown",
   "metadata": {},
   "source": [
    "# Opgaven Deel 3: Functies\n",
    "**(Boek: Functions: par 3.1 - 3.14 plus par 4.9 en 4.10 plus 6.1)**\n",
    "\n",
    "!! **Twee uitroeptekens: Deze opgave moet je echt maken. Het geeft je kennis of technieken die niet in het college besproken zijn of in het boek staan, maar die je wel nodig hebt in de toekomstige opgaven/praktijk.**\n",
    "\n",
    "De opgaven hebben verder verschillende moeilijkheidsgraden:\n",
    "\n",
    "\\* 1 ster: Nieuwe functies en methodes kun je direct toepassen. Kijk even in je aantekeningen of boek. \n",
    "Kijk niet te snel naar de uitwerkingen. Probeer op zijn minst vijf minuten na te denken en te proberen of in je aantekeningen te kijken, voordat je het opgeeft. Anders leer je er echt bijna niets van.\n",
    "\n",
    "\\** 2 sterren: Nieuwe functies en methodes moet je integreren in je oplossing. Die oplossing bedenken vergt wat creativiteit en vindingrijkheid (uiteindelijk ook ervaring). Dat maakt deze opgaven moeilijker. \n",
    "Kijk niet te snel naar de uitwerkingen. Probeer op zijn minst vijf tot tien minuten na te denken en te proberen, voordat je het opgeeft. \n",
    "\n",
    "\\*** 3 sterren: Zoals bij de twee sterren opgaven, maar er wordt nu een nog grotere vindingrijkheid van je verwacht. Vaak moet je ook meerdere functies en methoden toepassen. De codes zijn vaak wat langer daardoor.\n",
    "Kijk niet te snel naar de uitwerkingen. Probeer op zijn minst twintig tot dertig minuten na te denken en te proberen, voordat je het opgeeft. \n",
    "\n",
    "(LEUK) Hiervan denken we dat je het een (extra) leuke opgave vindt (met name het resultaat/uitvoer). Dus als je moet kiezen tussen opgaven is het een idee om deze opgaven in ieder geval te maken."
   ]
  },
  {
   "cell_type": "markdown",
   "metadata": {
    "solution2": "hidden",
    "solution2_first": true
   },
   "source": [
    "### 3.1\n",
    "!! \\** In het college en in het boek zijn een paar functies uit de math module behandeld. Maar er zijn wel meer functies die je uiteindelijk gaat gebruiken uit die module. \n",
    "\n",
    "Zoek daarom op internet een mooi overzicht met de math functies. Misschien kun je dat overzicht of de link opslaan?\n",
    "Zoals eerder gezegd als programmeur moet je vaak op zoek naar informatie. Dus dat proberen we je hier ook al wat aan te leren.\n",
    "(PS: voor de eindopdracht is het niet de bedoeling dat je code overneemt van internet!!)\n",
    "\n",
    "Hint: gebruik termen als: overview, Python, math, module, etc."
   ]
  },
  {
   "cell_type": "markdown",
   "metadata": {
    "solution2": "hidden"
   },
   "source": [
    "De officiële documentatie van de math module:\n",
    "https://docs.python.org/3/library/math.html\n",
    "\n",
    "w3schools heeft ook veel code snippets:\n",
    "https://www.w3schools.com/python/module_math.asp"
   ]
  },
  {
   "cell_type": "markdown",
   "metadata": {
    "solution2": "hidden",
    "solution2_first": true
   },
   "source": [
    "### 3.2\n",
    " \\*  a. Schrijf een programma dat als invoer een decimaal getal x (in radialen) heeft en als uitvoer de waarde van  sin x.  \n",
    "     \\** b. Zoals a, maar nu is de invoer x in graden.\n",
    "     \n",
    "Tip: Houd het gebruikersvriendelijk!\n"
   ]
  },
  {
   "cell_type": "code",
   "execution_count": 2,
   "metadata": {
    "scrolled": true,
    "solution2": "hidden"
   },
   "outputs": [
    {
     "name": "stdout",
     "output_type": "stream",
     "text": [
      "Geef het aantal radialen: 2\n",
      "sin(x) = 0.9092974268256817\n",
      "Geef het aantal graden: 90\n",
      "1.0\n"
     ]
    }
   ],
   "source": [
    "#a\n",
    "import math #laad de math module\n",
    "\n",
    "x = float(input('Geef het aantal radialen: ')) # Gebruiksvriendelijk: stel ook je vraag bij de input!\n",
    "\n",
    "print('sin(x) = ' + str(math.sin(x))) #Gebruik de sinus functie uit de math module met math.sin()\n",
    "\n",
    "#b\n",
    "x = float(input('Geef het aantal graden: '))\n",
    "radians = math.radians(x) #Zet het aantal graden eerst om naar radialen met radians()\n",
    "print('' + str(math.sin(radians))) \n",
    "\n",
    "# als alternatief had je kunnen doen: radians = x/360*2*math.pi"
   ]
  },
  {
   "cell_type": "markdown",
   "metadata": {
    "solution2": "hidden",
    "solution2_first": true
   },
   "source": [
    "### 3.3\n",
    "\\* Schrijf een programma dat als invoer een decimaal getal x heeft en als uitvoer de waarde van  $sin^2(x) + cos^2(x)$ geeft. Test met een paar x-waarden (0; 1; 100). Waarom komt hier niet altijd precies 1 uit denk je?"
   ]
  },
  {
   "cell_type": "code",
   "execution_count": 5,
   "metadata": {
    "scrolled": true,
    "solution2": "hidden"
   },
   "outputs": [
    {
     "name": "stdout",
     "output_type": "stream",
     "text": [
      "Geef x: 100\n",
      "0.9999999999999999\n"
     ]
    }
   ],
   "source": [
    "# import math \n",
    "# Een module hoeft maar 1 keer aangeroepen te worden in een notebook\n",
    "# Dus als je het bij de vorige opgaven al hebt gerund, hoeft het niet nog eens.\n",
    "\n",
    "x = float(input('Geef x: '))\n",
    "\n",
    "print(math.sin(x)**2 + math.cos(x)**2)\n",
    "\n",
    "#Je kunt de constante pi gebruiken met math.pi Let wel, zonder haakjes."
   ]
  },
  {
   "cell_type": "markdown",
   "metadata": {
    "solution2": "hidden"
   },
   "source": [
    "Python rond $sin(x)$ en $cos(x)$ uiteindelijk af. Door afrondfouten krijg je niet altijd precies 1 uit $sin^2(x) + cos^2(x)$. Wiskundig gezien komt er wel altijd precies 1 uit."
   ]
  },
  {
   "cell_type": "markdown",
   "metadata": {
    "solution2": "hidden",
    "solution2_first": true
   },
   "source": [
    "### 3.4\n",
    "\\* Schrijf een programma dat de volgende waarde berekent: $\\pi \\sqrt{e}$ \n",
    "\n",
    "*Hint*: alles wat je nodig hebt voor deze opgave is te vinden in de math module.\n",
    "\tTermen zijn wel in het Engels.\n"
   ]
  },
  {
   "cell_type": "code",
   "execution_count": 6,
   "metadata": {
    "scrolled": false,
    "solution2": "hidden"
   },
   "outputs": [
    {
     "name": "stdout",
     "output_type": "stream",
     "text": [
      "5.179610631848751\n"
     ]
    }
   ],
   "source": [
    "# import math\n",
    "# De functies uit de math module schrijf je altijd met haakjes.\n",
    "# De math constanten (pi, e) schrijf je zonder haakjes.\n",
    "\n",
    "print(math.pi * math.sqrt(math.e))"
   ]
  },
  {
   "cell_type": "markdown",
   "metadata": {
    "solution2": "hidden",
    "solution2_first": true
   },
   "source": [
    "### 3.5\n",
    "\\* Schrijf een programma met invoer het getal x en dat de volgende wiskundige functie berekent: $f(x) = e^{|x|}$\n",
    "\n",
    "Hint: In het overzicht van de math module staat ook een functie die van een getal de absolute waarde maakt.\n"
   ]
  },
  {
   "cell_type": "code",
   "execution_count": null,
   "metadata": {
    "scrolled": true,
    "solution2": "hidden"
   },
   "outputs": [],
   "source": [
    "x = float(input('Geef x: '))\n",
    "\n",
    "print(math.e ** math.fabs(x))"
   ]
  },
  {
   "cell_type": "markdown",
   "metadata": {
    "solution2": "hidden",
    "solution2_first": true
   },
   "source": [
    "### 3.6\n",
    "!! \\** Een andere module die goed van pas komt is de random module. Als je functies wil gebruiken uit deze module moet je de module eerst importeren, zoals je dat deed bij de math module. \n",
    "Eén van de functies in random is random(), die genereert willekeurig een getal tussen [0, 1). 0 kan het worden, maar 1 nooit.\n",
    "\n",
    "Schrijf een programma dat drie willekeurige getallen tussen [0 en 1) uitprint. Zet de getallen naast elkaar met ertussen vier spaties.\n",
    "\n",
    "Hint: hoe roep je functies ook alweer aan in de math module? Doe nu iets soortgelijks voor de random module.\n"
   ]
  },
  {
   "cell_type": "code",
   "execution_count": 10,
   "metadata": {
    "scrolled": true,
    "solution2": "hidden"
   },
   "outputs": [
    {
     "name": "stdout",
     "output_type": "stream",
     "text": [
      "0.029898263221144084    0.0335937898510863    0.10547926099254601\n",
      "0.029898263221144084    0.0335937898510863    0.10547926099254601\n",
      "0.029898263221144084    0.0335937898510863    0.10547926099254601    \n"
     ]
    }
   ],
   "source": [
    "import random\n",
    "\n",
    "#genereer 3 random getallen tussen [0, 1)\n",
    "random1 = random.random()\n",
    "random2 = random.random()\n",
    "random3 = random.random()\n",
    "\n",
    "#1e manier\n",
    "print(f\"{random1}    {random2}    {random3}\")\n",
    "\n",
    "#2e manier\n",
    "print(str(random1) + \"    \" + str(random2) + \"    \" + str(random3)) # Waarom moet je ook alweer str() gebruiken?\n",
    "\n",
    "#3e manier\n",
    "string_length1 = len(str(random1)) + 4 #len() geeft de lengte van een string. Met 4 maak je deze 4 karakters langer\n",
    "string_length2 = len(str(random2)) + 4\n",
    "string_length3 = len(str(random3)) + 4\n",
    "\n",
    "random1_string = str(random1).ljust(string_length1) #ljust() voegt space toe aan het eind van een string\n",
    "random2_string = str(random2).ljust(string_length2) #tegenovergestelde: rjust() voegt space toe aan het begin van een string\n",
    "random3_string = str(random3).ljust(string_length3)\n",
    "                     \n",
    "print(f'{random1_string}{random2_string}{random3_string}')"
   ]
  },
  {
   "cell_type": "markdown",
   "metadata": {
    "solution2": "hidden",
    "solution2_first": true
   },
   "source": [
    "### 3.7\n",
    "\\* a. Een andere functie in de random module is uniform(). Zoek op internet wat deze functie doet.\n",
    "\n",
    "Maak een programma dat een willkeurig getal tussen n en m print; n en m is invoer."
   ]
  },
  {
   "cell_type": "code",
   "execution_count": 12,
   "metadata": {
    "solution2": "hidden"
   },
   "outputs": [
    {
     "name": "stdout",
     "output_type": "stream",
     "text": [
      "Geef n: .2\n",
      "Geef m: 10.5\n",
      "0.9668816475392641\n"
     ]
    }
   ],
   "source": [
    "# import random \n",
    "# Een module hoeft maar 1 keer aangeroepen te worden in een notebook\n",
    "# Dus als je het bij de vorige opgaven al hebt gerund, hoeft het niet nog eens.\n",
    "\n",
    "n = float(input('Geef n: '))\n",
    "m = float(input('Geef m: '))\n",
    "\n",
    "print(random.uniform(n, m))"
   ]
  },
  {
   "cell_type": "markdown",
   "metadata": {
    "solution2": "hidden",
    "solution2_first": true
   },
   "source": [
    "\\** b. Maak een programma dat tussen de **gehele** getallen n en m een willekeurig **geheel** getal uitprint.\n",
    "\n",
    "Kun je op internet een geschikte functie hiervoor vinden in de random module?"
   ]
  },
  {
   "cell_type": "code",
   "execution_count": 16,
   "metadata": {
    "solution2": "hidden"
   },
   "outputs": [
    {
     "name": "stdout",
     "output_type": "stream",
     "text": [
      "Geef n: 20\n",
      "Geef m: 100\n",
      "97\n"
     ]
    }
   ],
   "source": [
    "# import random \n",
    "\n",
    "n = int(input('Geef n: '))\n",
    "m = int(input('Geef m: '))\n",
    "\n",
    "print(random.randint(n, m))"
   ]
  },
  {
   "cell_type": "markdown",
   "metadata": {
    "solution2": "hidden",
    "solution2_first": true
   },
   "source": [
    "### 3.8\n",
    "!! \\** Schrijf een programma dat het getal 56,657 afrondt op een geheel getal. Doe dit op twee manieren.\n",
    "\n",
    "Eén manier is met een functie die je al kent (conversiefunctie), de andere manier ken je nog niet. \n",
    "\n",
    "Gebruik internet en probeer een standaard afrondingsfunctie te vinden voor Python.\n",
    "Wat is het verschil tussen beide uitkomsten?\n"
   ]
  },
  {
   "cell_type": "code",
   "execution_count": null,
   "metadata": {
    "scrolled": true,
    "solution2": "hidden"
   },
   "outputs": [],
   "source": [
    "getal = 56.657\n",
    "\n",
    "print(int(getal)) #int() rond af naar beneden\n",
    "\n",
    "print(round(getal)) #round() rond af naar dichtsbijzijnde integer"
   ]
  },
  {
   "cell_type": "markdown",
   "metadata": {
    "solution2": "hidden",
    "solution2_first": true
   },
   "source": [
    "### 3.9\n",
    "\\** Schrijf een programma dat een willekeurige geheel getal tussen [500 en 2300) uitprint.\n",
    "\n",
    "Gebruik hiervoor de random() functie en je creativiteit. Dus geen andere functie zoals in opgave 3.7b. Andere statements zijn wel toegestaan.\n"
   ]
  },
  {
   "cell_type": "code",
   "execution_count": null,
   "metadata": {
    "scrolled": true,
    "solution2": "hidden"
   },
   "outputs": [],
   "source": [
    "# import random \n",
    "\n",
    "#random() trekt tussen [0, 1)\n",
    "#int() rond het getal af naar beneden\n",
    "getal = int(500 + 1800 * random.random()) \n",
    "\n",
    "print(getal)"
   ]
  },
  {
   "cell_type": "markdown",
   "metadata": {
    "solution2": "hidden",
    "solution2_first": true
   },
   "source": [
    "### 3.10\n",
    "\\* Onderzoek de random module nog eens (op internet).\n",
    "\t\n",
    "Doe opgave 3.9 nogmaals, maar nu met een functie uit de random module.\n"
   ]
  },
  {
   "cell_type": "code",
   "execution_count": null,
   "metadata": {
    "scrolled": true,
    "solution2": "hidden"
   },
   "outputs": [],
   "source": [
    "# import random\n",
    "\n",
    "#randrange() genereert een random getal in de gegeven range\n",
    "print(random.randrange(500, 2300))"
   ]
  },
  {
   "cell_type": "markdown",
   "metadata": {
    "solution2": "hidden",
    "solution2_first": true
   },
   "source": [
    "### 3.11\n",
    "!! \\** Schrijf een programma met invoer een getal x en dat de volgende wiskundige functie berekent én het antwoord afrond op drie decimalen:\n",
    "\n",
    "$f(x) = \\pi e^{-2|x|}$"
   ]
  },
  {
   "cell_type": "code",
   "execution_count": 26,
   "metadata": {
    "scrolled": true,
    "solution2": "hidden"
   },
   "outputs": [
    {
     "name": "stdout",
     "output_type": "stream",
     "text": [
      "Geef x: 1\n",
      "0.425\n",
      "0.425\n"
     ]
    }
   ],
   "source": [
    "import math\n",
    "\n",
    "x = float(input('Geef x: '))\n",
    "\n",
    "fx = math.pi * (math.e ** (-2 * math.fabs(x)))\n",
    "\n",
    "print(round(fx, 3)) #round(fx, 3) rond fx af op 3 decimalen\n",
    "\n",
    "# Alternatief:\n",
    "print(f\"{fx:.3f}\") "
   ]
  },
  {
   "cell_type": "markdown",
   "metadata": {
    "solution2": "hidden",
    "solution2_first": true
   },
   "source": [
    "### 3.12\n",
    "\\** **Rentenieren II.**\n",
    "Iemand wil bij een bank sparen. Over n jaar wil de persoon een bedrag van x euro ontvangen. De                  vaste rekenrente is r (in procenten, dus r = 2,5 betekent 2,5%). Schrijf een programma met drie invoervariabelen n, x en r en dat daarna de contante waarde  berekent op t = 0 en uitprint.\n",
    "\t\n",
    "*Opmerking*: Deze opgave krijgt ** sterren, omdat je wiskundig eerst moet bepalen wat je überhaupt moet doen."
   ]
  },
  {
   "cell_type": "code",
   "execution_count": 27,
   "metadata": {
    "scrolled": true,
    "solution2": "hidden"
   },
   "outputs": [
    {
     "name": "stdout",
     "output_type": "stream",
     "text": [
      "Geef het aantal jaren n: 5\n",
      "Geef het te bereiken doel x: 10000\n",
      "Geef de rekenrente in procenten r: 2\n",
      "9057.30809829916\n"
     ]
    }
   ],
   "source": [
    "n = int(input('Geef het aantal jaren n: '))  # float() gebruiken als je ook niet gehele jaren wil invoeren!\n",
    "x = float(input('Geef het te bereiken doel x: '))\n",
    "r = float(input('Geef de rekenrente in procenten r: '))\n",
    "\n",
    "CW = x/(1.0 + r/100.0) ** n\n",
    "\n",
    "print(CW)"
   ]
  },
  {
   "cell_type": "markdown",
   "metadata": {},
   "source": [
    "\n",
    "\n",
    "\n",
    "\n",
    "**Nu volgen een aantal opgaven waarbij je zelf functies moet maken. Zorg ervoor dat je docstrings\t\n",
    "erbij plaatst en de functienaam met kleine letters schrijft.\n",
    "Om de functie te testen moet je in je programma wel je functie aanroepen (function call), anders gebeurt er niets.**\n",
    "\n",
    "\n",
    "\n"
   ]
  },
  {
   "cell_type": "markdown",
   "metadata": {
    "solution2": "hidden",
    "solution2_first": true
   },
   "source": [
    "### 3.13\n",
    "\\* a. Maak een functie \"constanten\" aan die de waarden van $π$, $e$ en $τ$ (tau) onder elkaar uitprint.   \n",
    "*Hint*: gebruik de math module\n",
    "\n",
    "\\* b. En afrond op drie decimalen.  \n",
    "*Hint*: opgave 3.11"
   ]
  },
  {
   "cell_type": "code",
   "execution_count": 28,
   "metadata": {
    "scrolled": true,
    "solution2": "hidden"
   },
   "outputs": [
    {
     "name": "stdout",
     "output_type": "stream",
     "text": [
      "3.142\n",
      "2.718\n",
      "6.283\n"
     ]
    }
   ],
   "source": [
    "# import math\n",
    "\n",
    "def constanten():\n",
    "    \"\"\"Print de constanten pi, e en tau, afgerond op 3 decimalen.\"\"\"\n",
    "    \n",
    "    print(round(math.pi, 3))\n",
    "    print(round(math.e, 3))\n",
    "    print(round(math.tau, 3))\n",
    "    \n",
    "constanten()"
   ]
  },
  {
   "cell_type": "markdown",
   "metadata": {
    "solution2": "hidden",
    "solution2_first": true
   },
   "source": [
    "### 3.14\n",
    "\\* Maak een functie die de oppervlakte van een cirkel bepaald. De invoer is een decimaal getal, de straal r. Test je functie en controleer."
   ]
  },
  {
   "cell_type": "code",
   "execution_count": 30,
   "metadata": {
    "scrolled": true,
    "solution2": "hidden"
   },
   "outputs": [
    {
     "name": "stdout",
     "output_type": "stream",
     "text": [
      "18.949885824523804\n"
     ]
    }
   ],
   "source": [
    "# import math\n",
    "\n",
    "straal = 2.456\n",
    "\n",
    "def oppervlakteCirkel(r):\n",
    "    \"\"\"Return oppervlakte van cirkel met straal r\"\"\"\n",
    "    \n",
    "    oppervlakte = (r**2) * math.pi\n",
    "    \n",
    "    return oppervlakte #geef aan welke waarde de functie moet retouneren wanneer je het aanroept\n",
    "\n",
    "# Testen:\n",
    "oppervlakte = oppervlakteCirkel(straal) #roep de functie aan met als input 'straal'\n",
    "\n",
    "print(oppervlakte)"
   ]
  },
  {
   "cell_type": "markdown",
   "metadata": {
    "solution2": "hidden",
    "solution2_first": true
   },
   "source": [
    "### 3.15\n",
    "\\** Maak het volgende programma: \n",
    "\n",
    "Invoer: een decimaal getal r.  \n",
    "\n",
    "Uitvoer: de oppervlakte van een cirkel, met straal r en een aantal regels met \n",
    "\n",
    "                “Hiep hiep hoera!”.  \n",
    "                \n",
    "Werking: de oppervlakte van een cirkel bepalen met straal r en uitprinten. Vervolgens print je x-keer de regel \n",
    "\n",
    "                “Hiep hiep hoera!” \n",
    "                \n",
    "onder elkaar uit. Hierbij is x gelijk aan het cijfer voor de komma (punt) van de oppervlakte van de cirkel.  \n",
    "\n",
    "**Vereisten: Voor het bepalen van de oppervlakte én het uitprinten “Hiep hiep hoera!” schrijf je twee aparte functies.**\n"
   ]
  },
  {
   "cell_type": "code",
   "execution_count": 35,
   "metadata": {
    "scrolled": true,
    "solution2": "hidden"
   },
   "outputs": [
    {
     "name": "stdout",
     "output_type": "stream",
     "text": [
      "Voer de straal van de cirkel in:1.5\n",
      "7.0685834705770345\n",
      "Hiep hiep hoera!\n",
      "Hiep hiep hoera!\n",
      "Hiep hiep hoera!\n",
      "Hiep hiep hoera!\n",
      "Hiep hiep hoera!\n",
      "Hiep hiep hoera!\n",
      "Hiep hiep hoera!\n"
     ]
    }
   ],
   "source": [
    "# import math \n",
    "\n",
    "r = float(input(\"Voer de straal van de cirkel in:\"))\n",
    "\n",
    "def oppervlakteCirkel(r):\n",
    "    \"\"\"Return oppervlakte van cirkel met straal r\"\"\"\n",
    "    \n",
    "    oppervlakte = (r**2) * math.pi\n",
    "    \n",
    "    return oppervlakte\n",
    "\n",
    "def HiepHiep(x):\n",
    "    \"\"\"print 'Hiep hiep hoera!' x keer onder elkaar\"\"\"\n",
    "\n",
    "    print(\"Hiep hiep hoera!\\n\"*x, end = '')\n",
    "    \n",
    "print(oppervlakteCirkel(r))\n",
    "\n",
    "HiepHiep(int(oppervlakteCirkel(r))) #Let op: hier gebruiken we geen print, die zit al in de functie 'HiepHiep'."
   ]
  },
  {
   "cell_type": "markdown",
   "metadata": {},
   "source": [
    "### 3.16\n",
    "\\* Onderstaande functie bepaalt de waarde van x*y. \n"
   ]
  },
  {
   "cell_type": "code",
   "execution_count": null,
   "metadata": {
    "scrolled": true
   },
   "outputs": [],
   "source": [
    "def xy(x, y):\n",
    "    \"\"\"Berekent x maal y\"\"\"\n",
    "    x*y \n",
    "    \n",
    "print(xy(2, 5))"
   ]
  },
  {
   "cell_type": "markdown",
   "metadata": {
    "solution2": "hidden",
    "solution2_first": true
   },
   "source": [
    "Er staat echter een fout in. Wat is fout? Wat voor soort fout is het (syntax, runtime of semantic)? "
   ]
  },
  {
   "cell_type": "code",
   "execution_count": 37,
   "metadata": {
    "solution2": "hidden"
   },
   "outputs": [
    {
     "name": "stdout",
     "output_type": "stream",
     "text": [
      "10\n"
     ]
    }
   ],
   "source": [
    "#verbeterde versie\n",
    "\n",
    "def xy(x, y):\n",
    "    \"\"\"Berekent x maal y\"\"\"\n",
    "    return x*y #semantic fout was: de functie retouneerde geen waarde\n",
    "    \n",
    "print(xy(2, 5))"
   ]
  },
  {
   "cell_type": "markdown",
   "metadata": {},
   "source": [
    "### 3.17\n",
    "!! \\* Variabelen in een functie zijn local: ze hebben alleen betekenis in de functie zelf. Buiten de functie bestaan die variabelen niet. Zie onderstaand programma. "
   ]
  },
  {
   "cell_type": "code",
   "execution_count": null,
   "metadata": {},
   "outputs": [],
   "source": [
    "import math\n",
    "\n",
    "def printen():\n",
    "    \"\"\"print Hallo x-keer onder elkaar uit\"\"\"\n",
    "    x = 5\n",
    "    return 'Hallo\\n' * x\n",
    "\n",
    "print(printen()) \n",
    "\n",
    "print(x) "
   ]
  },
  {
   "cell_type": "markdown",
   "metadata": {
    "solution2": "hidden",
    "solution2_first": true
   },
   "source": [
    "Wat zal de output zijn als je dit programma draait? Run de code. Kun je de uitkomst verklaren?"
   ]
  },
  {
   "cell_type": "code",
   "execution_count": 38,
   "metadata": {
    "scrolled": true,
    "solution2": "hidden"
   },
   "outputs": [
    {
     "name": "stdout",
     "output_type": "stream",
     "text": [
      "Hallo\n",
      "Hallo\n",
      "Hallo\n",
      "Hallo\n",
      "Hallo\n",
      "\n",
      "10000.0\n"
     ]
    }
   ],
   "source": [
    "import math\n",
    "\n",
    "def printen():\n",
    "    \"\"\"print Hallo x-keer onder elkaar uit\"\"\"\n",
    "    x = 5\n",
    "    return 'Hallo\\n' * x\n",
    "\n",
    "print(printen()) #roept de functie 'printen' aan\n",
    "\n",
    "print(x) #x = 5 bestaat alleen in de functie 'printen' en kan niet daarbuiten gebruikt worden. \n",
    "#Als er hier voor x een waarde wordt uitgeprint, komt dat omdat er in de opgaven hierboven een \n",
    "#waarde is gegeven aan x (opgave 3.12)."
   ]
  },
  {
   "cell_type": "markdown",
   "metadata": {},
   "source": [
    "### 3.18\n",
    "\\** Onderstaand programma moet 7x ‘Hallo’ onder elkaar printen, echter er wordt ook ‘None’ geprint. "
   ]
  },
  {
   "cell_type": "code",
   "execution_count": null,
   "metadata": {
    "scrolled": true
   },
   "outputs": [],
   "source": [
    "import math\n",
    "\n",
    "def printen(x):\n",
    "    \"\"\"print Hallo x-keer onder elkaar uit\"\"\"\n",
    "    \n",
    "    return print('Hallo\\n' * x)\n",
    "\n",
    "print(printen(7))"
   ]
  },
  {
   "cell_type": "markdown",
   "metadata": {
    "solution2": "hidden",
    "solution2_first": true
   },
   "source": [
    "Hoe kan dat? Waar ligt dit aan en hoe kun je dit oplossen? Run bovenstaand programma dus ook."
   ]
  },
  {
   "cell_type": "code",
   "execution_count": 42,
   "metadata": {
    "solution2": "hidden"
   },
   "outputs": [
    {
     "name": "stdout",
     "output_type": "stream",
     "text": [
      "Hallo\n",
      "Hallo\n",
      "Hallo\n",
      "Hallo\n",
      "Hallo\n",
      "Hallo\n",
      "Hallo\n",
      "\n",
      "None\n",
      "Hallo\n",
      "Hallo\n",
      "Hallo\n",
      "Hallo\n",
      "Hallo\n",
      "Hallo\n",
      "Hallo\n",
      "\n"
     ]
    }
   ],
   "source": [
    "import math\n",
    "\n",
    "def printen(x):\n",
    "    \"\"\"print Hallo x-keer onder elkaar uit\"\"\"\n",
    "    \n",
    "    return print('Hallo\\n' * x)\n",
    "\n",
    "print(printen(7))\n",
    "\n",
    "#De functie geeft nu geen waarde terug maar laat alleen de uitvoer van de print functie zien. \n",
    "#Functies zonder return statement of een return zonder een argument (dat speelt nu), krijgen\n",
    "#een impliciete return None\n",
    "\n",
    "#verbeterde versie\n",
    "def printen(x):\n",
    "    \"\"\"print Hallo x-keer onder elkaar uit\"\"\"\n",
    "    \n",
    "    print('Hallo\\n' * x)\n",
    "\n",
    "printen(7)"
   ]
  },
  {
   "cell_type": "markdown",
   "metadata": {},
   "source": [
    "### 3.19\n",
    "\\** Onderstaand programma verlangt een inputwaarde en zoveel maal zal ‘Hallo’ worden geprint. "
   ]
  },
  {
   "cell_type": "code",
   "execution_count": null,
   "metadata": {
    "scrolled": true
   },
   "outputs": [],
   "source": [
    "def printen(x):\n",
    "    \"\"\"print Hallo x-maal onder elkaar uit\"\"\"\n",
    "    \n",
    "    print('Hallo\\n' * x)\n",
    "\n",
    "x = input()\n",
    "print(printen(x))"
   ]
  },
  {
   "cell_type": "markdown",
   "metadata": {
    "solution2": "hidden",
    "solution2_first": true
   },
   "source": [
    "Echter er staat een fout in. Wat is er fout en is het een syntax, runtime of semantic error? Hoe los je dit op?"
   ]
  },
  {
   "cell_type": "code",
   "execution_count": null,
   "metadata": {
    "solution2": "hidden"
   },
   "outputs": [],
   "source": [
    "def printen(x):\n",
    "    \"\"\"print Hallo x-maal onder elkaar uit\"\"\"\n",
    "    \n",
    "    return print('Hallo\\n' * x)\n",
    "\n",
    "# x = input() #syntax error; x is hier nog een string\n",
    "\n",
    "#verbeterde versie\n",
    "x = int(input())\n",
    "\n",
    "print(printen(x))"
   ]
  }
 ],
 "metadata": {
  "kernelspec": {
   "display_name": "Python 3",
   "language": "python",
   "name": "python3"
  },
  "language_info": {
   "codemirror_mode": {
    "name": "ipython",
    "version": 3
   },
   "file_extension": ".py",
   "mimetype": "text/x-python",
   "name": "python",
   "nbconvert_exporter": "python",
   "pygments_lexer": "ipython3",
   "version": "3.8.8"
  },
  "toc": {
   "base_numbering": 1,
   "nav_menu": {},
   "number_sections": false,
   "sideBar": true,
   "skip_h1_title": false,
   "title_cell": "Table of Contents",
   "title_sidebar": "Contents",
   "toc_cell": false,
   "toc_position": {},
   "toc_section_display": true,
   "toc_window_display": false
  }
 },
 "nbformat": 4,
 "nbformat_minor": 4
}
