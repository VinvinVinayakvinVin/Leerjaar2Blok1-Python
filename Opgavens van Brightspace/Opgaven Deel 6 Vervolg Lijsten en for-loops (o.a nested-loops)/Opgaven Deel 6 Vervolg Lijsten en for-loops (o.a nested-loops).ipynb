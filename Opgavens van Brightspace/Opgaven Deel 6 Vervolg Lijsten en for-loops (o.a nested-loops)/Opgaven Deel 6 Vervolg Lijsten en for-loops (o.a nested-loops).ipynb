{
 "cells": [
  {
   "cell_type": "markdown",
   "metadata": {},
   "source": [
    "# Opgaven Deel 6: Vervolg Lijsten en for-loops (o.a nested-loops)\n",
    "**(Boek: par 8.3, 10.4, 10.6, 10.11 en 15.6)**\n",
    "\n",
    "!! Twee uitroeptekens: Deze opgave moet je echt maken. Het geeft je kennis of technieken die niet in het college besproken zijn of in het boek staan, maar die je wel nodig hebt in de toekomstige opgaven/praktijk.\n",
    "\n",
    "De opgaven hebben verder verschillende moeilijkheidsgraden:\n",
    "\n",
    "\\* 1 ster: Nieuwe functies en methodes kun je direct toepassen. Kijk even in je aantekeningen of boek. \n",
    "Kijk niet te snel naar de uitwerkingen. Probeer op zijn minst vijf minuten na te denken en te proberen of in je aantekeningen te kijken, voordat je het opgeeft. Anders leer je er echt bijna niets van.\n",
    "\n",
    "\\** 2 sterren: Nieuwe functies en methodes moet je integreren in je oplossing. Die oplossing bedenken vergt wat creativiteit en vindingrijkheid (uiteindelijk ook ervaring). Dat maakt deze opgaven moeilijker. \n",
    "Kijk niet te snel naar de uitwerkingen. Probeer op zijn minst vijf tot tien minuten na te denken en te proberen, voordat je het opgeeft. \n",
    "\n",
    "\\*** 3 sterren: Zoals bij de twee sterren opgaven, maar er wordt nu een nog grotere vindingrijkheid van je verwacht. Vaak moet je ook meerdere functies en methoden toepassen. De codes zijn vaak wat langer daardoor.\n",
    "Kijk niet te snel naar de uitwerkingen. Probeer op zijn minst twintig tot dertig minuten na te denken en te proberen, voordat je het opgeeft. \n",
    "\n",
    "(LEUK) Hiervan denken we dat je het een (extra) leuke opgave vindt (met name het resultaat/uitvoer). Dus als je moet kiezen tussen opgaven is het een idee om deze opgaven in ieder geval te maken."
   ]
  },
  {
   "cell_type": "markdown",
   "metadata": {},
   "source": [
    "### Lists\n",
    "Hieronder volgen een aantal opgaven die bewerkingen op lijsten oefenen: hoe je om kunt gaan met de operatoren en functies: +,  *,  .append(),  extend() en copy()."
   ]
  },
  {
   "cell_type": "markdown",
   "metadata": {
    "solution2": "hidden",
    "solution2_first": true
   },
   "source": [
    "### 1.\n",
    "\\* We hebben twee lijsten, een lijst met namen en een lijst met bijbehorende tentamencijfers programmeren.  \n",
    "voornamen = ['Ronald', 'Jasper', 'Freke', 'Anouar', 'Maaike', 'Tomas', 'Isabelle']  \n",
    "resultaten = [6, 5, 8, 9, 10, 8, 7] \n",
    "\n",
    "a. Schrijf een programma waarbij een nieuwe lijst wordt gemaakt met daarin de namen en cijfers. Eerst komen de zeven namen en dan pas de zeven cijfers. Print deze lijst uit.\n",
    "\n",
    "\n",
    "\n"
   ]
  },
  {
   "cell_type": "code",
   "execution_count": 1,
   "metadata": {
    "solution2": "hidden"
   },
   "outputs": [
    {
     "name": "stdout",
     "output_type": "stream",
     "text": [
      "['Ronald', 'Jasper', 'Freke', 'Anouar', 'Maaike', 'Tomas', 'Isabelle', 6, 5, 8, 9, 10, 8, 7]\n",
      "['Ronald', 'Jasper', 'Freke', 'Anouar', 'Maaike', 'Tomas', 'Isabelle', 6, 5, 8, 9, 10, 8, 7]\n"
     ]
    }
   ],
   "source": [
    "#a\n",
    "voornamen = ['Ronald', 'Jasper', 'Freke', 'Anouar', 'Maaike', 'Tomas', 'Isabelle']\n",
    "resultaten = [6, 5, 8, 9, 10, 8, 7]\n",
    "\n",
    "overzichten = voornamen + resultaten\n",
    "\n",
    "print(overzichten)\n",
    "\n",
    "# Alternatief:\n",
    "\n",
    "voornamen = ['Ronald', 'Jasper', 'Freke', 'Anouar', 'Maaike', 'Tomas', 'Isabelle']\n",
    "resultaten = [6, 5, 8, 9, 10, 8, 7]\n",
    "\n",
    "voornamen.extend(resultaten)\n",
    "\n",
    "print(voornamen)"
   ]
  },
  {
   "cell_type": "markdown",
   "metadata": {
    "solution2": "hidden",
    "solution2_first": true
   },
   "source": [
    "\\** b. Eigenlijk willen we dat in de nieuwe lijst eerst een naam staat en dan daarna het bijbehorende cijfer. Dus:  \n",
    "\n",
    "['Ronald', 6, 'Jasper', 5, 'Freke', 8, 'Anouar', 9, 'Maaike', 10, 'Tomas', 8, 'Isabelle', 7]  \n",
    "\n",
    "Schrijf een programma dat bovenstaande lijst genereert uit de lijsten 'voornamen' en 'resultaten'. Lukt het je om hier een ‘creatieve’ manier voor te bedenken?"
   ]
  },
  {
   "cell_type": "code",
   "execution_count": 2,
   "metadata": {
    "solution2": "hidden"
   },
   "outputs": [
    {
     "name": "stdout",
     "output_type": "stream",
     "text": [
      "['Ronald', 6, 'Jasper', 5, 'Freke', 8, 'Anouar', 9, 'Maaike', 10, 'Tomas', 8, 'Isabelle', 7]\n"
     ]
    }
   ],
   "source": [
    "#b\n",
    "voornamen = ['Ronald', 'Jasper', 'Freke', 'Anouar', 'Maaike', 'Tomas', 'Isabelle']\n",
    "resultaten = [6, 5, 8, 9, 10, 8, 7]\n",
    "\n",
    "n = len(voornamen)\n",
    "\n",
    "overzichten = []\n",
    "for i in range(n):\n",
    "    overzichten.append(voornamen[i])\n",
    "    overzichten.append(resultaten[i])\n",
    "    \n",
    "print(overzichten)"
   ]
  },
  {
   "cell_type": "markdown",
   "metadata": {
    "solution2": "hidden",
    "solution2_first": true
   },
   "source": [
    "\\** c. Zie b, maar i.p.v. een programma, schrijf je een *functie* dat de twee (even grootte) lijsten als input inleest en de output is de lijst met de gecombineerde gegevens zoals in opgave b."
   ]
  },
  {
   "cell_type": "code",
   "execution_count": null,
   "metadata": {
    "solution2": "hidden"
   },
   "outputs": [],
   "source": [
    "#c\n",
    "voornamen = ['Ronald', 'Jasper', 'Freke', 'Anouar', 'Maaike', 'Tomas', 'Isabelle']\n",
    "resultaten = [6, 5, 8, 9, 10, 8, 7]\n",
    "\n",
    "def naam_cijfer(lijst1, lijst2):\n",
    "    n = len(lijst1)\n",
    "    overzichten = []\n",
    "    \n",
    "    for i in range(n):\n",
    "        overzichten.append(lijst1[i])\n",
    "        overzichten.append(lijst2[i])\n",
    "    \n",
    "    return overzichten\n",
    "    \n",
    "print(naam_cijfer(voornamen, resultaten))"
   ]
  },
  {
   "cell_type": "markdown",
   "metadata": {
    "solution2": "hidden",
    "solution2_first": true
   },
   "source": [
    "### 2.\n",
    "\\* We hebben de volgende lijst elementen:\n",
    "\n",
    "elementen = ['roos', 'distel', 10, 'viooltje', True, 9.6, False]\n",
    "\n",
    "In een lijst kunnen blijkbaar waardes staan met verschillende datatypes: string, integer, boolean, etc.\n",
    "\n",
    "Schrijf een programma dat een lijst genereert waarin n-maal de elementen uit de lijst 'elementen' staat. Dus bij n = 2, krijg je:\n",
    "\n",
    "['roos', 'distel', 10, 'viooltje', True, 9.6, False, 'roos', 'distel', 10, 'viooltje', True, 9.6, False]"
   ]
  },
  {
   "cell_type": "code",
   "execution_count": null,
   "metadata": {
    "solution2": "hidden"
   },
   "outputs": [],
   "source": [
    "elementen = ['roos', 'distel', 10, 'viooltje', True, 9.6, False]\n",
    "\n",
    "n = int(input('Vul geheel getal in: '))\n",
    "\n",
    "print(elementen * n)"
   ]
  },
  {
   "cell_type": "markdown",
   "metadata": {},
   "source": [
    "### 3. \n",
    "!! \\** **Kopie van een lijst maken**\n",
    "\n",
    "We hebben de volgende lijst 'wiccas' = ['Vuur', 'Aarde', 'Lucht']\n",
    "\n",
    "We willen een programma schrijven dat een kopie maakt van deze lijst. De kopie wordt 'wiccas2'. Daarna wordt 'wiccas2' aangevuld met het element 'Water'. Vervolgens worden beide lijsten uitgeprint zodat we kunnen controleren of de lijst 'wiccas2' goed is aangevuld met 'Water' t.o.v. de originele lijst 'wiccas'.\n",
    "\n",
    "Zie hiervoor het volgende programma:\n"
   ]
  },
  {
   "cell_type": "code",
   "execution_count": null,
   "metadata": {},
   "outputs": [],
   "source": [
    "wiccas = ['Vuur', 'Aarde', 'Lucht']\n",
    "\n",
    "wiccas2 = wiccas\n",
    "wiccas2.append('Water')\n",
    "\n",
    "print(wiccas2)\n",
    "print(wiccas)"
   ]
  },
  {
   "cell_type": "markdown",
   "metadata": {
    "solution2": "hidden",
    "solution2_first": true
   },
   "source": [
    "a. Wat valt je op als we op deze manier een kopie maken van 'wiccas'? (Draai het programma eens)."
   ]
  },
  {
   "cell_type": "code",
   "execution_count": 3,
   "metadata": {
    "solution2": "hidden"
   },
   "outputs": [
    {
     "name": "stdout",
     "output_type": "stream",
     "text": [
      "['Vuur', 'Aarde', 'Lucht', 'Water']\n",
      "['Vuur', 'Aarde', 'Lucht', 'Water']\n"
     ]
    }
   ],
   "source": [
    "wiccas = ['Vuur', 'Aarde', 'Lucht']\n",
    "\n",
    "wiccas2 = wiccas\n",
    "wiccas2.append('Water')\n",
    "\n",
    "print(wiccas2)\n",
    "print(wiccas)\n",
    "\n",
    "# Als je dit programma draait dan zie je dat wiccas en wiccas2 hetzelfde zijn. \n",
    "# Dat verwachte je misschien niet: wiccas2 werd veranderd (water werd toegevoegd)\n",
    "# Maar blijkbaar werd wiccas zelf ook aangepast."
   ]
  },
  {
   "cell_type": "markdown",
   "metadata": {},
   "source": [
    "Bij a heb je gezien dat veranderen van wiccas2 ook de originele lijst wiccas verandert! Bij een kopie wil je dat eigenlijk niet! Om dit te voorkomen moet je de functie .copy() gebruiken.\n",
    "Om wiccas te kopiëren gebruik je wiccas2 = wiccas.copy()\n",
    "\n",
    "Zie onderstaande code:"
   ]
  },
  {
   "cell_type": "code",
   "execution_count": null,
   "metadata": {},
   "outputs": [],
   "source": [
    "wiccas = ['Vuur', 'Aarde', 'Lucht']\n",
    "\n",
    "wiccas2 = wiccas.copy()\n",
    "wiccas2.append('Water')\n",
    "\n",
    "print(wiccas2)\n",
    "print(wiccas)"
   ]
  },
  {
   "cell_type": "markdown",
   "metadata": {
    "solution2": "hidden",
    "solution2_first": true
   },
   "source": [
    "b. Blijft wiccas nu wel onveranderd, als je wiccas2 verandert?"
   ]
  },
  {
   "cell_type": "code",
   "execution_count": 4,
   "metadata": {
    "solution2": "hidden"
   },
   "outputs": [
    {
     "name": "stdout",
     "output_type": "stream",
     "text": [
      "['Vuur', 'Aarde', 'Lucht', 'Water']\n",
      "['Vuur', 'Aarde', 'Lucht']\n"
     ]
    }
   ],
   "source": [
    "wiccas = ['Vuur', 'Aarde', 'Lucht']\n",
    "\n",
    "wiccas2 = wiccas.copy()\n",
    "wiccas2.append('Water')\n",
    "\n",
    "print(wiccas2)\n",
    "print(wiccas)\n",
    "\n",
    "# Ja, zie de output als je dit programma draait."
   ]
  },
  {
   "cell_type": "markdown",
   "metadata": {},
   "source": [
    "In onderstaande code hebben we 'Aarde' vervangen door een lijstje ['Aarde', 'Magma']. We krijgen dan een zogenaamde nested list (komt in een latere les nog uitgebreider aan bod).\n",
    "\n",
    "In het programma kopiëren we wiccas naar wiccas2 en passen we wiccas2 aan: we veranderen 'Aarde' in 'Steen':\n"
   ]
  },
  {
   "cell_type": "code",
   "execution_count": null,
   "metadata": {},
   "outputs": [],
   "source": [
    "wiccas = ['Vuur', ['Aarde', 'Magma'], 'Lucht']\n",
    "\n",
    "wiccas2 = wiccas.copy()\n",
    "wiccas2[1][0] = 'Steen'\n",
    "\n",
    "print(wiccas2)\n",
    "print(wiccas)"
   ]
  },
  {
   "cell_type": "markdown",
   "metadata": {
    "solution2": "hidden",
    "solution2_first": true
   },
   "source": [
    "c. Blijft wiccas nu nog steeds onveranderd, als je wiccas2 verandert?"
   ]
  },
  {
   "cell_type": "code",
   "execution_count": 11,
   "metadata": {
    "solution2": "hidden"
   },
   "outputs": [
    {
     "name": "stdout",
     "output_type": "stream",
     "text": [
      "['Vuur', ['Steen', 'Magma'], 'Lucht']\n",
      "['Vuur', ['Steen', 'Magma'], 'Lucht']\n"
     ]
    }
   ],
   "source": [
    "wiccas = ['Vuur', ['Aarde', 'Magma'], 'Lucht']\n",
    "\n",
    "wiccas2 = wiccas.copy()\n",
    "wiccas2[1][0] = 'Steen'\n",
    "\n",
    "print(wiccas2)\n",
    "print(wiccas)\n",
    "\n",
    "# Nee! \n",
    "# Blijkbaar verandert wiccas nu ook weer als we een element in een lijst uit een lijst veranderen!"
   ]
  },
  {
   "cell_type": "markdown",
   "metadata": {},
   "source": [
    "Om wiccas alsnog onverandert te laten hebben we de deepcopy() nodig.\n",
    "Hiervoor hebben we de copy module nodig.\n",
    "Zie onderstaande code:"
   ]
  },
  {
   "cell_type": "code",
   "execution_count": null,
   "metadata": {},
   "outputs": [],
   "source": [
    "import copy\n",
    "\n",
    "wiccas = ['Vuur', ['Aarde', 'Magma'], 'Lucht']\n",
    "\n",
    "wiccas2 = copy.deepcopy(wiccas)\n",
    "wiccas2[1][0] = 'Steen'\n",
    "\n",
    "print(wiccas2)\n",
    "print(wiccas)"
   ]
  },
  {
   "cell_type": "markdown",
   "metadata": {
    "solution2": "hidden",
    "solution2_first": true
   },
   "source": [
    "Blijft wiccas nu wel onveranderd als je wiccas2 aanpast? (Draai het programma)."
   ]
  },
  {
   "cell_type": "code",
   "execution_count": 13,
   "metadata": {
    "solution2": "hidden"
   },
   "outputs": [
    {
     "name": "stdout",
     "output_type": "stream",
     "text": [
      "['Vuur', ['Steen', 'Magma'], 'Lucht']\n",
      "['Vuur', ['Aarde', 'Magma'], 'Lucht']\n"
     ]
    }
   ],
   "source": [
    "import copy\n",
    "\n",
    "wiccas = ['Vuur', ['Aarde', 'Magma'], 'Lucht']\n",
    "\n",
    "wiccas2 = copy.deepcopy(wiccas)\n",
    "wiccas2[1][0] = 'Steen'\n",
    "\n",
    "print(wiccas2)\n",
    "print(wiccas)\n",
    "\n",
    "# Ja."
   ]
  },
  {
   "cell_type": "markdown",
   "metadata": {},
   "source": [
    "!! **Bovenstaande heeft te maken dat python werkt met *references* naar *objects*. \n",
    "Lees par 10.11 en 15.6 eens uit het boek. Het is belangrijk dat je dit weet!\n",
    "Anders loop je later tegen problemen op, eventueel bij de eindopdracht.**\n"
   ]
  },
  {
   "cell_type": "markdown",
   "metadata": {
    "solution2": "hidden",
    "solution2_first": true
   },
   "source": [
    "### 4. \n",
    "\\** **append() en extend() zelf als functie maken**\n",
    "\n",
    "a. Maak zelf een functie dat de *append()* functie nabootst. De input van deze zelfgeschreven functie is een lijst en een element dat je wilt toevoegen aan de lijst. Maak gebruik van de + operator. Test ook de functie. \n",
    "\n",
    "b. Maak zelf een functie, die de .extend() functie nabootst. De input van deze zelfgeschreven functie bestaat uit 2 lijsten en de output is de gecombineerde lijst. Maak gebruik van + operator. Test ook de functie."
   ]
  },
  {
   "cell_type": "code",
   "execution_count": 14,
   "metadata": {
    "solution2": "hidden"
   },
   "outputs": [
    {
     "name": "stdout",
     "output_type": "stream",
     "text": [
      "['banaan', 'druif', 'peer', 'appel']\n",
      "['banaan', 'druif', 'peer', 'appel']\n"
     ]
    }
   ],
   "source": [
    "#a\n",
    "def eigen_append(lijst, element):\n",
    "    element = [element] #de + werkt alleen als 'element' ook een list is\n",
    "    return lijst + element\n",
    "\n",
    "fruit = ['banaan', 'druif', 'peer']\n",
    "print(eigen_append(fruit, 'appel')) \n",
    "\n",
    "#met de .append() functie\n",
    "fruit = ['banaan', 'druif', 'peer']\n",
    "fruit.append('appel')\n",
    "    \n",
    "print(fruit)   "
   ]
  },
  {
   "cell_type": "code",
   "execution_count": 15,
   "metadata": {
    "solution2": "hidden"
   },
   "outputs": [
    {
     "name": "stdout",
     "output_type": "stream",
     "text": [
      "['banaan', 'druif', 'peer', 'appel', 'mandarijn', 'pruim', 'aardbei', 'kiwi']\n",
      "['banaan', 'druif', 'peer', 'appel', 'mandarijn', 'pruim', 'aardbei', 'kiwi']\n"
     ]
    }
   ],
   "source": [
    "#b\n",
    "def eigen_extend(lijst1, lijst2):\n",
    "    return lijst1 + lijst2\n",
    "\n",
    "fruit = ['banaan', 'druif', 'peer']\n",
    "fruit2 = ['appel', 'mandarijn', 'pruim', 'aardbei', 'kiwi']\n",
    "print(eigen_extend(fruit, fruit2)) \n",
    "\n",
    "#met de extend() functie\n",
    "fruit.extend(fruit2)\n",
    "print(fruit) "
   ]
  },
  {
   "cell_type": "markdown",
   "metadata": {
    "solution2": "hidden",
    "solution2_first": true
   },
   "source": [
    "### 5. \n",
    "\\* ***extend() met een string***\n",
    "\n",
    "Een string is iteraarbaar (iterable). Daarmee bedoelen we dat we de karakters van het stukje tekst één voor één langs (kunnen) gaan.\n",
    "\n",
    "Stel we hebben de lijst fruit = ['banaan', 'druif', 'peer'] en we willen 'appel' toevoegen. Dat gaat goed met de .*append()* functie. Als we de *.extend()* gebruiken wordt 'appel' gezien als een \"iterable\", elk letter wordt als een element gezien. Dus aan de lijst fruit wordt niet 'appel' toegevoegd, maar de letters ervan 'a', 'p', 'p', 'e', 'l'.\n",
    "\n",
    "Maak nu een programma waarin je de lijst fruit aanmaakt en daarna uitbreidt met 'appel' via de .append() functie en afzonderlijk met de .extend() functie. Zie je het verschil? "
   ]
  },
  {
   "cell_type": "code",
   "execution_count": 16,
   "metadata": {
    "solution2": "hidden"
   },
   "outputs": [
    {
     "name": "stdout",
     "output_type": "stream",
     "text": [
      "['banaan', 'druif', 'peer', 'appel']\n"
     ]
    }
   ],
   "source": [
    "fruit = ['banaan', 'druif', 'peer']\n",
    "fruit.append('appel')\n",
    "    \n",
    "print(fruit) "
   ]
  },
  {
   "cell_type": "code",
   "execution_count": 17,
   "metadata": {
    "solution2": "hidden"
   },
   "outputs": [
    {
     "name": "stdout",
     "output_type": "stream",
     "text": [
      "['banaan', 'druif', 'peer', 'a', 'p', 'p', 'e', 'l']\n"
     ]
    }
   ],
   "source": [
    "fruit = ['banaan', 'druif', 'peer']\n",
    "fruit.extend('appel')\n",
    "    \n",
    "print(fruit) "
   ]
  },
  {
   "cell_type": "markdown",
   "metadata": {},
   "source": [
    "### For-loops\n",
    "Hieronder volgen een aantal opgaven over for-loops."
   ]
  },
  {
   "cell_type": "markdown",
   "metadata": {},
   "source": [
    "### 6.\n",
    "In opgave 5 zagen we dat een string een iterable is. Een string kunnen we dus lezen alsof het een lijst is (strict gezien is dit niet zo, dat komt later in de cursus aan bod). En de elementen in die lijst zijn de letters van de tekst. Deze kennis gaan we nu combineren met een for-loop.\n",
    "\n",
    "\\* a. Voer onderstaande code uit.\n",
    "\n",
    "ps: voor *letter* had je ook i of x kunnen zetten. Echter voor overzicht/duidelijkheid is de naam letter geschikter. Je\n",
    "gaat in principe ook echt elke letter langs van het woord ‘appel’.\n"
   ]
  },
  {
   "cell_type": "code",
   "execution_count": null,
   "metadata": {},
   "outputs": [],
   "source": [
    "for letter in 'appel':\n",
    "    print(letter)"
   ]
  },
  {
   "cell_type": "markdown",
   "metadata": {
    "solution2": "hidden",
    "solution2_first": true
   },
   "source": [
    "Oplossing:"
   ]
  },
  {
   "cell_type": "code",
   "execution_count": 18,
   "metadata": {
    "solution2": "hidden"
   },
   "outputs": [
    {
     "name": "stdout",
     "output_type": "stream",
     "text": [
      "a\n",
      "p\n",
      "p\n",
      "e\n",
      "l\n"
     ]
    }
   ],
   "source": [
    "for letter in 'appel':\n",
    "    print(letter)"
   ]
  },
  {
   "cell_type": "markdown",
   "metadata": {
    "solution2": "hidden",
    "solution2_first": true
   },
   "source": [
    "\\* b. Print elke letter van de volgende zin onder elkaar uit:  \n",
    "'De koopkracht stijgt het komende jaar gemiddeld met 0,1 procent, volgens de ramingen van het ministerie van Sociale Zaken en Werkgelegenheid.'"
   ]
  },
  {
   "cell_type": "code",
   "execution_count": 20,
   "metadata": {
    "solution2": "hidden"
   },
   "outputs": [
    {
     "name": "stdout",
     "output_type": "stream",
     "text": [
      "D\n",
      "e\n",
      " \n",
      "k\n",
      "o\n",
      "o\n",
      "p\n",
      "k\n",
      "r\n",
      "a\n",
      "c\n",
      "h\n",
      "t\n",
      " \n",
      "s\n",
      "t\n",
      "i\n",
      "j\n",
      "g\n",
      "t\n",
      " \n",
      "h\n",
      "e\n",
      "t\n",
      " \n",
      "k\n",
      "o\n",
      "m\n",
      "e\n",
      "n\n",
      "d\n",
      "e\n",
      " \n",
      "j\n",
      "a\n",
      "a\n",
      "r\n",
      " \n",
      "g\n",
      "e\n",
      "m\n",
      "i\n",
      "d\n",
      "d\n",
      "e\n",
      "l\n",
      "d\n",
      " \n",
      "m\n",
      "e\n",
      "t\n",
      " \n",
      "0\n",
      ",\n",
      "1\n",
      " \n",
      "p\n",
      "r\n",
      "o\n",
      "c\n",
      "e\n",
      "n\n",
      "t\n",
      ",\n",
      " \n",
      "v\n",
      "o\n",
      "l\n",
      "g\n",
      "e\n",
      "n\n",
      "s\n",
      " \n",
      "d\n",
      "e\n",
      " \n",
      "r\n",
      "a\n",
      "m\n",
      "i\n",
      "n\n",
      "g\n",
      "e\n",
      "n\n",
      " \n",
      "v\n",
      "a\n",
      "n\n",
      " \n",
      "h\n",
      "e\n",
      "t\n",
      " \n",
      "m\n",
      "i\n",
      "n\n",
      "i\n",
      "s\n",
      "t\n",
      "e\n",
      "r\n",
      "i\n",
      "e\n",
      " \n",
      "v\n",
      "a\n",
      "n\n",
      " \n",
      "S\n",
      "o\n",
      "c\n",
      "i\n",
      "a\n",
      "l\n",
      "e\n",
      " \n",
      "Z\n",
      "a\n",
      "k\n",
      "e\n",
      "n\n",
      " \n",
      "e\n",
      "n\n",
      " \n",
      "W\n",
      "e\n",
      "r\n",
      "k\n",
      "g\n",
      "e\n",
      "l\n",
      "e\n",
      "g\n",
      "e\n",
      "n\n",
      "h\n",
      "e\n",
      "i\n",
      "d\n",
      ".\n"
     ]
    }
   ],
   "source": [
    "zin = 'De koopkracht stijgt het komende jaar gemiddeld met 0,1 procent, volgens de ramingen van het ministerie van Sociale Zaken en Werkgelegenheid.'\n",
    "\n",
    "for letter in zin:\n",
    "    print(letter)"
   ]
  },
  {
   "cell_type": "markdown",
   "metadata": {
    "solution2": "hidden",
    "solution2_first": true
   },
   "source": [
    "\\** c. Maak een nieuw programma dat bepaalt hoe vaak de letter e in de zin bij 6b zit.  \n",
    "*Hint*: if statement nodig en een variabele (teller) die telt hoeveel e’s er zijn.\n"
   ]
  },
  {
   "cell_type": "code",
   "execution_count": null,
   "metadata": {
    "solution2": "hidden"
   },
   "outputs": [],
   "source": [
    "zin = 'De koopkracht stijgt het komende jaar gemiddeld met 0,1 procent, volgens de ramingen van het ministerie van Sociale Zaken en Werkgelegenheid.'\n",
    "\n",
    "teller = 0\n",
    "\n",
    "for letter in zin:\n",
    "    if letter == 'e':\n",
    "        teller = teller + 1\n",
    "\n",
    "print(teller)   "
   ]
  },
  {
   "cell_type": "markdown",
   "metadata": {
    "solution2": "hidden",
    "solution2_first": true
   },
   "source": [
    "\\** d. Breid 6c uit met dat je als input meegeeft welke letter (of symbool) geteld wordt. Dus niet standaard de letter e meer."
   ]
  },
  {
   "cell_type": "code",
   "execution_count": null,
   "metadata": {
    "solution2": "hidden"
   },
   "outputs": [],
   "source": [
    "zin = 'De koopkracht stijgt het komende jaar gemiddeld met 0,1 procent, volgens de ramingen van het ministerie van Sociale Zaken en Werkgelegenheid.'\n",
    "\n",
    "invoer_letter = input('Type letter of symbool in\\n')\n",
    "\n",
    "#teller om bij te houden hoe vaak de opgegeven letter voorkomt\n",
    "teller = 0\n",
    "\n",
    "for letter in zin:\n",
    "    if letter == invoer_letter:\n",
    "        teller = teller + 1 #verhoog de teller met 1 als de huidige letter gelijk is aan de opgegeven letter\n",
    "\n",
    "print(invoer_letter + ' komt ' + str(teller) + ' keer voor in de zin')   "
   ]
  },
  {
   "cell_type": "markdown",
   "metadata": {
    "solution2": "hidden",
    "solution2_first": true
   },
   "source": [
    "### 7.  \n",
    "\\** **$\\pi$ benaderen**\n",
    "\n",
    "De volgende vergelijking is bekend:\n",
    "\n",
    "$\\sum_{k=1}^{\\infty} \\frac{1}{k^6} = \\frac{\\pi ^6}{945} $\n",
    "\n",
    "Dus kunnen wij $ \\frac{\\pi ^6}{945}$ benaderen door:\n",
    "\n",
    "$\\sum_{k=1}^{n} \\frac{1}{k^6} ≈ \\frac{\\pi ^6}{945} $\n",
    "\n",
    "a. Schrijf een programma, met input n, dat de volgende som berekend:\n",
    "$\\sum_{k=1}^{n} \\frac{1}{k^6}$\n",
    "\n",
    "\n",
    "\n"
   ]
  },
  {
   "cell_type": "code",
   "execution_count": 21,
   "metadata": {
    "solution2": "hidden"
   },
   "outputs": [
    {
     "name": "stdout",
     "output_type": "stream",
     "text": [
      "Vul een geheel getal in\n",
      "7\n",
      "1.0173348160677427\n"
     ]
    }
   ],
   "source": [
    "#a\n",
    "import math\n",
    "\n",
    "n = int(input('Vul een geheel getal in\\n'))\n",
    "\n",
    "som = 0\n",
    "\n",
    "for i in range(1, n + 1):\n",
    "    som = som + 1/math.pow(i, 6)\n",
    "    \n",
    "print(som) "
   ]
  },
  {
   "cell_type": "markdown",
   "metadata": {
    "solution2": "hidden",
    "solution2_first": true
   },
   "source": [
    "b. Vul je programma aan en bepaal de benaderde waarde van π.  \n",
    "   *ps: vergelijk het eens met je math.pi voor verschillende invoer van n.*"
   ]
  },
  {
   "cell_type": "code",
   "execution_count": 22,
   "metadata": {
    "solution2": "hidden"
   },
   "outputs": [
    {
     "name": "stdout",
     "output_type": "stream",
     "text": [
      "Vul een geheel getal in\n",
      "9\n",
      "3.141591341408046\n",
      "3.141592653589793\n"
     ]
    }
   ],
   "source": [
    "#b\n",
    "import math\n",
    "\n",
    "n = int(input('Vul een geheel getal in\\n'))\n",
    "\n",
    "som = 0\n",
    "\n",
    "for i in range(1, n + 1):\n",
    "    som = som + 1/math.pow(i, 6)\n",
    "\n",
    "#Dit is de benadering van pi. pi kun je herleiden uit de sommatie dat in de opgave is gegeven.\n",
    "pi_ben = math.pow(som*945, 1/6)    \n",
    "    \n",
    "print(pi_ben) \n",
    "print(math.pi)"
   ]
  },
  {
   "cell_type": "markdown",
   "metadata": {
    "solution2": "hidden",
    "solution2_first": true
   },
   "source": [
    "### 8.\n",
    "\\* **Handigheidje 1: print() statement**\n",
    "\n",
    "De print() statement kan meerdere inputs hebben. Elke input wordt gescheiden door een komma.\n",
    "\n",
    "print(‘Hello’, ‘World’, ‘I’).\n",
    "\n",
    "I.p.v. de + operator te gebruiken (samenvoegen / concatenate) kun je dus ook samenvoegen met komma’s. Voordeel is dat je nu makkelijk ook waardes met verschillende datatypes kan samenvoegen. \n",
    "\n",
    "Bijv. print(‘Woorden’, ‘En cijfers door elkaar’, 8, 9, True). \n",
    "\n",
    "Je hoeft dan niet meer de datatypes om te zetten naar één soort datatype.\n",
    "\n",
    "Schrijf een programma dat de drie onderstaande variabelen samenvoegt en in één zin uitprint:\n",
    "\n",
    "tekst = 'Verschillende datatypes samenvoegen'  \n",
    "getal = 56.9  \n",
    "boolean = True  \n",
    "\n",
    "a.\tDoe dit met de + operator:  \n",
    "b.\tDoe dit met de komma’s in de print statement."
   ]
  },
  {
   "cell_type": "code",
   "execution_count": 25,
   "metadata": {
    "solution2": "hidden"
   },
   "outputs": [
    {
     "name": "stdout",
     "output_type": "stream",
     "text": [
      "Verschillende datatypes samenvoegen 56.9 True\n"
     ]
    }
   ],
   "source": [
    "#a\n",
    "tekst = 'Verschillende datatypes samenvoegen'\n",
    "getal = 56.9\n",
    "boolean = True\n",
    "\n",
    "print(tekst + ' ' + str(getal) + ' '+ str(boolean))"
   ]
  },
  {
   "cell_type": "code",
   "execution_count": 26,
   "metadata": {
    "solution2": "hidden"
   },
   "outputs": [
    {
     "name": "stdout",
     "output_type": "stream",
     "text": [
      "Verschillende datatypes samenvoegen 56.9 True\n"
     ]
    }
   ],
   "source": [
    "#b\n",
    "tekst = 'Verschillende datatypes samenvoegen'\n",
    "getal = 56.9\n",
    "boolean = True\n",
    "\n",
    "print(tekst, getal, boolean)"
   ]
  },
  {
   "cell_type": "markdown",
   "metadata": {
    "solution2": "hidden",
    "solution2_first": true
   },
   "source": [
    "### 9.\n",
    "\\***  ***Nested for-loops I: Sommaties***\n",
    "\n",
    "Schrijf een programma dat de volgende dubbele som berekent:\n",
    "\n",
    "a. $\\sum_{i=1}^{20}\\sum_{j=1}^{20} 1$  \n",
    "b. $\\sum_{i=1}^{20}\\sum_{j=1}^{20} (i + j)$  \n",
    "c. $\\sum_{i=1}^{n}\\sum_{j=1}^{n} \\frac{1}{2^{ij}}$  met $n$ als input.\n"
   ]
  },
  {
   "cell_type": "code",
   "execution_count": 27,
   "metadata": {
    "solution2": "hidden"
   },
   "outputs": [
    {
     "name": "stdout",
     "output_type": "stream",
     "text": [
      "400\n"
     ]
    }
   ],
   "source": [
    "#a\n",
    "som = 0\n",
    "\n",
    "for i in range(1, 21):\n",
    "    for j in range(1, 21):\n",
    "        som = som + 1\n",
    "\n",
    "print(som)"
   ]
  },
  {
   "cell_type": "code",
   "execution_count": 28,
   "metadata": {
    "solution2": "hidden"
   },
   "outputs": [
    {
     "name": "stdout",
     "output_type": "stream",
     "text": [
      "8400\n"
     ]
    }
   ],
   "source": [
    "#b\n",
    "som = 0\n",
    "\n",
    "for i in range(1, 21):\n",
    "    for j in range(1, 21):\n",
    "        som = som + i + j\n",
    "\n",
    "print(som)"
   ]
  },
  {
   "cell_type": "code",
   "execution_count": 29,
   "metadata": {
    "solution2": "hidden"
   },
   "outputs": [
    {
     "name": "stdout",
     "output_type": "stream",
     "text": [
      "Vul geheel getal in\n",
      "20\n",
      "1.6066932450660523\n"
     ]
    }
   ],
   "source": [
    "#c\n",
    "import math\n",
    "\n",
    "n = int(input('Vul geheel getal in\\n'))\n",
    "\n",
    "som = 0\n",
    "\n",
    "for i in range(1, n + 1):\n",
    "    for j in range(1, n + 1):\n",
    "        som = som + 1/math.pow(2, i * j)\n",
    "\n",
    "print(som)"
   ]
  },
  {
   "attachments": {
    "tabel.jpg": {
     "image/jpeg": "[encoded data removed]"
    }
   },
   "cell_type": "markdown",
   "metadata": {
    "solution2": "hidden",
    "solution2_first": true
   },
   "source": [
    "### 10.\n",
    "\\***  ***Nested for-loops II. Tabel***\n",
    "\n",
    "Hieronder staat een tabel. Helemaal links staan de getallen 0 t/m 10 onder elkaar. Rechts ervan worden die getallen tot de macht 0, 1, 2, 3, 4 en 5 genomen. De derde regel bijv.: links het getal 2, rechts daarnaast:  \n",
    "$2^0=1,2^1=2,2^2=4,2^3=8,2^4=16,2^5=32$\n",
    "\n",
    "Schrijf een programma dat deze tabel namaakt. \n",
    "*Hint*: misschien handig om \\t (of zelfs een betere manier) en % te gebruiken voor de uitlijning. Uiteraard heb je een nested for-loop nodig.\n",
    "\n",
    "![tabel.jpg](attachment:tabel.jpg)"
   ]
  },
  {
   "cell_type": "code",
   "execution_count": 30,
   "metadata": {
    "solution2": "hidden"
   },
   "outputs": [
    {
     "name": "stdout",
     "output_type": "stream",
     "text": [
      "0\t1\t0\t0\t0\t0\t0\t\n",
      "1\t1\t1\t1\t1\t1\t1\t\n",
      "2\t1\t2\t4\t8\t16\t32\t\n",
      "3\t1\t3\t9\t27\t81\t243\t\n",
      "4\t1\t4\t16\t64\t256\t1024\t\n",
      "5\t1\t5\t25\t125\t625\t3125\t\n",
      "6\t1\t6\t36\t216\t1296\t7776\t\n",
      "7\t1\t7\t49\t343\t2401\t16807\t\n",
      "8\t1\t8\t64\t512\t4096\t32768\t\n",
      "9\t1\t9\t81\t729\t6561\t59049\t\n",
      "10\t1\t10\t100\t1000\t10000\t100000\t\n"
     ]
    }
   ],
   "source": [
    "import math\n",
    "\n",
    "#Er moet 2 keer gelooped worden, 1 keer over de rijen en 1 keer over de kolommen\n",
    "#In de uitwerking gaat i loopen over de rijen en j over de kolommen\n",
    "\n",
    "#eerste loop is om de eerste kolom helemaal links te printen: 0, 1, 2,...,10\n",
    "#dit wordt niet in 1 keer uitgeprint maar gaat eerst 0 uitprinten (linksboven in de tabel) en dan de\n",
    "#machten 0, 1, ..., 5 uitprinten. De machten worden geprint in de tweede loop.\n",
    "#Daarna wordt op de volgende regel 1 uitgeprint en vervolgens weer de machten.\n",
    "for i in range(11):\n",
    "    print(i, end = '\\t')\n",
    "    \n",
    "    for j in range(6): #tweede loop gaat voor een gegeven regel i steeds de macht per kolom printen\n",
    "        print(int(math.pow(i, j)), end = '\\t')\n",
    "        \n",
    "        if (j+1)%6 == 0: #het einde van de regel gebeurt bij de zesde j index maar j loopt van 0,...,5 \n",
    "            print()      #dus als j+1 een veelvoud is van 6 ((j+1)%6 == 0), ga dan naar de volgende regel"
   ]
  },
  {
   "attachments": {
    "volume.jpg": {
     "image/jpeg": "[encoded data removed]"
    }
   },
   "cell_type": "markdown",
   "metadata": {},
   "source": [
    "### 11.\n",
    "\\***  ***Nested for-loops III. Volume onder een oppervlak (LASTIG)***\n",
    "\n",
    "Je gaat een programma schrijven dat het volume bepaalt tussen het xy-vlak, een oppervlak beschreven door $f(x,y) = x^4y^2$ op het rechthoekige domein $2≤x≤4$ en $2≤y≤6$.\n",
    "\n",
    "![volume.jpg](attachment:volume.jpg)\n",
    "\n",
    "Het programma moet dus het volume van het zalmroze object bepalen. Dit doen we door een zogenaamde dubbele Riemannsom te berekenen. We delen het object op in heel veel rechte staafjes. Het volume van al die staafjes is bij benadering het volume van het object. Het volume van een staafje is makkelijk te berekenen: "
   ]
  },
  {
   "attachments": {
    "volumeRiemann.jpg": {
     "image/jpeg": "[encoded data removed]"
    }
   },
   "cell_type": "markdown",
   "metadata": {
    "solution2": "hidden",
    "solution2_first": true
   },
   "source": [
    "Volume_staafje = hoogte x breedte x diepte.\n",
    "\n",
    "![volumeRiemann.jpg](attachment:volumeRiemann.jpg)\n",
    "\n",
    "Het programma heeft 2 input variabelen:\n",
    "\n",
    "•\tn: het aantal balkjes op de x-as  \n",
    "•\tm: het aantal balkjes op de y-as  \n",
    "\n",
    "Met het gegeven domein en de input n en m, kun je het programma zelf de breedte en diepte laten bepalen van een balkje. De hoogte van elk van de balkjes varieert: $f(x_i,y_j)$ met:\n",
    "\n",
    "•\t$x_i=x_0+i*diepte=2+i*diepte$  \n",
    "•\t$y_j=y_0+j*breedte=2+j*breedte$  \n",
    "\n",
    "\n",
    "Het eerste balkje (helemaal linksachter in het plaatje) staat dan bij de coördinaten $x_0$  en $y_0$ ($i = 0$ en $j = 0$). Door $i$ te variëren tussen 0 en ($n-1$) en $j$ te variëren tussen 0 en ($m-1$) krijgen we $n*m$ balkjes. Bepaal van al die balkjes het volume en tel op. Dat is dan de benadering van het volume dat we zoeken.\n",
    "\n",
    "Schrijf dit programma.\n",
    "\n",
    "De ‘exacte’ waarde van het volume is overigens ongeveer 13.755,7333. Je kunt hiermee je benadering controleren."
   ]
  },
  {
   "cell_type": "code",
   "execution_count": 33,
   "metadata": {
    "solution2": "hidden"
   },
   "outputs": [
    {
     "name": "stdout",
     "output_type": "stream",
     "text": [
      "Hoeveel balkjes op de x-as?\n",
      "75\n",
      "Hoeveel balkjes op de y-as?\n",
      "100\n",
      "13410.058732238247\n"
     ]
    }
   ],
   "source": [
    "import math\n",
    "\n",
    "n = int(input('Hoeveel balkjes op de x-as?\\n'))\n",
    "m = int(input('Hoeveel balkjes op de y-as?\\n'))\n",
    "\n",
    "diepte = (4 - 2)/n #de lengte van het grondvlak balkje op de x-as. x loopt van 2 t/m 4 en wordt verdeeld in n intervallen\n",
    "breedte = (6 - 2)/m #de lengte van het grondvlak op de y-as. y loopt van 2 t/m 6 en wordt verdeeld in m intervallen\n",
    "\n",
    "def vol_balk(x, y, diepte, breedte):   \n",
    "    \"\"\"\n",
    "    Berekent het volume van 1 balkje.\n",
    "\n",
    "    Parameters\n",
    "    ----------\n",
    "    x, y: float\n",
    "        De x en y coordinaten. Hiermee wordt de hoogte van een balkje berekend: f(x, y)\n",
    "        \n",
    "    diepte, breedte: float\n",
    "        De lengte en breedte van het grondvlak van de balk.\n",
    "\n",
    "    Returns\n",
    "    -------\n",
    "    float\n",
    "        Het volume van 1 balkje\n",
    "    \"\"\"\n",
    "    \n",
    "    f_xy = math.pow(x, 4)*math.pow(y, 2)\n",
    "    \n",
    "    return diepte * breedte * f_xy\n",
    "\n",
    "vol = 0\n",
    "\n",
    "#ga alle balkjes langs\n",
    "for i in range(n):\n",
    "    for j in range(m):\n",
    "        x = 2 + diepte * i\n",
    "        y = 2 + breedte * j\n",
    "        vol = vol + vol_balk(x, y, diepte, breedte)\n",
    "\n",
    "print(vol) "
   ]
  }
 ],
 "metadata": {
  "kernelspec": {
   "display_name": "Python 3 (ipykernel)",
   "language": "python",
   "name": "python3"
  },
  "language_info": {
   "codemirror_mode": {
    "name": "ipython",
    "version": 3
   },
   "file_extension": ".py",
   "mimetype": "text/x-python",
   "name": "python",
   "nbconvert_exporter": "python",
   "pygments_lexer": "ipython3",
   "version": "3.9.12"
  },
  "toc": {
   "base_numbering": 1,
   "nav_menu": {},
   "number_sections": false,
   "sideBar": true,
   "skip_h1_title": false,
   "title_cell": "Table of Contents",
   "title_sidebar": "Contents",
   "toc_cell": false,
   "toc_position": {
    "height": "calc(100% - 180px)",
    "left": "10px",
    "top": "150px",
    "width": "256px"
   },
   "toc_section_display": true,
   "toc_window_display": false
  }
 },
 "nbformat": 4,
 "nbformat_minor": 4
}
