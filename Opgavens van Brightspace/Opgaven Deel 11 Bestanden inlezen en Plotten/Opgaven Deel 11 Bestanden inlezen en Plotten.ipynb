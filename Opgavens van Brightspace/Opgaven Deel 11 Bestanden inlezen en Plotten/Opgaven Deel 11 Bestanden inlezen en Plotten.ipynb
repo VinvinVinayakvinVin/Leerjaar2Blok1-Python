{
 "cells": [
  {
   "cell_type": "markdown",
   "metadata": {},
   "source": [
    "# Opgaven Deel 11: Bestanden inlezen en Plotten\n",
    "\n",
    "!! Twee uitroeptekens: Deze opgave moet je echt maken. Het geeft je kennis of technieken die niet in het college besproken zijn of in het boek staan, maar die je wel nodig hebt in de toekomstige opgaven/praktijk.\n",
    "\n",
    "De opgaven hebben verder verschillende moeilijkheidsgraden:\n",
    "\n",
    "\\* 1 ster: Nieuwe functies en methodes kun je direct toepassen. Kijk even in je aantekeningen of boek. \n",
    "Kijk niet te snel naar de uitwerkingen. Probeer op zijn minst vijf minuten na te denken en te proberen of in je aantekeningen te kijken, voordat je het opgeeft. Anders leer je er echt bijna niets van.\n",
    "\n",
    "\\** 2 sterren: Nieuwe functies en methodes moet je integreren in je oplossing. Die oplossing bedenken vergt wat creativiteit en vindingrijkheid (uiteindelijk ook ervaring). Dat maakt deze opgaven moeilijker. \n",
    "Kijk niet te snel naar de uitwerkingen. Probeer op zijn minst vijf tot tien minuten na te denken en te proberen, voordat je het opgeeft. \n",
    "\n",
    "\\*** 3 sterren: Zoals bij de twee sterren opgaven, maar er wordt nu een nog grotere vindingrijkheid van je verwacht. Vaak moet je ook meerdere functies en methoden toepassen. De codes zijn vaak wat langer daardoor.\n",
    "Kijk niet te snel naar de uitwerkingen. Probeer op zijn minst twintig tot dertig minuten na te denken en te proberen, voordat je het opgeeft. \n",
    "\n",
    "(LEUK) Hiervan denken we dat je het een (extra) leuke opgave vindt (met name het resultaat/uitvoer). Dus als je moet kiezen tussen opgaven is het een idee om deze opgaven in ieder geval te maken."
   ]
  },
  {
   "cell_type": "markdown",
   "metadata": {},
   "source": [
    "### csv inlezen\n",
    "Een csv is een 'comma separated values' file. Dat is een plat text bestand waarin de waarden van kolommen gescheiden worden door een karakter ook wel *delimiter* genoemd. In de meeste gevallen is de delimiter een komma, een puntkomma of een spatie (dit wordt in een text file genoteerd als '\\t'). \n",
    "\n",
    "In de opgaven van *Opgaven Deel 7* hebben we al gezien hoe we een text bestand (Klas.txt) kunnen inlezen. Dit is ook een plat text bestand waar een spatie als delimiter wordt gebruikt. Een .csv bestand kan dus ook op een vergelijkbare manier worden ingelezen."
   ]
  },
  {
   "cell_type": "markdown",
   "metadata": {
    "solution2": "hidden",
    "solution2_first": true
   },
   "source": [
    "### 1.\n",
    "\\* a. In het bestand 'trees2.csv' staan er meetgegevens van bomen. Download 'trees2.csv' van Brightspace en lees deze in net als je 'Klas2.txt' in las bij opgave 5 uit *Opgaven Deel 7*. Dus lees de koppen apart in en plaats de data uit de kolommen in individuele lijsten."
   ]
  },
  {
   "cell_type": "code",
   "execution_count": 1,
   "metadata": {
    "solution2": "hidden"
   },
   "outputs": [
    {
     "name": "stdout",
     "output_type": "stream",
     "text": [
      "['\"Index\"', '\"Girth (in)\"', '\"Height (ft)\"', '\"Volume(ft^3)\"']\n",
      "1.0 8.3 70.0 10.3\n",
      "2.0 8.6 65.0 10.3\n",
      "3.0 8.8 63.0 10.2\n",
      "4.0 10.5 72.0 16.4\n",
      "5.0 10.7 81.0 18.8\n",
      "6.0 10.8 83.0 19.7\n",
      "7.0 11.0 66.0 15.6\n",
      "8.0 11.0 75.0 18.2\n",
      "9.0 11.1 80.0 22.6\n",
      "10.0 11.2 75.0 19.9\n",
      "11.0 11.3 79.0 24.2\n",
      "12.0 11.4 76.0 21.0\n",
      "13.0 11.4 76.0 21.4\n",
      "14.0 11.7 69.0 21.3\n",
      "15.0 12.0 75.0 19.1\n",
      "16.0 12.9 74.0 22.2\n",
      "17.0 12.9 85.0 33.8\n",
      "18.0 13.3 86.0 27.4\n",
      "19.0 13.7 71.0 25.7\n",
      "20.0 13.8 64.0 24.9\n",
      "21.0 14.0 78.0 34.5\n",
      "22.0 14.2 80.0 31.7\n",
      "23.0 14.5 74.0 36.3\n",
      "24.0 16.0 72.0 38.3\n",
      "25.0 16.3 77.0 42.6\n",
      "26.0 17.3 81.0 55.4\n",
      "27.0 17.5 82.0 55.7\n",
      "28.0 17.9 80.0 58.3\n",
      "29.0 18.0 80.0 51.5\n",
      "30.0 18.0 80.0 51.0\n",
      "31.0 20.6 87.0 77.0\n"
     ]
    }
   ],
   "source": [
    "file = open('trees2.csv')\n",
    "\n",
    "# Lees de eerste regel met de kolom labels\n",
    "eersteregel = file.readline()\n",
    "labels = [s.strip() for s in eersteregel.split(',')] # Hier is gekozen voor list comprehension.\n",
    "print(labels)\n",
    "\n",
    "# Lees de getallen\n",
    "Index = []\n",
    "Girth = []\n",
    "Height = []\n",
    "Volume = []\n",
    "\n",
    "for regel in file:\n",
    "    # Lees iedere regel als een lijst van vier getallen.\n",
    "    split_regel = [float(s) for s in regel.split(',')]\n",
    "    \n",
    "    # Voeg deze drie getallen toe aan de lijsten index, girth, height en volume\n",
    "    Index.append(split_regel[0])\n",
    "    Girth.append(split_regel[1])\n",
    "    Height.append(split_regel[2])\n",
    "    Volume.append(split_regel[3])\n",
    "    \n",
    "file.close()\n",
    "    \n",
    "#print de lijsten naast elkaar uit\n",
    "for a,b,c,d in zip(Index, Girth, Height, Volume): # Dit is misschien een nieuwe manier (o.a zip), kun \n",
    "    print(a, b, c, d)                             # je dit misschien inmiddels alsnog volgen?\n",
    "                                                  # Andere manieren om te printen zijn ook goed gewoon."
   ]
  },
  {
   "cell_type": "markdown",
   "metadata": {
    "solution2": "hidden",
    "solution2_first": true
   },
   "source": [
    "Steeds met for loops itereren over de regels van een bestand en de regels weer opsplitsen in kolommen is best omslachtig. Gelukkig bestaat de *pandas* module. Hiermee kunnen we een data bestand inlezen in een pandas dataframe. Op deze manier staat de data gelijk in een tabel ipv een lijst.\n",
    "\n",
    "\\* b. Zoek de pandas module op op internet en zoek daarin naar een functie om csv's in te lezen. Noem de pandas dataframe: \"bomen\". Schrijf dan een programma dat die csv inleest en assigned aan de naam bomen.\n",
    "\n",
    "*P.S.* Vergeet niet om de pandas module eerst te importeren voordat je een functie eruit gebruikt."
   ]
  },
  {
   "cell_type": "code",
   "execution_count": 4,
   "metadata": {
    "scrolled": false,
    "solution2": "hidden"
   },
   "outputs": [
    {
     "data": {
      "text/html": [
       "<div>\n",
       "<style scoped>\n",
       "    .dataframe tbody tr th:only-of-type {\n",
       "        vertical-align: middle;\n",
       "    }\n",
       "\n",
       "    .dataframe tbody tr th {\n",
       "        vertical-align: top;\n",
       "    }\n",
       "\n",
       "    .dataframe thead th {\n",
       "        text-align: right;\n",
       "    }\n",
       "</style>\n",
       "<table border=\"1\" class=\"dataframe\">\n",
       "  <thead>\n",
       "    <tr style=\"text-align: right;\">\n",
       "      <th></th>\n",
       "      <th>Index</th>\n",
       "      <th>Girth (in)</th>\n",
       "      <th>Height (ft)</th>\n",
       "      <th>Volume(ft^3)</th>\n",
       "    </tr>\n",
       "  </thead>\n",
       "  <tbody>\n",
       "    <tr>\n",
       "      <th>0</th>\n",
       "      <td>1</td>\n",
       "      <td>8.3</td>\n",
       "      <td>70</td>\n",
       "      <td>10.3</td>\n",
       "    </tr>\n",
       "    <tr>\n",
       "      <th>1</th>\n",
       "      <td>2</td>\n",
       "      <td>8.6</td>\n",
       "      <td>65</td>\n",
       "      <td>10.3</td>\n",
       "    </tr>\n",
       "    <tr>\n",
       "      <th>2</th>\n",
       "      <td>3</td>\n",
       "      <td>8.8</td>\n",
       "      <td>63</td>\n",
       "      <td>10.2</td>\n",
       "    </tr>\n",
       "    <tr>\n",
       "      <th>3</th>\n",
       "      <td>4</td>\n",
       "      <td>10.5</td>\n",
       "      <td>72</td>\n",
       "      <td>16.4</td>\n",
       "    </tr>\n",
       "    <tr>\n",
       "      <th>4</th>\n",
       "      <td>5</td>\n",
       "      <td>10.7</td>\n",
       "      <td>81</td>\n",
       "      <td>18.8</td>\n",
       "    </tr>\n",
       "    <tr>\n",
       "      <th>5</th>\n",
       "      <td>6</td>\n",
       "      <td>10.8</td>\n",
       "      <td>83</td>\n",
       "      <td>19.7</td>\n",
       "    </tr>\n",
       "    <tr>\n",
       "      <th>6</th>\n",
       "      <td>7</td>\n",
       "      <td>11.0</td>\n",
       "      <td>66</td>\n",
       "      <td>15.6</td>\n",
       "    </tr>\n",
       "    <tr>\n",
       "      <th>7</th>\n",
       "      <td>8</td>\n",
       "      <td>11.0</td>\n",
       "      <td>75</td>\n",
       "      <td>18.2</td>\n",
       "    </tr>\n",
       "    <tr>\n",
       "      <th>8</th>\n",
       "      <td>9</td>\n",
       "      <td>11.1</td>\n",
       "      <td>80</td>\n",
       "      <td>22.6</td>\n",
       "    </tr>\n",
       "    <tr>\n",
       "      <th>9</th>\n",
       "      <td>10</td>\n",
       "      <td>11.2</td>\n",
       "      <td>75</td>\n",
       "      <td>19.9</td>\n",
       "    </tr>\n",
       "    <tr>\n",
       "      <th>10</th>\n",
       "      <td>11</td>\n",
       "      <td>11.3</td>\n",
       "      <td>79</td>\n",
       "      <td>24.2</td>\n",
       "    </tr>\n",
       "    <tr>\n",
       "      <th>11</th>\n",
       "      <td>12</td>\n",
       "      <td>11.4</td>\n",
       "      <td>76</td>\n",
       "      <td>21.0</td>\n",
       "    </tr>\n",
       "    <tr>\n",
       "      <th>12</th>\n",
       "      <td>13</td>\n",
       "      <td>11.4</td>\n",
       "      <td>76</td>\n",
       "      <td>21.4</td>\n",
       "    </tr>\n",
       "    <tr>\n",
       "      <th>13</th>\n",
       "      <td>14</td>\n",
       "      <td>11.7</td>\n",
       "      <td>69</td>\n",
       "      <td>21.3</td>\n",
       "    </tr>\n",
       "    <tr>\n",
       "      <th>14</th>\n",
       "      <td>15</td>\n",
       "      <td>12.0</td>\n",
       "      <td>75</td>\n",
       "      <td>19.1</td>\n",
       "    </tr>\n",
       "    <tr>\n",
       "      <th>15</th>\n",
       "      <td>16</td>\n",
       "      <td>12.9</td>\n",
       "      <td>74</td>\n",
       "      <td>22.2</td>\n",
       "    </tr>\n",
       "    <tr>\n",
       "      <th>16</th>\n",
       "      <td>17</td>\n",
       "      <td>12.9</td>\n",
       "      <td>85</td>\n",
       "      <td>33.8</td>\n",
       "    </tr>\n",
       "    <tr>\n",
       "      <th>17</th>\n",
       "      <td>18</td>\n",
       "      <td>13.3</td>\n",
       "      <td>86</td>\n",
       "      <td>27.4</td>\n",
       "    </tr>\n",
       "    <tr>\n",
       "      <th>18</th>\n",
       "      <td>19</td>\n",
       "      <td>13.7</td>\n",
       "      <td>71</td>\n",
       "      <td>25.7</td>\n",
       "    </tr>\n",
       "    <tr>\n",
       "      <th>19</th>\n",
       "      <td>20</td>\n",
       "      <td>13.8</td>\n",
       "      <td>64</td>\n",
       "      <td>24.9</td>\n",
       "    </tr>\n",
       "    <tr>\n",
       "      <th>20</th>\n",
       "      <td>21</td>\n",
       "      <td>14.0</td>\n",
       "      <td>78</td>\n",
       "      <td>34.5</td>\n",
       "    </tr>\n",
       "    <tr>\n",
       "      <th>21</th>\n",
       "      <td>22</td>\n",
       "      <td>14.2</td>\n",
       "      <td>80</td>\n",
       "      <td>31.7</td>\n",
       "    </tr>\n",
       "    <tr>\n",
       "      <th>22</th>\n",
       "      <td>23</td>\n",
       "      <td>14.5</td>\n",
       "      <td>74</td>\n",
       "      <td>36.3</td>\n",
       "    </tr>\n",
       "    <tr>\n",
       "      <th>23</th>\n",
       "      <td>24</td>\n",
       "      <td>16.0</td>\n",
       "      <td>72</td>\n",
       "      <td>38.3</td>\n",
       "    </tr>\n",
       "    <tr>\n",
       "      <th>24</th>\n",
       "      <td>25</td>\n",
       "      <td>16.3</td>\n",
       "      <td>77</td>\n",
       "      <td>42.6</td>\n",
       "    </tr>\n",
       "    <tr>\n",
       "      <th>25</th>\n",
       "      <td>26</td>\n",
       "      <td>17.3</td>\n",
       "      <td>81</td>\n",
       "      <td>55.4</td>\n",
       "    </tr>\n",
       "    <tr>\n",
       "      <th>26</th>\n",
       "      <td>27</td>\n",
       "      <td>17.5</td>\n",
       "      <td>82</td>\n",
       "      <td>55.7</td>\n",
       "    </tr>\n",
       "    <tr>\n",
       "      <th>27</th>\n",
       "      <td>28</td>\n",
       "      <td>17.9</td>\n",
       "      <td>80</td>\n",
       "      <td>58.3</td>\n",
       "    </tr>\n",
       "    <tr>\n",
       "      <th>28</th>\n",
       "      <td>29</td>\n",
       "      <td>18.0</td>\n",
       "      <td>80</td>\n",
       "      <td>51.5</td>\n",
       "    </tr>\n",
       "    <tr>\n",
       "      <th>29</th>\n",
       "      <td>30</td>\n",
       "      <td>18.0</td>\n",
       "      <td>80</td>\n",
       "      <td>51.0</td>\n",
       "    </tr>\n",
       "    <tr>\n",
       "      <th>30</th>\n",
       "      <td>31</td>\n",
       "      <td>20.6</td>\n",
       "      <td>87</td>\n",
       "      <td>77.0</td>\n",
       "    </tr>\n",
       "  </tbody>\n",
       "</table>\n",
       "</div>"
      ],
      "text/plain": [
       "    Index  Girth (in)  Height (ft)  Volume(ft^3)\n",
       "0       1         8.3           70          10.3\n",
       "1       2         8.6           65          10.3\n",
       "2       3         8.8           63          10.2\n",
       "3       4        10.5           72          16.4\n",
       "4       5        10.7           81          18.8\n",
       "5       6        10.8           83          19.7\n",
       "6       7        11.0           66          15.6\n",
       "7       8        11.0           75          18.2\n",
       "8       9        11.1           80          22.6\n",
       "9      10        11.2           75          19.9\n",
       "10     11        11.3           79          24.2\n",
       "11     12        11.4           76          21.0\n",
       "12     13        11.4           76          21.4\n",
       "13     14        11.7           69          21.3\n",
       "14     15        12.0           75          19.1\n",
       "15     16        12.9           74          22.2\n",
       "16     17        12.9           85          33.8\n",
       "17     18        13.3           86          27.4\n",
       "18     19        13.7           71          25.7\n",
       "19     20        13.8           64          24.9\n",
       "20     21        14.0           78          34.5\n",
       "21     22        14.2           80          31.7\n",
       "22     23        14.5           74          36.3\n",
       "23     24        16.0           72          38.3\n",
       "24     25        16.3           77          42.6\n",
       "25     26        17.3           81          55.4\n",
       "26     27        17.5           82          55.7\n",
       "27     28        17.9           80          58.3\n",
       "28     29        18.0           80          51.5\n",
       "29     30        18.0           80          51.0\n",
       "30     31        20.6           87          77.0"
      ]
     },
     "execution_count": 4,
     "metadata": {},
     "output_type": "execute_result"
    }
   ],
   "source": [
    "import pandas\n",
    "\n",
    "bomen = pandas.read_csv(\"trees2.csv\")\n",
    "bomen"
   ]
  },
  {
   "cell_type": "markdown",
   "metadata": {
    "solution2": "hidden",
    "solution2_first": true
   },
   "source": [
    "Nu de data in een pandas dataframe staat kunnen we ook de kolommen selecteren. Als je bv de kolom \"Height (ft)\" wilt selecteren, doe je dat als volgt:\n",
    "\n",
    "bomen[\"Height (ft)\"]\n",
    "\n",
    "\\* c. Print nu de kolom \"Girth (in)\" uit."
   ]
  },
  {
   "cell_type": "code",
   "execution_count": 5,
   "metadata": {
    "solution2": "hidden"
   },
   "outputs": [
    {
     "data": {
      "text/plain": [
       "0      8.3\n",
       "1      8.6\n",
       "2      8.8\n",
       "3     10.5\n",
       "4     10.7\n",
       "5     10.8\n",
       "6     11.0\n",
       "7     11.0\n",
       "8     11.1\n",
       "9     11.2\n",
       "10    11.3\n",
       "11    11.4\n",
       "12    11.4\n",
       "13    11.7\n",
       "14    12.0\n",
       "15    12.9\n",
       "16    12.9\n",
       "17    13.3\n",
       "18    13.7\n",
       "19    13.8\n",
       "20    14.0\n",
       "21    14.2\n",
       "22    14.5\n",
       "23    16.0\n",
       "24    16.3\n",
       "25    17.3\n",
       "26    17.5\n",
       "27    17.9\n",
       "28    18.0\n",
       "29    18.0\n",
       "30    20.6\n",
       "Name: Girth (in), dtype: float64"
      ]
     },
     "execution_count": 5,
     "metadata": {},
     "output_type": "execute_result"
    }
   ],
   "source": [
    "bomen[\"Girth (in)\"]"
   ]
  },
  {
   "cell_type": "markdown",
   "metadata": {},
   "source": [
    "We kunnen ook de data filteren. Als ik alleen de bomen wil met een omvang (Girth) van 11.0 kan ik dat als volgt selecteren uit het dataframe:"
   ]
  },
  {
   "cell_type": "code",
   "execution_count": null,
   "metadata": {},
   "outputs": [],
   "source": [
    "bomen[bomen[\"Girth (in)\"] == 11.0]"
   ]
  },
  {
   "cell_type": "markdown",
   "metadata": {
    "solution2": "hidden",
    "solution2_first": true
   },
   "source": [
    "\\* d. Filter nu het bomen dataframe op de bomen die een volume van meer dan 25 hebben.  \n",
    "\\** e. Selecteer nu van de bomen uit vraag d, alleen de gegevens uit kolom \"Girth\"."
   ]
  },
  {
   "cell_type": "code",
   "execution_count": 6,
   "metadata": {
    "solution2": "hidden"
   },
   "outputs": [
    {
     "name": "stdout",
     "output_type": "stream",
     "text": [
      "    Index  Girth (in)  Height (ft)  Volume(ft^3)\n",
      "16     17        12.9           85          33.8\n",
      "17     18        13.3           86          27.4\n",
      "18     19        13.7           71          25.7\n",
      "20     21        14.0           78          34.5\n",
      "21     22        14.2           80          31.7\n",
      "22     23        14.5           74          36.3\n",
      "23     24        16.0           72          38.3\n",
      "24     25        16.3           77          42.6\n",
      "25     26        17.3           81          55.4\n",
      "26     27        17.5           82          55.7\n",
      "27     28        17.9           80          58.3\n",
      "28     29        18.0           80          51.5\n",
      "29     30        18.0           80          51.0\n",
      "30     31        20.6           87          77.0\n"
     ]
    },
    {
     "data": {
      "text/plain": [
       "16    12.9\n",
       "17    13.3\n",
       "18    13.7\n",
       "20    14.0\n",
       "21    14.2\n",
       "22    14.5\n",
       "23    16.0\n",
       "24    16.3\n",
       "25    17.3\n",
       "26    17.5\n",
       "27    17.9\n",
       "28    18.0\n",
       "29    18.0\n",
       "30    20.6\n",
       "Name: Girth (in), dtype: float64"
      ]
     },
     "execution_count": 6,
     "metadata": {},
     "output_type": "execute_result"
    }
   ],
   "source": [
    "#d\n",
    "print(bomen[bomen[\"Volume(ft^3)\"] > 25])\n",
    "\n",
    "#e\n",
    "(bomen[bomen[\"Volume(ft^3)\"] > 25][\"Girth (in)\"])"
   ]
  },
  {
   "cell_type": "markdown",
   "metadata": {
    "solution2": "hidden",
    "solution2_first": true
   },
   "source": [
    "Het is ook mogelijk om basis informatie uit een pandas dataframe te halen. Bijvoorbeeld \n",
    "\n",
    "bomen.sum()\n",
    "\n",
    "geeft de som van elke kolom uit het dataframe \"bomen\".\n",
    "\n",
    "\\* f. Voer de functies *sum(), info(), min(), max()* en *describe()* uit op het dataframe \"bomen\" en kijk wat het resultaat is. "
   ]
  },
  {
   "cell_type": "code",
   "execution_count": 11,
   "metadata": {
    "solution2": "hidden"
   },
   "outputs": [
    {
     "data": {
      "text/plain": [
       "Index            496.0\n",
       "Girth (in)       410.7\n",
       "Height (ft)     2356.0\n",
       "Volume(ft^3)     935.3\n",
       "dtype: float64"
      ]
     },
     "execution_count": 11,
     "metadata": {},
     "output_type": "execute_result"
    }
   ],
   "source": [
    "bomen.sum()"
   ]
  },
  {
   "cell_type": "code",
   "execution_count": 12,
   "metadata": {
    "solution2": "hidden"
   },
   "outputs": [
    {
     "name": "stdout",
     "output_type": "stream",
     "text": [
      "<class 'pandas.core.frame.DataFrame'>\n",
      "RangeIndex: 31 entries, 0 to 30\n",
      "Data columns (total 4 columns):\n",
      " #   Column        Non-Null Count  Dtype  \n",
      "---  ------        --------------  -----  \n",
      " 0   Index         31 non-null     int64  \n",
      " 1   Girth (in)    31 non-null     float64\n",
      " 2   Height (ft)   31 non-null     int64  \n",
      " 3   Volume(ft^3)  31 non-null     float64\n",
      "dtypes: float64(2), int64(2)\n",
      "memory usage: 1.1 KB\n"
     ]
    }
   ],
   "source": [
    "bomen.info()"
   ]
  },
  {
   "cell_type": "code",
   "execution_count": 13,
   "metadata": {
    "solution2": "hidden"
   },
   "outputs": [
    {
     "data": {
      "text/plain": [
       "Index            1.0\n",
       "Girth (in)       8.3\n",
       "Height (ft)     63.0\n",
       "Volume(ft^3)    10.2\n",
       "dtype: float64"
      ]
     },
     "execution_count": 13,
     "metadata": {},
     "output_type": "execute_result"
    }
   ],
   "source": [
    "bomen.min()"
   ]
  },
  {
   "cell_type": "code",
   "execution_count": 14,
   "metadata": {
    "solution2": "hidden"
   },
   "outputs": [
    {
     "data": {
      "text/plain": [
       "Index           31.0\n",
       "Girth (in)      20.6\n",
       "Height (ft)     87.0\n",
       "Volume(ft^3)    77.0\n",
       "dtype: float64"
      ]
     },
     "execution_count": 14,
     "metadata": {},
     "output_type": "execute_result"
    }
   ],
   "source": [
    "bomen.max()"
   ]
  },
  {
   "cell_type": "code",
   "execution_count": 15,
   "metadata": {
    "solution2": "hidden"
   },
   "outputs": [
    {
     "data": {
      "text/html": [
       "<div>\n",
       "<style scoped>\n",
       "    .dataframe tbody tr th:only-of-type {\n",
       "        vertical-align: middle;\n",
       "    }\n",
       "\n",
       "    .dataframe tbody tr th {\n",
       "        vertical-align: top;\n",
       "    }\n",
       "\n",
       "    .dataframe thead th {\n",
       "        text-align: right;\n",
       "    }\n",
       "</style>\n",
       "<table border=\"1\" class=\"dataframe\">\n",
       "  <thead>\n",
       "    <tr style=\"text-align: right;\">\n",
       "      <th></th>\n",
       "      <th>Index</th>\n",
       "      <th>Girth (in)</th>\n",
       "      <th>Height (ft)</th>\n",
       "      <th>Volume(ft^3)</th>\n",
       "    </tr>\n",
       "  </thead>\n",
       "  <tbody>\n",
       "    <tr>\n",
       "      <th>count</th>\n",
       "      <td>31.000000</td>\n",
       "      <td>31.000000</td>\n",
       "      <td>31.000000</td>\n",
       "      <td>31.000000</td>\n",
       "    </tr>\n",
       "    <tr>\n",
       "      <th>mean</th>\n",
       "      <td>16.000000</td>\n",
       "      <td>13.248387</td>\n",
       "      <td>76.000000</td>\n",
       "      <td>30.170968</td>\n",
       "    </tr>\n",
       "    <tr>\n",
       "      <th>std</th>\n",
       "      <td>9.092121</td>\n",
       "      <td>3.138139</td>\n",
       "      <td>6.371813</td>\n",
       "      <td>16.437846</td>\n",
       "    </tr>\n",
       "    <tr>\n",
       "      <th>min</th>\n",
       "      <td>1.000000</td>\n",
       "      <td>8.300000</td>\n",
       "      <td>63.000000</td>\n",
       "      <td>10.200000</td>\n",
       "    </tr>\n",
       "    <tr>\n",
       "      <th>25%</th>\n",
       "      <td>8.500000</td>\n",
       "      <td>11.050000</td>\n",
       "      <td>72.000000</td>\n",
       "      <td>19.400000</td>\n",
       "    </tr>\n",
       "    <tr>\n",
       "      <th>50%</th>\n",
       "      <td>16.000000</td>\n",
       "      <td>12.900000</td>\n",
       "      <td>76.000000</td>\n",
       "      <td>24.200000</td>\n",
       "    </tr>\n",
       "    <tr>\n",
       "      <th>75%</th>\n",
       "      <td>23.500000</td>\n",
       "      <td>15.250000</td>\n",
       "      <td>80.000000</td>\n",
       "      <td>37.300000</td>\n",
       "    </tr>\n",
       "    <tr>\n",
       "      <th>max</th>\n",
       "      <td>31.000000</td>\n",
       "      <td>20.600000</td>\n",
       "      <td>87.000000</td>\n",
       "      <td>77.000000</td>\n",
       "    </tr>\n",
       "  </tbody>\n",
       "</table>\n",
       "</div>"
      ],
      "text/plain": [
       "           Index  Girth (in)  Height (ft)  Volume(ft^3)\n",
       "count  31.000000   31.000000    31.000000     31.000000\n",
       "mean   16.000000   13.248387    76.000000     30.170968\n",
       "std     9.092121    3.138139     6.371813     16.437846\n",
       "min     1.000000    8.300000    63.000000     10.200000\n",
       "25%     8.500000   11.050000    72.000000     19.400000\n",
       "50%    16.000000   12.900000    76.000000     24.200000\n",
       "75%    23.500000   15.250000    80.000000     37.300000\n",
       "max    31.000000   20.600000    87.000000     77.000000"
      ]
     },
     "execution_count": 15,
     "metadata": {},
     "output_type": "execute_result"
    }
   ],
   "source": [
    "bomen.describe()"
   ]
  },
  {
   "cell_type": "markdown",
   "metadata": {
    "solution2": "hidden",
    "solution2_first": true
   },
   "source": [
    "\\* g. Bereken nu in 1 keer (en alleen voor) de gemiddelde hoogte van de bomen.\n",
    "\n",
    "*Hint*: de notatie in vraag c."
   ]
  },
  {
   "cell_type": "code",
   "execution_count": 16,
   "metadata": {
    "solution2": "hidden"
   },
   "outputs": [
    {
     "data": {
      "text/plain": [
       "76.0"
      ]
     },
     "execution_count": 16,
     "metadata": {},
     "output_type": "execute_result"
    }
   ],
   "source": [
    "bomen[\"Height (ft)\"].mean()"
   ]
  },
  {
   "cell_type": "markdown",
   "metadata": {
    "solution2": "hidden",
    "solution2_first": true
   },
   "source": [
    "### 2. txt inlezen\n",
    "\\* a. Lees nu ook het bestand 'Klas.txt' in als pandas dataframe en print het uit. Krijg je geen aparte kolommen te zien? Dan moet je waarschijnlijk een andere delimiter gebruiken. Dit kun je meegeven als argument/input aan de pandas functie uit vraag 1a."
   ]
  },
  {
   "cell_type": "code",
   "execution_count": 17,
   "metadata": {
    "solution2": "hidden"
   },
   "outputs": [
    {
     "data": {
      "text/html": [
       "<div>\n",
       "<style scoped>\n",
       "    .dataframe tbody tr th:only-of-type {\n",
       "        vertical-align: middle;\n",
       "    }\n",
       "\n",
       "    .dataframe tbody tr th {\n",
       "        vertical-align: top;\n",
       "    }\n",
       "\n",
       "    .dataframe thead th {\n",
       "        text-align: right;\n",
       "    }\n",
       "</style>\n",
       "<table border=\"1\" class=\"dataframe\">\n",
       "  <thead>\n",
       "    <tr style=\"text-align: right;\">\n",
       "      <th></th>\n",
       "      <th>Naam</th>\n",
       "      <th>Geslacht</th>\n",
       "      <th>Leeftijd</th>\n",
       "      <th>Lengte</th>\n",
       "      <th>Gewicht</th>\n",
       "      <th>Cijfer</th>\n",
       "    </tr>\n",
       "  </thead>\n",
       "  <tbody>\n",
       "    <tr>\n",
       "      <th>0</th>\n",
       "      <td>Sarah</td>\n",
       "      <td>meisje</td>\n",
       "      <td>18</td>\n",
       "      <td>160</td>\n",
       "      <td>78</td>\n",
       "      <td>8</td>\n",
       "    </tr>\n",
       "    <tr>\n",
       "      <th>1</th>\n",
       "      <td>Lucas</td>\n",
       "      <td>jongen</td>\n",
       "      <td>17</td>\n",
       "      <td>171</td>\n",
       "      <td>67</td>\n",
       "      <td>10</td>\n",
       "    </tr>\n",
       "    <tr>\n",
       "      <th>2</th>\n",
       "      <td>Anne</td>\n",
       "      <td>meisje</td>\n",
       "      <td>21</td>\n",
       "      <td>167</td>\n",
       "      <td>70</td>\n",
       "      <td>8</td>\n",
       "    </tr>\n",
       "    <tr>\n",
       "      <th>3</th>\n",
       "      <td>Noah</td>\n",
       "      <td>jongen</td>\n",
       "      <td>19</td>\n",
       "      <td>172</td>\n",
       "      <td>63</td>\n",
       "      <td>6</td>\n",
       "    </tr>\n",
       "    <tr>\n",
       "      <th>4</th>\n",
       "      <td>Selin</td>\n",
       "      <td>meisje</td>\n",
       "      <td>19</td>\n",
       "      <td>185</td>\n",
       "      <td>79</td>\n",
       "      <td>10</td>\n",
       "    </tr>\n",
       "    <tr>\n",
       "      <th>5</th>\n",
       "      <td>Zayn</td>\n",
       "      <td>jongen</td>\n",
       "      <td>19</td>\n",
       "      <td>194</td>\n",
       "      <td>71</td>\n",
       "      <td>8</td>\n",
       "    </tr>\n",
       "    <tr>\n",
       "      <th>6</th>\n",
       "      <td>Iris</td>\n",
       "      <td>meisje</td>\n",
       "      <td>21</td>\n",
       "      <td>161</td>\n",
       "      <td>51</td>\n",
       "      <td>7</td>\n",
       "    </tr>\n",
       "    <tr>\n",
       "      <th>7</th>\n",
       "      <td>Marilyn</td>\n",
       "      <td>jongen</td>\n",
       "      <td>17</td>\n",
       "      <td>165</td>\n",
       "      <td>99</td>\n",
       "      <td>8</td>\n",
       "    </tr>\n",
       "    <tr>\n",
       "      <th>8</th>\n",
       "      <td>Mohammed</td>\n",
       "      <td>jongen</td>\n",
       "      <td>21</td>\n",
       "      <td>167</td>\n",
       "      <td>96</td>\n",
       "      <td>8</td>\n",
       "    </tr>\n",
       "    <tr>\n",
       "      <th>9</th>\n",
       "      <td>Julia</td>\n",
       "      <td>meisje</td>\n",
       "      <td>21</td>\n",
       "      <td>185</td>\n",
       "      <td>54</td>\n",
       "      <td>6</td>\n",
       "    </tr>\n",
       "    <tr>\n",
       "      <th>10</th>\n",
       "      <td>Jayden</td>\n",
       "      <td>jongen</td>\n",
       "      <td>20</td>\n",
       "      <td>183</td>\n",
       "      <td>65</td>\n",
       "      <td>4</td>\n",
       "    </tr>\n",
       "    <tr>\n",
       "      <th>11</th>\n",
       "      <td>Tamaz</td>\n",
       "      <td>jongen</td>\n",
       "      <td>20</td>\n",
       "      <td>176</td>\n",
       "      <td>61</td>\n",
       "      <td>8</td>\n",
       "    </tr>\n",
       "    <tr>\n",
       "      <th>12</th>\n",
       "      <td>Femke</td>\n",
       "      <td>meisje</td>\n",
       "      <td>21</td>\n",
       "      <td>157</td>\n",
       "      <td>45</td>\n",
       "      <td>7</td>\n",
       "    </tr>\n",
       "    <tr>\n",
       "      <th>13</th>\n",
       "      <td>Rosa</td>\n",
       "      <td>meisje</td>\n",
       "      <td>18</td>\n",
       "      <td>158</td>\n",
       "      <td>72</td>\n",
       "      <td>6</td>\n",
       "    </tr>\n",
       "    <tr>\n",
       "      <th>14</th>\n",
       "      <td>Mulan</td>\n",
       "      <td>meisje</td>\n",
       "      <td>18</td>\n",
       "      <td>176</td>\n",
       "      <td>58</td>\n",
       "      <td>8</td>\n",
       "    </tr>\n",
       "    <tr>\n",
       "      <th>15</th>\n",
       "      <td>Adam</td>\n",
       "      <td>jongen</td>\n",
       "      <td>18</td>\n",
       "      <td>198</td>\n",
       "      <td>81</td>\n",
       "      <td>5</td>\n",
       "    </tr>\n",
       "    <tr>\n",
       "      <th>16</th>\n",
       "      <td>Remon</td>\n",
       "      <td>jongen</td>\n",
       "      <td>19</td>\n",
       "      <td>178</td>\n",
       "      <td>68</td>\n",
       "      <td>7</td>\n",
       "    </tr>\n",
       "    <tr>\n",
       "      <th>17</th>\n",
       "      <td>Emma</td>\n",
       "      <td>meisje</td>\n",
       "      <td>17</td>\n",
       "      <td>167</td>\n",
       "      <td>55</td>\n",
       "      <td>4</td>\n",
       "    </tr>\n",
       "    <tr>\n",
       "      <th>18</th>\n",
       "      <td>Sepp</td>\n",
       "      <td>jongen</td>\n",
       "      <td>18</td>\n",
       "      <td>195</td>\n",
       "      <td>75</td>\n",
       "      <td>5</td>\n",
       "    </tr>\n",
       "    <tr>\n",
       "      <th>19</th>\n",
       "      <td>Lieke</td>\n",
       "      <td>meisje</td>\n",
       "      <td>20</td>\n",
       "      <td>181</td>\n",
       "      <td>73</td>\n",
       "      <td>7</td>\n",
       "    </tr>\n",
       "    <tr>\n",
       "      <th>20</th>\n",
       "      <td>Nova</td>\n",
       "      <td>meisje</td>\n",
       "      <td>18</td>\n",
       "      <td>171</td>\n",
       "      <td>59</td>\n",
       "      <td>6</td>\n",
       "    </tr>\n",
       "    <tr>\n",
       "      <th>21</th>\n",
       "      <td>Olivier</td>\n",
       "      <td>jongen</td>\n",
       "      <td>20</td>\n",
       "      <td>186</td>\n",
       "      <td>74</td>\n",
       "      <td>10</td>\n",
       "    </tr>\n",
       "    <tr>\n",
       "      <th>22</th>\n",
       "      <td>Floor</td>\n",
       "      <td>meisje</td>\n",
       "      <td>20</td>\n",
       "      <td>173</td>\n",
       "      <td>65</td>\n",
       "      <td>6</td>\n",
       "    </tr>\n",
       "    <tr>\n",
       "      <th>23</th>\n",
       "      <td>Fatima</td>\n",
       "      <td>meisje</td>\n",
       "      <td>21</td>\n",
       "      <td>176</td>\n",
       "      <td>59</td>\n",
       "      <td>4</td>\n",
       "    </tr>\n",
       "    <tr>\n",
       "      <th>24</th>\n",
       "      <td>Daan</td>\n",
       "      <td>jongen</td>\n",
       "      <td>21</td>\n",
       "      <td>175</td>\n",
       "      <td>96</td>\n",
       "      <td>7</td>\n",
       "    </tr>\n",
       "    <tr>\n",
       "      <th>25</th>\n",
       "      <td>Dunya</td>\n",
       "      <td>meisje</td>\n",
       "      <td>20</td>\n",
       "      <td>161</td>\n",
       "      <td>70</td>\n",
       "      <td>4</td>\n",
       "    </tr>\n",
       "    <tr>\n",
       "      <th>26</th>\n",
       "      <td>Fahid</td>\n",
       "      <td>jongen</td>\n",
       "      <td>17</td>\n",
       "      <td>170</td>\n",
       "      <td>98</td>\n",
       "      <td>9</td>\n",
       "    </tr>\n",
       "    <tr>\n",
       "      <th>27</th>\n",
       "      <td>Fleur</td>\n",
       "      <td>meisje</td>\n",
       "      <td>21</td>\n",
       "      <td>169</td>\n",
       "      <td>51</td>\n",
       "      <td>10</td>\n",
       "    </tr>\n",
       "    <tr>\n",
       "      <th>28</th>\n",
       "      <td>Jurre</td>\n",
       "      <td>jongen</td>\n",
       "      <td>20</td>\n",
       "      <td>175</td>\n",
       "      <td>54</td>\n",
       "      <td>5</td>\n",
       "    </tr>\n",
       "    <tr>\n",
       "      <th>29</th>\n",
       "      <td>Niek</td>\n",
       "      <td>jongen</td>\n",
       "      <td>21</td>\n",
       "      <td>167</td>\n",
       "      <td>99</td>\n",
       "      <td>7</td>\n",
       "    </tr>\n",
       "    <tr>\n",
       "      <th>30</th>\n",
       "      <td>Romy</td>\n",
       "      <td>meisje</td>\n",
       "      <td>18</td>\n",
       "      <td>177</td>\n",
       "      <td>60</td>\n",
       "      <td>10</td>\n",
       "    </tr>\n",
       "    <tr>\n",
       "      <th>31</th>\n",
       "      <td>Daniël</td>\n",
       "      <td>jongen</td>\n",
       "      <td>20</td>\n",
       "      <td>169</td>\n",
       "      <td>70</td>\n",
       "      <td>6</td>\n",
       "    </tr>\n",
       "    <tr>\n",
       "      <th>32</th>\n",
       "      <td>Noa</td>\n",
       "      <td>meisje</td>\n",
       "      <td>21</td>\n",
       "      <td>179</td>\n",
       "      <td>56</td>\n",
       "      <td>5</td>\n",
       "    </tr>\n",
       "    <tr>\n",
       "      <th>33</th>\n",
       "      <td>Nathan</td>\n",
       "      <td>jongen</td>\n",
       "      <td>17</td>\n",
       "      <td>169</td>\n",
       "      <td>84</td>\n",
       "      <td>10</td>\n",
       "    </tr>\n",
       "    <tr>\n",
       "      <th>34</th>\n",
       "      <td>Jasmijn</td>\n",
       "      <td>meisje</td>\n",
       "      <td>21</td>\n",
       "      <td>156</td>\n",
       "      <td>52</td>\n",
       "      <td>5</td>\n",
       "    </tr>\n",
       "    <tr>\n",
       "      <th>35</th>\n",
       "      <td>Terry</td>\n",
       "      <td>jongen</td>\n",
       "      <td>18</td>\n",
       "      <td>200</td>\n",
       "      <td>83</td>\n",
       "      <td>7</td>\n",
       "    </tr>\n",
       "    <tr>\n",
       "      <th>36</th>\n",
       "      <td>Michelle</td>\n",
       "      <td>meisje</td>\n",
       "      <td>20</td>\n",
       "      <td>182</td>\n",
       "      <td>55</td>\n",
       "      <td>4</td>\n",
       "    </tr>\n",
       "  </tbody>\n",
       "</table>\n",
       "</div>"
      ],
      "text/plain": [
       "        Naam Geslacht  Leeftijd  Lengte  Gewicht  Cijfer\n",
       "0      Sarah   meisje        18     160       78       8\n",
       "1      Lucas   jongen        17     171       67      10\n",
       "2       Anne   meisje        21     167       70       8\n",
       "3       Noah   jongen        19     172       63       6\n",
       "4      Selin   meisje        19     185       79      10\n",
       "5       Zayn   jongen        19     194       71       8\n",
       "6       Iris   meisje        21     161       51       7\n",
       "7    Marilyn   jongen        17     165       99       8\n",
       "8   Mohammed   jongen        21     167       96       8\n",
       "9      Julia   meisje        21     185       54       6\n",
       "10    Jayden   jongen        20     183       65       4\n",
       "11     Tamaz   jongen        20     176       61       8\n",
       "12     Femke   meisje        21     157       45       7\n",
       "13      Rosa   meisje        18     158       72       6\n",
       "14     Mulan   meisje        18     176       58       8\n",
       "15      Adam   jongen        18     198       81       5\n",
       "16     Remon   jongen        19     178       68       7\n",
       "17      Emma   meisje        17     167       55       4\n",
       "18      Sepp   jongen        18     195       75       5\n",
       "19     Lieke   meisje        20     181       73       7\n",
       "20      Nova   meisje        18     171       59       6\n",
       "21   Olivier   jongen        20     186       74      10\n",
       "22     Floor   meisje        20     173       65       6\n",
       "23    Fatima   meisje        21     176       59       4\n",
       "24      Daan   jongen        21     175       96       7\n",
       "25     Dunya   meisje        20     161       70       4\n",
       "26     Fahid   jongen        17     170       98       9\n",
       "27     Fleur   meisje        21     169       51      10\n",
       "28     Jurre   jongen        20     175       54       5\n",
       "29      Niek   jongen        21     167       99       7\n",
       "30      Romy   meisje        18     177       60      10\n",
       "31    Daniël   jongen        20     169       70       6\n",
       "32       Noa   meisje        21     179       56       5\n",
       "33    Nathan   jongen        17     169       84      10\n",
       "34   Jasmijn   meisje        21     156       52       5\n",
       "35     Terry   jongen        18     200       83       7\n",
       "36  Michelle   meisje        20     182       55       4"
      ]
     },
     "execution_count": 17,
     "metadata": {},
     "output_type": "execute_result"
    }
   ],
   "source": [
    "klas = pandas.read_csv(\"klas.txt\", delimiter = '\\t')\n",
    "klas"
   ]
  },
  {
   "cell_type": "markdown",
   "metadata": {
    "solution2": "hidden",
    "solution2_first": true
   },
   "source": [
    "\\** b. Bereken de volgende statistieken: \n",
    "- gemidelde lengte van de meisjes en van de jongens. \n",
    "- standaard deviatie van het gewicht van de gehele klas (zoek zelf de functie hiervoor op.)"
   ]
  },
  {
   "cell_type": "code",
   "execution_count": 18,
   "metadata": {
    "solution2": "hidden"
   },
   "outputs": [
    {
     "name": "stdout",
     "output_type": "stream",
     "text": [
      "Gemiddelde lengte meisjes: 170.57894736842104\n",
      "Gemiddelde lengte jongens: 178.33333333333334\n",
      "Standaard deviatie van de lengte: 14.90379559451629\n"
     ]
    }
   ],
   "source": [
    "print('Gemiddelde lengte meisjes:', klas[klas[\"Geslacht\"] == 'meisje']['Lengte'].mean())\n",
    "print('Gemiddelde lengte jongens:', klas[klas[\"Geslacht\"] == 'jongen']['Lengte'].mean())\n",
    "\n",
    "print('Standaard deviatie van de lengte:', klas[\"Gewicht\"].std())"
   ]
  },
  {
   "cell_type": "markdown",
   "metadata": {
    "solution2": "hidden",
    "solution2_first": true
   },
   "source": [
    "### 3. Excel inlezen\n",
    "\\* Lees nu het Excel bestand \"file3.xlsx\" in als pandas dataframe."
   ]
  },
  {
   "cell_type": "code",
   "execution_count": 19,
   "metadata": {
    "solution2": "hidden"
   },
   "outputs": [
    {
     "data": {
      "text/html": [
       "<div>\n",
       "<style scoped>\n",
       "    .dataframe tbody tr th:only-of-type {\n",
       "        vertical-align: middle;\n",
       "    }\n",
       "\n",
       "    .dataframe tbody tr th {\n",
       "        vertical-align: top;\n",
       "    }\n",
       "\n",
       "    .dataframe thead th {\n",
       "        text-align: right;\n",
       "    }\n",
       "</style>\n",
       "<table border=\"1\" class=\"dataframe\">\n",
       "  <thead>\n",
       "    <tr style=\"text-align: right;\">\n",
       "      <th></th>\n",
       "      <th>x</th>\n",
       "      <th>y</th>\n",
       "    </tr>\n",
       "  </thead>\n",
       "  <tbody>\n",
       "    <tr>\n",
       "      <th>0</th>\n",
       "      <td>0.039176</td>\n",
       "      <td>0.398636</td>\n",
       "    </tr>\n",
       "    <tr>\n",
       "      <th>1</th>\n",
       "      <td>0.915787</td>\n",
       "      <td>0.262299</td>\n",
       "    </tr>\n",
       "    <tr>\n",
       "      <th>2</th>\n",
       "      <td>0.995326</td>\n",
       "      <td>0.243102</td>\n",
       "    </tr>\n",
       "    <tr>\n",
       "      <th>3</th>\n",
       "      <td>0.688871</td>\n",
       "      <td>0.314677</td>\n",
       "    </tr>\n",
       "    <tr>\n",
       "      <th>4</th>\n",
       "      <td>0.375024</td>\n",
       "      <td>0.371852</td>\n",
       "    </tr>\n",
       "    <tr>\n",
       "      <th>...</th>\n",
       "      <td>...</td>\n",
       "      <td>...</td>\n",
       "    </tr>\n",
       "    <tr>\n",
       "      <th>1495</th>\n",
       "      <td>0.299883</td>\n",
       "      <td>0.381401</td>\n",
       "    </tr>\n",
       "    <tr>\n",
       "      <th>1496</th>\n",
       "      <td>0.382354</td>\n",
       "      <td>0.370821</td>\n",
       "    </tr>\n",
       "    <tr>\n",
       "      <th>1497</th>\n",
       "      <td>0.882427</td>\n",
       "      <td>0.270285</td>\n",
       "    </tr>\n",
       "    <tr>\n",
       "      <th>1498</th>\n",
       "      <td>0.577670</td>\n",
       "      <td>0.337635</td>\n",
       "    </tr>\n",
       "    <tr>\n",
       "      <th>1499</th>\n",
       "      <td>0.667811</td>\n",
       "      <td>0.319204</td>\n",
       "    </tr>\n",
       "  </tbody>\n",
       "</table>\n",
       "<p>1500 rows × 2 columns</p>\n",
       "</div>"
      ],
      "text/plain": [
       "             x         y\n",
       "0     0.039176  0.398636\n",
       "1     0.915787  0.262299\n",
       "2     0.995326  0.243102\n",
       "3     0.688871  0.314677\n",
       "4     0.375024  0.371852\n",
       "...        ...       ...\n",
       "1495  0.299883  0.381401\n",
       "1496  0.382354  0.370821\n",
       "1497  0.882427  0.270285\n",
       "1498  0.577670  0.337635\n",
       "1499  0.667811  0.319204\n",
       "\n",
       "[1500 rows x 2 columns]"
      ]
     },
     "execution_count": 19,
     "metadata": {},
     "output_type": "execute_result"
    }
   ],
   "source": [
    "import pandas\n",
    "\n",
    "getallen = pandas.read_excel(\"file3.xlsx\")\n",
    "getallen\n"
   ]
  },
  {
   "cell_type": "markdown",
   "metadata": {},
   "source": [
    "## matplotlib\n",
    "pyplot uit de matplotlib module is een verzameling van functies om plots te maken. Elke pyplot functie maakt een of andere verandering aan een plot. Dit kan bijvoorbeeld zijn: een plot creeëren, een plot gebied in een een plot creeëren, lijnen in het plot gebied plotten, labels toevoegen aan een plot etc."
   ]
  },
  {
   "cell_type": "markdown",
   "metadata": {},
   "source": [
    "### 4. \n",
    "Laten we nu eerst pyplot importeren en een klein plotje maken incl. asnaamgeving."
   ]
  },
  {
   "cell_type": "code",
   "execution_count": 20,
   "metadata": {},
   "outputs": [],
   "source": [
    "#importeer alleen pyplot en noem dat plt\n",
    "import matplotlib.pyplot as plt # zodat de naamgeving kort blijft en werkbaar"
   ]
  },
  {
   "cell_type": "code",
   "execution_count": 21,
   "metadata": {},
   "outputs": [
    {
     "data": {
      "text/plain": [
       "Text(0, 0.5, 'wat getallen')"
      ]
     },
     "execution_count": 21,
     "metadata": {},
     "output_type": "execute_result"
    },
    {
     "data": {
      "image/png": "[encoded data removed]",
      "text/plain": [
       "<Figure size 432x288 with 1 Axes>"
      ]
     },
     "metadata": {
      "needs_background": "light"
     },
     "output_type": "display_data"
    }
   ],
   "source": [
    "#Geef nu een lijst met getallen mee and de plot functie van pyplot\n",
    "plt.plot([1, 2, 3, 4])\n",
    "plt.xlabel('x') #label de x-as\n",
    "plt.ylabel('wat getallen') #label de y-as"
   ]
  },
  {
   "cell_type": "markdown",
   "metadata": {
    "solution2": "hidden",
    "solution2_first": true
   },
   "source": [
    "Uit bovenstaande zie je dat als je een enkele lijst of array meegeeft om te plotten, neemt matplotlib aan dat het een reeks y-waarden is en zal automatisch een reeks x-waarden genereren en een lijn plot maken. De x-waarden zijn dan [0, 1, 2, 3].\n",
    "\n",
    "\\* a. Geef nu 2 lijsten mee aan de plot functie, gescheiden door een komma. De lijsten zijn [1, 2, 3, 4] en [1, 4, 9, 16]."
   ]
  },
  {
   "cell_type": "code",
   "execution_count": 22,
   "metadata": {
    "solution2": "hidden"
   },
   "outputs": [
    {
     "data": {
      "text/plain": [
       "Text(0, 0.5, 'wat getallen')"
      ]
     },
     "execution_count": 22,
     "metadata": {},
     "output_type": "execute_result"
    },
    {
     "data": {
      "image/png": "[encoded data removed]",
      "text/plain": [
       "<Figure size 432x288 with 1 Axes>"
      ]
     },
     "metadata": {
      "needs_background": "light"
     },
     "output_type": "display_data"
    }
   ],
   "source": [
    "plt.plot([1, 2, 3, 4], [1, 4, 9, 16])\n",
    "plt.xlabel('x')\n",
    "plt.ylabel('wat getallen')"
   ]
  },
  {
   "cell_type": "markdown",
   "metadata": {
    "solution2": "hidden",
    "solution2_first": true
   },
   "source": [
    "\\** b. Maak een lijn plot van de functie $f(x) = sin(x)$. Maak hiervoor 2 lijsten aan, eentje met de x-waarden en eentje met de y-waarden. De x-as loopt van [-N, N] waarbij N als input wordt gegeven. Geef de y-as ook het label \"sin(x)\".\n",
    "\n",
    "*Hint*: bereken telkens voor een $xi$ de functiewaarde $f(xi)$ en teken dan het punt $(xi, yi)$. Begin met een x-waarde van –N en verhoog die x-waarde dan telkens met een heel klein beetje totdat je bij x = N bent gekomen. Doe dit met een for-loop.Test eens voor N = 10."
   ]
  },
  {
   "cell_type": "code",
   "execution_count": 23,
   "metadata": {
    "solution2": "hidden"
   },
   "outputs": [
    {
     "name": "stdout",
     "output_type": "stream",
     "text": [
      "Geef N: 10\n"
     ]
    },
    {
     "data": {
      "text/plain": [
       "Text(0, 0.5, 'sin(x)')"
      ]
     },
     "execution_count": 23,
     "metadata": {},
     "output_type": "execute_result"
    },
    {
     "data": {
      "image/png": "[encoded data removed]",
      "text/plain": [
       "<Figure size 432x288 with 1 Axes>"
      ]
     },
     "metadata": {
      "needs_background": "light"
     },
     "output_type": "display_data"
    }
   ],
   "source": [
    "import math\n",
    "# import matplotlib.pyplot as plt \n",
    "\n",
    "N = int(input('Geef N: '))\n",
    "\n",
    "x = []\n",
    "y = []\n",
    "\n",
    "n = 100 #aantal stapjes over de x-as\n",
    "\n",
    "for i in range(n):\n",
    "    x_i = -N + i * ((2*N) / n)\n",
    "    x.append(x_i)\n",
    "    y.append(math.sin(x_i))\n",
    "    \n",
    "plt.plot(x, y)\n",
    "plt.xlabel('x')\n",
    "plt.ylabel('sin(x)')"
   ]
  },
  {
   "cell_type": "markdown",
   "metadata": {
    "solution2": "hidden",
    "solution2_first": true
   },
   "source": [
    "\\** c. Je kunt meerdere lijnen in dezelfde plot tekenen door .plot() meerdere keren achter elkaar aan te roepen. Bijvoorbeeld:\n",
    "\n",
    "plt.plot([1, 2, 3, 4], [5, 6, 7, 8])  \n",
    "plt.plot([-1, -2, -3, -4], [-5, -6, -7, -8])\n",
    "\n",
    "Voeg nu aan bovenstaande plot (uit opgave 4b) de volgende functies toe:  \n",
    "\n",
    "$g(x) = |x|/2 + cos(x)$  \n",
    "$h(x) = e^{x/4}$\n",
    "\n",
    "\\** d. De y-as label is nu niet meer logisch maar we kunnen een legenda toevoegen. In de plot functie kun je een label toevoegen aan een lijst. Dit doe je bijv. als:  \n",
    "\n",
    "plt.plot([1, 2, 3, 4], [5, 6, 7, 8], label = 'test plot') \n",
    "of\n",
    "plt.plot(x, y1, label = 'naampje functie'), waarbij x en y1 lists zijn.\n",
    "\n",
    "Geef elke functie een duidelijke label bij het plotten. Nadat je het nodige aantal keer .plot() hebt aangeroepen, eindig je met   \n",
    "\n",
    "plt.legend() om de legenda zichtbaar te maken."
   ]
  },
  {
   "cell_type": "code",
   "execution_count": 24,
   "metadata": {
    "solution2": "hidden"
   },
   "outputs": [
    {
     "name": "stdout",
     "output_type": "stream",
     "text": [
      "Geef N: 10\n"
     ]
    },
    {
     "data": {
      "text/plain": [
       "<matplotlib.legend.Legend at 0x19b9dee2250>"
      ]
     },
     "execution_count": 24,
     "metadata": {},
     "output_type": "execute_result"
    },
    {
     "data": {
      "image/png": "[encoded data removed]",
      "text/plain": [
       "<Figure size 432x288 with 1 Axes>"
      ]
     },
     "metadata": {
      "needs_background": "light"
     },
     "output_type": "display_data"
    }
   ],
   "source": [
    "# import math\n",
    "# import matplotlib.pyplot as plt \n",
    "\n",
    "N = int(input('Geef N: '))\n",
    "\n",
    "x = []\n",
    "f_y = []\n",
    "g_y = []\n",
    "h_y = []\n",
    "\n",
    "n = 100 #aantal stapjes over de x-as\n",
    "\n",
    "for i in range(n):\n",
    "    x_i = -N + i * ((2*N) / n)\n",
    "    \n",
    "    x.append(x_i)\n",
    "    \n",
    "    f_y.append(math.sin(x_i))\n",
    "    g_y.append(abs(x_i)/2 + math.cos(x_i))\n",
    "    h_y.append(math.e ** (x_i / 4))\n",
    "    \n",
    "plt.plot(x, f_y, label='f(x)')\n",
    "plt.plot(x, g_y, label='g(x)')\n",
    "plt.plot(x, h_y, label='h(x)')\n",
    "plt.xlabel('x')\n",
    "plt.legend()"
   ]
  },
  {
   "cell_type": "markdown",
   "metadata": {
    "solution2": "hidden",
    "solution2_first": true
   },
   "source": [
    "\\* e. De type lijn (stippellijn, doorgetrokken lijn, etc) in een plot kan ook aangepast worden. Gebruik hiervoor de parameter 'linestyle' in de .plot() functie. Verander het lijn type van $f(x)$ naar 'dashed', $g(x)$ naar 'dotted' en $h(x)$ naar 'dashdot'. "
   ]
  },
  {
   "cell_type": "code",
   "execution_count": 25,
   "metadata": {
    "solution2": "hidden"
   },
   "outputs": [
    {
     "name": "stdout",
     "output_type": "stream",
     "text": [
      "Geef N: 10\n"
     ]
    },
    {
     "data": {
      "text/plain": [
       "<matplotlib.legend.Legend at 0x19b9df60730>"
      ]
     },
     "execution_count": 25,
     "metadata": {},
     "output_type": "execute_result"
    },
    {
     "data": {
      "image/png": "[encoded data removed]",
      "text/plain": [
       "<Figure size 432x288 with 1 Axes>"
      ]
     },
     "metadata": {
      "needs_background": "light"
     },
     "output_type": "display_data"
    }
   ],
   "source": [
    "import math\n",
    "# import matplotlib.pyplot as plt \n",
    "\n",
    "N = int(input('Geef N: '))\n",
    "\n",
    "x = []\n",
    "f_y = []\n",
    "g_y = []\n",
    "h_y = []\n",
    "\n",
    "n = 100 #aantal stapjes over de x-as\n",
    "\n",
    "for i in range(n):\n",
    "    x_i = -N + i * ((2*N) / n)\n",
    "    \n",
    "    x.append(x_i)\n",
    "    \n",
    "    f_y.append(math.sin(x_i))\n",
    "    g_y.append(abs(x_i)/2 + math.cos(x_i))\n",
    "    h_y.append(math.e ** (x_i / 4))\n",
    "    \n",
    "plt.plot(x, f_y, label='f(x)', linestyle = 'dashed')\n",
    "plt.plot(x, g_y, label='g(x)', linestyle = 'dotted')\n",
    "plt.plot(x, h_y, label='h(x)', linestyle = 'dashdot')\n",
    "plt.xlabel('x')\n",
    "plt.legend()"
   ]
  },
  {
   "cell_type": "markdown",
   "metadata": {
    "solution2": "hidden",
    "solution2_first": true
   },
   "source": [
    "### 5. \n",
    "\\** Je kunt verschillende type plots maken met matplotlib (zie https://matplotlib.org/3.4.3/tutorials/introductory/sample_plots.html voor voorbeelden). Bijvoorbeeld, om een scatter plot te maken gebruik je plt.scatter() ipv plt.plot().\n",
    "\n",
    "Maak nu een scatter plot van N random getallen waarbij N als input wordt gegeven. Gebruik hiervoor de .sample() functie uit de random module. Zoek op internet zelf even op wat de sample() doet.\n",
    "\n",
    "Pas daarna ook de kleur van de punten aan. Dit doe je door een parameter 'c' mee te geven aan .scatter(). Vul daarvoor een kleur in bv 'green'. (de kleur moet wel met quotes worden aangegeven)"
   ]
  },
  {
   "cell_type": "code",
   "execution_count": 37,
   "metadata": {
    "solution2": "hidden"
   },
   "outputs": [
    {
     "data": {
      "text/plain": [
       "<matplotlib.collections.PathCollection at 0x19b9f6a0610>"
      ]
     },
     "execution_count": 37,
     "metadata": {},
     "output_type": "execute_result"
    },
    {
     "data": {
      "image/png": "[encoded data removed]",
      "text/plain": [
       "<Figure size 432x288 with 1 Axes>"
      ]
     },
     "metadata": {
      "needs_background": "light"
     },
     "output_type": "display_data"
    }
   ],
   "source": [
    "import random\n",
    "\n",
    "x = range(100)\n",
    "y = random.sample(range(1000), k=100)\n",
    "\n",
    "plt.scatter(x, y, c=\"green\")\n",
    "\n",
    "# Leuk alternatief:\n",
    "# plt.scatter(x, y, c=\"green\", s=y)"
   ]
  },
  {
   "cell_type": "markdown",
   "metadata": {
    "solution2": "hidden",
    "solution2_first": true
   },
   "source": [
    "### 6.\n",
    "\\* Met de .fill() functie kun je een polygon inkleuren. Een polygon wordt gedefinieerd door een lijst van x- en y-waarden die de posities van de hoeken geven. Gegeven de twee lijsten met de x en y coordinaten:\n",
    "x = [10, 3, -8, -8, 3] en y = [0, -10, -6, 6, 10]\n",
    "\n",
    "Gebruik .fill() om de polygon in te kleuren."
   ]
  },
  {
   "cell_type": "code",
   "execution_count": 27,
   "metadata": {
    "solution2": "hidden"
   },
   "outputs": [
    {
     "data": {
      "text/plain": [
       "[<matplotlib.patches.Polygon at 0x19b9f005cd0>]"
      ]
     },
     "execution_count": 27,
     "metadata": {},
     "output_type": "execute_result"
    },
    {
     "data": {
      "image/png": "[encoded data removed]",
      "text/plain": [
       "<Figure size 432x288 with 1 Axes>"
      ]
     },
     "metadata": {
      "needs_background": "light"
     },
     "output_type": "display_data"
    }
   ],
   "source": [
    "\n",
    "x = [10, 3, -8, -8, 3]\n",
    "y = [0, -10, -6, 6, 10]\n",
    "\n",
    "plt.fill(x, y)"
   ]
  },
  {
   "cell_type": "markdown",
   "metadata": {},
   "source": [
    "## matplotlib en pandas\n",
    "Plots maken van pandas dataframes maakt ook gebruik van matplotlib. Hiervoor hoeft matplotlib niet expliciet aangeroepen te worden maar gebeurt het \"achter de schermen\". Bijvoorbeeld:"
   ]
  },
  {
   "cell_type": "code",
   "execution_count": 30,
   "metadata": {},
   "outputs": [
    {
     "data": {
      "text/plain": [
       "<AxesSubplot:>"
      ]
     },
     "execution_count": 30,
     "metadata": {},
     "output_type": "execute_result"
    },
    {
     "data": {
      "image/png": "[encoded data removed]",
      "text/plain": [
       "<Figure size 432x288 with 1 Axes>"
      ]
     },
     "metadata": {
      "needs_background": "light"
     },
     "output_type": "display_data"
    }
   ],
   "source": [
    "import pandas as pd\n",
    "import numpy as np\n",
    "\n",
    "#Creeer een pandas dataframe\n",
    "df = pandas.DataFrame(np.random.randn(1000, 4), index=pd.date_range('1/1/2000', periods=1000), columns=list(\"ABCD\"))\n",
    "df = df.cumsum()\n",
    "\n",
    "df.plot() #roep .plot() aan op het pandas dataframe om het te plotten. "
   ]
  },
  {
   "cell_type": "markdown",
   "metadata": {
    "solution2": "hidden",
    "solution2_first": true
   },
   "source": [
    "### 7.\n",
    "\\* a. Neem de bomen pandas dataframe van vraag 1b en voer daar .plot() op uit."
   ]
  },
  {
   "cell_type": "code",
   "execution_count": 31,
   "metadata": {
    "solution2": "hidden"
   },
   "outputs": [
    {
     "data": {
      "text/plain": [
       "<AxesSubplot:>"
      ]
     },
     "execution_count": 31,
     "metadata": {},
     "output_type": "execute_result"
    },
    {
     "data": {
      "image/png": "[encoded data removed]",
      "text/plain": [
       "<Figure size 432x288 with 1 Axes>"
      ]
     },
     "metadata": {
      "needs_background": "light"
     },
     "output_type": "display_data"
    },
    {
     "data": {
      "image/png": "[encoded data removed]",
      "text/plain": [
       "<Figure size 432x288 with 1 Axes>"
      ]
     },
     "metadata": {
      "needs_background": "light"
     },
     "output_type": "display_data"
    }
   ],
   "source": [
    "bomen.plot()\n",
    "\n",
    "bomen[[\"Girth (in)\", \"Volume(ft^3)\"]].plot()"
   ]
  },
  {
   "cell_type": "markdown",
   "metadata": {
    "solution2": "hidden",
    "solution2_first": true
   },
   "source": [
    "\\** b. Maak een scatterplot waarbij Girth (in) is uitgezet tegen Volume(ft^3). Maak de plotpunten groen."
   ]
  },
  {
   "cell_type": "code",
   "execution_count": 49,
   "metadata": {
    "solution2": "hidden"
   },
   "outputs": [
    {
     "data": {
      "text/plain": [
       "<matplotlib.collections.PathCollection at 0x19b9facf940>"
      ]
     },
     "execution_count": 49,
     "metadata": {},
     "output_type": "execute_result"
    },
    {
     "data": {
      "image/png": "[encoded data removed]",
      "text/plain": [
       "<Figure size 432x288 with 1 Axes>"
      ]
     },
     "metadata": {
      "needs_background": "light"
     },
     "output_type": "display_data"
    }
   ],
   "source": [
    "x = bomen[\"Girth (in)\"]\n",
    "y = bomen[\"Volume(ft^3)\"]\n",
    "\n",
    "plt.scatter(x, y, c=\"green\")"
   ]
  },
  {
   "cell_type": "code",
   "execution_count": 50,
   "metadata": {
    "solution2": "hidden"
   },
   "outputs": [
    {
     "data": {
      "text/plain": [
       "<AxesSubplot:xlabel='Girth (in)', ylabel='Volume(ft^3)'>"
      ]
     },
     "execution_count": 50,
     "metadata": {},
     "output_type": "execute_result"
    },
    {
     "data": {
      "image/png": "[encoded data removed]",
      "text/plain": [
       "<Figure size 432x288 with 1 Axes>"
      ]
     },
     "metadata": {
      "needs_background": "light"
     },
     "output_type": "display_data"
    }
   ],
   "source": [
    "# Alternatief:\n",
    "bomen.plot.scatter(x = \"Girth (in)\", y = \"Volume(ft^3)\")"
   ]
  }
 ],
 "metadata": {
  "kernelspec": {
   "display_name": "Python 3",
   "language": "python",
   "name": "python3"
  },
  "language_info": {
   "codemirror_mode": {
    "name": "ipython",
    "version": 3
   },
   "file_extension": ".py",
   "mimetype": "text/x-python",
   "name": "python",
   "nbconvert_exporter": "python",
   "pygments_lexer": "ipython3",
   "version": "3.8.8"
  },
  "toc": {
   "base_numbering": 1,
   "nav_menu": {},
   "number_sections": false,
   "sideBar": true,
   "skip_h1_title": false,
   "title_cell": "Table of Contents",
   "title_sidebar": "Contents",
   "toc_cell": false,
   "toc_position": {},
   "toc_section_display": true,
   "toc_window_display": false
  }
 },
 "nbformat": 4,
 "nbformat_minor": 4
}
