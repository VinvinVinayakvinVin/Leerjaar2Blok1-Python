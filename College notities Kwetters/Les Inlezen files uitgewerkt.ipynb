{
 "cells": [
  {
   "cell_type": "markdown",
   "id": "50b9ddd4",
   "metadata": {},
   "source": [
    "### csv inlezen in een dataframe en tonen"
   ]
  },
  {
   "cell_type": "code",
   "execution_count": null,
   "id": "d4ee6cd0",
   "metadata": {},
   "outputs": [],
   "source": [
    "import pandas\n",
    "\n",
    "sf = pandas.read_csv(\"Star Trek.csv\")\n",
    "display(sf)\n",
    "\n",
    "print(sf)\n",
    "\n",
    "# import pandas\n",
    "# sf = pandas.read_csv(\"Star Trek.csv\")\n",
    "# display(sf)\n",
    "\n",
    "# print(sf)"
   ]
  },
  {
   "cell_type": "markdown",
   "id": "745e6adf",
   "metadata": {},
   "source": [
    "### Alleen bepaalde kolommen van dataframe tonen"
   ]
  },
  {
   "cell_type": "code",
   "execution_count": null,
   "id": "f76215b2",
   "metadata": {
    "solution2": "hidden",
    "solution2_first": true
   },
   "outputs": [],
   "source": [
    "display(sf[['Rank', 'Age']])\n",
    "\n",
    "display(sf[['Rank']])\n",
    "\n",
    "display(sf['Rank'])\n",
    "\n",
    "# display(sf[['Rank', 'Age']])\n",
    "\n",
    "# display(sf[['Rank']])\n",
    "\n",
    "# display(sf['Rank'])"
   ]
  },
  {
   "cell_type": "code",
   "execution_count": null,
   "id": "e97038b2",
   "metadata": {
    "solution2": "hidden"
   },
   "outputs": [],
   "source": [
    "display(sf[['Name', 'Race']])"
   ]
  },
  {
   "cell_type": "markdown",
   "id": "525fa8a6",
   "metadata": {},
   "source": [
    "### Berekeningen uitvoeren op dataframe met functies"
   ]
  },
  {
   "cell_type": "code",
   "execution_count": null,
   "id": "9db27980",
   "metadata": {},
   "outputs": [],
   "source": [
    "display(sf.mean())\n",
    "display(sf['Age'].mean())\n",
    "display(sf.sum())\n",
    "\n",
    "# display(sf.mean())\n",
    "# display(sf['Age'].mean())\n",
    "# display(sf.sum())"
   ]
  },
  {
   "cell_type": "markdown",
   "id": "058a4698",
   "metadata": {},
   "source": [
    "### Alleen rijen tonen die aan bepaalde voorwaarden voldoen"
   ]
  },
  {
   "cell_type": "code",
   "execution_count": null,
   "id": "3b775b14",
   "metadata": {
    "solution2": "hidden",
    "solution2_first": true
   },
   "outputs": [],
   "source": [
    "display(sf[sf['Age'] > 30])\n",
    "\n",
    "# display(sf[sf['Age'] > 30]) # boolean: True of False\n",
    "\n",
    "## Fout: display(sf[sf[['Age']] > 30])"
   ]
  },
  {
   "cell_type": "code",
   "execution_count": null,
   "id": "63ccac32",
   "metadata": {
    "solution2": "hidden"
   },
   "outputs": [],
   "source": [
    "display(sf[sf['Rank'] == 'Commander'])"
   ]
  },
  {
   "cell_type": "markdown",
   "id": "c18f40de",
   "metadata": {},
   "source": [
    "### Dataframe naar waardenarray"
   ]
  },
  {
   "cell_type": "code",
   "execution_count": null,
   "id": "614a733d",
   "metadata": {
    "solution2": "hidden",
    "solution2_first": true
   },
   "outputs": [],
   "source": [
    "print(sf.values)\n",
    "\n",
    "# print(sf.values)"
   ]
  },
  {
   "cell_type": "code",
   "execution_count": null,
   "id": "90a8db7e",
   "metadata": {
    "solution2": "hidden"
   },
   "outputs": [],
   "source": [
    "print(type(sf.values))\n",
    "\n",
    "# test = sf.values\n",
    "# test.append('hallo')\n",
    "\n",
    "# print(test)"
   ]
  },
  {
   "cell_type": "markdown",
   "id": "aca3e61b",
   "metadata": {},
   "source": [
    "### Dataframe naar geneste lijst"
   ]
  },
  {
   "cell_type": "code",
   "execution_count": null,
   "id": "19edc90c",
   "metadata": {
    "solution2": "hidden",
    "solution2_first": true
   },
   "outputs": [],
   "source": [
    "print(sf.values.tolist())\n",
    "print()\n",
    "\n",
    "print(type(sf.values.tolist()))\n",
    "\n",
    "print(sf.values.tolist()[2])\n",
    "print()\n",
    "\n",
    "print(sf.values.tolist()[2][0])\n",
    "\n",
    "# print(sf.values.tolist())\n",
    "# print()\n",
    "\n",
    "# print(type(sf.values.tolist()))\n",
    "\n",
    "# print(sf.values.tolist()[2])\n",
    "# print()\n",
    "\n",
    "# print(sf.values.tolist()[2][3])"
   ]
  },
  {
   "cell_type": "code",
   "execution_count": null,
   "id": "e38eb0e8",
   "metadata": {
    "solution2": "hidden"
   },
   "outputs": [],
   "source": [
    "som = 0\n",
    "for rij in sf.values.tolist():\n",
    "    som += rij[3]\n",
    "print(som/len(sf.values.tolist()))\n",
    "\n",
    "# alt\n",
    "som = 0\n",
    "for i in range(len(sf.values.tolist())):\n",
    "    som += sf.values.tolist()[i][3]\n",
    "print(som/len(sf.values.tolist()))"
   ]
  },
  {
   "cell_type": "markdown",
   "id": "76fc59b0",
   "metadata": {},
   "source": [
    "### Excelfile inlezen in een dataframe en tonen"
   ]
  },
  {
   "cell_type": "code",
   "execution_count": null,
   "id": "3f2e3e7c",
   "metadata": {},
   "outputs": [],
   "source": [
    "import pandas as pd\n",
    "\n",
    "df = pd.read_excel('sf series.xlsx', sheet_name = 'Babylon 5')\n",
    "display(df)\n",
    "\n",
    "# import pandas as pd # naam korter\n",
    "# df = pd.read_excel('sf series.xlsx', sheet_name='Babylon 5')\n",
    "# display(df)"
   ]
  },
  {
   "cell_type": "markdown",
   "id": "19c2bee3",
   "metadata": {},
   "source": [
    "### Rest werkt net zoals bij een csv, want gegevens staan nu ook in een dataframe"
   ]
  },
  {
   "cell_type": "code",
   "execution_count": null,
   "id": "ec8530fc",
   "metadata": {},
   "outputs": [],
   "source": [
    "display(df[['Name', 'Rank']])\n",
    "\n",
    "display(df[df['Rank']=='Ambassador'])\n",
    "\n",
    "# display(df[['Name', 'Rank']])\n",
    "\n",
    "# display(df[df['Rank'] == 'Ambassador'])"
   ]
  },
  {
   "cell_type": "code",
   "execution_count": null,
   "id": "cb42e17e",
   "metadata": {},
   "outputs": [],
   "source": [
    "matrix = df.values.tolist()\n",
    "print(matrix)\n",
    "\n",
    "print(matrix[2][2])\n",
    "print(df.values.tolist()[2][2])\n",
    "\n",
    "# matrix = df.values.tolist()\n",
    "# print(matrix)\n",
    "# print(matrix[2][2])\n",
    "# print(df.values.tolist()[2][2])"
   ]
  },
  {
   "cell_type": "markdown",
   "id": "c81bb55a",
   "metadata": {},
   "source": [
    "### Meerdere Excelsheets inlezen"
   ]
  },
  {
   "cell_type": "code",
   "execution_count": null,
   "id": "968153be",
   "metadata": {
    "scrolled": false
   },
   "outputs": [],
   "source": [
    "df_st = pd.read_excel('sf series.xlsx', sheet_name = 'Star Trek') \n",
    "df_bab = pd.read_excel('sf series.xlsx', sheet_name = 'Babylon 5') \n",
    "\n",
    "display(df_st)\n",
    "display(df_bab)\n",
    "\n",
    "print(df_st.values.tolist(), end = '\\n\\n') # \\n\\n voor onderscheid beide lists\n",
    "print(df_bab.values.tolist())\n",
    "\n",
    "# df_st = pd.read_excel('sf series.xlsx', sheet_name='Star Trek')\n",
    "# df_bab = pd.read_excel('sf series.xlsx', sheet_name='Babylon 5')\n",
    "# display(df_st)\n",
    "# display(df_bab)\n",
    "\n",
    "# print(df_st.values.tolist(), end = '\\n\\n')\n",
    "# print(df_bab.values.tolist())"
   ]
  }
 ],
 "metadata": {
  "kernelspec": {
   "display_name": "Python 3",
   "language": "python",
   "name": "python3"
  },
  "language_info": {
   "codemirror_mode": {
    "name": "ipython",
    "version": 3
   },
   "file_extension": ".py",
   "mimetype": "text/x-python",
   "name": "python",
   "nbconvert_exporter": "python",
   "pygments_lexer": "ipython3",
   "version": "3.8.8"
  },
  "toc": {
   "base_numbering": 1,
   "nav_menu": {},
   "number_sections": true,
   "sideBar": true,
   "skip_h1_title": false,
   "title_cell": "Table of Contents",
   "title_sidebar": "Contents",
   "toc_cell": false,
   "toc_position": {},
   "toc_section_display": true,
   "toc_window_display": false
  }
 },
 "nbformat": 4,
 "nbformat_minor": 5
}
