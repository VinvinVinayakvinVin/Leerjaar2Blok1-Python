{
 "cells": [
  {
   "cell_type": "markdown",
   "id": "75174497",
   "metadata": {
    "slideshow": {
     "slide_type": "slide"
    }
   },
   "source": [
    "# Programmeren 2.1\n",
    "\n",
    "### Les 1.2 -- Variabelen\n",
    "\n",
    "8 Sep 2022\n"
   ]
  },
  {
   "attachments": {
    "image.png": {
     "image/png": "[encoded data removed]"
    }
   },
   "cell_type": "markdown",
   "id": "0ae1f5f1",
   "metadata": {
    "slideshow": {
     "slide_type": "slide"
    }
   },
   "source": [
    "Deze slides zijn een Jupyter Notebook, zie de installatieinstructies op BrightSpace om te zien hoe je deze slides zelf kan openen en bekijken. Als je RISE hebt geïnstalleerd, dan kan je deze slides in slideshow modus bekijken door op deze\n",
    "\n",
    "![image.png](attachment:image.png)\n",
    "\n",
    "knop te drukken."
   ]
  },
  {
   "cell_type": "markdown",
   "id": "7a57eafa",
   "metadata": {
    "slideshow": {
     "slide_type": "slide"
    }
   },
   "source": [
    "## Inhoud\n",
    "- Variabelen\n",
    "- Datatypes\n",
    "  - int\n",
    "  - float\n",
    "  - bool\n",
    "  - str\n",
    "- Het **input** commando\n",
    "- Programmeerstijl"
   ]
  },
  {
   "cell_type": "markdown",
   "id": "317ee195",
   "metadata": {
    "slideshow": {
     "slide_type": "slide"
    }
   },
   "source": [
    "## Variabelen\n",
    "\n",
    "Wat gebeurt er bij de volgende code?"
   ]
  },
  {
   "cell_type": "code",
   "execution_count": 1,
   "id": "92187b51",
   "metadata": {},
   "outputs": [],
   "source": [
    "x = 17*39"
   ]
  },
  {
   "cell_type": "markdown",
   "id": "65ca260a",
   "metadata": {},
   "source": [
    "De rechterkant $(17 \\times 39)$ word uitgerekend, het resultaat $(663)$ word *toegekend* aan een *variabele* met de *naam* **x**. "
   ]
  },
  {
   "cell_type": "code",
   "execution_count": 2,
   "id": "50d8b4f2",
   "metadata": {},
   "outputs": [
    {
     "name": "stdout",
     "output_type": "stream",
     "text": [
      "663\n"
     ]
    }
   ],
   "source": [
    "print(x)"
   ]
  },
  {
   "cell_type": "markdown",
   "id": "d68253c4",
   "metadata": {},
   "source": [
    "De *waarde* van **x** is hier de *invoer* van het **print** commando, dit commando print deze waarde uit."
   ]
  },
  {
   "cell_type": "markdown",
   "id": "5efd5688",
   "metadata": {
    "slideshow": {
     "slide_type": "slide"
    }
   },
   "source": [
    "- We kunnen het symbool **x** beschouwen als een verwijzing naar een plaats in het geheugen van de computer. \n",
    "- Het geheugen van de computer bestaat uit **bits**, dit zijn allemaal 0-en en 1-en.\n",
    "- Op de geheugenplaats waar **x** naar verwijst staat na uitvoer van de regel **x = 17 * 39** een combinatie van 0-en en 1-en die het getal 663 representeert.\n"
   ]
  },
  {
   "cell_type": "markdown",
   "id": "6f59edc3",
   "metadata": {
    "slideshow": {
     "slide_type": "slide"
    }
   },
   "source": [
    "We kunnen op deze geheugenplaats ook een andere waarde wegschrijven:"
   ]
  },
  {
   "cell_type": "code",
   "execution_count": 3,
   "id": "36e9435c",
   "metadata": {},
   "outputs": [
    {
     "name": "stdout",
     "output_type": "stream",
     "text": [
      "Oude waarde van x = 663\n",
      "Nieuwe waarde van x = 1024\n"
     ]
    }
   ],
   "source": [
    "print(\"Oude waarde van x =\", x)\n",
    "x = 1024\n",
    "print(\"Nieuwe waarde van x =\", x)"
   ]
  },
  {
   "cell_type": "markdown",
   "id": "83866cfb",
   "metadata": {},
   "source": [
    "De oude waarde 663 word overschreven, de nieuwe waarde komt er voor in de plaats. In alle code die hierop volgt zal **x** de waarde 1024 hebben...\n",
    "\n",
    "Totdat we de waarde van **x** opnieuw veranderen."
   ]
  },
  {
   "cell_type": "markdown",
   "id": "8c7f8ed3",
   "metadata": {
    "slideshow": {
     "slide_type": "slide"
    }
   },
   "source": [
    "De volgende code geeft een foutmelding:"
   ]
  },
  {
   "cell_type": "code",
   "execution_count": 4,
   "id": "bfcdaaae",
   "metadata": {},
   "outputs": [
    {
     "ename": "SyntaxError",
     "evalue": "cannot assign to operator (<ipython-input-4-ee6bd123a6f8>, line 1)",
     "output_type": "error",
     "traceback": [
      "\u001b[0;36m  File \u001b[0;32m\"<ipython-input-4-ee6bd123a6f8>\"\u001b[0;36m, line \u001b[0;32m1\u001b[0m\n\u001b[0;31m    x + 10 = 57\u001b[0m\n\u001b[0m    ^\u001b[0m\n\u001b[0;31mSyntaxError\u001b[0m\u001b[0;31m:\u001b[0m cannot assign to operator\n"
     ]
    }
   ],
   "source": [
    "x + 10 = 57"
   ]
  },
  {
   "cell_type": "markdown",
   "id": "e645dd65",
   "metadata": {},
   "source": [
    "Opnieuw, de rechterkant (57) word \"berekend\", maar de toekenning aan een variabele **x + 10** kan niet omdat dit geen naam van een variabele is."
   ]
  },
  {
   "cell_type": "markdown",
   "id": "018d5d8d",
   "metadata": {
    "slideshow": {
     "slide_type": "slide"
    }
   },
   "source": [
    "Hier zien we een paar belangrijke verschillen tussen wiskundige notatie, en programmacode:\n",
    "- In de wiskunde gebruik je het $=$ symbool bij\n",
    "  - een *vergelijking*  ($3x^2 + 2x -5 = 0$), die eventueel opgelost moet worden,\n",
    "  - een definitie ($disc = b^2 - 4ac$),\n",
    "  - een verband (de lijn $y = 3x + 2$).\n",
    "  \n",
    "  De variabele $x$ heeft een vaste, soms onbekende, waarde.\n",
    "- In programmacode stelt het **=** symbool een *toekenning* voor.\n",
    "  De waarde van **x** is altijd bekend, maar kan eventueel later veranderen."
   ]
  },
  {
   "cell_type": "markdown",
   "id": "27cad9a8",
   "metadata": {
    "slideshow": {
     "slide_type": "slide"
    }
   },
   "source": [
    "De code:"
   ]
  },
  {
   "cell_type": "code",
   "execution_count": 5,
   "id": "f1fd8a5b",
   "metadata": {},
   "outputs": [],
   "source": [
    "x = x + 1"
   ]
  },
  {
   "cell_type": "markdown",
   "id": "47a2d8c5",
   "metadata": {},
   "source": [
    "Is wiskundige onzin, maar prima programmeercode. De waarde van **x** word verhoogd met 1."
   ]
  },
  {
   "cell_type": "code",
   "execution_count": 6,
   "id": "7ba18b86",
   "metadata": {},
   "outputs": [
    {
     "name": "stdout",
     "output_type": "stream",
     "text": [
      "1025\n"
     ]
    }
   ],
   "source": [
    "print(x)"
   ]
  },
  {
   "cell_type": "markdown",
   "id": "896900a2",
   "metadata": {},
   "source": [
    "Je gebruikt deze code vaak als je dingen gaat tellen. Bij ieder ding dat je telt verhoog je het totaal aantal met 1."
   ]
  },
  {
   "cell_type": "markdown",
   "id": "2363aab5",
   "metadata": {
    "slideshow": {
     "slide_type": "slide"
    }
   },
   "source": [
    "In Python heeft een variabele een aantal eigenschappen:\n",
    "- Naam\n",
    "- Datatype\n",
    "- Waarde\n",
    "\n",
    "De naam begint met een letter, en kan vervolgens meerdere letters, cijfers en '_' bevatten. Dus"
   ]
  },
  {
   "cell_type": "code",
   "execution_count": 7,
   "id": "5edf4193",
   "metadata": {},
   "outputs": [],
   "source": [
    "aantal_studenten_klas1 = 30\n",
    "aantal_studenten_klas2 = 29"
   ]
  },
  {
   "cell_type": "markdown",
   "id": "c8659415",
   "metadata": {},
   "source": [
    "zijn geldige namen."
   ]
  },
  {
   "cell_type": "markdown",
   "id": "b1c4a061",
   "metadata": {
    "slideshow": {
     "slide_type": "slide"
    }
   },
   "source": [
    "De volgende code geeft echter een foutmelding, een '.' is niet toegestaan in een variabelenaam."
   ]
  },
  {
   "cell_type": "code",
   "execution_count": 8,
   "id": "764e1f1b",
   "metadata": {},
   "outputs": [
    {
     "ename": "NameError",
     "evalue": "name 'totaal' is not defined",
     "output_type": "error",
     "traceback": [
      "\u001b[0;31m---------------------------------------------------------------------------\u001b[0m",
      "\u001b[0;31mNameError\u001b[0m                                 Traceback (most recent call last)",
      "\u001b[0;32m<ipython-input-8-cdf96682b80e>\u001b[0m in \u001b[0;36m<module>\u001b[0;34m\u001b[0m\n\u001b[0;32m----> 1\u001b[0;31m \u001b[0mtotaal\u001b[0m\u001b[0;34m.\u001b[0m\u001b[0maantal\u001b[0m \u001b[0;34m=\u001b[0m \u001b[0maantal_studenten_klas1\u001b[0m \u001b[0;34m+\u001b[0m \u001b[0maantal_studenten_klas2\u001b[0m\u001b[0;34m\u001b[0m\u001b[0;34m\u001b[0m\u001b[0m\n\u001b[0m",
      "\u001b[0;31mNameError\u001b[0m: name 'totaal' is not defined"
     ]
    }
   ],
   "source": [
    "totaal.aantal = aantal_studenten_klas1 + aantal_studenten_klas2"
   ]
  },
  {
   "cell_type": "markdown",
   "id": "38eb8ebb",
   "metadata": {
    "slideshow": {
     "slide_type": "slide"
    }
   },
   "source": [
    "## Datatypes\n",
    "\n",
    "Een *datatype* geeft aan wat voor \"soort\" waarde een variabele heeft:\n",
    "\n",
    "| Datatype   | Betekenis         | Wiskundige notatie   |\n",
    "|------------|-------------------|----------------------|\n",
    "| **int**    | Gehele getallen   | $\\mathbb{Z}$         |\n",
    "| **float**  | Komma getallen    | $\\mathbb{R}$         |\n",
    "| **bool**   | Logische waardes  | $\\{\\bf True, False\\}$|\n",
    "| **str**    | Tekst             | - - -                |\n",
    "\n",
    "Als je het geheugen van een computer beschouwd als bits dan geeft het datatype aan hoe deze 0-en en 1-en vertaald moeten worden naar een waarde. "
   ]
  },
  {
   "cell_type": "markdown",
   "id": "d38d47cb",
   "metadata": {
    "slideshow": {
     "slide_type": "slide"
    }
   },
   "source": [
    "In Python kan je het datatype van een variabele, of waarde achterhalen met het **type** commando."
   ]
  },
  {
   "cell_type": "code",
   "execution_count": 9,
   "id": "7b9a40ce",
   "metadata": {
    "cell_style": "split"
   },
   "outputs": [
    {
     "data": {
      "text/plain": [
       "int"
      ]
     },
     "execution_count": 9,
     "metadata": {},
     "output_type": "execute_result"
    }
   ],
   "source": [
    "type(45)"
   ]
  },
  {
   "cell_type": "code",
   "execution_count": 10,
   "id": "21508dfa",
   "metadata": {
    "cell_style": "split"
   },
   "outputs": [
    {
     "data": {
      "text/plain": [
       "float"
      ]
     },
     "execution_count": 10,
     "metadata": {},
     "output_type": "execute_result"
    }
   ],
   "source": [
    "pi = 3.141596532\n",
    "type(pi)"
   ]
  },
  {
   "cell_type": "code",
   "execution_count": 11,
   "id": "3bfb7947",
   "metadata": {
    "cell_style": "split"
   },
   "outputs": [
    {
     "data": {
      "text/plain": [
       "str"
      ]
     },
     "execution_count": 11,
     "metadata": {},
     "output_type": "execute_result"
    }
   ],
   "source": [
    "naam = \"Robert\"\n",
    "type(naam)"
   ]
  },
  {
   "cell_type": "code",
   "execution_count": 12,
   "id": "7065f825",
   "metadata": {
    "cell_style": "split"
   },
   "outputs": [
    {
     "name": "stdout",
     "output_type": "stream",
     "text": [
      "True\n"
     ]
    },
    {
     "data": {
      "text/plain": [
       "bool"
      ]
     },
     "execution_count": 12,
     "metadata": {},
     "output_type": "execute_result"
    }
   ],
   "source": [
    "is_pi_groter_dan_drie = (pi > 3)\n",
    "print(is_pi_groter_dan_drie)\n",
    "type(is_pi_groter_dan_drie)"
   ]
  },
  {
   "cell_type": "markdown",
   "id": "860093a6",
   "metadata": {
    "slideshow": {
     "slide_type": "slide"
    }
   },
   "source": [
    "### Gehele getallen (integers)\n",
    "\n",
    "Het **int** datatype stelt de verzameling gehele getallen $\\mathbb{Z}$ voor. Met gehele getallen kan je een aantal operaties uitvoeren:\n",
    "\n",
    "| Symbool | Operatie | Uitkomst  || Symbool | Operatie      | Uitkomst |\n",
    "|----------|---------|-----------||---------|---------------|----------|\n",
    "| **+**    | Som     | **int**   || **==**  | Gelijk aan?   | **bool** |\n",
    "| **-**    | Verschil| **int**   || **!=**  | Ongelijk aan? | **bool** |\n",
    "| **\\***   | Product | **int**   || **<**   | Kleiner dan?  | **bool** |\n",
    "| **\\*\\*** | Macht   | **int**   || **>**   | Groter dan?   | **bool** |\n",
    "| **/**    | Deling  | **float** || **<=**  | Kleiner of gelijk aan? | **bool** |\n",
    "| **//**   | Geheeltallige Deling | **int** || **>=** | Groter of gelijk aan? | **bool** |\n",
    "| **%**    | Modulo (rest bij deling) | **int** |||||\n",
    "\n",
    "Merk op dat **==** (*is gelijk aan?*) iets anders betekent dan **=** (*toekenning*)."
   ]
  },
  {
   "cell_type": "markdown",
   "id": "8ae52a7d",
   "metadata": {
    "slideshow": {
     "slide_type": "slide"
    }
   },
   "source": [
    "Let op het verschil tussen deling en geheeltallige deling!"
   ]
  },
  {
   "cell_type": "code",
   "execution_count": 13,
   "id": "62d02f7e",
   "metadata": {
    "cell_style": "center"
   },
   "outputs": [
    {
     "name": "stdout",
     "output_type": "stream",
     "text": [
      "x/y =  3.0 met type <class 'float'>\n",
      "x//y = 3 met type <class 'int'>\n"
     ]
    }
   ],
   "source": [
    "x = 12\n",
    "y = 4\n",
    "print(\"x/y = \", x/y, \"met type\", type(x/y))\n",
    "print(\"x//y =\", x//y, \"met type\", type(x//y))"
   ]
  },
  {
   "cell_type": "code",
   "execution_count": 14,
   "id": "81efc093",
   "metadata": {},
   "outputs": [
    {
     "name": "stdout",
     "output_type": "stream",
     "text": [
      "17 gedeeld door 3 is 5 met rest 2\n"
     ]
    }
   ],
   "source": [
    "u = 17\n",
    "v = 3\n",
    "print(\"17 gedeeld door 3 is\", u//v, \"met rest\", u%v)"
   ]
  },
  {
   "cell_type": "code",
   "execution_count": 15,
   "id": "af871fbd",
   "metadata": {},
   "outputs": [
    {
     "name": "stdout",
     "output_type": "stream",
     "text": [
      "Is 3*5 + 2 gelijk aan 17? True\n"
     ]
    }
   ],
   "source": [
    "controle = (3*5 + 2 == 17)\n",
    "print(\"Is 3*5 + 2 gelijk aan 17?\", controle)"
   ]
  },
  {
   "cell_type": "markdown",
   "id": "576fd63a",
   "metadata": {
    "slideshow": {
     "slide_type": "slide"
    }
   },
   "source": [
    "### Komma getallen (floating point numbers)\n",
    "\n",
    "Het **float** datatype stelt de komma getallen $\\mathbb{R}$ voor. (Merk op dat een computer maar $\\pm15$ cijfers achter de komma bijhoudt, dus niet alles in $\\mathbb{R}$ is een **float**!)\n",
    "\n",
    "Met komma getallen kan je een aantal operaties uitvoeren:\n",
    "\n",
    "| Symbool | Operatie | Uitkomst  || Symbool | Operatie      | Uitkomst |\n",
    "|----------|---------|-----------||---------|---------------|----------|\n",
    "| **+**    | Som     | **float** || **==**  | Gelijk aan?   | **bool** |\n",
    "| **-**    | Verschil| **float** || **!=**  | Ongelijk aan? | **bool** |\n",
    "| **\\***   | Product | **float** || **<**   | Kleiner dan?  | **bool** |\n",
    "| **\\*\\*** | Macht   | **float** || **>**   | Groter dan?   | **bool** |\n",
    "| **/**    | Deling  | **float** || **<=**  | Kleiner of gelijk aan? | **bool** |\n",
    "| || || **>=** | Groter of gelijk aan? | **bool** |\n",
    "\n",
    "Bij gemengde operaties (een **int** $\\times$ een **float**) word een geheel getal als een kommagetal beschouwd."
   ]
  },
  {
   "cell_type": "code",
   "execution_count": 16,
   "id": "8f40d8af",
   "metadata": {
    "slideshow": {
     "slide_type": "slide"
    }
   },
   "outputs": [
    {
     "name": "stdout",
     "output_type": "stream",
     "text": [
      "6.525\n"
     ]
    }
   ],
   "source": [
    "# Gemiddelde cijfer 4 studenten\n",
    "avg_grade = (7.4 + 8.3 + 4.1 + 6.3)/4\n",
    "print(avg_grade)"
   ]
  },
  {
   "cell_type": "code",
   "execution_count": 17,
   "id": "95d5f436",
   "metadata": {},
   "outputs": [
    {
     "name": "stdout",
     "output_type": "stream",
     "text": [
      "31556736.0\n"
     ]
    }
   ],
   "source": [
    "# Aantal seconden in een jaar\n",
    "n_sec = 365.24 * 24 * 60 * 60\n",
    "print(n_sec)"
   ]
  },
  {
   "cell_type": "code",
   "execution_count": 18,
   "id": "43d1d7cc",
   "metadata": {},
   "outputs": [
    {
     "name": "stdout",
     "output_type": "stream",
     "text": [
      "1.4142135623730951\n"
     ]
    }
   ],
   "source": [
    "# Wortels kan je d.m.v. machtsverheffing trekken\n",
    "wortel2 = 2**(1/2)\n",
    "print(wortel2)"
   ]
  },
  {
   "cell_type": "markdown",
   "id": "4c6d4c0b",
   "metadata": {
    "slideshow": {
     "slide_type": "slide"
    }
   },
   "source": [
    "Grote getallen worden in wetenschappelijke notatie getoond, de code hieronder geeft aan dat\n",
    "$$\n",
    "(\\sqrt{2})^{1000} = 3.273390607896366 \\cdot 10^{150}\n",
    "$$"
   ]
  },
  {
   "cell_type": "code",
   "execution_count": 19,
   "id": "7d0401ff",
   "metadata": {},
   "outputs": [
    {
     "name": "stdout",
     "output_type": "stream",
     "text": [
      "3.273390607896366e+150\n"
     ]
    }
   ],
   "source": [
    "# Een heel groot getal\n",
    "z = wortel2**1000\n",
    "print(z)"
   ]
  },
  {
   "cell_type": "markdown",
   "id": "43415109",
   "metadata": {
    "slideshow": {
     "slide_type": "slide"
    }
   },
   "source": [
    "Omdat computers in een binair getallenstelsel (0-en en 1-en) werken, en een **float** een vast aantal binaire cijfers achter de komma heeft, krijg je soms afrondfouten waar je dit niet verwacht."
   ]
  },
  {
   "cell_type": "code",
   "execution_count": 20,
   "id": "7de40bb2",
   "metadata": {},
   "outputs": [
    {
     "name": "stdout",
     "output_type": "stream",
     "text": [
      "0.30000000000000004\n"
     ]
    }
   ],
   "source": [
    "print(0.1+0.2)"
   ]
  },
  {
   "cell_type": "markdown",
   "id": "3bc741f1",
   "metadata": {},
   "source": [
    "Dit betekend dat je moet oppassen met de operaties **==** en **!=** bij **float**s, deze doen niet altijd wat je zou verwachten."
   ]
  },
  {
   "cell_type": "code",
   "execution_count": 22,
   "id": "ca44cda0",
   "metadata": {},
   "outputs": [
    {
     "name": "stdout",
     "output_type": "stream",
     "text": [
      "Is 0.1 + 0.2 gelijk aan 0.3? False\n",
      "Is 0.1 + 0.2 ongelijk aan 0.3? True\n"
     ]
    }
   ],
   "source": [
    "print(\"Is 0.1 + 0.2 gelijk aan 0.3?\",   0.1 + 0.2 == 0.3)\n",
    "print(\"Is 0.1 + 0.2 ongelijk aan 0.3?\", 0.1 + 0.2 != 0.3)"
   ]
  },
  {
   "cell_type": "markdown",
   "id": "9111ff4a",
   "metadata": {},
   "source": [
    "Dit onderwerp zal bij Programmeren 3.4 uitgebreid aan bod komen."
   ]
  },
  {
   "cell_type": "markdown",
   "id": "33e9ae91",
   "metadata": {
    "slideshow": {
     "slide_type": "slide"
    }
   },
   "source": [
    "### Haakjes en volgorde van operaties\n",
    "\n",
    "De volgorde van operaties is net zoals je deze op lagere school geleerd hebt.\n",
    "\n",
    " \\#  |Symbool | Operatie \n",
    "---|---|---\n",
    "1 | **\\*\\*** | Macht \n",
    "2 | **\\*** | Vermenigvuldigen\n",
    "3 | **/** of **//** | Delen\n",
    "4 | **+** | Optellen\n",
    "5 | **-** | Aftrekken\n",
    "\n",
    "Haakjes gebruik je net als in de wiskunde om een andere volgorde aan te geven, of om een berekening wat duidelijker op te schrijven."
   ]
  },
  {
   "cell_type": "code",
   "execution_count": 23,
   "id": "ea74e240",
   "metadata": {
    "slideshow": {
     "slide_type": "slide"
    }
   },
   "outputs": [
    {
     "name": "stdout",
     "output_type": "stream",
     "text": [
      "2196.9230769230767\n"
     ]
    }
   ],
   "source": [
    "# Word hier door 90 vermenigvuldigd of gedeeld?\n",
    "x = 34*56/78*90\n",
    "print(x)"
   ]
  },
  {
   "cell_type": "code",
   "execution_count": 24,
   "id": "22e8f1da",
   "metadata": {},
   "outputs": [
    {
     "name": "stdout",
     "output_type": "stream",
     "text": [
      "0.2712250712250712 2196.9230769230767\n"
     ]
    }
   ],
   "source": [
    "# Haakjes maken de berekening in ieder geval wat duidelijker\n",
    "x = 34*56/(78*90)\n",
    "y = (34*56/78)*90\n",
    "print(x, y)"
   ]
  },
  {
   "cell_type": "code",
   "execution_count": 25,
   "id": "28c2d4b3",
   "metadata": {},
   "outputs": [
    {
     "name": "stdout",
     "output_type": "stream",
     "text": [
      "2196.9230769230767\n"
     ]
    }
   ],
   "source": [
    "# Te veel haakjes maken dingen weer onduidelijk...\n",
    "x = ((34*((56/78)*(90))))\n",
    "print(x)"
   ]
  },
  {
   "cell_type": "markdown",
   "id": "2fc336bf",
   "metadata": {
    "slideshow": {
     "slide_type": "slide"
    }
   },
   "source": [
    "## Waarheids waarden (Boolean values)\n",
    "\n",
    "Eerder zagen we dat het vergelijken van waardes als uitkomst een **bool** heeft. We noemen dit ook een Boolean waarde, vernoemd naar de wiskundige [George Boole](https://en.wikipedia.org/wiki/George_Boole).\n",
    "\n",
    "Zo is een vergelijking **x < y** óf waar (True) óf onwaar (False). Dit soort uitkomsten worden opgeslagen in variabelen met een **bool** datatype. Met Boolean waardes, kan je de volgende operaties uitvoeren:\n",
    "\n",
    "| code | wisk. notatie | Betekenis |\n",
    "|------|------------|-----------|\n",
    "| **x or y** | $x \\vee y$ | Waar als tenminste één van **x** of **y** waar is |\n",
    "| **x and y** | $x \\wedge y$ | Waar als beide **x** en **y** waar zijn |\n",
    "| **not x** | $\\neg x$ | Waar als **x** niet waar is |"
   ]
  },
  {
   "cell_type": "markdown",
   "id": "be77a69d",
   "metadata": {
    "slideshow": {
     "slide_type": "slide"
    }
   },
   "source": [
    "De uitkomsten hiervan worden ook wel eens samengevat in een waardheidstabel. hier staat 'T' voor True, en 'F' voor False.\n",
    "\n",
    "| x | y | x or y | x and y | not x |\n",
    "|:-:|:-:|:------:|:-------:|:-----:|\n",
    "| T | T | T      | T       | F     |\n",
    "| T | F | T      | F       | F     |\n",
    "| F | T | T      | F       | T     |\n",
    "| F | F | F      | F       | T     |"
   ]
  },
  {
   "cell_type": "markdown",
   "id": "41bf64b5",
   "metadata": {
    "slideshow": {
     "slide_type": "slide"
    }
   },
   "source": [
    "Door Boolean uitdrukkingen te combineren kunnen we complexere vragen stellen, bijvoorbeeld of een variabele in een interval $[0,1]$ ligt."
   ]
  },
  {
   "cell_type": "code",
   "execution_count": 26,
   "id": "3da41a93",
   "metadata": {},
   "outputs": [
    {
     "name": "stdout",
     "output_type": "stream",
     "text": [
      "False\n"
     ]
    }
   ],
   "source": [
    "x = 3\n",
    "# Ligt x in het interval [0,1] ?\n",
    "print(x >= 0 and x <= 1)"
   ]
  },
  {
   "cell_type": "code",
   "execution_count": 27,
   "id": "01c22c0e",
   "metadata": {},
   "outputs": [
    {
     "name": "stdout",
     "output_type": "stream",
     "text": [
      "True\n"
     ]
    }
   ],
   "source": [
    "# Ligt x buiten het interval [0,1] ?\n",
    "print(x < 0 or x > 1)"
   ]
  },
  {
   "cell_type": "code",
   "execution_count": 28,
   "id": "8ced46b2",
   "metadata": {},
   "outputs": [
    {
     "name": "stdout",
     "output_type": "stream",
     "text": [
      "True\n"
     ]
    }
   ],
   "source": [
    "# Of wat anders opgeschreven, als x buiten het interval ligt, \n",
    "# dan ligt het niet binnen het interval.\n",
    "print(not (x >= 0 and x <= 1))"
   ]
  },
  {
   "cell_type": "markdown",
   "id": "bbdd9c94",
   "metadata": {
    "slideshow": {
     "slide_type": "slide"
    }
   },
   "source": [
    "Met de modulo operator kunnen we deelbaarheids vragen beantwoorden. Immers, als een getal $m$ deelbaar is door $n$, dan is de rest bij een (geheeltallig) deling gelijk aan nul."
   ]
  },
  {
   "cell_type": "code",
   "execution_count": 29,
   "id": "6d5ac2e6",
   "metadata": {},
   "outputs": [
    {
     "name": "stdout",
     "output_type": "stream",
     "text": [
      "Is m even? False\n",
      "Is m oneven? True\n",
      "Is m deelbaar door 3? True\n",
      "Is m deelbaar door 5? False\n"
     ]
    }
   ],
   "source": [
    "m = 21\n",
    "print(\"Is m even?\", m%2 == 0)\n",
    "print(\"Is m oneven?\", m%2 == 1)\n",
    "print(\"Is m deelbaar door 3?\", m%3 == 0)\n",
    "print(\"Is m deelbaar door 5?\", m%5 == 0)"
   ]
  },
  {
   "cell_type": "markdown",
   "id": "d585f49b",
   "metadata": {
    "slideshow": {
     "slide_type": "slide"
    }
   },
   "source": [
    "Een getal $n$ is een priemgetal is als het niet deelbaar is door alle priemgetallen van 2 t/m $\\sqrt{n}$."
   ]
  },
  {
   "cell_type": "code",
   "execution_count": 30,
   "id": "309e4386",
   "metadata": {},
   "outputs": [
    {
     "name": "stdout",
     "output_type": "stream",
     "text": [
      "Is 29 een priemgetal? True\n"
     ]
    }
   ],
   "source": [
    "n = 29\n",
    "n_is_priem = (n%2 != 0) and (n%3 != 0) and (n%5 != 0)\n",
    "print(\"Is 29 een priemgetal?\", n_is_priem)"
   ]
  },
  {
   "cell_type": "code",
   "execution_count": 31,
   "id": "266e1ec7",
   "metadata": {},
   "outputs": [
    {
     "name": "stdout",
     "output_type": "stream",
     "text": [
      "Is 33 een priemgetal? False\n"
     ]
    }
   ],
   "source": [
    "n = 33\n",
    "n_is_priem = (n%2 != 0) and (n%3 != 0) and (n%5 != 0)\n",
    "print(\"Is 33 een priemgetal?\", n_is_priem)"
   ]
  },
  {
   "cell_type": "markdown",
   "id": "540fb5e8",
   "metadata": {
    "slideshow": {
     "slide_type": "slide"
    }
   },
   "source": [
    "## Tekst (het str datatype)\n",
    "\n",
    "Het **str** (String) datatype gebruiken we voor tekst.\n",
    "\n",
    "Tekst plaatsen we tussen enkele ', óf dubbele \" aanhalingtekens."
   ]
  },
  {
   "cell_type": "code",
   "execution_count": 32,
   "id": "55fb2ec6",
   "metadata": {},
   "outputs": [],
   "source": [
    "string1 = \"Dit is een String.\"\n",
    "string2 = 'Dit is ook een String'"
   ]
  },
  {
   "cell_type": "markdown",
   "id": "e58febbe",
   "metadata": {},
   "source": [
    "Een string moet met hetzelfde soort aanhalingsteken beginnen en eindigen."
   ]
  },
  {
   "cell_type": "code",
   "execution_count": 33,
   "id": "88f8719b",
   "metadata": {},
   "outputs": [
    {
     "ename": "SyntaxError",
     "evalue": "EOL while scanning string literal (<ipython-input-33-0b5bcb5fea82>, line 1)",
     "output_type": "error",
     "traceback": [
      "\u001b[0;36m  File \u001b[0;32m\"<ipython-input-33-0b5bcb5fea82>\"\u001b[0;36m, line \u001b[0;32m1\u001b[0m\n\u001b[0;31m    string3 = \"Dit geeft een foutmelding'\u001b[0m\n\u001b[0m                                         ^\u001b[0m\n\u001b[0;31mSyntaxError\u001b[0m\u001b[0;31m:\u001b[0m EOL while scanning string literal\n"
     ]
    }
   ],
   "source": [
    "string3 = \"Dit geeft een foutmelding'"
   ]
  },
  {
   "cell_type": "markdown",
   "id": "1e0ba8bc",
   "metadata": {
    "slideshow": {
     "slide_type": "slide"
    }
   },
   "source": [
    "Als je string met enkele aanhalingstekens begint, word een \" beschouwd als een karakter in de string."
   ]
  },
  {
   "cell_type": "code",
   "execution_count": 34,
   "id": "cace2df1",
   "metadata": {},
   "outputs": [],
   "source": [
    "string1 = 'Een eend zegt \"kwak\".'"
   ]
  },
  {
   "cell_type": "markdown",
   "id": "3e96c668",
   "metadata": {},
   "source": [
    "Als je string met dubbele aanhalingstekens begint, word een ' beschouwd als een karakter in de string."
   ]
  },
  {
   "cell_type": "code",
   "execution_count": 35,
   "id": "06c38351",
   "metadata": {},
   "outputs": [],
   "source": [
    "string2 = \"Robert's fiets heeft een lekke band.\""
   ]
  },
  {
   "cell_type": "markdown",
   "id": "52bd228b",
   "metadata": {
    "cell_style": "split",
    "slideshow": {
     "slide_type": "slide"
    }
   },
   "source": [
    "Speciale karakters beginnen met een \\\\\n",
    "- **\\\\'** is een enkel aanhalingsteken\n",
    "- **\\\\\"** is een dubbel aanhalingsteken\n",
    "- **\\\\n** is een nieuwe regel\n",
    "- **\\\\t** is een tab, uitgelijnd op iedere 8 karakters\n",
    "- **\\\\\\\\** is een \\\\"
   ]
  },
  {
   "cell_type": "code",
   "execution_count": 36,
   "id": "1c57dc9f",
   "metadata": {
    "cell_style": "split"
   },
   "outputs": [
    {
     "name": "stdout",
     "output_type": "stream",
     "text": [
      "Een eend zegt \"kwak\".\n"
     ]
    }
   ],
   "source": [
    "string1 = \"Een eend zegt \\\"kwak\\\".\"\n",
    "print(string1)"
   ]
  },
  {
   "cell_type": "code",
   "execution_count": 37,
   "id": "c1ba4e02",
   "metadata": {
    "cell_style": "split"
   },
   "outputs": [
    {
     "name": "stdout",
     "output_type": "stream",
     "text": [
      "Robert's fiets heeft een lekke band!\n"
     ]
    }
   ],
   "source": [
    "string2 = 'Robert\\'s fiets heeft een lekke band!'\n",
    "print(string2)"
   ]
  },
  {
   "cell_type": "code",
   "execution_count": 38,
   "id": "d495c623",
   "metadata": {
    "cell_style": "split"
   },
   "outputs": [
    {
     "name": "stdout",
     "output_type": "stream",
     "text": [
      "Regel 1\n",
      "Regel 2\n",
      "Regel 3\n"
     ]
    }
   ],
   "source": [
    "string3 = \"Regel 1\\nRegel 2\\nRegel 3\"\n",
    "print(string3)"
   ]
  },
  {
   "cell_type": "code",
   "execution_count": 39,
   "id": "1e2a6e0e",
   "metadata": {
    "cell_style": "split"
   },
   "outputs": [
    {
     "name": "stdout",
     "output_type": "stream",
     "text": [
      "Kolom 1\tKolom 2\n",
      "ik\tschrijf\n",
      "hier\ttekst\n",
      "in\ttwee\n",
      "kolommen.\n"
     ]
    }
   ],
   "source": [
    "string4 = \"Kolom 1\\tKolom 2\\nik\\tschrijf\\nhier\\ttekst\\nin\\ttwee\\nkolommen.\"\n",
    "print(string4)"
   ]
  },
  {
   "cell_type": "markdown",
   "id": "8d179ca0",
   "metadata": {
    "slideshow": {
     "slide_type": "slide"
    }
   },
   "source": [
    "Een **multiline string** begint en eindigd met drie aanhalingstekens. Dit kan soms makkelijker zijn dan heel veel **\\n** in je string te plaatsen."
   ]
  },
  {
   "cell_type": "code",
   "execution_count": 40,
   "id": "a12ce995",
   "metadata": {
    "cell_style": "split"
   },
   "outputs": [
    {
     "name": "stdout",
     "output_type": "stream",
     "text": [
      "\n",
      "Dit is een voorbeeld\n",
      "van een multiline\n",
      "string.\n"
     ]
    }
   ],
   "source": [
    "print(\"\"\"\n",
    "Dit is een voorbeeld\n",
    "van een multiline\n",
    "string.\"\"\")"
   ]
  },
  {
   "cell_type": "code",
   "execution_count": 41,
   "id": "9a3e4e49",
   "metadata": {
    "cell_style": "split"
   },
   "outputs": [
    {
     "name": "stdout",
     "output_type": "stream",
     "text": [
      "\n",
      "Dit is ook een\n",
      "voorbeeld van\n",
      "een multiline\n",
      "string.\n"
     ]
    }
   ],
   "source": [
    "print('''\n",
    "Dit is ook een\n",
    "voorbeeld van\n",
    "een multiline\n",
    "string.''')"
   ]
  },
  {
   "cell_type": "markdown",
   "id": "6fc4dd7e",
   "metadata": {
    "slideshow": {
     "slide_type": "slide"
    }
   },
   "source": [
    "Dit is alleen een andere manier van opschrijven, de multiline string is hetzelfde als een gewone string, met **\\\\n** achter iedere regel."
   ]
  },
  {
   "cell_type": "code",
   "execution_count": 42,
   "id": "08587dfe",
   "metadata": {},
   "outputs": [
    {
     "name": "stdout",
     "output_type": "stream",
     "text": [
      "True\n"
     ]
    }
   ],
   "source": [
    "mstring = \"\"\"Dit is een\n",
    "multiline\n",
    "string.\"\"\"\n",
    "nstring = \"Dit is een\\nmultiline\\nstring.\"\n",
    "print(mstring == nstring)"
   ]
  },
  {
   "cell_type": "markdown",
   "id": "c5336b4f",
   "metadata": {
    "slideshow": {
     "slide_type": "slide"
    }
   },
   "source": [
    "Met Strings kan je de volgende operaties uitvoeren:\n",
    "\n",
    "| Code       | Betekenis | Uitkomst |\n",
    "|------------|:---------------------------------------------------|----------|\n",
    "| **x + y**  | Plak strings **x** en **y** achter elkaar.         | **str**  |\n",
    "| **x \\* n** | Herhaalde optelling, plak **n** kopieen            | **str**  |\n",
    "|            | van **x** achter elkaar.                           |          |\n",
    "| **x == y** | Zijn strings **x** en **y** hetzelfde?             | **bool** |\n",
    "| **x < y**  | Is **x** lager in alfabetische volgorde dan **y**? | **bool** |\n",
    "| **x <= y** | Is **x < y** of is **x == y**?                     | **bool** |\n",
    "| **x > y**  | Is **x** hoger in alfabetische volgorde dan **y**? | **bool** |\n",
    "| **x >= y** | Is **x > y** of is **x == y**?                     | **bool** |\n",
    "| **x\\[i\\]** | Het $i^{de}$ karakter van **x**.                   | **str**  |\n"
   ]
  },
  {
   "cell_type": "code",
   "execution_count": 15,
   "id": "de013082",
   "metadata": {
    "cell_style": "center",
    "slideshow": {
     "slide_type": "slide"
    }
   },
   "outputs": [
    {
     "name": "stdout",
     "output_type": "stream",
     "text": [
      "Goedemiddag Robert Nolet!\n"
     ]
    }
   ],
   "source": [
    "voornaam = \"Robert\"\n",
    "achternaam = \"Nolet\"\n",
    "groet = \"Goedemiddag \" + voornaam + \" \" + achternaam + \"!\"\n",
    "print(groet)"
   ]
  },
  {
   "cell_type": "code",
   "execution_count": 9,
   "id": "a5362243",
   "metadata": {
    "cell_style": "split",
    "scrolled": true
   },
   "outputs": [
    {
     "name": "stdout",
     "output_type": "stream",
     "text": [
      "blah\n",
      "blah\n",
      "blah\n",
      "blah\n",
      "blah\n"
     ]
    }
   ],
   "source": [
    "# Vijf regels blah, de end = '' geeft\n",
    "# aan dat print geen nieuwe regel aan\n",
    "# het eind hoeft toe te voegen.\n",
    "string1 = \"blah\\n\"*5\n",
    "print(string2, end = '')"
   ]
  },
  {
   "cell_type": "code",
   "execution_count": 16,
   "id": "01e8f306",
   "metadata": {
    "cell_style": "split"
   },
   "outputs": [
    {
     "name": "stdout",
     "output_type": "stream",
     "text": [
      "blah blah blah blah blah \n"
     ]
    }
   ],
   "source": [
    "string2 = \"blah \"*5\n",
    "print(string1)"
   ]
  },
  {
   "cell_type": "code",
   "execution_count": 17,
   "id": "868cf24b",
   "metadata": {
    "cell_style": "split"
   },
   "outputs": [
    {
     "name": "stdout",
     "output_type": "stream",
     "text": [
      "True\n"
     ]
    }
   ],
   "source": [
    "string3 = \"Robert's fiets heeft een lekke band!\"\n",
    "string4 = 'Robert\\'s fiets heeft een lekke band!'\n",
    "print(string3 == string4)"
   ]
  },
  {
   "cell_type": "markdown",
   "id": "379dd258",
   "metadata": {
    "slideshow": {
     "slide_type": "slide"
    }
   },
   "source": [
    "Als je getal waardes als tekst wilt beschouwen, dan zul je ze eerst met het **str** commando moeten converteren."
   ]
  },
  {
   "cell_type": "code",
   "execution_count": 1,
   "id": "e6b6c6cb",
   "metadata": {},
   "outputs": [
    {
     "ename": "TypeError",
     "evalue": "can only concatenate str (not \"int\") to str",
     "output_type": "error",
     "traceback": [
      "\u001b[0;31m---------------------------------------------------------------------------\u001b[0m",
      "\u001b[0;31mTypeError\u001b[0m                                 Traceback (most recent call last)",
      "\u001b[0;32m/var/folders/g9/qnz2j26j4yv3qgdk6m8bz20m0000gn/T/ipykernel_5580/352597093.py\u001b[0m in \u001b[0;36m<cell line: 5>\u001b[0;34m()\u001b[0m\n\u001b[1;32m      3\u001b[0m \u001b[0;34m\u001b[0m\u001b[0m\n\u001b[1;32m      4\u001b[0m \u001b[0;31m# Dit geeft een foutmelding\u001b[0m\u001b[0;34m\u001b[0m\u001b[0;34m\u001b[0m\u001b[0m\n\u001b[0;32m----> 5\u001b[0;31m \u001b[0mstring1\u001b[0m \u001b[0;34m=\u001b[0m \u001b[0mnaam\u001b[0m \u001b[0;34m+\u001b[0m \u001b[0;34m\" is \"\u001b[0m \u001b[0;34m+\u001b[0m \u001b[0mleeftijd\u001b[0m \u001b[0;34m+\u001b[0m \u001b[0;34m\" jaar oud.\"\u001b[0m\u001b[0;34m\u001b[0m\u001b[0;34m\u001b[0m\u001b[0m\n\u001b[0m",
      "\u001b[0;31mTypeError\u001b[0m: can only concatenate str (not \"int\") to str"
     ]
    }
   ],
   "source": [
    "naam = \"Robert\"\n",
    "leeftijd = 43\n",
    "\n",
    "# Dit geeft een foutmelding\n",
    "string1 = naam + \" is \" + leeftijd + \" jaar oud.\""
   ]
  },
  {
   "cell_type": "code",
   "execution_count": 2,
   "id": "e7d5bacc",
   "metadata": {},
   "outputs": [
    {
     "name": "stdout",
     "output_type": "stream",
     "text": [
      "Robert is 43 jaar oud.\n"
     ]
    }
   ],
   "source": [
    "# Zo gaat het wel goed\n",
    "string1 = naam + \" is \" + str(leeftijd) + \" jaar oud.\"\n",
    "print(string1)"
   ]
  },
  {
   "cell_type": "markdown",
   "id": "ad96142d",
   "metadata": {
    "slideshow": {
     "slide_type": "slide"
    }
   },
   "source": [
    "- Het plakken van variabelewaarden in strings met een string optelling kan zo wat omslachtig zijn.\n",
    "- Een alternatief is het gebruik van **f-string**s (formatted strings).\n",
    "- Een **f-string** begint met een **f** voor het eerste aanhalingsteken.\n",
    "- Variabelenamen kan je vervolgens tussen { en } in de string plaatsen, hier hoeven de variabelen niet eerst omgezet te worden naar strings."
   ]
  },
  {
   "cell_type": "code",
   "execution_count": 3,
   "id": "56014c45",
   "metadata": {},
   "outputs": [
    {
     "name": "stdout",
     "output_type": "stream",
     "text": [
      "Robert is 43 jaar oud.\n"
     ]
    }
   ],
   "source": [
    "string1 = f\"{naam} is {leeftijd} jaar oud.\"\n",
    "print(string1)"
   ]
  },
  {
   "cell_type": "markdown",
   "id": "665a915a",
   "metadata": {
    "slideshow": {
     "slide_type": "slide"
    }
   },
   "source": [
    "Wil je ook de { en } tekens in een **f-string** gebruiken, dan kan dat met **{{** en **}}**."
   ]
  },
  {
   "cell_type": "code",
   "execution_count": 43,
   "id": "e8de804a",
   "metadata": {},
   "outputs": [
    {
     "name": "stdout",
     "output_type": "stream",
     "text": [
      "De verzameling van docenten is {Robert, Michiel, Xiomara}.\n"
     ]
    }
   ],
   "source": [
    "naam1 = \"Robert\"\n",
    "naam2 = \"Michiel\"\n",
    "naam3 = \"Xiomara\"\n",
    "string2 = f\"De verzameling van docenten is {{{naam1}, {naam2}, {naam3}}}.\"\n",
    "print(string2)"
   ]
  },
  {
   "cell_type": "markdown",
   "id": "f1b6e7ae",
   "metadata": {
    "slideshow": {
     "slide_type": "slide"
    }
   },
   "source": [
    "Binnen de {...} van een **f-string** kan je ook extra opties meegeven:\n",
    "- Breedte van het veld, aangevuld met spaties\n",
    "- Aantal cijfers achter de komma"
   ]
  },
  {
   "cell_type": "code",
   "execution_count": 40,
   "id": "438c6812",
   "metadata": {},
   "outputs": [
    {
     "name": "stdout",
     "output_type": "stream",
     "text": [
      "Pi is gelijk aan 3.141592653589793\n",
      "Pi is ongeveer gelijk aan 3.1416\n"
     ]
    }
   ],
   "source": [
    "# Betekenis from/import komt in een latere les.\n",
    "from math import pi\n",
    "\n",
    "# :.4f betekend dat je 4 cijfers achter de decimale punt print.\n",
    "print(f\"Pi is gelijk aan {pi}\")\n",
    "print(f\"Pi is ongeveer gelijk aan {pi:.4f}\")"
   ]
  },
  {
   "cell_type": "code",
   "execution_count": 41,
   "id": "6f05a9bf",
   "metadata": {
    "slideshow": {
     "slide_type": "slide"
    }
   },
   "outputs": [
    {
     "name": "stdout",
     "output_type": "stream",
     "text": [
      "\n",
      "Een cirkel met straal 1 heeft een oppervlak van   3.1416\n",
      "Een cirkel met straal 2 heeft een oppervlak van  12.5664\n",
      "Een cirkel met straal 8 heeft een oppervlak van 201.0619\n",
      "\n"
     ]
    }
   ],
   "source": [
    "# :8.4f print 4 cijfers achter de ., en vult de waarde links aan\n",
    "# met spaties totdat het 8 karakters breed is.\n",
    "print(f\"\"\"\n",
    "Een cirkel met straal 1 heeft een oppervlak van {pi:8.4f}\n",
    "Een cirkel met straal 2 heeft een oppervlak van {pi*(2**2):8.4f}\n",
    "Een cirkel met straal 8 heeft een oppervlak van {pi*(8**2):8.4f}\n",
    "\"\"\")"
   ]
  },
  {
   "cell_type": "markdown",
   "id": "2a3b9bc4",
   "metadata": {
    "slideshow": {
     "slide_type": "slide"
    }
   },
   "source": [
    "Ook tekst kan aangevuld worden met spaties, dit werkt vaak beter dan het gebruik van tabs (**\\\\t**)."
   ]
  },
  {
   "cell_type": "code",
   "execution_count": 45,
   "id": "bc786ac7",
   "metadata": {},
   "outputs": [
    {
     "name": "stdout",
     "output_type": "stream",
     "text": [
      "\n",
      "Robert       is een docent bij dit vak.\n",
      "Michiel      is een docent bij dit vak.\n",
      "Xiomara      is een docent bij dit vak.\n",
      "\n"
     ]
    }
   ],
   "source": [
    "# :<12 geeft aan dat de string rechts aangevult moet worden \n",
    "# met spaties, tot het 12 karakters breed is.\n",
    "print(f\"\"\"\n",
    "{naam1:<12} is een docent bij dit vak.\n",
    "{naam2:<12} is een docent bij dit vak.\n",
    "{naam3:<12} is een docent bij dit vak.\n",
    "\"\"\"\n",
    ")"
   ]
  },
  {
   "cell_type": "markdown",
   "id": "814e691b",
   "metadata": {
    "slideshow": {
     "slide_type": "slide"
    }
   },
   "source": [
    "## Input van gebruikers\n",
    "\n",
    "Het **input** commando vraagt de gebruiker van je programma om iets in te voeren."
   ]
  },
  {
   "cell_type": "code",
   "execution_count": 4,
   "id": "f750fc4d",
   "metadata": {},
   "outputs": [
    {
     "name": "stdout",
     "output_type": "stream",
     "text": [
      "Wat is je naam? Robert Nolet\n",
      "Hallo Robert Nolet !\n"
     ]
    }
   ],
   "source": [
    "naam = input('Wat is je naam? ')\n",
    "print(f\"Hallo {naam} !\")"
   ]
  },
  {
   "cell_type": "markdown",
   "id": "ee8f9342",
   "metadata": {},
   "source": [
    "Een gebruiker typt altijd tekst in, de uitkomst van het **input** commando is dus altijd **str**."
   ]
  },
  {
   "cell_type": "code",
   "execution_count": 5,
   "id": "8455c8b7",
   "metadata": {},
   "outputs": [
    {
     "name": "stdout",
     "output_type": "stream",
     "text": [
      "Wat is je leeftijd? 43\n"
     ]
    },
    {
     "data": {
      "text/plain": [
       "str"
      ]
     },
     "execution_count": 5,
     "metadata": {},
     "output_type": "execute_result"
    }
   ],
   "source": [
    "leeftijd = input('Wat is je leeftijd? ')\n",
    "type(leeftijd)"
   ]
  },
  {
   "cell_type": "markdown",
   "id": "bb2cff0e",
   "metadata": {
    "slideshow": {
     "slide_type": "slide"
    }
   },
   "source": [
    "Ook als een gebruiker een getal intoetst, zal dit een **str** met dat getal zijn. "
   ]
  },
  {
   "cell_type": "code",
   "execution_count": 6,
   "id": "38fbfc9d",
   "metadata": {},
   "outputs": [
    {
     "ename": "TypeError",
     "evalue": "can only concatenate str (not \"int\") to str",
     "output_type": "error",
     "traceback": [
      "\u001b[0;31m---------------------------------------------------------------------------\u001b[0m",
      "\u001b[0;31mTypeError\u001b[0m                                 Traceback (most recent call last)",
      "\u001b[0;32m<ipython-input-6-6578727f66e3>\u001b[0m in \u001b[0;36m<module>\u001b[0;34m\u001b[0m\n\u001b[0;32m----> 1\u001b[0;31m \u001b[0mprint\u001b[0m\u001b[0;34m(\u001b[0m\u001b[0;34mf\"Over 3 jaar ben je {leeftijd+3} jaar oud.\"\u001b[0m\u001b[0;34m)\u001b[0m\u001b[0;34m\u001b[0m\u001b[0;34m\u001b[0m\u001b[0m\n\u001b[0m",
      "\u001b[0;31mTypeError\u001b[0m: can only concatenate str (not \"int\") to str"
     ]
    }
   ],
   "source": [
    "print(f\"Over 3 jaar ben je {leeftijd+3} jaar oud.\")"
   ]
  },
  {
   "cell_type": "markdown",
   "id": "eef6e60d",
   "metadata": {},
   "source": [
    "We kunnen een String omzetten naar een getal met het **int** of **float** commando."
   ]
  },
  {
   "cell_type": "code",
   "execution_count": 6,
   "id": "bfd8eebb",
   "metadata": {},
   "outputs": [
    {
     "name": "stdout",
     "output_type": "stream",
     "text": [
      "Wat is je leeftijd? 43\n",
      "Over 3 jaar ben je 46 jaar oud.\n"
     ]
    }
   ],
   "source": [
    "string1 = input('Wat is je leeftijd? ')\n",
    "leeftijd = int(string1)\n",
    "print(f\"Over 3 jaar ben je {leeftijd+3} jaar oud.\")"
   ]
  },
  {
   "cell_type": "markdown",
   "id": "c27c3dc6",
   "metadata": {
    "slideshow": {
     "slide_type": "slide"
    }
   },
   "source": [
    "Een wat nettere stijl is om geen tijdelijke variabele te gebruiken:"
   ]
  },
  {
   "cell_type": "code",
   "execution_count": 46,
   "id": "4cc94ec6",
   "metadata": {},
   "outputs": [
    {
     "name": "stdout",
     "output_type": "stream",
     "text": [
      "Hoe lang ben je in meters? 1.75\n",
      "Als je 25cm langer was, kan je het plafond aanraken.\n"
     ]
    }
   ],
   "source": [
    "lengte = float(input('Hoe lang ben je in meters? '))\n",
    "print(f\"Als je {(2-lengte)*100:2.0f}cm langer was, kan je het plafond aanraken.\")"
   ]
  },
  {
   "cell_type": "markdown",
   "id": "31696242",
   "metadata": {},
   "source": [
    "Als de invoer van **int** of **float** geen getal is krijg je een run-time error:"
   ]
  },
  {
   "cell_type": "code",
   "execution_count": 21,
   "id": "b239dc2d",
   "metadata": {},
   "outputs": [
    {
     "name": "stdout",
     "output_type": "stream",
     "text": [
      "Toets een geheel getal in: drie\n"
     ]
    },
    {
     "ename": "ValueError",
     "evalue": "invalid literal for int() with base 10: 'drie'",
     "output_type": "error",
     "traceback": [
      "\u001b[0;31m---------------------------------------------------------------------------\u001b[0m",
      "\u001b[0;31mValueError\u001b[0m                                Traceback (most recent call last)",
      "\u001b[0;32m<ipython-input-21-5b01eee5ae96>\u001b[0m in \u001b[0;36m<module>\u001b[0;34m\u001b[0m\n\u001b[0;32m----> 1\u001b[0;31m \u001b[0mn\u001b[0m \u001b[0;34m=\u001b[0m \u001b[0mint\u001b[0m\u001b[0;34m(\u001b[0m\u001b[0minput\u001b[0m\u001b[0;34m(\u001b[0m\u001b[0;34m'Toets een geheel getal in: '\u001b[0m\u001b[0;34m)\u001b[0m\u001b[0;34m)\u001b[0m\u001b[0;34m\u001b[0m\u001b[0;34m\u001b[0m\u001b[0m\n\u001b[0m",
      "\u001b[0;31mValueError\u001b[0m: invalid literal for int() with base 10: 'drie'"
     ]
    }
   ],
   "source": [
    "n = int(input('Toets een geheel getal in: '))"
   ]
  },
  {
   "cell_type": "markdown",
   "id": "0c01a132",
   "metadata": {
    "slideshow": {
     "slide_type": "slide"
    }
   },
   "source": [
    "## Programmeerstijl\n",
    "\n",
    "Naamgeving van variabelen:\n",
    "- Variabelenamen mogen uit één of meer karakters bestaan.\n",
    "- Als een variabelenaam uit meerdere karakters bestaat, dan begint het met een kleine letter. (Dus \"N\" mag wel, maar \"Naam\" mag niet.)\n",
    "- Als een variabelenaam uit meerdere woorden bestaat, dan zijn deze gescheiden door *underscores* \"_\". Let op spelling.\n",
    "- De variabelenaam maakt duidelijk wat de waarde betekend, en welk datatype het is, eventueel aangevuld met een commentaarregel bij eerste gebruik van de variabele. (Bijvoorbeeld: De variabele **afstand**, bevat duidelijk een afstand en is dus een **float**.)\n",
    "- Variabelenamen van één karakter hebben \"wiskundig logische\" datatypes: **i**, **j**, **k**, **n** zijn geheeltallig, **r**, **s**, **t**, **x**, **y** en **z** zijn kommagetallen.\n",
    "- Probeer \"l\" (kleine \"L\") en \"I\" (hoofdletter \"i\") te vermijden. "
   ]
  }
 ],
 "metadata": {
  "celltoolbar": "Slideshow",
  "kernelspec": {
   "display_name": "Python 3 (ipykernel)",
   "language": "python",
   "name": "python3"
  },
  "language_info": {
   "codemirror_mode": {
    "name": "ipython",
    "version": 3
   },
   "file_extension": ".py",
   "mimetype": "text/x-python",
   "name": "python",
   "nbconvert_exporter": "python",
   "pygments_lexer": "ipython3",
   "version": "3.9.12"
  },
  "toc": {
   "base_numbering": 1,
   "nav_menu": {},
   "number_sections": false,
   "sideBar": true,
   "skip_h1_title": true,
   "title_cell": "Table of Contents",
   "title_sidebar": "Contents",
   "toc_cell": false,
   "toc_position": {},
   "toc_section_display": true,
   "toc_window_display": false
  }
 },
 "nbformat": 4,
 "nbformat_minor": 5
}
