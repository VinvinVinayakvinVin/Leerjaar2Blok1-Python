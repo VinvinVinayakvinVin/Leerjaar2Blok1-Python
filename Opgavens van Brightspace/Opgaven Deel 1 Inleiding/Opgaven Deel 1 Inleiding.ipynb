{
 "cells": [
  {
   "cell_type": "markdown",
   "id": "964c2787",
   "metadata": {},
   "source": [
    "# Opgaven Deel 1: Inleiding\n",
    "**(Boek: The Way of the Program: par 1.1 - 1.9 zonder 1.5)**\n",
    "\n",
    "De opgaven hebben verschillende moeilijkheidsgraden:\n",
    "\n",
    "\\* 1 ster: Nieuwe functies en methodes kun je direct toepassen. Kijk even in je aantekeningen of boek. \n",
    "Kijk niet te snel naar de uitwerkingen. Probeer op zijn minst vijf minuten na te denken en te proberen of in je aantekeningen te kijken, voordat je het opgeeft. Anders leer je er echt bijna niets van.\n",
    "\n",
    "\\** 2 sterren: Nieuwe functies en methodes moet je integreren in je oplossing. Die oplossing bedenken vergt wat creativiteit en vindingrijkheid (uiteindelijk ook ervaring). Dat maakt deze opgaven moeilijker. \n",
    "Kijk niet te snel naar de uitwerkingen. Probeer op zijn minst vijf tot tien minuten na te denken en te proberen, voordat je het opgeeft. \n",
    "\n",
    "\\*** 3 sterren: Zoals bij de twee sterren opgaven, maar er wordt nu een nog grotere vindingrijkheid van je verwacht. Vaak moet je ook meerdere functies en methoden toepassen. De codes zijn vaak wat langer daardoor.\n",
    "Kijk niet te snel naar de uitwerkingen. Probeer op zijn minst twintig tot dertig minuten na te denken en te proberen, voordat je het opgeeft. \n",
    "\n",
    "(LEUK) Hiervan denken we dat je het een (extra) leuke opgave vindt (met name het resultaat/uitvoer). Dus als je moet kiezen tussen opgaven is het een idee om deze opgaven in ieder geval te maken."
   ]
  },
  {
   "cell_type": "markdown",
   "id": "f1c8738e",
   "metadata": {
    "solution2": "hidden",
    "solution2_first": true
   },
   "source": [
    "### 1.1\n",
    "\n",
    "\\* Schrijf een programma dat *Hello, World!* uitprint."
   ]
  },
  {
   "cell_type": "code",
   "execution_count": 1,
   "id": "30799009",
   "metadata": {
    "nbgrader": {
     "grade": true,
     "grade_id": "cell-48411f424faceae9",
     "locked": false,
     "points": 0,
     "schema_version": 3,
     "solution": true,
     "task": false
    },
    "solution2": "hidden"
   },
   "outputs": [
    {
     "name": "stdout",
     "output_type": "stream",
     "text": [
      "Hello, World!\n"
     ]
    }
   ],
   "source": [
    "print(\"Hello, World!\")"
   ]
  },
  {
   "cell_type": "markdown",
   "id": "945aa03f",
   "metadata": {
    "solution2": "hidden",
    "solution2_first": true
   },
   "source": [
    "### 1.2\n",
    "\n",
    "\\* Schrijf een programma dat *Hello, World!* vijfmaal onder elkaar uitprint."
   ]
  },
  {
   "cell_type": "code",
   "execution_count": 5,
   "id": "0c847a0e",
   "metadata": {
    "nbgrader": {
     "grade": true,
     "grade_id": "cell-23462d9e551fb828",
     "locked": false,
     "points": 0,
     "schema_version": 3,
     "solution": true,
     "task": false
    },
    "solution2": "hidden"
   },
   "outputs": [
    {
     "name": "stdout",
     "output_type": "stream",
     "text": [
      "Hello, World!\n",
      "Hello, World!\n",
      "Hello, World!\n",
      "Hello, World!\n",
      "Hello, World!\n",
      "Hello, World!\n",
      "Hello, World!\n",
      "Hello, World!\n",
      "Hello, World!\n",
      "Hello, World!\n",
      "\n"
     ]
    }
   ],
   "source": [
    "# Oplossing A\n",
    "print(\"Hello, World!\")\n",
    "print(\"Hello, World!\")\n",
    "print(\"Hello, World!\")\n",
    "print(\"Hello, World!\")\n",
    "print(\"Hello, World!\")\n",
    "\n",
    "# Oplossing B\n",
    "print(\"Hello, World!\\n\"*5) # Deze manier heb je waarschijnlijk nog niet gezien. \n",
    "                           # Dus beschouw dit maar als dat je gelijk nog iets nieuws hebt geleerd. \n",
    "                           # Ps, nu is de output dus 10x Hello, World! Beide manieren 5x."
   ]
  },
  {
   "cell_type": "markdown",
   "id": "2181e6ce",
   "metadata": {
    "solution2": "hidden",
    "solution2_first": true
   },
   "source": [
    "### 1.3\n",
    "\n",
    "\\* Schrijf een programma dat de getallen 4 en 7 bij elkaar optelt en uitprint."
   ]
  },
  {
   "cell_type": "code",
   "execution_count": 6,
   "id": "614a0de5",
   "metadata": {
    "nbgrader": {
     "grade": true,
     "grade_id": "cell-01cad8a0ce29b679",
     "locked": false,
     "points": 0,
     "schema_version": 3,
     "solution": true,
     "task": false
    },
    "solution2": "hidden"
   },
   "outputs": [
    {
     "name": "stdout",
     "output_type": "stream",
     "text": [
      "11\n"
     ]
    }
   ],
   "source": [
    "print(4+7)"
   ]
  },
  {
   "cell_type": "markdown",
   "id": "e1442046",
   "metadata": {
    "solution2": "hidden",
    "solution2_first": true
   },
   "source": [
    "### 1.4\n",
    "\\* Dit is een opgave uit het boek: \n",
    "\n",
    "Exercise 1.2: Start the Python interpreter and use it as a calculator. \n",
    "\n",
    "1. How many seconds are there in 42 minutes 42 seconds? \n",
    "2. How many miles are there in 10 kilometers? Hint: there are 1.61 kilometers in a mile. \n",
    "3. If you run a 10 kilometer race in 42 minutes 42 seconds, what is your average pace (time per mile in minutes and seconds)? What is your average speed in miles per hour?\n"
   ]
  },
  {
   "cell_type": "code",
   "execution_count": 7,
   "id": "bcb19858",
   "metadata": {
    "nbgrader": {
     "grade": true,
     "grade_id": "cell-6cf3fb84e5c8d3a6",
     "locked": false,
     "points": 0,
     "schema_version": 3,
     "solution": true,
     "task": false
    },
    "solution2": "hidden"
   },
   "outputs": [
    {
     "name": "stdout",
     "output_type": "stream",
     "text": [
      "42m 42s is 2562 seconden.\n",
      "10 km is 6.211180124223602 mijl.\n",
      "10km in 42m 42s is  412.482 seconde per mijl.\n",
      "10km in 42m 42s is  6.874700000000001 minuut per mijl.\n",
      "10km in 42m 42s is  8.727653570337614 mijl per uur.\n"
     ]
    }
   ],
   "source": [
    "# In de interpreter type je achtereenvolgens:\n",
    "#1:\n",
    "42*60+42\n",
    "#2:\n",
    "10/1.61\n",
    "#3:\n",
    "(42*60+42)/(10/1.61)        # seconde per mijl\n",
    "(42*60+42)/(10/1.61)/60     # minuut per mijl\n",
    "(10/1.61)/((42*60+42)/3600) # mijl per uur\n",
    "\n",
    "# uitwerking in Jupyter:\n",
    "print(\"42m 42s is\", 42*60+42, \"seconden.\")\n",
    "print(\"10 km is\",10/1.61, \"mijl.\")\n",
    "print(\"10km in 42m 42s is \", (42*60+42)/(10/1.61), \"seconde per mijl.\")\n",
    "print(\"10km in 42m 42s is \", (42*60+42)/(10/1.61)/60, \"minuut per mijl.\")\n",
    "print(\"10km in 42m 42s is \", (10/1.61)/((42*60+42)/3600), \"mijl per uur.\")"
   ]
  },
  {
   "cell_type": "markdown",
   "id": "db95a9a4",
   "metadata": {
    "solution2": "hidden",
    "solution2_first": true
   },
   "source": [
    "### 1.5\n",
    "\n",
    "\\** **Rentenieren I.**\n",
    "Iemand wil bij een bank sparen. Over 10 jaar wil de persoon een bedrag van 1000 euro ontvangen. De  vaste rekenrente is 2,5%.\n",
    "\n",
    "Schrijf een programma dat de contante waarde  berekent op $t = 0$ en uitprint.\n",
    "(Laat de kans op overlijden buiten beschouwing).\n",
    "\n",
    "Tip: Hoe zou je dit wiskundig uitrekenen (financiële wiskunde)?\n",
    "Laat die manier inspiratie zijn voor je programma."
   ]
  },
  {
   "cell_type": "code",
   "execution_count": null,
   "id": "022456c3",
   "metadata": {
    "nbgrader": {
     "grade": true,
     "grade_id": "cell-a3fbd4a401661984",
     "locked": false,
     "points": 0,
     "schema_version": 3,
     "solution": true,
     "task": false
    },
    "solution2": "hidden"
   },
   "outputs": [],
   "source": [
    "r = 0.025\n",
    "t10 = 1000\n",
    "t0 = t10/(1+r)**10\n",
    "print(t0)"
   ]
  },
  {
   "cell_type": "markdown",
   "id": "6de59bbe",
   "metadata": {
    "solution2": "hidden",
    "solution2_first": true
   },
   "source": [
    "### 1.6\t\n",
    "\\* Dit is een opgave uit het boek: \n",
    "\n",
    "Exercise 1.1:\n",
    "It is a good idea to read this book in front of a computer so you can try out the examples as you go. Whenever you are experimenting with a new feature, you should try to make mistakes. For example, in the “Hello, world!” program, what happens if you leave out one of the quotation marks? What if you leave out both? What if you spell print wrong? This kind of experiment helps you remember what you read; it also helps when you are programming, because you get to know what the error messages mean. It is better to make mistakes now and on purpose than later and accidentally. \n",
    "(Op deze manier leer je fouten herkennen en kun je ze later veel sneller opsporen!)\n",
    "\n",
    "1. In a print statement, what happens if you leave out one of the parentheses, or both? \n",
    "2. If you are trying to print a string, what happens if you leave out one of the quotation marks, or both? \n",
    "3. You can use a minus sign to make a negative number like -2. What happens if you put a plus sign before a number? What about 2++2? \n",
    "4. In math notation, leading zeros are ok, as in 09. What happens if you try this in Python? What about 011? \n",
    "5. What happens if you have two values with no operator between them?\n",
    "\n",
    "Tip: Dus voer de taken 1 tm 5 ook echt uit. Dus bij 1 type je print(\"Wat tekst\"\n",
    "\n",
    "En dan zonder haakje sluiten, etc."
   ]
  },
  {
   "cell_type": "code",
   "execution_count": 8,
   "id": "44cefccb",
   "metadata": {
    "nbgrader": {
     "grade": true,
     "grade_id": "cell-27733b36a3090568",
     "locked": false,
     "points": 0,
     "schema_version": 3,
     "solution": true,
     "task": false
    },
    "solution2": "hidden"
   },
   "outputs": [
    {
     "ename": "SyntaxError",
     "evalue": "unexpected EOF while parsing (<ipython-input-8-cc2a3800cd3e>, line 1)",
     "output_type": "error",
     "traceback": [
      "\u001b[1;36m  File \u001b[1;32m\"<ipython-input-8-cc2a3800cd3e>\"\u001b[1;36m, line \u001b[1;32m1\u001b[0m\n\u001b[1;33m    print(\"Print zonder rechterhaak\"\u001b[0m\n\u001b[1;37m                                    ^\u001b[0m\n\u001b[1;31mSyntaxError\u001b[0m\u001b[1;31m:\u001b[0m unexpected EOF while parsing\n"
     ]
    }
   ],
   "source": [
    "print(\"Print zonder rechterhaak\""
   ]
  },
  {
   "cell_type": "code",
   "execution_count": 9,
   "id": "c8cdbce2",
   "metadata": {
    "nbgrader": {
     "grade": true,
     "grade_id": "cell-b46ad76c346aed01",
     "locked": false,
     "points": 0,
     "schema_version": 3,
     "solution": true,
     "task": false
    },
    "solution2": "hidden"
   },
   "outputs": [
    {
     "ename": "SyntaxError",
     "evalue": "EOL while scanning string literal (<ipython-input-9-51aaaa98cf28>, line 1)",
     "output_type": "error",
     "traceback": [
      "\u001b[1;36m  File \u001b[1;32m\"<ipython-input-9-51aaaa98cf28>\"\u001b[1;36m, line \u001b[1;32m1\u001b[0m\n\u001b[1;33m    print(\"Print zonder aanhalingsteken)\u001b[0m\n\u001b[1;37m                                        ^\u001b[0m\n\u001b[1;31mSyntaxError\u001b[0m\u001b[1;31m:\u001b[0m EOL while scanning string literal\n"
     ]
    }
   ],
   "source": [
    "print(\"Print zonder aanhalingsteken)"
   ]
  },
  {
   "cell_type": "code",
   "execution_count": 11,
   "id": "6557d725",
   "metadata": {
    "nbgrader": {
     "grade": true,
     "grade_id": "cell-7f55b9857f33951a",
     "locked": false,
     "points": 0,
     "schema_version": 3,
     "solution": true,
     "task": false
    },
    "solution2": "hidden"
   },
   "outputs": [
    {
     "name": "stdout",
     "output_type": "stream",
     "text": [
      "2\n",
      "6\n",
      "-2\n"
     ]
    }
   ],
   "source": [
    "print(+2)\n",
    "print(2++4)\n",
    "print(+-2)"
   ]
  },
  {
   "cell_type": "code",
   "execution_count": 12,
   "id": "e11fb379",
   "metadata": {
    "nbgrader": {
     "grade": true,
     "grade_id": "cell-acf9f9a9cd09b982",
     "locked": false,
     "points": 0,
     "schema_version": 3,
     "solution": true,
     "task": false
    },
    "solution2": "hidden"
   },
   "outputs": [
    {
     "ename": "SyntaxError",
     "evalue": "leading zeros in decimal integer literals are not permitted; use an 0o prefix for octal integers (<ipython-input-12-3ad61e731cc5>, line 1)",
     "output_type": "error",
     "traceback": [
      "\u001b[1;36m  File \u001b[1;32m\"<ipython-input-12-3ad61e731cc5>\"\u001b[1;36m, line \u001b[1;32m1\u001b[0m\n\u001b[1;33m    print(09)\u001b[0m\n\u001b[1;37m           ^\u001b[0m\n\u001b[1;31mSyntaxError\u001b[0m\u001b[1;31m:\u001b[0m leading zeros in decimal integer literals are not permitted; use an 0o prefix for octal integers\n"
     ]
    }
   ],
   "source": [
    "print(09)"
   ]
  },
  {
   "cell_type": "code",
   "execution_count": 13,
   "id": "46c8b293",
   "metadata": {
    "nbgrader": {
     "grade": true,
     "grade_id": "cell-56b2ea6e38c19e56",
     "locked": false,
     "points": 0,
     "schema_version": 3,
     "solution": true,
     "task": false
    },
    "solution2": "hidden"
   },
   "outputs": [
    {
     "ename": "SyntaxError",
     "evalue": "leading zeros in decimal integer literals are not permitted; use an 0o prefix for octal integers (<ipython-input-13-7447380c3fb5>, line 1)",
     "output_type": "error",
     "traceback": [
      "\u001b[1;36m  File \u001b[1;32m\"<ipython-input-13-7447380c3fb5>\"\u001b[1;36m, line \u001b[1;32m1\u001b[0m\n\u001b[1;33m    print(011)\u001b[0m\n\u001b[1;37m            ^\u001b[0m\n\u001b[1;31mSyntaxError\u001b[0m\u001b[1;31m:\u001b[0m leading zeros in decimal integer literals are not permitted; use an 0o prefix for octal integers\n"
     ]
    }
   ],
   "source": [
    "print(011)"
   ]
  },
  {
   "cell_type": "code",
   "execution_count": 14,
   "id": "d7ad96e6",
   "metadata": {
    "nbgrader": {
     "grade": true,
     "grade_id": "cell-36e68cf8793ca105",
     "locked": false,
     "points": 0,
     "schema_version": 3,
     "solution": true,
     "task": false
    },
    "solution2": "hidden"
   },
   "outputs": [
    {
     "ename": "SyntaxError",
     "evalue": "invalid syntax (<ipython-input-14-3ed3b5c99aa0>, line 1)",
     "output_type": "error",
     "traceback": [
      "\u001b[1;36m  File \u001b[1;32m\"<ipython-input-14-3ed3b5c99aa0>\"\u001b[1;36m, line \u001b[1;32m1\u001b[0m\n\u001b[1;33m    print(4 5)\u001b[0m\n\u001b[1;37m            ^\u001b[0m\n\u001b[1;31mSyntaxError\u001b[0m\u001b[1;31m:\u001b[0m invalid syntax\n"
     ]
    }
   ],
   "source": [
    "print(4 5)"
   ]
  }
 ],
 "metadata": {
  "celltoolbar": "Create Assignment",
  "kernelspec": {
   "display_name": "Python 3",
   "language": "python",
   "name": "python3"
  },
  "language_info": {
   "codemirror_mode": {
    "name": "ipython",
    "version": 3
   },
   "file_extension": ".py",
   "mimetype": "text/x-python",
   "name": "python",
   "nbconvert_exporter": "python",
   "pygments_lexer": "ipython3",
   "version": "3.8.8"
  },
  "toc": {
   "base_numbering": 1,
   "nav_menu": {},
   "number_sections": false,
   "sideBar": true,
   "skip_h1_title": false,
   "title_cell": "Table of Contents",
   "title_sidebar": "Contents",
   "toc_cell": false,
   "toc_position": {},
   "toc_section_display": true,
   "toc_window_display": true
  }
 },
 "nbformat": 4,
 "nbformat_minor": 5
}
