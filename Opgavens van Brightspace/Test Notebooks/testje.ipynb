{
 "cells": [
  {
   "cell_type": "code",
   "execution_count": 1,
   "id": "018528b3",
   "metadata": {},
   "outputs": [
    {
     "name": "stdout",
     "output_type": "stream",
     "text": [
      "hoi Vinayak\n"
     ]
    }
   ],
   "source": [
    "print('hoi ' + 'Vinayak')"
   ]
  },
  {
   "cell_type": "code",
   "execution_count": 3,
   "id": "e3a28e6d",
   "metadata": {},
   "outputs": [
    {
     "name": "stdout",
     "output_type": "stream",
     "text": [
      "hoi\n",
      "hoi\n",
      "hoi\n",
      "hoi\n",
      "hoi\n",
      "hoi\n",
      "hoi\n",
      "hoi\n",
      "hoi\n",
      "hoi\n",
      "\n"
     ]
    }
   ],
   "source": [
    "print('hoi\\n'*10)"
   ]
  },
  {
   "cell_type": "code",
   "execution_count": 4,
   "id": "3ef9245e",
   "metadata": {},
   "outputs": [
    {
     "ename": "TypeError",
     "evalue": "can only concatenate str (not \"int\") to str",
     "output_type": "error",
     "traceback": [
      "\u001b[1;31m---------------------------------------------------------------------------\u001b[0m",
      "\u001b[1;31mTypeError\u001b[0m                                 Traceback (most recent call last)",
      "Input \u001b[1;32mIn [4]\u001b[0m, in \u001b[0;36m<cell line: 1>\u001b[1;34m()\u001b[0m\n\u001b[1;32m----> 1\u001b[0m \u001b[38;5;28mprint\u001b[39m(\u001b[38;5;124;43m'\u001b[39;49m\u001b[38;5;124;43mtwee \u001b[39;49m\u001b[38;5;124;43m'\u001b[39;49m\u001b[43m \u001b[49m\u001b[38;5;241;43m+\u001b[39;49m\u001b[43m \u001b[49m\u001b[38;5;241;43m2\u001b[39;49m)\n",
      "\u001b[1;31mTypeError\u001b[0m: can only concatenate str (not \"int\") to str"
     ]
    }
   ],
   "source": [
    "print('twee ' + 2)"
   ]
  },
  {
   "cell_type": "code",
   "execution_count": 5,
   "id": "abed5a1d",
   "metadata": {},
   "outputs": [
    {
     "name": "stdout",
     "output_type": "stream",
     "text": [
      "twee 2\n"
     ]
    }
   ],
   "source": [
    "print('twee ' + str(2))"
   ]
  },
  {
   "cell_type": "code",
   "execution_count": 6,
   "id": "ce5b0525",
   "metadata": {},
   "outputs": [
    {
     "name": "stdout",
     "output_type": "stream",
     "text": [
      "hi \\*cough\\*\n"
     ]
    }
   ],
   "source": [
    "print(\"hi *cough*\")"
   ]
  },
  {
   "cell_type": "code",
   "execution_count": 7,
   "id": "36e28d8f",
   "metadata": {},
   "outputs": [
    {
     "name": "stdout",
     "output_type": "stream",
     "text": [
      "hi *cough*\n"
     ]
    }
   ],
   "source": [
    "print(\"hi *cough*\")"
   ]
  },
  {
   "cell_type": "code",
   "execution_count": 8,
   "id": "fa1fec5f",
   "metadata": {},
   "outputs": [
    {
     "name": "stdout",
     "output_type": "stream",
     "text": [
      "hallo\n",
      "cijfer: hallo\n"
     ]
    }
   ],
   "source": [
    "n = input()\n",
    "print('cijfer: ' + str(n))"
   ]
  },
  {
   "cell_type": "code",
   "execution_count": 9,
   "id": "1b629735",
   "metadata": {},
   "outputs": [
    {
     "name": "stdout",
     "output_type": "stream",
     "text": [
      "1000\n",
      "cijfer: 1000\n"
     ]
    }
   ],
   "source": [
    "n = input()\n",
    "print('cijfer: ' + str(n))"
   ]
  },
  {
   "cell_type": "code",
   "execution_count": 10,
   "id": "eb36fee0",
   "metadata": {},
   "outputs": [
    {
     "name": "stdout",
     "output_type": "stream",
     "text": [
      "Vul een cijfer in4\n",
      "cijfer  4\n"
     ]
    }
   ],
   "source": [
    "n = input('Vul een cijfer in')\n",
    "print('cijfer ', n)"
   ]
  },
  {
   "cell_type": "code",
   "execution_count": 11,
   "id": "e7c3b9f7",
   "metadata": {},
   "outputs": [
    {
     "data": {
      "text/plain": [
       "9"
      ]
     },
     "execution_count": 11,
     "metadata": {},
     "output_type": "execute_result"
    }
   ],
   "source": [
    "3**2"
   ]
  },
  {
   "cell_type": "code",
   "execution_count": 12,
   "id": "1a889f8f",
   "metadata": {},
   "outputs": [
    {
     "name": "stdout",
     "output_type": "stream",
     "text": [
      "Vul een cijfer in4\n"
     ]
    },
    {
     "ename": "TypeError",
     "evalue": "can't multiply sequence by non-int of type 'str'",
     "output_type": "error",
     "traceback": [
      "\u001b[1;31m---------------------------------------------------------------------------\u001b[0m",
      "\u001b[1;31mTypeError\u001b[0m                                 Traceback (most recent call last)",
      "Input \u001b[1;32mIn [12]\u001b[0m, in \u001b[0;36m<cell line: 2>\u001b[1;34m()\u001b[0m\n\u001b[0;32m      1\u001b[0m n \u001b[38;5;241m=\u001b[39m \u001b[38;5;28minput\u001b[39m(\u001b[38;5;124m'\u001b[39m\u001b[38;5;124mVul een cijfer in\u001b[39m\u001b[38;5;124m'\u001b[39m)\n\u001b[1;32m----> 2\u001b[0m \u001b[38;5;28mprint\u001b[39m(\u001b[38;5;124m'\u001b[39m\u001b[38;5;124mcijfer \u001b[39m\u001b[38;5;124m'\u001b[39m, \u001b[38;5;28mfloat\u001b[39m(\u001b[43mn\u001b[49m\u001b[38;5;241;43m*\u001b[39;49m\u001b[43mn\u001b[49m))\n",
      "\u001b[1;31mTypeError\u001b[0m: can't multiply sequence by non-int of type 'str'"
     ]
    }
   ],
   "source": [
    "n = input('Vul een cijfer in')\n",
    "print('cijfer ', float(n*n))"
   ]
  },
  {
   "cell_type": "code",
   "execution_count": 13,
   "id": "6f5503cd",
   "metadata": {},
   "outputs": [
    {
     "name": "stdout",
     "output_type": "stream",
     "text": [
      "Vul een cijfer in4\n",
      "cijfer  16.0\n"
     ]
    }
   ],
   "source": [
    "n = input('Vul een cijfer in: ')\n",
    "print('cijfer ', float(n)**2)"
   ]
  },
  {
   "cell_type": "markdown",
   "id": "da4c00f9",
   "metadata": {},
   "source": [
    "n = input('Vul een cijfer in: ')\n",
    "print('cijfer ', float(n)**2)"
   ]
  },
  {
   "cell_type": "code",
   "execution_count": 14,
   "id": "7c790c77",
   "metadata": {},
   "outputs": [
    {
     "data": {
      "text/plain": [
       "10"
      ]
     },
     "execution_count": 14,
     "metadata": {},
     "output_type": "execute_result"
    }
   ],
   "source": [
    "10"
   ]
  },
  {
   "cell_type": "code",
   "execution_count": 15,
   "id": "09e684fd",
   "metadata": {},
   "outputs": [
    {
     "name": "stdout",
     "output_type": "stream",
     "text": [
      "Vul een cijfer in: 50\n",
      "cijfer  2500.0\n"
     ]
    }
   ],
   "source": [
    "n = input('Vul een cijfer in: ')\n",
    "print('cijfer ', float(n)**2)"
   ]
  },
  {
   "cell_type": "code",
   "execution_count": 16,
   "id": "784ffc05",
   "metadata": {},
   "outputs": [
    {
     "name": "stdout",
     "output_type": "stream",
     "text": [
      "Vul een cijfer in: 3\n",
      "cijfer  9\n"
     ]
    }
   ],
   "source": [
    "n = int(input('Vul een cijfer in: '))\n",
    "print('cijfer ', n**2)"
   ]
  },
  {
   "cell_type": "code",
   "execution_count": null,
   "id": "c39bc512",
   "metadata": {},
   "outputs": [],
   "source": []
  }
 ],
 "metadata": {
  "kernelspec": {
   "display_name": "Python 3 (ipykernel)",
   "language": "python",
   "name": "python3"
  },
  "language_info": {
   "codemirror_mode": {
    "name": "ipython",
    "version": 3
   },
   "file_extension": ".py",
   "mimetype": "text/x-python",
   "name": "python",
   "nbconvert_exporter": "python",
   "pygments_lexer": "ipython3",
   "version": "3.9.12"
  },
  "toc": {
   "base_numbering": 1,
   "nav_menu": {},
   "number_sections": true,
   "sideBar": true,
   "skip_h1_title": false,
   "title_cell": "Table of Contents",
   "title_sidebar": "Contents",
   "toc_cell": false,
   "toc_position": {},
   "toc_section_display": true,
   "toc_window_display": false
  }
 },
 "nbformat": 4,
 "nbformat_minor": 5
}
