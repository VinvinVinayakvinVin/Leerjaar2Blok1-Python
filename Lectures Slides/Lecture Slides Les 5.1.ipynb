{
 "cells": [
  {
   "cell_type": "markdown",
   "id": "41095239",
   "metadata": {
    "slideshow": {
     "slide_type": "slide"
    }
   },
   "source": [
    "# Programmeren 2.1\n",
    "\n",
    "## Les 5.1 -- String functies\n",
    "\n",
    "3 Okt 2022"
   ]
  },
  {
   "cell_type": "markdown",
   "id": "c312db18",
   "metadata": {
    "slideshow": {
     "slide_type": "slide"
    }
   },
   "source": [
    "## Inhoud\n",
    "- Strings, herhaling\n",
    "- String functies:\n",
    "  - **split**\n",
    "  - **strip**\n",
    "  - **join**\n",
    "- Overige string functies\n",
    "  "
   ]
  },
  {
   "cell_type": "markdown",
   "id": "0df935e5",
   "metadata": {
    "slideshow": {
     "slide_type": "slide"
    }
   },
   "source": [
    "## Strings, herhaling\n",
    "In les 1.2 zagen we onder andere dat we de volgende dingen met strings kunnen doen:\n",
    "\n",
    "| Code       | Betekenis | Uitkomst |\n",
    "|------------|:---------------------------------------------------|----------|\n",
    "| **x + y**  | Plak strings **x** en **y** achter elkaar.         | **str**  |\n",
    "| **x \\* n** | Herhaalde optelling, plak **n** kopieen            | **str**  |\n",
    "|            | van **x** achter elkaar.                           |          |\n",
    "| **x == y** | Zijn strings **x** en **y** hetzelfde?             | **bool** |\n",
    "| **x < y**  | Is **x** lager in alfabetische volgorde dan **y**? | **bool** |\n",
    "| **x > y**  | Is **x** hoger in alfabetische volgorde dan **y**? | **bool** |\n",
    "| **x\\[i\\]** | Het $i^{de}$ karakter van **x**.                   | **str**  |\n",
    "| **int(s)** | Zet de string om naar een geheel getal | **int** |\n",
    "| **float(s)** | Zet de string om naar een komma getal | **float** |\n"
   ]
  },
  {
   "cell_type": "markdown",
   "id": "a19cd364",
   "metadata": {
    "slideshow": {
     "slide_type": "slide"
    }
   },
   "source": [
    "## String functies\n",
    "\n",
    "Stel we willen de volgende string omzetten naar 5 getallen:"
   ]
  },
  {
   "cell_type": "code",
   "execution_count": 4,
   "id": "ac74c0c3",
   "metadata": {},
   "outputs": [
    {
     "name": "stdout",
     "output_type": "stream",
     "text": [
      "     4,  5   ,  17 , \t  1234  \n",
      ",90      \n"
     ]
    }
   ],
   "source": [
    "s = \"     4,  5   ,  17 , \\t  1234  \\n,90      \"\n",
    "print(s)"
   ]
  },
  {
   "cell_type": "markdown",
   "id": "6e131caa",
   "metadata": {},
   "source": [
    "Aan de **int** functie hebben we niks, die werkt alleen voor een enkel getal:"
   ]
  },
  {
   "cell_type": "code",
   "execution_count": 3,
   "id": "85e01b58",
   "metadata": {},
   "outputs": [
    {
     "ename": "ValueError",
     "evalue": "invalid literal for int() with base 10: '     4,  5   ,  17 ,   1234  ,90      '",
     "output_type": "error",
     "traceback": [
      "\u001b[0;31m---------------------------------------------------------------------------\u001b[0m",
      "\u001b[0;31mValueError\u001b[0m                                Traceback (most recent call last)",
      "\u001b[0;32m<ipython-input-3-ccebb887569e>\u001b[0m in \u001b[0;36m<module>\u001b[0;34m\u001b[0m\n\u001b[0;32m----> 1\u001b[0;31m \u001b[0mprint\u001b[0m\u001b[0;34m(\u001b[0m\u001b[0mint\u001b[0m\u001b[0;34m(\u001b[0m\u001b[0ms\u001b[0m\u001b[0;34m)\u001b[0m\u001b[0;34m)\u001b[0m\u001b[0;34m\u001b[0m\u001b[0;34m\u001b[0m\u001b[0m\n\u001b[0m",
      "\u001b[0;31mValueError\u001b[0m: invalid literal for int() with base 10: '     4,  5   ,  17 ,   1234  ,90      '"
     ]
    }
   ],
   "source": [
    "print(int(s))"
   ]
  },
  {
   "cell_type": "markdown",
   "id": "d05bd254",
   "metadata": {
    "slideshow": {
     "slide_type": "slide"
    }
   },
   "source": [
    "De getallen zijn gescheiden door komma's, eigenlijk willen we een lijst van getallen maken. We moeten de string dus splitsen in 5 kleinere strings, we splitsen overal waar een komma staat. Dit kunnen we doen met het **split** commando:"
   ]
  },
  {
   "cell_type": "code",
   "execution_count": 8,
   "id": "44b4174a",
   "metadata": {},
   "outputs": [
    {
     "name": "stdout",
     "output_type": "stream",
     "text": [
      "     4\n",
      "  5   \n",
      "  17 \n",
      " \t  1234  \n",
      "\n",
      "90      \n"
     ]
    }
   ],
   "source": [
    "strings1 = s.split(',')\n",
    "for string in strings1:\n",
    "    print(string)"
   ]
  },
  {
   "cell_type": "markdown",
   "id": "47fd0b3e",
   "metadata": {
    "slideshow": {
     "slide_type": "slide"
    }
   },
   "source": [
    "We hebben nu een lijst van 5 strings, maar er staan heleboel lelijke spaties, nieuwe regels ('**\\\\n**') en tabs ('**\\t**') omheen, dat is niet zo netjes. Het **strip** commando kan dit verwijderen:"
   ]
  },
  {
   "cell_type": "code",
   "execution_count": 9,
   "id": "9276b45a",
   "metadata": {},
   "outputs": [
    {
     "name": "stdout",
     "output_type": "stream",
     "text": [
      "4\n",
      "5\n",
      "17\n",
      "1234\n",
      "90\n"
     ]
    }
   ],
   "source": [
    "for string in strings1:\n",
    "    print(string.strip())"
   ]
  },
  {
   "cell_type": "markdown",
   "id": "8486f3ad",
   "metadata": {
    "slideshow": {
     "slide_type": "slide"
    }
   },
   "source": [
    "We slaan onze gestripte strings op als **strings2**:"
   ]
  },
  {
   "cell_type": "code",
   "execution_count": 10,
   "id": "e8159707",
   "metadata": {},
   "outputs": [],
   "source": [
    "strings2 = [string.strip() for string in strings1]"
   ]
  },
  {
   "cell_type": "markdown",
   "id": "a44439c4",
   "metadata": {},
   "source": [
    "Nu zijn we klaar om ieder getal om te zetten in een **int**:"
   ]
  },
  {
   "cell_type": "code",
   "execution_count": 12,
   "id": "3e4937ab",
   "metadata": {},
   "outputs": [
    {
     "name": "stdout",
     "output_type": "stream",
     "text": [
      "[4, 5, 17, 1234, 90]\n"
     ]
    }
   ],
   "source": [
    "getallen = [int(string) for string in strings2]\n",
    "print(getallen)"
   ]
  },
  {
   "cell_type": "markdown",
   "id": "1cfb8b75",
   "metadata": {
    "slideshow": {
     "slide_type": "slide"
    }
   },
   "source": [
    "Alles gecombineerd in één regel:"
   ]
  },
  {
   "cell_type": "code",
   "execution_count": 14,
   "id": "415720b7",
   "metadata": {},
   "outputs": [
    {
     "name": "stdout",
     "output_type": "stream",
     "text": [
      "[4, 5, 17, 1234, 90]\n"
     ]
    }
   ],
   "source": [
    "getallen = [int(string.strip()) for string in s.split(',')]\n",
    "print(getallen)"
   ]
  },
  {
   "cell_type": "markdown",
   "id": "4c3cdc7f",
   "metadata": {},
   "source": [
    "Strikt gesproken is de **strip** hier niet nodig omdat **int** dat al zelf doet, maar niet alle functies zijn zo 'slim'."
   ]
  },
  {
   "cell_type": "code",
   "execution_count": 15,
   "id": "494ee6b7",
   "metadata": {},
   "outputs": [
    {
     "name": "stdout",
     "output_type": "stream",
     "text": [
      "[4, 5, 17, 1234, 90]\n"
     ]
    }
   ],
   "source": [
    "getallen = [int(string) for string in s.split(',')]\n",
    "print(getallen)"
   ]
  },
  {
   "cell_type": "markdown",
   "id": "4e6c08d5",
   "metadata": {
    "slideshow": {
     "slide_type": "slide"
    }
   },
   "source": [
    "Omgekeerd willen we soms van een lijst van strings één enkele string maken, met een tussenvoegsel ertussen."
   ]
  },
  {
   "cell_type": "markdown",
   "id": "877c3060",
   "metadata": {
    "cell_style": "split"
   },
   "source": [
    "Dit zouden we met een **for** loop kunnen programmeren:"
   ]
  },
  {
   "cell_type": "markdown",
   "id": "85f5d486",
   "metadata": {
    "cell_style": "split"
   },
   "source": [
    "Of, equivalent, met het **join** commando:"
   ]
  },
  {
   "cell_type": "code",
   "execution_count": 20,
   "id": "2644a818",
   "metadata": {
    "cell_style": "split"
   },
   "outputs": [
    {
     "name": "stdout",
     "output_type": "stream",
     "text": [
      "Robert Michiel Xiomara\n",
      "Robert, Michiel, Xiomara\n",
      "Robert en Michiel en Xiomara\n"
     ]
    }
   ],
   "source": [
    "def samenvoegen(strings, tussen):\n",
    "    eerstekeer = True\n",
    "    res = ''\n",
    "    for s in strings:\n",
    "        if eerstekeer:\n",
    "            res = s\n",
    "        else:\n",
    "            res += tussen + s\n",
    "        eerstekeer = False\n",
    "    return res\n",
    "\n",
    "docenten = ['Robert', 'Michiel', 'Xiomara']\n",
    "print(samenvoegen(docenten, ' '))\n",
    "print(samenvoegen(docenten, ', '))\n",
    "print(samenvoegen(docenten, ' en '))\n",
    "        "
   ]
  },
  {
   "cell_type": "code",
   "execution_count": 21,
   "id": "f0e7e0d0",
   "metadata": {
    "cell_style": "split"
   },
   "outputs": [
    {
     "name": "stdout",
     "output_type": "stream",
     "text": [
      "Robert Michiel Xiomara\n",
      "Robert, Michiel, Xiomara\n",
      "Robert en Michiel en Xiomara\n"
     ]
    }
   ],
   "source": [
    "docenten = ['Robert', 'Michiel', 'Xiomara']\n",
    "print(' '.join(docenten))\n",
    "print(', '.join(docenten))\n",
    "print(' en '.join(docenten))"
   ]
  },
  {
   "cell_type": "markdown",
   "id": "85ce45ff",
   "metadata": {
    "slideshow": {
     "slide_type": "slide"
    }
   },
   "source": [
    "## Overige string functies\n",
    "\n",
    "Er zijn nog vele overige string functies. Ze worden allemaal op dezelfde manier aangeroepen:\n",
    "\n",
    "    string.functie(...)\n",
    "    \n",
    "Veelgebruikte functies zijn onder andere:\n",
    "\n",
    "| Naam | Beschrijving |\n",
    "|------|--------------|\n",
    "| **strip** | Verwijder spaties/tabs/nieuwe regels aan begin en eind van string. |\n",
    "| **split** | Splits een string op in een lijst van \"woorden\" |\n",
    "| **join** | Voeg een lijst van strings samen |\n",
    "| **find** / **index** | Vind de index van een gegeven substring |\n",
    "| **replace** | Vervang een bepaalde substring met iets anders |\n",
    "| **capitalize** | Maak alle karakters hoofdletters |\n",
    "| **isnumeric** | Kan deze string omgezet worden naar een numerieke waarde? |\n",
    "\n",
    "en velen anderen. Zie ook **help(str)** voor meer info."
   ]
  },
  {
   "cell_type": "code",
   "execution_count": 23,
   "id": "140a3160",
   "metadata": {},
   "outputs": [
    {
     "name": "stdout",
     "output_type": "stream",
     "text": [
      "Help on class str in module builtins:\n",
      "\n",
      "class str(object)\n",
      " |  str(object='') -> str\n",
      " |  str(bytes_or_buffer[, encoding[, errors]]) -> str\n",
      " |  \n",
      " |  Create a new string object from the given object. If encoding or\n",
      " |  errors is specified, then the object must expose a data buffer\n",
      " |  that will be decoded using the given encoding and error handler.\n",
      " |  Otherwise, returns the result of object.__str__() (if defined)\n",
      " |  or repr(object).\n",
      " |  encoding defaults to sys.getdefaultencoding().\n",
      " |  errors defaults to 'strict'.\n",
      " |  \n",
      " |  Methods defined here:\n",
      " |  \n",
      " |  __add__(self, value, /)\n",
      " |      Return self+value.\n",
      " |  \n",
      " |  __contains__(self, key, /)\n",
      " |      Return key in self.\n",
      " |  \n",
      " |  __eq__(self, value, /)\n",
      " |      Return self==value.\n",
      " |  \n",
      " |  __format__(self, format_spec, /)\n",
      " |      Return a formatted version of the string as described by format_spec.\n",
      " |  \n",
      " |  __ge__(self, value, /)\n",
      " |      Return self>=value.\n",
      " |  \n",
      " |  __getattribute__(self, name, /)\n",
      " |      Return getattr(self, name).\n",
      " |  \n",
      " |  __getitem__(self, key, /)\n",
      " |      Return self[key].\n",
      " |  \n",
      " |  __getnewargs__(...)\n",
      " |  \n",
      " |  __gt__(self, value, /)\n",
      " |      Return self>value.\n",
      " |  \n",
      " |  __hash__(self, /)\n",
      " |      Return hash(self).\n",
      " |  \n",
      " |  __iter__(self, /)\n",
      " |      Implement iter(self).\n",
      " |  \n",
      " |  __le__(self, value, /)\n",
      " |      Return self<=value.\n",
      " |  \n",
      " |  __len__(self, /)\n",
      " |      Return len(self).\n",
      " |  \n",
      " |  __lt__(self, value, /)\n",
      " |      Return self<value.\n",
      " |  \n",
      " |  __mod__(self, value, /)\n",
      " |      Return self%value.\n",
      " |  \n",
      " |  __mul__(self, value, /)\n",
      " |      Return self*value.\n",
      " |  \n",
      " |  __ne__(self, value, /)\n",
      " |      Return self!=value.\n",
      " |  \n",
      " |  __repr__(self, /)\n",
      " |      Return repr(self).\n",
      " |  \n",
      " |  __rmod__(self, value, /)\n",
      " |      Return value%self.\n",
      " |  \n",
      " |  __rmul__(self, value, /)\n",
      " |      Return value*self.\n",
      " |  \n",
      " |  __sizeof__(self, /)\n",
      " |      Return the size of the string in memory, in bytes.\n",
      " |  \n",
      " |  __str__(self, /)\n",
      " |      Return str(self).\n",
      " |  \n",
      " |  capitalize(self, /)\n",
      " |      Return a capitalized version of the string.\n",
      " |      \n",
      " |      More specifically, make the first character have upper case and the rest lower\n",
      " |      case.\n",
      " |  \n",
      " |  casefold(self, /)\n",
      " |      Return a version of the string suitable for caseless comparisons.\n",
      " |  \n",
      " |  center(self, width, fillchar=' ', /)\n",
      " |      Return a centered string of length width.\n",
      " |      \n",
      " |      Padding is done using the specified fill character (default is a space).\n",
      " |  \n",
      " |  count(...)\n",
      " |      S.count(sub[, start[, end]]) -> int\n",
      " |      \n",
      " |      Return the number of non-overlapping occurrences of substring sub in\n",
      " |      string S[start:end].  Optional arguments start and end are\n",
      " |      interpreted as in slice notation.\n",
      " |  \n",
      " |  encode(self, /, encoding='utf-8', errors='strict')\n",
      " |      Encode the string using the codec registered for encoding.\n",
      " |      \n",
      " |      encoding\n",
      " |        The encoding in which to encode the string.\n",
      " |      errors\n",
      " |        The error handling scheme to use for encoding errors.\n",
      " |        The default is 'strict' meaning that encoding errors raise a\n",
      " |        UnicodeEncodeError.  Other possible values are 'ignore', 'replace' and\n",
      " |        'xmlcharrefreplace' as well as any other name registered with\n",
      " |        codecs.register_error that can handle UnicodeEncodeErrors.\n",
      " |  \n",
      " |  endswith(...)\n",
      " |      S.endswith(suffix[, start[, end]]) -> bool\n",
      " |      \n",
      " |      Return True if S ends with the specified suffix, False otherwise.\n",
      " |      With optional start, test S beginning at that position.\n",
      " |      With optional end, stop comparing S at that position.\n",
      " |      suffix can also be a tuple of strings to try.\n",
      " |  \n",
      " |  expandtabs(self, /, tabsize=8)\n",
      " |      Return a copy where all tab characters are expanded using spaces.\n",
      " |      \n",
      " |      If tabsize is not given, a tab size of 8 characters is assumed.\n",
      " |  \n",
      " |  find(...)\n",
      " |      S.find(sub[, start[, end]]) -> int\n",
      " |      \n",
      " |      Return the lowest index in S where substring sub is found,\n",
      " |      such that sub is contained within S[start:end].  Optional\n",
      " |      arguments start and end are interpreted as in slice notation.\n",
      " |      \n",
      " |      Return -1 on failure.\n",
      " |  \n",
      " |  format(...)\n",
      " |      S.format(*args, **kwargs) -> str\n",
      " |      \n",
      " |      Return a formatted version of S, using substitutions from args and kwargs.\n",
      " |      The substitutions are identified by braces ('{' and '}').\n",
      " |  \n",
      " |  format_map(...)\n",
      " |      S.format_map(mapping) -> str\n",
      " |      \n",
      " |      Return a formatted version of S, using substitutions from mapping.\n",
      " |      The substitutions are identified by braces ('{' and '}').\n",
      " |  \n",
      " |  index(...)\n",
      " |      S.index(sub[, start[, end]]) -> int\n",
      " |      \n",
      " |      Return the lowest index in S where substring sub is found,\n",
      " |      such that sub is contained within S[start:end].  Optional\n",
      " |      arguments start and end are interpreted as in slice notation.\n",
      " |      \n",
      " |      Raises ValueError when the substring is not found.\n",
      " |  \n",
      " |  isalnum(self, /)\n",
      " |      Return True if the string is an alpha-numeric string, False otherwise.\n",
      " |      \n",
      " |      A string is alpha-numeric if all characters in the string are alpha-numeric and\n",
      " |      there is at least one character in the string.\n",
      " |  \n",
      " |  isalpha(self, /)\n",
      " |      Return True if the string is an alphabetic string, False otherwise.\n",
      " |      \n",
      " |      A string is alphabetic if all characters in the string are alphabetic and there\n",
      " |      is at least one character in the string.\n",
      " |  \n",
      " |  isascii(self, /)\n",
      " |      Return True if all characters in the string are ASCII, False otherwise.\n",
      " |      \n",
      " |      ASCII characters have code points in the range U+0000-U+007F.\n",
      " |      Empty string is ASCII too.\n",
      " |  \n",
      " |  isdecimal(self, /)\n",
      " |      Return True if the string is a decimal string, False otherwise.\n",
      " |      \n",
      " |      A string is a decimal string if all characters in the string are decimal and\n",
      " |      there is at least one character in the string.\n",
      " |  \n",
      " |  isdigit(self, /)\n",
      " |      Return True if the string is a digit string, False otherwise.\n",
      " |      \n",
      " |      A string is a digit string if all characters in the string are digits and there\n",
      " |      is at least one character in the string.\n",
      " |  \n",
      " |  isidentifier(self, /)\n",
      " |      Return True if the string is a valid Python identifier, False otherwise.\n",
      " |      \n",
      " |      Call keyword.iskeyword(s) to test whether string s is a reserved identifier,\n",
      " |      such as \"def\" or \"class\".\n",
      " |  \n",
      " |  islower(self, /)\n",
      " |      Return True if the string is a lowercase string, False otherwise.\n",
      " |      \n",
      " |      A string is lowercase if all cased characters in the string are lowercase and\n",
      " |      there is at least one cased character in the string.\n",
      " |  \n",
      " |  isnumeric(self, /)\n",
      " |      Return True if the string is a numeric string, False otherwise.\n",
      " |      \n",
      " |      A string is numeric if all characters in the string are numeric and there is at\n",
      " |      least one character in the string.\n",
      " |  \n",
      " |  isprintable(self, /)\n",
      " |      Return True if the string is printable, False otherwise.\n",
      " |      \n",
      " |      A string is printable if all of its characters are considered printable in\n",
      " |      repr() or if it is empty.\n",
      " |  \n",
      " |  isspace(self, /)\n",
      " |      Return True if the string is a whitespace string, False otherwise.\n",
      " |      \n",
      " |      A string is whitespace if all characters in the string are whitespace and there\n",
      " |      is at least one character in the string.\n",
      " |  \n",
      " |  istitle(self, /)\n",
      " |      Return True if the string is a title-cased string, False otherwise.\n",
      " |      \n",
      " |      In a title-cased string, upper- and title-case characters may only\n",
      " |      follow uncased characters and lowercase characters only cased ones.\n",
      " |  \n",
      " |  isupper(self, /)\n",
      " |      Return True if the string is an uppercase string, False otherwise.\n",
      " |      \n",
      " |      A string is uppercase if all cased characters in the string are uppercase and\n",
      " |      there is at least one cased character in the string.\n",
      " |  \n",
      " |  join(self, iterable, /)\n",
      " |      Concatenate any number of strings.\n",
      " |      \n",
      " |      The string whose method is called is inserted in between each given string.\n",
      " |      The result is returned as a new string.\n",
      " |      \n",
      " |      Example: '.'.join(['ab', 'pq', 'rs']) -> 'ab.pq.rs'\n",
      " |  \n",
      " |  ljust(self, width, fillchar=' ', /)\n",
      " |      Return a left-justified string of length width.\n",
      " |      \n",
      " |      Padding is done using the specified fill character (default is a space).\n",
      " |  \n",
      " |  lower(self, /)\n",
      " |      Return a copy of the string converted to lowercase.\n",
      " |  \n",
      " |  lstrip(self, chars=None, /)\n",
      " |      Return a copy of the string with leading whitespace removed.\n",
      " |      \n",
      " |      If chars is given and not None, remove characters in chars instead.\n",
      " |  \n",
      " |  partition(self, sep, /)\n",
      " |      Partition the string into three parts using the given separator.\n",
      " |      \n",
      " |      This will search for the separator in the string.  If the separator is found,\n",
      " |      returns a 3-tuple containing the part before the separator, the separator\n",
      " |      itself, and the part after it.\n",
      " |      \n",
      " |      If the separator is not found, returns a 3-tuple containing the original string\n",
      " |      and two empty strings.\n",
      " |  \n",
      " |  replace(self, old, new, count=-1, /)\n",
      " |      Return a copy with all occurrences of substring old replaced by new.\n",
      " |      \n",
      " |        count\n",
      " |          Maximum number of occurrences to replace.\n",
      " |          -1 (the default value) means replace all occurrences.\n",
      " |      \n",
      " |      If the optional argument count is given, only the first count occurrences are\n",
      " |      replaced.\n",
      " |  \n",
      " |  rfind(...)\n",
      " |      S.rfind(sub[, start[, end]]) -> int\n",
      " |      \n",
      " |      Return the highest index in S where substring sub is found,\n",
      " |      such that sub is contained within S[start:end].  Optional\n",
      " |      arguments start and end are interpreted as in slice notation.\n",
      " |      \n",
      " |      Return -1 on failure.\n",
      " |  \n",
      " |  rindex(...)\n",
      " |      S.rindex(sub[, start[, end]]) -> int\n",
      " |      \n",
      " |      Return the highest index in S where substring sub is found,\n",
      " |      such that sub is contained within S[start:end].  Optional\n",
      " |      arguments start and end are interpreted as in slice notation.\n",
      " |      \n",
      " |      Raises ValueError when the substring is not found.\n",
      " |  \n",
      " |  rjust(self, width, fillchar=' ', /)\n",
      " |      Return a right-justified string of length width.\n",
      " |      \n",
      " |      Padding is done using the specified fill character (default is a space).\n",
      " |  \n",
      " |  rpartition(self, sep, /)\n",
      " |      Partition the string into three parts using the given separator.\n",
      " |      \n",
      " |      This will search for the separator in the string, starting at the end. If\n",
      " |      the separator is found, returns a 3-tuple containing the part before the\n",
      " |      separator, the separator itself, and the part after it.\n",
      " |      \n",
      " |      If the separator is not found, returns a 3-tuple containing two empty strings\n",
      " |      and the original string.\n",
      " |  \n",
      " |  rsplit(self, /, sep=None, maxsplit=-1)\n",
      " |      Return a list of the words in the string, using sep as the delimiter string.\n",
      " |      \n",
      " |        sep\n",
      " |          The delimiter according which to split the string.\n",
      " |          None (the default value) means split according to any whitespace,\n",
      " |          and discard empty strings from the result.\n",
      " |        maxsplit\n",
      " |          Maximum number of splits to do.\n",
      " |          -1 (the default value) means no limit.\n",
      " |      \n",
      " |      Splits are done starting at the end of the string and working to the front.\n",
      " |  \n",
      " |  rstrip(self, chars=None, /)\n",
      " |      Return a copy of the string with trailing whitespace removed.\n",
      " |      \n",
      " |      If chars is given and not None, remove characters in chars instead.\n",
      " |  \n",
      " |  split(self, /, sep=None, maxsplit=-1)\n",
      " |      Return a list of the words in the string, using sep as the delimiter string.\n",
      " |      \n",
      " |      sep\n",
      " |        The delimiter according which to split the string.\n",
      " |        None (the default value) means split according to any whitespace,\n",
      " |        and discard empty strings from the result.\n",
      " |      maxsplit\n",
      " |        Maximum number of splits to do.\n",
      " |        -1 (the default value) means no limit.\n",
      " |  \n",
      " |  splitlines(self, /, keepends=False)\n",
      " |      Return a list of the lines in the string, breaking at line boundaries.\n",
      " |      \n",
      " |      Line breaks are not included in the resulting list unless keepends is given and\n",
      " |      true.\n",
      " |  \n",
      " |  startswith(...)\n",
      " |      S.startswith(prefix[, start[, end]]) -> bool\n",
      " |      \n",
      " |      Return True if S starts with the specified prefix, False otherwise.\n",
      " |      With optional start, test S beginning at that position.\n",
      " |      With optional end, stop comparing S at that position.\n",
      " |      prefix can also be a tuple of strings to try.\n",
      " |  \n",
      " |  strip(self, chars=None, /)\n",
      " |      Return a copy of the string with leading and trailing whitespace removed.\n",
      " |      \n",
      " |      If chars is given and not None, remove characters in chars instead.\n",
      " |  \n",
      " |  swapcase(self, /)\n",
      " |      Convert uppercase characters to lowercase and lowercase characters to uppercase.\n",
      " |  \n",
      " |  title(self, /)\n",
      " |      Return a version of the string where each word is titlecased.\n",
      " |      \n",
      " |      More specifically, words start with uppercased characters and all remaining\n",
      " |      cased characters have lower case.\n",
      " |  \n",
      " |  translate(self, table, /)\n",
      " |      Replace each character in the string using the given translation table.\n",
      " |      \n",
      " |        table\n",
      " |          Translation table, which must be a mapping of Unicode ordinals to\n",
      " |          Unicode ordinals, strings, or None.\n",
      " |      \n",
      " |      The table must implement lookup/indexing via __getitem__, for instance a\n",
      " |      dictionary or list.  If this operation raises LookupError, the character is\n",
      " |      left untouched.  Characters mapped to None are deleted.\n",
      " |  \n",
      " |  upper(self, /)\n",
      " |      Return a copy of the string converted to uppercase.\n",
      " |  \n",
      " |  zfill(self, width, /)\n",
      " |      Pad a numeric string with zeros on the left, to fill a field of the given width.\n",
      " |      \n",
      " |      The string is never truncated.\n",
      " |  \n",
      " |  ----------------------------------------------------------------------\n",
      " |  Static methods defined here:\n",
      " |  \n",
      " |  __new__(*args, **kwargs) from builtins.type\n",
      " |      Create and return a new object.  See help(type) for accurate signature.\n",
      " |  \n",
      " |  maketrans(...)\n",
      " |      Return a translation table usable for str.translate().\n",
      " |      \n",
      " |      If there is only one argument, it must be a dictionary mapping Unicode\n",
      " |      ordinals (integers) or characters to Unicode ordinals, strings or None.\n",
      " |      Character keys will be then converted to ordinals.\n",
      " |      If there are two arguments, they must be strings of equal length, and\n",
      " |      in the resulting dictionary, each character in x will be mapped to the\n",
      " |      character at the same position in y. If there is a third argument, it\n",
      " |      must be a string, whose characters will be mapped to None in the result.\n",
      "\n"
     ]
    }
   ],
   "source": [
    "help(str)"
   ]
  },
  {
   "cell_type": "markdown",
   "id": "7ab1ae48",
   "metadata": {
    "slideshow": {
     "slide_type": "slide"
    }
   },
   "source": [
    "## Meer over open en File I/O\n",
    "\n",
    "Eerder hebben we gezien dat we een tekstbestand kunnen beschouwen als een lijst van strings (de regels van de tekst) door het **open** commando binnen een **for** loop te gebruiken.\n",
    "\n",
    "Het bestand getallenxyz.txt heeft de volgende structuur:\n",
    "\n",
    "        X  ,     Y  ,     Z   \n",
    "     +2.038,  +1.233,  +0.435\n",
    "     +0.052,  -1.155,  +1.239\n",
    "     -0.266,  -0.006,  +0.144\n",
    "\n",
    "We kunnen did niet rechtstreeks in een **for** loop inlezen, we zullen de eerste regel apart moeten behandelen. "
   ]
  },
  {
   "cell_type": "markdown",
   "id": "40af8f95",
   "metadata": {
    "slideshow": {
     "slide_type": "slide"
    }
   },
   "source": [
    "Dit kan door het bestand buiten de **for** loop te openen, en **readline** te gebruiken."
   ]
  },
  {
   "cell_type": "code",
   "execution_count": 1,
   "id": "81ce997a",
   "metadata": {},
   "outputs": [
    {
     "name": "stdout",
     "output_type": "stream",
     "text": [
      "['X', 'Y', 'Z']\n",
      "54.702, 71.221, 0.013\n"
     ]
    }
   ],
   "source": [
    "file = open('getallenxyz.txt')\n",
    "\n",
    "# Lees eerste regel met de kolom labels\n",
    "eersteregel = file.readline()\n",
    "labels = [s.strip() for s in eersteregel.split(',')]\n",
    "print(labels)\n",
    "\n",
    "# Lees de getallen\n",
    "xs = []\n",
    "ys = []\n",
    "zs = []\n",
    "for regel in file:\n",
    "    # Lees iedere regel als een lijst van drie getallen.\n",
    "    xyz = [float(s) for s in regel.split(',')]\n",
    "    \n",
    "    # Voeg deze drie getallen toe aan de lijsten xs, ys en zs\n",
    "    xs.append(xyz[0])\n",
    "    ys.append(xyz[1])\n",
    "    zs.append(xyz[2])\n",
    "print(f\"{sum(xs):.3f}, {sum(ys):.3f}, {sum(zs):.3f}\")"
   ]
  },
  {
   "cell_type": "markdown",
   "id": "411d8d33",
   "metadata": {
    "slideshow": {
     "slide_type": "slide"
    }
   },
   "source": [
    "We kunnen het ook inlezen als een lijst van lijsten (een tabel... komt volgende les)"
   ]
  },
  {
   "cell_type": "code",
   "execution_count": 35,
   "id": "de3007bd",
   "metadata": {},
   "outputs": [
    {
     "name": "stdout",
     "output_type": "stream",
     "text": [
      "['X', 'Y', 'Z']\n",
      "[[2.038, 1.233, 0.435], [0.052, -1.155, 1.239], [-0.266, -0.006, 0.144]]\n"
     ]
    }
   ],
   "source": [
    "file = open('getallenxyz.txt')\n",
    "\n",
    "# Lees eerste regel met de kolom labels\n",
    "labels = [s.strip() for s in file.readline().split(',')]\n",
    "print(labels)\n",
    "\n",
    "# Lees getallen\n",
    "xyzs = [[float(s) for s in regel.split(',')] for regel in file]\n",
    "\n",
    "# Print eerste drie rijen\n",
    "print(xyzs[:3])"
   ]
  },
  {
   "cell_type": "markdown",
   "id": "36e4f3a2",
   "metadata": {
    "slideshow": {
     "slide_type": "slide"
    }
   },
   "source": [
    "## Programmeerstijl\n",
    "\n",
    "- String manipulaties kunnen best lastig worden, en het is makkelijk om fouten te maken. Voer je code stap voor stap uit en check vaak tussenresultaten om te kijken of je code doet wat je verwacht. (Dit is makkelijker in Spyder dan in Jupyter...)"
   ]
  }
 ],
 "metadata": {
  "celltoolbar": "Slideshow",
  "kernelspec": {
   "display_name": "Python 3 (ipykernel)",
   "language": "python",
   "name": "python3"
  },
  "language_info": {
   "codemirror_mode": {
    "name": "ipython",
    "version": 3
   },
   "file_extension": ".py",
   "mimetype": "text/x-python",
   "name": "python",
   "nbconvert_exporter": "python",
   "pygments_lexer": "ipython3",
   "version": "3.9.13"
  },
  "toc": {
   "base_numbering": 1,
   "nav_menu": {},
   "number_sections": false,
   "sideBar": true,
   "skip_h1_title": true,
   "title_cell": "Table of Contents",
   "title_sidebar": "Contents",
   "toc_cell": false,
   "toc_position": {},
   "toc_section_display": true,
   "toc_window_display": false
  }
 },
 "nbformat": 4,
 "nbformat_minor": 5
}
