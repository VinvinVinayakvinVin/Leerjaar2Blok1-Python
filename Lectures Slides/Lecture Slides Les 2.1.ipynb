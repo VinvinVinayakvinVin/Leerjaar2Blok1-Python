{
 "cells": [
  {
   "cell_type": "markdown",
   "id": "a4001333",
   "metadata": {
    "slideshow": {
     "slide_type": "slide"
    }
   },
   "source": [
    "# Programmeren 2.1\n",
    "\n",
    "## Les 2.1 -- Functies en de **math** en **random** modules.\n"
   ]
  },
  {
   "cell_type": "markdown",
   "id": "61160b7f",
   "metadata": {
    "slideshow": {
     "slide_type": "slide"
    }
   },
   "source": [
    "## Inhoud\n",
    "- Het **math** package\n",
    "- Het **random** package\n",
    "- Zelf functies schrijven\n",
    "- Programmeerstijl"
   ]
  },
  {
   "cell_type": "markdown",
   "id": "0e8e51f3",
   "metadata": {
    "slideshow": {
     "slide_type": "slide"
    }
   },
   "source": [
    "## Het **math** package\n",
    "\n",
    "Vorige week hebben we gezien hoe we Python als rekenmachine kunnen gebruiken:\n",
    "- Optellen\n",
    "- Aftrekken\n",
    "- Vermenigvuldigen\n",
    "- (Geheeltallig) Delen\n",
    "- Machten en Wortels\n",
    "\n",
    "Maar we missen nog de goniometrische, en veel andere, functies. Deze functies staan in het **math** package. De volledige documentatie (alle functies in **math**) staat op:\n",
    "[https://docs.python.org/3.9/library/math.html](https://docs.python.org/3.9/library/math.html)."
   ]
  },
  {
   "cell_type": "markdown",
   "id": "5abe4fee",
   "metadata": {
    "slideshow": {
     "slide_type": "slide"
    }
   },
   "source": [
    "We kunnen de functies en variabelen uit het **math** package beschikbaar maken door onze code te beginnen met een **import**."
   ]
  },
  {
   "cell_type": "code",
   "execution_count": 60,
   "id": "d1ca816e",
   "metadata": {},
   "outputs": [],
   "source": [
    "import math"
   ]
  },
  {
   "cell_type": "markdown",
   "id": "561b848d",
   "metadata": {},
   "source": [
    "Documentatie voor het math package is nu ook beschikbaar met het **help** commando."
   ]
  },
  {
   "cell_type": "code",
   "execution_count": 61,
   "id": "44900017",
   "metadata": {},
   "outputs": [
    {
     "name": "stdout",
     "output_type": "stream",
     "text": [
      "Help on built-in function cos in module math:\n",
      "\n",
      "cos(x, /)\n",
      "    Return the cosine of x (measured in radians).\n",
      "\n"
     ]
    }
   ],
   "source": [
    "help(math.cos)"
   ]
  },
  {
   "cell_type": "markdown",
   "id": "4e4efa49",
   "metadata": {
    "slideshow": {
     "slide_type": "slide"
    }
   },
   "source": [
    "De functies uit het **math** package roepen we aan met **math.\\<functie naam\\>**. So kunnen we bijvoorbeeld de cosinus, sinus en tangens van $\\frac{\\pi}{6}$ berekenen. Vanuit de calculus weten we dat deze gelijk moeten zijn aan $\\frac{\\sqrt{3}}{2}$, $\\frac{1}{2}$ en $\\frac{1}{\\sqrt{3}}$."
   ]
  },
  {
   "cell_type": "code",
   "execution_count": 62,
   "id": "c11dc440",
   "metadata": {},
   "outputs": [
    {
     "name": "stdout",
     "output_type": "stream",
     "text": [
      "0.8660254037844387 0.49999999999999994 0.5773502691896256\n",
      "0.8660254037844386 0.5 0.5773502691896257\n"
     ]
    }
   ],
   "source": [
    "x = math.pi/6\n",
    "y1 = math.cos(x)\n",
    "y2 = math.sin(x)\n",
    "y3 = math.tan(x)\n",
    "\n",
    "# Print waardes en controle\n",
    "print(y1, y2, y3)\n",
    "print(3**(1/2)/2, 1/2, 3**(-1/2))"
   ]
  },
  {
   "cell_type": "markdown",
   "id": "7902f6f4",
   "metadata": {
    "slideshow": {
     "slide_type": "slide"
    }
   },
   "source": [
    "Als je maar een klein aantal functies uit **math** nodig hebt, kan je met het **from** commando ook expliciet aangeven welke functies je wilt hebben, in dit geval hoef je geen **math.** voor de functies te zetten als je ze wilt aanroepen."
   ]
  },
  {
   "cell_type": "code",
   "execution_count": 63,
   "id": "19f61c66",
   "metadata": {},
   "outputs": [
    {
     "name": "stdout",
     "output_type": "stream",
     "text": [
      "0.5000000000000001 0.8660254037844386 1.0\n"
     ]
    }
   ],
   "source": [
    "from math import pi, cos, sin\n",
    "x = pi/3\n",
    "y1 = cos(x)\n",
    "y2 = sin(x)\n",
    "print(y1, y2, y1**2+y2**2)"
   ]
  },
  {
   "cell_type": "markdown",
   "id": "83fc8076",
   "metadata": {
    "slideshow": {
     "slide_type": "slide"
    }
   },
   "source": [
    "Waarom zo ingewikkeld?\n",
    "- Er zijn duizenden verschillende packages voor Python.\n",
    "- Verschillende packages kunnen functies met dezelfde naam hebben.\n",
    "- Zo heeft het **numpy** package ook functies genaamd **cos**, **sin** en **tan**.\n",
    "- Je moet dus altijd aangeven uit welk package een functie komt."
   ]
  },
  {
   "cell_type": "markdown",
   "id": "90a76eb0",
   "metadata": {
    "slideshow": {
     "slide_type": "slide"
    }
   },
   "source": [
    "## Het **random** package\n",
    "\n",
    "Een ander veel gebruikt package bij programmeren is het **random** package. De volledige documentatie hiervoor staat op [https://docs.python.org/3.9/library/random.html](https://docs.python.org/3.9/library/random.html).\n",
    "\n",
    "We gebruiken dit package voor random trekkingen uit verschillende verdelingen, dit hebben we onder andere nodig voor:\n",
    "- Als je een computerspel programmeert wil je soms onvoorspelbaar gedrag van het spel.\n",
    "- Statistische processen kan je simuleren door heel vaak random trekkingen te doen.\n",
    "- Veel modelleer technieken hebben een stochastisch (dus random) component.\n",
    "- Beveiligde communicatie op het internet gebeurt d.m.v. random gegenereerde cryptografische sleutels."
   ]
  },
  {
   "cell_type": "code",
   "execution_count": 1,
   "id": "f1a3a299",
   "metadata": {
    "slideshow": {
     "slide_type": "slide"
    }
   },
   "outputs": [
    {
     "name": "stdout",
     "output_type": "stream",
     "text": [
      "Help on module random:\n",
      "\n",
      "NAME\n",
      "    random - Random variable generators.\n",
      "\n",
      "MODULE REFERENCE\n",
      "    https://docs.python.org/3.9/library/random\n",
      "    \n",
      "    The following documentation is automatically generated from the Python\n",
      "    source files.  It may be incomplete, incorrect or include features that\n",
      "    are considered implementation detail and may vary between Python\n",
      "    implementations.  When in doubt, consult the module reference at the\n",
      "    location listed above.\n",
      "\n",
      "DESCRIPTION\n",
      "        bytes\n",
      "        -----\n",
      "               uniform bytes (values between 0 and 255)\n",
      "    \n",
      "        integers\n",
      "        --------\n",
      "               uniform within range\n",
      "    \n",
      "        sequences\n",
      "        ---------\n",
      "               pick random element\n",
      "               pick random sample\n",
      "               pick weighted random sample\n",
      "               generate random permutation\n",
      "    \n",
      "        distributions on the real line:\n",
      "        ------------------------------\n",
      "               uniform\n",
      "               triangular\n",
      "               normal (Gaussian)\n",
      "               lognormal\n",
      "               negative exponential\n",
      "               gamma\n",
      "               beta\n",
      "               pareto\n",
      "               Weibull\n",
      "    \n",
      "        distributions on the circle (angles 0 to 2pi)\n",
      "        ---------------------------------------------\n",
      "               circular uniform\n",
      "               von Mises\n",
      "    \n",
      "    General notes on the underlying Mersenne Twister core generator:\n",
      "    \n",
      "    * The period is 2**19937-1.\n",
      "    * It is one of the most extensively tested generators in existence.\n",
      "    * The random() method is implemented in C, executes in a single Python step,\n",
      "      and is, therefore, threadsafe.\n",
      "\n",
      "CLASSES\n",
      "    _random.Random(builtins.object)\n",
      "        Random\n",
      "            SystemRandom\n",
      "    \n",
      "    class Random(_random.Random)\n",
      "     |  Random(x=None)\n",
      "     |  \n",
      "     |  Random number generator base class used by bound module functions.\n",
      "     |  \n",
      "     |  Used to instantiate instances of Random to get generators that don't\n",
      "     |  share state.\n",
      "     |  \n",
      "     |  Class Random can also be subclassed if you want to use a different basic\n",
      "     |  generator of your own devising: in that case, override the following\n",
      "     |  methods:  random(), seed(), getstate(), and setstate().\n",
      "     |  Optionally, implement a getrandbits() method so that randrange()\n",
      "     |  can cover arbitrarily large ranges.\n",
      "     |  \n",
      "     |  Method resolution order:\n",
      "     |      Random\n",
      "     |      _random.Random\n",
      "     |      builtins.object\n",
      "     |  \n",
      "     |  Methods defined here:\n",
      "     |  \n",
      "     |  __getstate__(self)\n",
      "     |      # Issue 17489: Since __reduce__ was defined to fix #759889 this is no\n",
      "     |      # longer called; we leave it here because it has been here since random was\n",
      "     |      # rewritten back in 2001 and why risk breaking something.\n",
      "     |  \n",
      "     |  __init__(self, x=None)\n",
      "     |      Initialize an instance.\n",
      "     |      \n",
      "     |      Optional argument x controls seeding, as for Random.seed().\n",
      "     |  \n",
      "     |  __reduce__(self)\n",
      "     |      Helper for pickle.\n",
      "     |  \n",
      "     |  __setstate__(self, state)\n",
      "     |  \n",
      "     |  betavariate(self, alpha, beta)\n",
      "     |      Beta distribution.\n",
      "     |      \n",
      "     |      Conditions on the parameters are alpha > 0 and beta > 0.\n",
      "     |      Returned values range between 0 and 1.\n",
      "     |  \n",
      "     |  choice(self, seq)\n",
      "     |      Choose a random element from a non-empty sequence.\n",
      "     |  \n",
      "     |  choices(self, population, weights=None, *, cum_weights=None, k=1)\n",
      "     |      Return a k sized list of population elements chosen with replacement.\n",
      "     |      \n",
      "     |      If the relative weights or cumulative weights are not specified,\n",
      "     |      the selections are made with equal probability.\n",
      "     |  \n",
      "     |  expovariate(self, lambd)\n",
      "     |      Exponential distribution.\n",
      "     |      \n",
      "     |      lambd is 1.0 divided by the desired mean.  It should be\n",
      "     |      nonzero.  (The parameter would be called \"lambda\", but that is\n",
      "     |      a reserved word in Python.)  Returned values range from 0 to\n",
      "     |      positive infinity if lambd is positive, and from negative\n",
      "     |      infinity to 0 if lambd is negative.\n",
      "     |  \n",
      "     |  gammavariate(self, alpha, beta)\n",
      "     |      Gamma distribution.  Not the gamma function!\n",
      "     |      \n",
      "     |      Conditions on the parameters are alpha > 0 and beta > 0.\n",
      "     |      \n",
      "     |      The probability distribution function is:\n",
      "     |      \n",
      "     |                  x ** (alpha - 1) * math.exp(-x / beta)\n",
      "     |        pdf(x) =  --------------------------------------\n",
      "     |                    math.gamma(alpha) * beta ** alpha\n",
      "     |  \n",
      "     |  gauss(self, mu, sigma)\n",
      "     |      Gaussian distribution.\n",
      "     |      \n",
      "     |      mu is the mean, and sigma is the standard deviation.  This is\n",
      "     |      slightly faster than the normalvariate() function.\n",
      "     |      \n",
      "     |      Not thread-safe without a lock around calls.\n",
      "     |  \n",
      "     |  getstate(self)\n",
      "     |      Return internal state; can be passed to setstate() later.\n",
      "     |  \n",
      "     |  lognormvariate(self, mu, sigma)\n",
      "     |      Log normal distribution.\n",
      "     |      \n",
      "     |      If you take the natural logarithm of this distribution, you'll get a\n",
      "     |      normal distribution with mean mu and standard deviation sigma.\n",
      "     |      mu can have any value, and sigma must be greater than zero.\n",
      "     |  \n",
      "     |  normalvariate(self, mu, sigma)\n",
      "     |      Normal distribution.\n",
      "     |      \n",
      "     |      mu is the mean, and sigma is the standard deviation.\n",
      "     |  \n",
      "     |  paretovariate(self, alpha)\n",
      "     |      Pareto distribution.  alpha is the shape parameter.\n",
      "     |  \n",
      "     |  randbytes(self, n)\n",
      "     |      Generate n random bytes.\n",
      "     |  \n",
      "     |  randint(self, a, b)\n",
      "     |      Return random integer in range [a, b], including both end points.\n",
      "     |  \n",
      "     |  randrange(self, start, stop=None, step=1)\n",
      "     |      Choose a random item from range(start, stop[, step]).\n",
      "     |      \n",
      "     |      This fixes the problem with randint() which includes the\n",
      "     |      endpoint; in Python this is usually not what you want.\n",
      "     |  \n",
      "     |  sample(self, population, k, *, counts=None)\n",
      "     |      Chooses k unique random elements from a population sequence or set.\n",
      "     |      \n",
      "     |      Returns a new list containing elements from the population while\n",
      "     |      leaving the original population unchanged.  The resulting list is\n",
      "     |      in selection order so that all sub-slices will also be valid random\n",
      "     |      samples.  This allows raffle winners (the sample) to be partitioned\n",
      "     |      into grand prize and second place winners (the subslices).\n",
      "     |      \n",
      "     |      Members of the population need not be hashable or unique.  If the\n",
      "     |      population contains repeats, then each occurrence is a possible\n",
      "     |      selection in the sample.\n",
      "     |      \n",
      "     |      Repeated elements can be specified one at a time or with the optional\n",
      "     |      counts parameter.  For example:\n",
      "     |      \n",
      "     |          sample(['red', 'blue'], counts=[4, 2], k=5)\n",
      "     |      \n",
      "     |      is equivalent to:\n",
      "     |      \n",
      "     |          sample(['red', 'red', 'red', 'red', 'blue', 'blue'], k=5)\n",
      "     |      \n",
      "     |      To choose a sample from a range of integers, use range() for the\n",
      "     |      population argument.  This is especially fast and space efficient\n",
      "     |      for sampling from a large population:\n",
      "     |      \n",
      "     |          sample(range(10000000), 60)\n",
      "     |  \n",
      "     |  seed(self, a=None, version=2)\n",
      "     |      Initialize internal state from a seed.\n",
      "     |      \n",
      "     |      The only supported seed types are None, int, float,\n",
      "     |      str, bytes, and bytearray.\n",
      "     |      \n",
      "     |      None or no argument seeds from current time or from an operating\n",
      "     |      system specific randomness source if available.\n",
      "     |      \n",
      "     |      If *a* is an int, all bits are used.\n",
      "     |      \n",
      "     |      For version 2 (the default), all of the bits are used if *a* is a str,\n",
      "     |      bytes, or bytearray.  For version 1 (provided for reproducing random\n",
      "     |      sequences from older versions of Python), the algorithm for str and\n",
      "     |      bytes generates a narrower range of seeds.\n",
      "     |  \n",
      "     |  setstate(self, state)\n",
      "     |      Restore internal state from object returned by getstate().\n",
      "     |  \n",
      "     |  shuffle(self, x, random=None)\n",
      "     |      Shuffle list x in place, and return None.\n",
      "     |      \n",
      "     |      Optional argument random is a 0-argument function returning a\n",
      "     |      random float in [0.0, 1.0); if it is the default None, the\n",
      "     |      standard random.random will be used.\n",
      "     |  \n",
      "     |  triangular(self, low=0.0, high=1.0, mode=None)\n",
      "     |      Triangular distribution.\n",
      "     |      \n",
      "     |      Continuous distribution bounded by given lower and upper limits,\n",
      "     |      and having a given mode value in-between.\n",
      "     |      \n",
      "     |      http://en.wikipedia.org/wiki/Triangular_distribution\n",
      "     |  \n",
      "     |  uniform(self, a, b)\n",
      "     |      Get a random number in the range [a, b) or [a, b] depending on rounding.\n",
      "     |  \n",
      "     |  vonmisesvariate(self, mu, kappa)\n",
      "     |      Circular data distribution.\n",
      "     |      \n",
      "     |      mu is the mean angle, expressed in radians between 0 and 2*pi, and\n",
      "     |      kappa is the concentration parameter, which must be greater than or\n",
      "     |      equal to zero.  If kappa is equal to zero, this distribution reduces\n",
      "     |      to a uniform random angle over the range 0 to 2*pi.\n",
      "     |  \n",
      "     |  weibullvariate(self, alpha, beta)\n",
      "     |      Weibull distribution.\n",
      "     |      \n",
      "     |      alpha is the scale parameter and beta is the shape parameter.\n",
      "     |  \n",
      "     |  ----------------------------------------------------------------------\n",
      "     |  Class methods defined here:\n",
      "     |  \n",
      "     |  __init_subclass__(**kwargs) from builtins.type\n",
      "     |      Control how subclasses generate random integers.\n",
      "     |      \n",
      "     |      The algorithm a subclass can use depends on the random() and/or\n",
      "     |      getrandbits() implementation available to it and determines\n",
      "     |      whether it can generate random integers from arbitrarily large\n",
      "     |      ranges.\n",
      "     |  \n",
      "     |  ----------------------------------------------------------------------\n",
      "     |  Data descriptors defined here:\n",
      "     |  \n",
      "     |  __dict__\n",
      "     |      dictionary for instance variables (if defined)\n",
      "     |  \n",
      "     |  __weakref__\n",
      "     |      list of weak references to the object (if defined)\n",
      "     |  \n",
      "     |  ----------------------------------------------------------------------\n",
      "     |  Data and other attributes defined here:\n",
      "     |  \n",
      "     |  VERSION = 3\n",
      "     |  \n",
      "     |  ----------------------------------------------------------------------\n",
      "     |  Methods inherited from _random.Random:\n",
      "     |  \n",
      "     |  getrandbits(self, k, /)\n",
      "     |      getrandbits(k) -> x.  Generates an int with k random bits.\n",
      "     |  \n",
      "     |  random(self, /)\n",
      "     |      random() -> x in the interval [0, 1).\n",
      "     |  \n",
      "     |  ----------------------------------------------------------------------\n",
      "     |  Static methods inherited from _random.Random:\n",
      "     |  \n",
      "     |  __new__(*args, **kwargs) from builtins.type\n",
      "     |      Create and return a new object.  See help(type) for accurate signature.\n",
      "    \n",
      "    class SystemRandom(Random)\n",
      "     |  SystemRandom(x=None)\n",
      "     |  \n",
      "     |  Alternate random number generator using sources provided\n",
      "     |  by the operating system (such as /dev/urandom on Unix or\n",
      "     |  CryptGenRandom on Windows).\n",
      "     |  \n",
      "     |   Not available on all systems (see os.urandom() for details).\n",
      "     |  \n",
      "     |  Method resolution order:\n",
      "     |      SystemRandom\n",
      "     |      Random\n",
      "     |      _random.Random\n",
      "     |      builtins.object\n",
      "     |  \n",
      "     |  Methods defined here:\n",
      "     |  \n",
      "     |  getrandbits(self, k)\n",
      "     |      getrandbits(k) -> x.  Generates an int with k random bits.\n",
      "     |  \n",
      "     |  getstate = _notimplemented(self, *args, **kwds)\n",
      "     |  \n",
      "     |  randbytes(self, n)\n",
      "     |      Generate n random bytes.\n",
      "     |  \n",
      "     |  random(self)\n",
      "     |      Get the next random number in the range [0.0, 1.0).\n",
      "     |  \n",
      "     |  seed(self, *args, **kwds)\n",
      "     |      Stub method.  Not used for a system random number generator.\n",
      "     |  \n",
      "     |  setstate = _notimplemented(self, *args, **kwds)\n",
      "     |  \n",
      "     |  ----------------------------------------------------------------------\n",
      "     |  Methods inherited from Random:\n",
      "     |  \n",
      "     |  __getstate__(self)\n",
      "     |      # Issue 17489: Since __reduce__ was defined to fix #759889 this is no\n",
      "     |      # longer called; we leave it here because it has been here since random was\n",
      "     |      # rewritten back in 2001 and why risk breaking something.\n",
      "     |  \n",
      "     |  __init__(self, x=None)\n",
      "     |      Initialize an instance.\n",
      "     |      \n",
      "     |      Optional argument x controls seeding, as for Random.seed().\n",
      "     |  \n",
      "     |  __reduce__(self)\n",
      "     |      Helper for pickle.\n",
      "     |  \n",
      "     |  __setstate__(self, state)\n",
      "     |  \n",
      "     |  betavariate(self, alpha, beta)\n",
      "     |      Beta distribution.\n",
      "     |      \n",
      "     |      Conditions on the parameters are alpha > 0 and beta > 0.\n",
      "     |      Returned values range between 0 and 1.\n",
      "     |  \n",
      "     |  choice(self, seq)\n",
      "     |      Choose a random element from a non-empty sequence.\n",
      "     |  \n",
      "     |  choices(self, population, weights=None, *, cum_weights=None, k=1)\n",
      "     |      Return a k sized list of population elements chosen with replacement.\n",
      "     |      \n",
      "     |      If the relative weights or cumulative weights are not specified,\n",
      "     |      the selections are made with equal probability.\n",
      "     |  \n",
      "     |  expovariate(self, lambd)\n",
      "     |      Exponential distribution.\n",
      "     |      \n",
      "     |      lambd is 1.0 divided by the desired mean.  It should be\n",
      "     |      nonzero.  (The parameter would be called \"lambda\", but that is\n",
      "     |      a reserved word in Python.)  Returned values range from 0 to\n",
      "     |      positive infinity if lambd is positive, and from negative\n",
      "     |      infinity to 0 if lambd is negative.\n",
      "     |  \n",
      "     |  gammavariate(self, alpha, beta)\n",
      "     |      Gamma distribution.  Not the gamma function!\n",
      "     |      \n",
      "     |      Conditions on the parameters are alpha > 0 and beta > 0.\n",
      "     |      \n",
      "     |      The probability distribution function is:\n",
      "     |      \n",
      "     |                  x ** (alpha - 1) * math.exp(-x / beta)\n",
      "     |        pdf(x) =  --------------------------------------\n",
      "     |                    math.gamma(alpha) * beta ** alpha\n",
      "     |  \n",
      "     |  gauss(self, mu, sigma)\n",
      "     |      Gaussian distribution.\n",
      "     |      \n",
      "     |      mu is the mean, and sigma is the standard deviation.  This is\n",
      "     |      slightly faster than the normalvariate() function.\n",
      "     |      \n",
      "     |      Not thread-safe without a lock around calls.\n",
      "     |  \n",
      "     |  lognormvariate(self, mu, sigma)\n",
      "     |      Log normal distribution.\n",
      "     |      \n",
      "     |      If you take the natural logarithm of this distribution, you'll get a\n",
      "     |      normal distribution with mean mu and standard deviation sigma.\n",
      "     |      mu can have any value, and sigma must be greater than zero.\n",
      "     |  \n",
      "     |  normalvariate(self, mu, sigma)\n",
      "     |      Normal distribution.\n",
      "     |      \n",
      "     |      mu is the mean, and sigma is the standard deviation.\n",
      "     |  \n",
      "     |  paretovariate(self, alpha)\n",
      "     |      Pareto distribution.  alpha is the shape parameter.\n",
      "     |  \n",
      "     |  randint(self, a, b)\n",
      "     |      Return random integer in range [a, b], including both end points.\n",
      "     |  \n",
      "     |  randrange(self, start, stop=None, step=1)\n",
      "     |      Choose a random item from range(start, stop[, step]).\n",
      "     |      \n",
      "     |      This fixes the problem with randint() which includes the\n",
      "     |      endpoint; in Python this is usually not what you want.\n",
      "     |  \n",
      "     |  sample(self, population, k, *, counts=None)\n",
      "     |      Chooses k unique random elements from a population sequence or set.\n",
      "     |      \n",
      "     |      Returns a new list containing elements from the population while\n",
      "     |      leaving the original population unchanged.  The resulting list is\n",
      "     |      in selection order so that all sub-slices will also be valid random\n",
      "     |      samples.  This allows raffle winners (the sample) to be partitioned\n",
      "     |      into grand prize and second place winners (the subslices).\n",
      "     |      \n",
      "     |      Members of the population need not be hashable or unique.  If the\n",
      "     |      population contains repeats, then each occurrence is a possible\n",
      "     |      selection in the sample.\n",
      "     |      \n",
      "     |      Repeated elements can be specified one at a time or with the optional\n",
      "     |      counts parameter.  For example:\n",
      "     |      \n",
      "     |          sample(['red', 'blue'], counts=[4, 2], k=5)\n",
      "     |      \n",
      "     |      is equivalent to:\n",
      "     |      \n",
      "     |          sample(['red', 'red', 'red', 'red', 'blue', 'blue'], k=5)\n",
      "     |      \n",
      "     |      To choose a sample from a range of integers, use range() for the\n",
      "     |      population argument.  This is especially fast and space efficient\n",
      "     |      for sampling from a large population:\n",
      "     |      \n",
      "     |          sample(range(10000000), 60)\n",
      "     |  \n",
      "     |  shuffle(self, x, random=None)\n",
      "     |      Shuffle list x in place, and return None.\n",
      "     |      \n",
      "     |      Optional argument random is a 0-argument function returning a\n",
      "     |      random float in [0.0, 1.0); if it is the default None, the\n",
      "     |      standard random.random will be used.\n",
      "     |  \n",
      "     |  triangular(self, low=0.0, high=1.0, mode=None)\n",
      "     |      Triangular distribution.\n",
      "     |      \n",
      "     |      Continuous distribution bounded by given lower and upper limits,\n",
      "     |      and having a given mode value in-between.\n",
      "     |      \n",
      "     |      http://en.wikipedia.org/wiki/Triangular_distribution\n",
      "     |  \n",
      "     |  uniform(self, a, b)\n",
      "     |      Get a random number in the range [a, b) or [a, b] depending on rounding.\n",
      "     |  \n",
      "     |  vonmisesvariate(self, mu, kappa)\n",
      "     |      Circular data distribution.\n",
      "     |      \n",
      "     |      mu is the mean angle, expressed in radians between 0 and 2*pi, and\n",
      "     |      kappa is the concentration parameter, which must be greater than or\n",
      "     |      equal to zero.  If kappa is equal to zero, this distribution reduces\n",
      "     |      to a uniform random angle over the range 0 to 2*pi.\n",
      "     |  \n",
      "     |  weibullvariate(self, alpha, beta)\n",
      "     |      Weibull distribution.\n",
      "     |      \n",
      "     |      alpha is the scale parameter and beta is the shape parameter.\n",
      "     |  \n",
      "     |  ----------------------------------------------------------------------\n",
      "     |  Class methods inherited from Random:\n",
      "     |  \n",
      "     |  __init_subclass__(**kwargs) from builtins.type\n",
      "     |      Control how subclasses generate random integers.\n",
      "     |      \n",
      "     |      The algorithm a subclass can use depends on the random() and/or\n",
      "     |      getrandbits() implementation available to it and determines\n",
      "     |      whether it can generate random integers from arbitrarily large\n",
      "     |      ranges.\n",
      "     |  \n",
      "     |  ----------------------------------------------------------------------\n",
      "     |  Data descriptors inherited from Random:\n",
      "     |  \n",
      "     |  __dict__\n",
      "     |      dictionary for instance variables (if defined)\n",
      "     |  \n",
      "     |  __weakref__\n",
      "     |      list of weak references to the object (if defined)\n",
      "     |  \n",
      "     |  ----------------------------------------------------------------------\n",
      "     |  Data and other attributes inherited from Random:\n",
      "     |  \n",
      "     |  VERSION = 3\n",
      "     |  \n",
      "     |  ----------------------------------------------------------------------\n",
      "     |  Static methods inherited from _random.Random:\n",
      "     |  \n",
      "     |  __new__(*args, **kwargs) from builtins.type\n",
      "     |      Create and return a new object.  See help(type) for accurate signature.\n",
      "\n",
      "FUNCTIONS\n",
      "    betavariate(alpha, beta) method of Random instance\n",
      "        Beta distribution.\n",
      "        \n",
      "        Conditions on the parameters are alpha > 0 and beta > 0.\n",
      "        Returned values range between 0 and 1.\n",
      "    \n",
      "    choice(seq) method of Random instance\n",
      "        Choose a random element from a non-empty sequence.\n",
      "    \n",
      "    choices(population, weights=None, *, cum_weights=None, k=1) method of Random instance\n",
      "        Return a k sized list of population elements chosen with replacement.\n",
      "        \n",
      "        If the relative weights or cumulative weights are not specified,\n",
      "        the selections are made with equal probability.\n",
      "    \n",
      "    expovariate(lambd) method of Random instance\n",
      "        Exponential distribution.\n",
      "        \n",
      "        lambd is 1.0 divided by the desired mean.  It should be\n",
      "        nonzero.  (The parameter would be called \"lambda\", but that is\n",
      "        a reserved word in Python.)  Returned values range from 0 to\n",
      "        positive infinity if lambd is positive, and from negative\n",
      "        infinity to 0 if lambd is negative.\n",
      "    \n",
      "    gammavariate(alpha, beta) method of Random instance\n",
      "        Gamma distribution.  Not the gamma function!\n",
      "        \n",
      "        Conditions on the parameters are alpha > 0 and beta > 0.\n",
      "        \n",
      "        The probability distribution function is:\n",
      "        \n",
      "                    x ** (alpha - 1) * math.exp(-x / beta)\n",
      "          pdf(x) =  --------------------------------------\n",
      "                      math.gamma(alpha) * beta ** alpha\n",
      "    \n",
      "    gauss(mu, sigma) method of Random instance\n",
      "        Gaussian distribution.\n",
      "        \n",
      "        mu is the mean, and sigma is the standard deviation.  This is\n",
      "        slightly faster than the normalvariate() function.\n",
      "        \n",
      "        Not thread-safe without a lock around calls.\n",
      "    \n",
      "    getrandbits(k, /) method of Random instance\n",
      "        getrandbits(k) -> x.  Generates an int with k random bits.\n",
      "    \n",
      "    getstate() method of Random instance\n",
      "        Return internal state; can be passed to setstate() later.\n",
      "    \n",
      "    lognormvariate(mu, sigma) method of Random instance\n",
      "        Log normal distribution.\n",
      "        \n",
      "        If you take the natural logarithm of this distribution, you'll get a\n",
      "        normal distribution with mean mu and standard deviation sigma.\n",
      "        mu can have any value, and sigma must be greater than zero.\n",
      "    \n",
      "    normalvariate(mu, sigma) method of Random instance\n",
      "        Normal distribution.\n",
      "        \n",
      "        mu is the mean, and sigma is the standard deviation.\n",
      "    \n",
      "    paretovariate(alpha) method of Random instance\n",
      "        Pareto distribution.  alpha is the shape parameter.\n",
      "    \n",
      "    randbytes(n) method of Random instance\n",
      "        Generate n random bytes.\n",
      "    \n",
      "    randint(a, b) method of Random instance\n",
      "        Return random integer in range [a, b], including both end points.\n",
      "    \n",
      "    random() method of Random instance\n",
      "        random() -> x in the interval [0, 1).\n",
      "    \n",
      "    randrange(start, stop=None, step=1) method of Random instance\n",
      "        Choose a random item from range(start, stop[, step]).\n",
      "        \n",
      "        This fixes the problem with randint() which includes the\n",
      "        endpoint; in Python this is usually not what you want.\n",
      "    \n",
      "    sample(population, k, *, counts=None) method of Random instance\n",
      "        Chooses k unique random elements from a population sequence or set.\n",
      "        \n",
      "        Returns a new list containing elements from the population while\n",
      "        leaving the original population unchanged.  The resulting list is\n",
      "        in selection order so that all sub-slices will also be valid random\n",
      "        samples.  This allows raffle winners (the sample) to be partitioned\n",
      "        into grand prize and second place winners (the subslices).\n",
      "        \n",
      "        Members of the population need not be hashable or unique.  If the\n",
      "        population contains repeats, then each occurrence is a possible\n",
      "        selection in the sample.\n",
      "        \n",
      "        Repeated elements can be specified one at a time or with the optional\n",
      "        counts parameter.  For example:\n",
      "        \n",
      "            sample(['red', 'blue'], counts=[4, 2], k=5)\n",
      "        \n",
      "        is equivalent to:\n",
      "        \n",
      "            sample(['red', 'red', 'red', 'red', 'blue', 'blue'], k=5)\n",
      "        \n",
      "        To choose a sample from a range of integers, use range() for the\n",
      "        population argument.  This is especially fast and space efficient\n",
      "        for sampling from a large population:\n",
      "        \n",
      "            sample(range(10000000), 60)\n",
      "    \n",
      "    seed(a=None, version=2) method of Random instance\n",
      "        Initialize internal state from a seed.\n",
      "        \n",
      "        The only supported seed types are None, int, float,\n",
      "        str, bytes, and bytearray.\n",
      "        \n",
      "        None or no argument seeds from current time or from an operating\n",
      "        system specific randomness source if available.\n",
      "        \n",
      "        If *a* is an int, all bits are used.\n",
      "        \n",
      "        For version 2 (the default), all of the bits are used if *a* is a str,\n",
      "        bytes, or bytearray.  For version 1 (provided for reproducing random\n",
      "        sequences from older versions of Python), the algorithm for str and\n",
      "        bytes generates a narrower range of seeds.\n",
      "    \n",
      "    setstate(state) method of Random instance\n",
      "        Restore internal state from object returned by getstate().\n",
      "    \n",
      "    shuffle(x, random=None) method of Random instance\n",
      "        Shuffle list x in place, and return None.\n",
      "        \n",
      "        Optional argument random is a 0-argument function returning a\n",
      "        random float in [0.0, 1.0); if it is the default None, the\n",
      "        standard random.random will be used.\n",
      "    \n",
      "    triangular(low=0.0, high=1.0, mode=None) method of Random instance\n",
      "        Triangular distribution.\n",
      "        \n",
      "        Continuous distribution bounded by given lower and upper limits,\n",
      "        and having a given mode value in-between.\n",
      "        \n",
      "        http://en.wikipedia.org/wiki/Triangular_distribution\n",
      "    \n",
      "    uniform(a, b) method of Random instance\n",
      "        Get a random number in the range [a, b) or [a, b] depending on rounding.\n",
      "    \n",
      "    vonmisesvariate(mu, kappa) method of Random instance\n",
      "        Circular data distribution.\n",
      "        \n",
      "        mu is the mean angle, expressed in radians between 0 and 2*pi, and\n",
      "        kappa is the concentration parameter, which must be greater than or\n",
      "        equal to zero.  If kappa is equal to zero, this distribution reduces\n",
      "        to a uniform random angle over the range 0 to 2*pi.\n",
      "    \n",
      "    weibullvariate(alpha, beta) method of Random instance\n",
      "        Weibull distribution.\n",
      "        \n",
      "        alpha is the scale parameter and beta is the shape parameter.\n",
      "\n",
      "DATA\n",
      "    __all__ = ['Random', 'SystemRandom', 'betavariate', 'choice', 'choices...\n",
      "\n",
      "FILE\n",
      "    /Users/robertnolet/opt/anaconda3/envs/Prog2.1/lib/python3.9/random.py\n",
      "\n",
      "\n"
     ]
    }
   ],
   "source": [
    "import random\n",
    "help(random)"
   ]
  },
  {
   "cell_type": "markdown",
   "id": "f3747dbe",
   "metadata": {
    "slideshow": {
     "slide_type": "slide"
    }
   },
   "source": [
    "We kunnen nu trekkingen doen uit verschillende verdelingen:"
   ]
  },
  {
   "cell_type": "code",
   "execution_count": 65,
   "id": "89e90899",
   "metadata": {
    "cell_style": "split"
   },
   "outputs": [
    {
     "name": "stdout",
     "output_type": "stream",
     "text": [
      "0.6533287364197305\n",
      "0.9243436466027566\n",
      "0.8315351141537762\n",
      "0.9424203682391117\n"
     ]
    }
   ],
   "source": [
    "# Vier trekkingen uit een\n",
    "# uniforme verdeling op [0,1]\n",
    "print(random.uniform(0,1))\n",
    "print(random.uniform(0,1))\n",
    "print(random.uniform(0,1))\n",
    "print(random.uniform(0,1))"
   ]
  },
  {
   "cell_type": "code",
   "execution_count": 66,
   "id": "ecf88c44",
   "metadata": {
    "cell_style": "split"
   },
   "outputs": [
    {
     "name": "stdout",
     "output_type": "stream",
     "text": [
      "-1.046554808413666\n",
      "-0.2894955320160319\n",
      "-1.2824685181494904\n",
      "-0.2544425696424416\n"
     ]
    }
   ],
   "source": [
    "# Vier trekkingen uit een\n",
    "# standaardnormaal verdeling.\n",
    "print(random.gauss(0,1))\n",
    "print(random.gauss(0,1))\n",
    "print(random.gauss(0,1))\n",
    "print(random.gauss(0,1))"
   ]
  },
  {
   "cell_type": "code",
   "execution_count": 67,
   "id": "15fe1cb6",
   "metadata": {
    "cell_style": "split"
   },
   "outputs": [
    {
     "name": "stdout",
     "output_type": "stream",
     "text": [
      "2\n",
      "2\n",
      "3\n",
      "6\n"
     ]
    }
   ],
   "source": [
    "# Vier dobbelsteen worpen\n",
    "# (random integers van 1--6)\n",
    "print(random.randint(1,6))\n",
    "print(random.randint(1,6))\n",
    "print(random.randint(1,6))\n",
    "print(random.randint(1,6))"
   ]
  },
  {
   "cell_type": "code",
   "execution_count": 68,
   "id": "292b0be0",
   "metadata": {
    "cell_style": "split"
   },
   "outputs": [
    {
     "name": "stdout",
     "output_type": "stream",
     "text": [
      "9.58257776333028\n",
      "-3.056487771581849\n",
      "1.3174306352932237\n",
      "-1.8639280400814755\n"
     ]
    }
   ],
   "source": [
    "# Vier trekkingen uit een\n",
    "# N(mu=2, sigma=6) verdeling\n",
    "print(random.gauss(2,6))\n",
    "print(random.gauss(2,6))\n",
    "print(random.gauss(2,6))\n",
    "print(random.gauss(2,6))"
   ]
  },
  {
   "cell_type": "markdown",
   "id": "93b29f32",
   "metadata": {
    "slideshow": {
     "slide_type": "slide"
    }
   },
   "source": [
    "### Random seeds"
   ]
  },
  {
   "cell_type": "markdown",
   "id": "dc586627",
   "metadata": {
    "cell_style": "center"
   },
   "source": [
    "- Stel je voor dat je een boek hebt met random getallen. (Bijvoorbeeld: [https://www.amazon.com/Million-Random-Digits-Normal-Deviates/dp/0833030477](https://www.amazon.com/Million-Random-Digits-Normal-Deviates/dp/0833030477))\n",
    "- Je begint op een vaste pagina in het boek, en iedere keer dat je een random functie aanroept, kies je het volgende getal uit dit boek.\n",
    "- Als je iedere keer dat je je programma draait op dezelfde pagina begint, krijg je iedere keer dezelfde trekkingen.\n",
    "- Het klinkt raar, maar voor het testen van je code is dit een wenselijke situatie. Zo kan je controlleren of een kleine verandering in je code nog steeds dezelfde resultaten geeft.\n",
    "- Het [**random seed**](https://en.wikipedia.org/wiki/Random_seed) kan je beschouwen als de pagina in dit boek waar je begint met lezen."
   ]
  },
  {
   "cell_type": "markdown",
   "id": "b01a36a6",
   "metadata": {
    "cell_style": "center",
    "slideshow": {
     "slide_type": "slide"
    }
   },
   "source": [
    "Dit boek bestaat echt, met name de reviews op Amazon zijn heel grappig te lezen."
   ]
  },
  {
   "attachments": {
    "image.png": {
     "image/png": "[encoded data removed]"
    }
   },
   "cell_type": "markdown",
   "id": "54c8b36f",
   "metadata": {
    "cell_style": "split"
   },
   "source": [
    "![image.png](attachment:image.png)"
   ]
  },
  {
   "attachments": {
    "image.png": {
     "image/png": "[encoded data removed]"
    }
   },
   "cell_type": "markdown",
   "id": "ba67c52c",
   "metadata": {
    "cell_style": "split"
   },
   "source": [
    "![image.png](attachment:image.png)"
   ]
  },
  {
   "cell_type": "markdown",
   "id": "49368bbc",
   "metadata": {
    "slideshow": {
     "slide_type": "slide"
    }
   },
   "source": [
    "Een random seed stel je in met de **random.seed** functie.\n",
    "- Als er een getal als argument meegegeven word, dan zal je iedere keer dat je je programma runt, dezelfde rij random getallen krijgen.\n",
    "- Als je geen getal meegeeft dan word de huidige tijd (op milliseconde niveau) als seed gebruikt, en zijn je resultaten bij iedere run anders."
   ]
  },
  {
   "cell_type": "code",
   "execution_count": 69,
   "id": "5759dad1",
   "metadata": {
    "cell_style": "split"
   },
   "outputs": [
    {
     "name": "stdout",
     "output_type": "stream",
     "text": [
      "0.6394267984578837\n",
      "0.025010755222666936\n",
      "0.27502931836911926\n",
      "0.22321073814882275\n"
     ]
    }
   ],
   "source": [
    "# Vier trekkingen uit een\n",
    "# uniforme verdeling op [0,1]\n",
    "# met random seed.\n",
    "random.seed(42)\n",
    "print(random.uniform(0,1))\n",
    "print(random.uniform(0,1))\n",
    "print(random.uniform(0,1))\n",
    "print(random.uniform(0,1))"
   ]
  },
  {
   "cell_type": "code",
   "execution_count": 70,
   "id": "18b20edb",
   "metadata": {
    "cell_style": "split"
   },
   "outputs": [
    {
     "name": "stdout",
     "output_type": "stream",
     "text": [
      "0.2875327822255146\n",
      "0.7816724853586967\n",
      "0.2543436242441067\n",
      "0.7273947834477216\n"
     ]
    }
   ],
   "source": [
    "# Vier trekkingen uit een\n",
    "# uniforme verdeling op [0,1]\n",
    "# zonder random seed.\n",
    "random.seed()\n",
    "print(random.uniform(0,1))\n",
    "print(random.uniform(0,1))\n",
    "print(random.uniform(0,1))\n",
    "print(random.uniform(0,1))"
   ]
  },
  {
   "cell_type": "markdown",
   "id": "f447155f",
   "metadata": {
    "slideshow": {
     "slide_type": "slide"
    }
   },
   "source": [
    "## Zelf functies schrijven\n",
    "\n",
    "Net zoals je in de wiskunde een functie $f$ kan definieren:\n",
    "$$\n",
    "f(x) = x^2 - 2x + 1\n",
    "$$\n",
    "kan je in je programmacode ook functies definieren."
   ]
  },
  {
   "cell_type": "code",
   "execution_count": 71,
   "id": "01bcc798",
   "metadata": {},
   "outputs": [
    {
     "name": "stdout",
     "output_type": "stream",
     "text": [
      "\n",
      "Laat y = f(x),\n",
      "als x = 0 dan is y = 1,\n",
      "als x = 1 dan is y = 0,\n",
      "als x = 2 dan is y = 1,\n",
      "als x = 3 dan is y = 4.\n",
      "\n"
     ]
    }
   ],
   "source": [
    "def f(x):\n",
    "    a = x**2\n",
    "    b = 2*x\n",
    "    return a - b + 1\n",
    "\n",
    "print(f\"\"\"\n",
    "Laat y = f(x),\n",
    "als x = 0 dan is y = {f(0)},\n",
    "als x = 1 dan is y = {f(1)},\n",
    "als x = 2 dan is y = {f(2)},\n",
    "als x = 3 dan is y = {f(3)}.\n",
    "\"\"\")"
   ]
  },
  {
   "cell_type": "code",
   "execution_count": 72,
   "id": "12cce3a7",
   "metadata": {
    "slideshow": {
     "slide_type": "slide"
    }
   },
   "outputs": [],
   "source": [
    "def f(x):\n",
    "    a = x**2\n",
    "    b = 2*x\n",
    "    return a - b + 1"
   ]
  },
  {
   "cell_type": "markdown",
   "id": "d7a35144",
   "metadata": {},
   "source": [
    "- **def** geeft aan dat hier een functie gedefinieerd word\n",
    "- de naam van de functie is **f**\n",
    "- de functie heeft een **invoer argument**, de variabele **x**\n",
    "- de volgende drie ingesprongen regels zijn de code die bij de functie hoort\n",
    "- het **return** commando geeft de uitvoer van de functie"
   ]
  },
  {
   "cell_type": "code",
   "execution_count": 73,
   "id": "97b76aa5",
   "metadata": {
    "slideshow": {
     "slide_type": "slide"
    }
   },
   "outputs": [
    {
     "name": "stdout",
     "output_type": "stream",
     "text": [
      "4\n",
      "5\n"
     ]
    }
   ],
   "source": [
    "def f(x):\n",
    "    a = x**2\n",
    "    b = 2*x\n",
    "    return a - b + 1\n",
    "\n",
    "x = 4\n",
    "y = f(3)\n",
    "print(x)\n",
    "print(a)"
   ]
  },
  {
   "cell_type": "markdown",
   "id": "2d8b195c",
   "metadata": {},
   "source": [
    "Er is een onderscheid tussen variabelen gedefinieerd *binnen* de functie **f**, en de variabelen daarbuiten.\n",
    "- **a** en **b** zijn alleen gedefinieerd *binnen* de functie **f**. \n",
    "- Bij uitvoer van de regel **y = f(3)** heeft **x** binnen de functie de waarde 3.\n",
    "- Buiten **f** heeft **x** de waarde 4."
   ]
  },
  {
   "cell_type": "code",
   "execution_count": 74,
   "id": "10084f0c",
   "metadata": {
    "slideshow": {
     "slide_type": "slide"
    }
   },
   "outputs": [
    {
     "name": "stdout",
     "output_type": "stream",
     "text": [
      "16 5\n"
     ]
    }
   ],
   "source": [
    "def f(x):\n",
    "    a = x**2\n",
    "    b = 2*x\n",
    "    return a - b + 1\n",
    "\n",
    "a = 5\n",
    "x = f(a)\n",
    "print(x, a)"
   ]
  },
  {
   "cell_type": "markdown",
   "id": "ccb08e53",
   "metadata": {},
   "source": [
    "Het idee is dat de aanroeper van de functie afgeschermed is van de implementatie van de functie. Je zou een functie los van de rest van het programma moeten kunnen schrijven, gebruiken en testen."
   ]
  },
  {
   "cell_type": "code",
   "execution_count": 75,
   "id": "83002cf6",
   "metadata": {
    "cell_style": "split",
    "slideshow": {
     "slide_type": "slide"
    }
   },
   "outputs": [
    {
     "name": "stdout",
     "output_type": "stream",
     "text": [
      "\n",
      "    De vergelijking\n",
      "      1x^2 +2x -5 = 0\n",
      "    heeft twee oplossingen:\n",
      "    x1 = 1.4494897427831779, en\n",
      "    x2 = -3.449489742783178\n",
      "    \n",
      "\n",
      "    De vergelijking\n",
      "      2x^2 -12x +4 = 0\n",
      "    heeft twee oplossingen:\n",
      "    x1 = 5.645751311064591, en\n",
      "    x2 = 0.3542486889354093\n",
      "    \n"
     ]
    }
   ],
   "source": [
    "def abc_formule(a, b, c):\n",
    "    disc = b*b - 4*a*c\n",
    "    # TO DO -- controleren of de\n",
    "    # discriminant positief is\n",
    "    x1 = (-b + disc**(1/2))/(2*a)\n",
    "    x2 = (-b - disc**(1/2))/(2*a)\n",
    "    print(f\"\"\"\n",
    "    De vergelijking\n",
    "      {a}x^2 {b:+}x {c:+} = 0\n",
    "    heeft twee oplossingen:\n",
    "    x1 = {x1}, en\n",
    "    x2 = {x2}\n",
    "    \"\"\")\n",
    "\n",
    "abc_formule(1, 2, -5)\n",
    "abc_formule(2, -12, 4)"
   ]
  },
  {
   "cell_type": "markdown",
   "id": "794ddf29",
   "metadata": {
    "cell_style": "split"
   },
   "source": [
    "- Voor naamgeving van functies gelden dezelfde regels als voor variabelen.\n",
    "- Deze functie heeft 3 invoer argumenten, **a**, **b** en **c**.\n",
    "- De functie heeft *geen* uitvoer en ook geen **return**.\n",
    "- In plaats daarvan **print** de functie zijn resultaat."
   ]
  },
  {
   "cell_type": "markdown",
   "id": "39192f64",
   "metadata": {
    "slideshow": {
     "slide_type": "skip"
    }
   },
   "source": []
  },
  {
   "cell_type": "markdown",
   "id": "4fa163cb",
   "metadata": {
    "cell_style": "split",
    "slideshow": {
     "slide_type": "slide"
    }
   },
   "source": [
    "Functies kunnen ook andere functies aanroepen. Zo kan je een groter probleem in verschillende brokjes opsplitsen."
   ]
  },
  {
   "cell_type": "code",
   "execution_count": 76,
   "id": "0a02425f",
   "metadata": {
    "cell_style": "split",
    "scrolled": false,
    "slideshow": {
     "slide_type": "-"
    }
   },
   "outputs": [],
   "source": [
    "def discriminant(a, b, c):\n",
    "    return b*b - 4*a*c\n",
    "\n",
    "def vergelijking(a, b, c):\n",
    "    return f\"{a}x^2 {b:+}x {c:+} = 0\"\n",
    "\n",
    "def tekst_oplossingen(s, x1, x2):\n",
    "    return f\"\"\"\n",
    "    De vergelijking\n",
    "      {s}\n",
    "    heeft twee oplossingen:\n",
    "    x1 = {x1}, en\n",
    "    x2 = {x2}\n",
    "    \"\"\""
   ]
  },
  {
   "cell_type": "code",
   "execution_count": 77,
   "id": "c0897009",
   "metadata": {
    "cell_style": "split"
   },
   "outputs": [
    {
     "name": "stdout",
     "output_type": "stream",
     "text": [
      "\n",
      "    De vergelijking\n",
      "      1x^2 +2x -5 = 0\n",
      "    heeft twee oplossingen:\n",
      "    x1 = 1.4494897427831779, en\n",
      "    x2 = -3.449489742783178\n",
      "    \n"
     ]
    }
   ],
   "source": [
    "def abc_formule(a, b, c):\n",
    "    s = vergelijking(a, b, c)\n",
    "    disc = discriminant(a, b, c)\n",
    "    # TO DO -- controleren of de\n",
    "    # discriminant positief is\n",
    "    x1 = (-b + disc**(1/2))/(2*a)\n",
    "    x2 = (-b - disc**(1/2))/(2*a)\n",
    "    print(tekst_oplossingen(s, x1, x2))\n",
    "    \n",
    "abc_formule(1, 2, -5)"
   ]
  },
  {
   "cell_type": "markdown",
   "id": "c1d74b87",
   "metadata": {
    "slideshow": {
     "slide_type": "slide"
    }
   },
   "source": [
    "Als een functie definitie begint met een (multiline) string, dan heet dit een **docstring**. Deze word niet uitgevoerd door de functie maar is beschikbaar via het **help** commando."
   ]
  },
  {
   "cell_type": "code",
   "execution_count": 78,
   "id": "c8b69c5e",
   "metadata": {
    "cell_style": "center",
    "slideshow": {
     "slide_type": "-"
    }
   },
   "outputs": [
    {
     "name": "stdout",
     "output_type": "stream",
     "text": [
      "Hallo Robert!\n",
      "Hallo Robert!\n",
      "Hallo Robert!\n",
      "\n",
      "Help on function groet in module __main__:\n",
      "\n",
      "groet(naam, n)\n",
      "    Begroet de aanroeper n keer.\n",
      "    \n",
      "    Argumenten:\n",
      "      naam -- Naam die in de groet gebruikt word.\n",
      "      n -- Aantal keer dat de aanroeper begroet word.\n",
      "\n"
     ]
    }
   ],
   "source": [
    "def groet(naam, n):\n",
    "    \"\"\"Begroet de aanroeper n keer.\n",
    "    \n",
    "    Argumenten:\n",
    "      naam -- Naam die in de groet gebruikt word.\n",
    "      n -- Aantal keer dat de aanroeper begroet word.\n",
    "    \"\"\"\n",
    "    print(f\"Hallo {naam}!\\n\"*n)\n",
    "    \n",
    "groet(\"Robert\", 3)\n",
    "help(groet)"
   ]
  },
  {
   "cell_type": "markdown",
   "id": "35409ce6",
   "metadata": {},
   "source": [
    "## Opgaven met functies\n",
    "\n",
    "- Tot nu toe waren meeste opgaven van de vorm: \"schrijf een programma dat ...\"\n",
    "  - Het programma vraagt invoer via het **input** commando\n",
    "  - Het programma geeft uitvoer met het **print** commando\n",
    "  - Je test het programma door het uit te voeren\n",
    "- Nu zal je ook opgaven van de vorm: \"schrijf een functie die ...\"\n",
    "  - De functie krijgt invoer via zijn invoerargumenten\n",
    "  - De functie geeft zijn uitvoer via het **return** commando\n",
    "  - Soms **print** de functie ook nog wat\n",
    "  - Je zult een los stukje code met een functieaanroep moeten schrijven om je functie te testen, deze is strict gesproken niet onderdeel van de opdracht.\n",
    "  \n",
    "Let op dit onderscheid bij het maken van opgaven (en bij het tentamen!)"
   ]
  },
  {
   "cell_type": "markdown",
   "id": "3ce998e0",
   "metadata": {
    "slideshow": {
     "slide_type": "slide"
    }
   },
   "source": [
    "## Programmeerstijl\n",
    "\n",
    "- Structuur code:\n",
    "  1. (in Spyder) docstring (naam programmeur, datum)\n",
    "  2. **import** en **from** ... **import** ...\n",
    "  3. Functiedefinities\n",
    "  4. **seed**\n",
    "  5. Rest code\n",
    "- Importeer alleen functies en packages die je daadwerkelijk in je code gebruikt   "
   ]
  },
  {
   "cell_type": "markdown",
   "id": "052167ba",
   "metadata": {
    "slideshow": {
     "slide_type": "slide"
    }
   },
   "source": [
    "## Programmeerstijl\n",
    "\n",
    "- Als je random functies gebruikt, gebruik dan altijd een *seed*.\n",
    "- Functies maken alleen gebruik van hun argumenten, en niet van variabelen die daarbuiten zijn gedefinieerd.\n",
    "  - Uitzondering: constanten ($\\pi$, $e$, etc...)\n",
    "- Naamgeving functies:\n",
    "  - Zelfde regels als voor namen van variabelen\n",
    "  - Naam van een functie met uitvoer beschrijft de uitvoer"
   ]
  },
  {
   "cell_type": "markdown",
   "id": "634684f7",
   "metadata": {
    "slideshow": {
     "slide_type": "slide"
    }
   },
   "source": [
    "## Programmeerstijl\n",
    "\n",
    "- Alle functies hebben een docstring\n",
    "  - Korte beschrijving wat de functie doet\n",
    "  - Beschrijving invoer argumenten\n",
    "  - Beschrijf evt. uitvoer"
   ]
  },
  {
   "cell_type": "code",
   "execution_count": null,
   "id": "4104c434",
   "metadata": {},
   "outputs": [],
   "source": []
  }
 ],
 "metadata": {
  "celltoolbar": "Slideshow",
  "kernelspec": {
   "display_name": "Python 3 (ipykernel)",
   "language": "python",
   "name": "python3"
  },
  "language_info": {
   "codemirror_mode": {
    "name": "ipython",
    "version": 3
   },
   "file_extension": ".py",
   "mimetype": "text/x-python",
   "name": "python",
   "nbconvert_exporter": "python",
   "pygments_lexer": "ipython3",
   "version": "3.9.13"
  },
  "toc": {
   "base_numbering": 1,
   "nav_menu": {},
   "number_sections": false,
   "sideBar": true,
   "skip_h1_title": true,
   "title_cell": "Table of Contents",
   "title_sidebar": "Contents",
   "toc_cell": false,
   "toc_position": {},
   "toc_section_display": true,
   "toc_window_display": true
  }
 },
 "nbformat": 4,
 "nbformat_minor": 5
}
