{
 "cells": [
  {
   "cell_type": "markdown",
   "id": "80888316",
   "metadata": {},
   "source": [
    "# Tentamen Programmeren 2.1\n",
    "## 2021-2022\n",
    "\n",
    "### Opgave 1\n",
    "Wat doet de volgende code? Geef de uitvoer van de code en licht je antwoord toe."
   ]
  },
  {
   "cell_type": "code",
   "execution_count": 3,
   "id": "53060076",
   "metadata": {},
   "outputs": [
    {
     "name": "stdout",
     "output_type": "stream",
     "text": [
      "2\n",
      "1 + 1 = 2\n",
      "2 + 1 = 3\n",
      "3 + 2 = 5\n",
      "5 + 3 = 8\n",
      "Uitvoer 1: 8\n",
      "Uitvoer 2: 3\n",
      "Uitvoer 3: [1, 1, 2, 3, 5, 8]\n"
     ]
    }
   ],
   "source": [
    "x = [1,1]\n",
    "def f(n):\n",
    "    if len(x) <= n:\n",
    "        print(len(x))\n",
    "        for i in range(len(x), n+1):\n",
    "            x.append(x[i-1] + x[i-2])\n",
    "            print(f\"{x[i-1]} + {x[i-2]} = {x[i]}\")\n",
    "    return x[n]\n",
    "\n",
    "print(\"Uitvoer 1:\", f(5))\n",
    "print(\"Uitvoer 2:\", f(3))\n",
    "print(\"Uitvoer 3:\", x)"
   ]
  },
  {
   "cell_type": "markdown",
   "id": "ccf3017b",
   "metadata": {},
   "source": [
    "De functie **f** berekend de rij van Fibonacci\n",
    "\n",
    "$$\n",
    "x_n = x_{n-1} + x_{n-2}, \\qquad \\text{met $x_0 = x_1 = 1$.}\n",
    "$$\n",
    "De lijst **x** houdt eerder berekende waardes bij. Als **f(n)** al eerder berekend is, dan word de eerder berekende waarde **x[n]** teruggegeven, anders word deze berekend door te loopen totdat **x[n]** bekend is."
   ]
  },
  {
   "cell_type": "markdown",
   "id": "29d3771a",
   "metadata": {},
   "source": [
    "### Opgave 2\n",
    "Schrijf een functie **trace** die als invoer een vierkantmatrix heeft, en als uitvoer de *trace* (som van de diagonaal elementen.) Je mag er van uit gaan dat de invoer altijd vierkant is, maar je functie moet voor matrices van iedere grootte werken.\n",
    "\n",
    "(Het is hier *niet* de bedoeling dat je functie als **numpy.trace** aanroept, je moet deze functie zelf schrijven.)\n",
    "\n",
    "Een aantal voorbeelduitvoeren zijn:"
   ]
  },
  {
   "cell_type": "code",
   "execution_count": 2,
   "id": "79bc853d",
   "metadata": {},
   "outputs": [],
   "source": [
    "# Uitwerking 1\n",
    "def trace(M):\n",
    "    return sum(M[i][i] for i in range(len(M)))\n",
    "\n",
    "# Uitwerking 2\n",
    "def trace(M):\n",
    "    r = 0\n",
    "    for i in range(len(M)):\n",
    "        r = r + M[i][i]\n",
    "    return r"
   ]
  },
  {
   "cell_type": "code",
   "execution_count": 3,
   "id": "f3735303",
   "metadata": {
    "cell_style": "split"
   },
   "outputs": [
    {
     "name": "stdout",
     "output_type": "stream",
     "text": [
      "7\n"
     ]
    }
   ],
   "source": [
    "A = [[2,3],\n",
    "     [4,5]]\n",
    "print(trace(A))"
   ]
  },
  {
   "cell_type": "code",
   "execution_count": 4,
   "id": "ac1a62ee",
   "metadata": {
    "cell_style": "split"
   },
   "outputs": [
    {
     "name": "stdout",
     "output_type": "stream",
     "text": [
      "14\n"
     ]
    }
   ],
   "source": [
    "B = [[1, 2, 3, 4],\n",
    "     [5, 6, 7, 8],\n",
    "     [9, 0, 1, 2],\n",
    "     [3, 4, 5, 6]]\n",
    "print(trace(B))"
   ]
  },
  {
   "cell_type": "markdown",
   "id": "107965a4",
   "metadata": {},
   "source": [
    "### Opgave 3\n",
    "De volgende functie probeert het grootste element van een lijst van getallen te vinden. De code bevat echter een aantal fouten. Geef aan wat de fout is en hoe je het zou corrigeren."
   ]
  },
  {
   "cell_type": "code",
   "execution_count": null,
   "id": "ffd7a40e",
   "metadata": {},
   "outputs": [],
   "source": [
    "maximum(x):\n",
    "    m = 0\n",
    "    for x in x:\n",
    "        if x < m\n",
    "        m = x"
   ]
  },
  {
   "cell_type": "code",
   "execution_count": 5,
   "id": "a0d1d7f0",
   "metadata": {},
   "outputs": [],
   "source": [
    "# Correcte functie\n",
    "def maximum(xs):   # \"def\" ontbrak, de naam x was dubbel gebruikt, omdat de invoer een lijst is maken we het meervoud (xs)\n",
    "    m = xs[0]      # anders werkt de functie niet voor een lijst van negatieve getallen\n",
    "    for x in xs:   # lijst heet nu xs\n",
    "        if x > m:  # \":\" ontbrak en we berekenen het maximum, dus we zoeken elementen \"groter dan\" het laatst gevonden max\n",
    "            m = x  # inspringen\n",
    "    return m       # een functie heeft een returnwaarde"
   ]
  }
 ],
 "metadata": {
  "kernelspec": {
   "display_name": "Python 3 (ipykernel)",
   "language": "python",
   "name": "python3"
  },
  "language_info": {
   "codemirror_mode": {
    "name": "ipython",
    "version": 3
   },
   "file_extension": ".py",
   "mimetype": "text/x-python",
   "name": "python",
   "nbconvert_exporter": "python",
   "pygments_lexer": "ipython3",
   "version": "3.9.12"
  },
  "toc": {
   "base_numbering": 1,
   "nav_menu": {},
   "number_sections": true,
   "sideBar": true,
   "skip_h1_title": false,
   "title_cell": "Table of Contents",
   "title_sidebar": "Contents",
   "toc_cell": false,
   "toc_position": {},
   "toc_section_display": true,
   "toc_window_display": false
  }
 },
 "nbformat": 4,
 "nbformat_minor": 5
}
