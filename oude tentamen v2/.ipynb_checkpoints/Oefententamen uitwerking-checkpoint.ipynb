{
 "cells": [
  {
   "cell_type": "code",
   "execution_count": 2,
   "id": "717f8acf",
   "metadata": {},
   "outputs": [
    {
     "name": "stdout",
     "output_type": "stream",
     "text": [
      "Vul een geheel getal >0 in: 10\n",
      "1 2 5 14 42 132 429 1430 4862 16796 "
     ]
    }
   ],
   "source": [
    "n = int(input(\"Vul een geheel getal >0 in: \"))\n",
    "# Catalan Cn bepalen\n",
    "def catalan(n):\n",
    "    product = 1\n",
    "    if n > 1:\n",
    "        for k in range(2, n+1):\n",
    "            product = product * (n+k)/k\n",
    "    return product\n",
    "\n",
    "# rij C1, C2, ..., Cn printen\n",
    "for i in range(1, n+1):\n",
    "    print(int(catalan(i)), end = \" \")  "
   ]
  },
  {
   "cell_type": "code",
   "execution_count": 8,
   "id": "2888fc61",
   "metadata": {},
   "outputs": [
    {
     "name": "stdout",
     "output_type": "stream",
     "text": [
      "vul geheel getal in: 19\n",
      "10011"
     ]
    }
   ],
   "source": [
    "n = int(input('vul geheel getal in: '))\n",
    "power = 1\n",
    "\n",
    "while power <= int(n/2):\n",
    "    power = power * 2\n",
    "    \n",
    "while power > 0:\n",
    "    if n < power:\n",
    "        print(0, end = '')\n",
    "    else:\n",
    "        print(1, end = '')\n",
    "        n = n - power\n",
    "    power = int(power / 2)"
   ]
  },
  {
   "cell_type": "code",
   "execution_count": 21,
   "id": "ecfa26d3",
   "metadata": {},
   "outputs": [
    {
     "name": "stdout",
     "output_type": "stream",
     "text": [
      "Vul een geheel getal n in: 3\n",
      "Vul een geheel getal s > 1 in: 3\n",
      "1.162037037037037\n"
     ]
    }
   ],
   "source": [
    "import math # fout 1: import math weggelaten\n",
    "\n",
    "def f(n, s): # fout 2: de : weggelaten\n",
    "    som = 0 # fout 3: som moet starten op 0, niet 1.\n",
    "    for i in range(1, n+1): # fout 4: start bij i = 1 en stop bij i = n \n",
    "        som = som + 1/math.pow(i,s)\n",
    "    return som # fout 5: return vergeten\n",
    "\n",
    "n = int(input('Vul een geheel getal n in: ')) # fout 6: int vergeten\n",
    "s = int(input('Vul een geheel getal s > 1 in: ')) # fout 7: int vergeten                      \n",
    "print(f(n, s))"
   ]
  }
 ],
 "metadata": {
  "kernelspec": {
   "display_name": "Python 3 (ipykernel)",
   "language": "python",
   "name": "python3"
  },
  "language_info": {
   "codemirror_mode": {
    "name": "ipython",
    "version": 3
   },
   "file_extension": ".py",
   "mimetype": "text/x-python",
   "name": "python",
   "nbconvert_exporter": "python",
   "pygments_lexer": "ipython3",
   "version": "3.9.12"
  },
  "toc": {
   "base_numbering": 1,
   "nav_menu": {},
   "number_sections": true,
   "sideBar": true,
   "skip_h1_title": false,
   "title_cell": "Table of Contents",
   "title_sidebar": "Contents",
   "toc_cell": false,
   "toc_position": {},
   "toc_section_display": true,
   "toc_window_display": false
  }
 },
 "nbformat": 4,
 "nbformat_minor": 5
}
