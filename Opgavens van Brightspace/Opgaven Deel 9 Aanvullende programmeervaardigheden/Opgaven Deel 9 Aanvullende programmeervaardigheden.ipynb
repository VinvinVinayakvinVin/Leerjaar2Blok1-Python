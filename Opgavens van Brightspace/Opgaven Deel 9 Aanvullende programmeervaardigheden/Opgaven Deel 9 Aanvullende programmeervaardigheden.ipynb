{
 "cells": [
  {
   "cell_type": "markdown",
   "metadata": {},
   "source": [
    "# Opgaven Deel 9: Aanvullende programmeervaardigheden\n",
    "\n",
    "!! Twee uitroeptekens: Deze opgave moet je echt maken. Het geeft je kennis of technieken die niet in het college besproken zijn of in het boek staan, maar die je wel nodig hebt in de toekomstige opgaven/praktijk.\n",
    "\n",
    "De opgaven hebben verder verschillende moeilijkheidsgraden:\n",
    "\n",
    "\\* 1 ster: Nieuwe functies en methodes kun je direct toepassen. Kijk even in je aantekeningen of boek. \n",
    "Kijk niet te snel naar de uitwerkingen. Probeer op zijn minst vijf minuten na te denken en te proberen of in je aantekeningen te kijken, voordat je het opgeeft. Anders leer je er echt bijna niets van.\n",
    "\n",
    "\\** 2 sterren: Nieuwe functies en methodes moet je integreren in je oplossing. Die oplossing bedenken vergt wat creativiteit en vindingrijkheid (uiteindelijk ook ervaring). Dat maakt deze opgaven moeilijker. \n",
    "Kijk niet te snel naar de uitwerkingen. Probeer op zijn minst vijf tot tien minuten na te denken en te proberen, voordat je het opgeeft. \n",
    "\n",
    "\\*** 3 sterren: Zoals bij de twee sterren opgaven, maar er wordt nu een nog grotere vindingrijkheid van je verwacht. Vaak moet je ook meerdere functies en methoden toepassen. De codes zijn vaak wat langer daardoor.\n",
    "Kijk niet te snel naar de uitwerkingen. Probeer op zijn minst twintig tot dertig minuten na te denken en te proberen, voordat je het opgeeft. \n",
    "\n",
    "(LEUK) Hiervan denken we dat je het een (extra) leuke opgave vindt (met name het resultaat/uitvoer). Dus als je moet kiezen tussen opgaven is het een idee om deze opgaven in ieder geval te maken."
   ]
  },
  {
   "cell_type": "markdown",
   "metadata": {},
   "source": [
    "### While loop oefening"
   ]
  },
  {
   "cell_type": "markdown",
   "metadata": {
    "solution2": "hidden",
    "solution2_first": true
   },
   "source": [
    "### 1. $\\pi$ benaderen\n",
    "De volgende relatie geldt:\n",
    "\n",
    "$\\sum_{k=1}^{\\infty} \\frac{1}{k^2} = \\frac{\\pi ^2}{6} $\n",
    "\n",
    "Hieruit kunnen we dus de waarde van $\\pi$ benaderen:\n",
    "\n",
    "$\\sum_{k=1}^{n} \\frac{1}{k^2} = 1 + \\frac{1}{4} + \\frac{1}{9} + ...+\\frac{1}{n^2} \\approx \\frac{\\pi ^2}{6}$\n",
    "\n",
    "\\** a. Hoeveel termen moeten we optellen zodat $\\frac{\\pi^2}{6}$ voldoende goed is benaderd? Als de nieuwe term  $\\frac{1}{n^2}$ voldoende klein is tellen we er geen termen meer bij op. Wat we voldoende klein vinden, kunnen we zelf bepalen. Bijvoorbeeld, als de term $\\frac{1}{n^2} < 0.00001$ dan worden er geen termen meer bij opgeteld. \n",
    "\n",
    "In het algemeen geldt dus $\\frac{1}{n^2} < error$, waarbij *error* dan een vooraf bekende kleine waarde is.\n",
    "\n",
    "Bepaal nu de som $\\sum_{k=1}^{n} \\frac{1}{k^2}$ en tel net zolang termen op totdat $\\frac{1}{n^2} < error$. Geef de variabele *error* zelf een waarde.\n",
    "\n",
    "\n"
   ]
  },
  {
   "cell_type": "code",
   "execution_count": 2,
   "metadata": {
    "solution2": "hidden"
   },
   "outputs": [],
   "source": [
    "import math\n",
    "\n",
    "err = 0.0000000001\n",
    "\n",
    "som = 0\n",
    "k = 1\n",
    "term = 1\n",
    "\n",
    "while term > err:\n",
    "    term = 1/(k*k)\n",
    "    som = som + term\n",
    "    k = k + 1"
   ]
  },
  {
   "cell_type": "markdown",
   "metadata": {
    "solution2": "hidden",
    "solution2_first": true
   },
   "source": [
    "\\* b. Bepaal daarna ook de benaderde waarde voor $\\pi$"
   ]
  },
  {
   "cell_type": "code",
   "execution_count": 7,
   "metadata": {
    "solution2": "hidden"
   },
   "outputs": [
    {
     "name": "stdout",
     "output_type": "stream",
     "text": [
      "pi benadering     : 3.141583104326456\n",
      "pi uit math module: 3.141592653589793\n"
     ]
    }
   ],
   "source": [
    "pi = math.sqrt(som*6)\n",
    "\n",
    "print('pi benadering     :', pi) \n",
    "print('pi uit math module:', math.pi)"
   ]
  },
  {
   "cell_type": "markdown",
   "metadata": {},
   "source": [
    "### Overzicht"
   ]
  },
  {
   "cell_type": "markdown",
   "metadata": {},
   "source": [
    "### 2.\n",
    "Tot nu toe heb je veel functies en technieken voorbij zien komen. Stap voor stap, beetje bij beetje. Nadeel is dat je nu misschien wat overzicht mist. Dat kun je oplossen:\n",
    "\n",
    "!! \\* a. Schrijf alle functies die je tot nu toe hebt gezien of gebruikt op in een overzicht (op je computer of met pen en papier of hier in een cell van Jupyter). Probeer te ordenen, dus alle functies uit de math module bij elkaar (*sin(), pow(), pi* etc.), alle functies die te maken hebben met of bewerkingen doen op lijstjes (*append(),  copy(), range()*, etc) of juist op strings (*lower(), strip(), split()*, etc) of juist voor openen en lezen van een tekstfile (*open(), read(), readlines()*, etc) en overige functies (*print(), input()*, etc).\n",
    "\n",
    "Schrijf op wat de functies doen en wat de in- en uitvoer van de functies is. Bij sommige functies heb je meerdere opties tot invoer, bijv de range functie:\n",
    "\n",
    "range(5) maakt lijst aan [0, 1, 2, 3, 4]  \n",
    "range(3, 8) maakt lijst aan [3, 4, 5, 6, 7]. \n",
    "\n",
    "Zelfde functie, maar andere invoer.\n",
    "\n",
    "Of de *print()* die kan meerdere input hebben, niet slechts één: \n",
    "\n",
    "print(‘Hello, World!’)*  \n",
    "print(‘Hello’, ‘World’, ‘!’)  \n",
    "print(‘Hello, World!’, end = ‘’)\n"
   ]
  },
  {
   "cell_type": "markdown",
   "metadata": {},
   "source": [
    "!! \\* b. Gegeven de operatoren + * - / % //.   \n",
    "Wat doen deze operatoren (op verschillende datatypes (integer, string) en objecten (lists))?\n"
   ]
  },
  {
   "cell_type": "markdown",
   "metadata": {},
   "source": [
    "### Handigheidjes"
   ]
  },
  {
   "cell_type": "markdown",
   "metadata": {},
   "source": [
    "### 3. Import\n",
    "!! \\* Als je functies uit een module wilt gebruiken, moet je eerst de module importeren. \n",
    "\n",
    "Voorbeeld de math module: import math.\n",
    "\n",
    "Als je dan in je code een functie uit de math module wilt gebruiken, bijv. de *sin()* dan moet je eerst de naam van de module schrijven: \n",
    "\n",
    "math.sin(x)\n",
    "\n",
    "Dit maakt formules in je code vaak wat lang (je moet immers steeds de modulenaam schrijven). Nu bestaat er de optie dat je specifieke functies uit een module inleest, en voor die functies hoef je dan niet meer de modulenaam ervoor te zetten. \n",
    "\n",
    "Dit doe je als volgt:\n",
    "(Let er op de je bij de import alleen de naam van de functie zet, pow en niet pow(). Meerdere functies importeren doe je door de namen te scheiden met een komma)."
   ]
  },
  {
   "cell_type": "code",
   "execution_count": 1,
   "metadata": {},
   "outputs": [
    {
     "name": "stdout",
     "output_type": "stream",
     "text": [
      "8.0\n",
      "3.141592653589793\n"
     ]
    }
   ],
   "source": [
    "from math import pow, pi #importeer van de math module alleen pow en pi\n",
    "\n",
    "print(pow(2, 3))\n",
    "print(pi)"
   ]
  },
  {
   "cell_type": "markdown",
   "metadata": {},
   "source": [
    "Zie nu de volgende code:"
   ]
  },
  {
   "cell_type": "code",
   "execution_count": null,
   "metadata": {},
   "outputs": [],
   "source": [
    "import math\n",
    "\n",
    "print(math.e)\n",
    "\n",
    "a = 3\n",
    "b = 5\n",
    "\n",
    "x = math.sqrt(math.pow(b, a) * math.sin(a/b))*math.pi\n",
    "\n",
    "print(x)"
   ]
  },
  {
   "cell_type": "markdown",
   "metadata": {
    "solution2": "hidden",
    "solution2_first": true
   },
   "source": [
    "Herschrijf nu deze code waarbij je de math functies die in bovenstaande code staat specifiek inleest en waarna je in je code niet meer de module naam math hoeft te gebruiken.\n",
    "\n",
    "PS: wees voorzichtig met het op deze manier importeren, want het kan voorkomen dat dezelfde functie in meerdere modules voorkomt en dat kan tot problemen leiden (zie ook het boek over dit onderwerp).\n",
    "Deze manier van importeren is ook handig als je maar enkele functies uit een grote module wilt gebruiken. Het importeren duurt dan korter."
   ]
  },
  {
   "cell_type": "code",
   "execution_count": 1,
   "metadata": {
    "solution2": "hidden",
    "solution2_first": true
   },
   "outputs": [
    {
     "name": "stdout",
     "output_type": "stream",
     "text": [
      "2.718281828459045\n",
      "26.39317582364242\n"
     ]
    }
   ],
   "source": [
    "from math import e, sqrt, pow, sin, pi\n",
    "\n",
    "print(e)\n",
    "\n",
    "a = 3\n",
    "b = 5\n",
    "\n",
    "x = sqrt(pow(b, a) * sin(a/b))*pi\n",
    "\n",
    "print(x)"
   ]
  },
  {
   "cell_type": "markdown",
   "metadata": {},
   "source": [
    "### 4. if-else\n",
    "!! \\** Om van een getal de absolute waarde te nemen kun je ook zelf een functie schrijven. Bijv:"
   ]
  },
  {
   "cell_type": "code",
   "execution_count": 5,
   "metadata": {},
   "outputs": [
    {
     "name": "stdout",
     "output_type": "stream",
     "text": [
      "Vul een getal in: -2\n",
      "2.0\n"
     ]
    }
   ],
   "source": [
    "x = float(input('Vul een getal in: '))\n",
    "\n",
    "def abs(x):\n",
    "    if x >= 0:\n",
    "        return x\n",
    "    else:\n",
    "        return -x\n",
    "    \n",
    "print(abs(x))"
   ]
  },
  {
   "cell_type": "markdown",
   "metadata": {},
   "source": [
    "De if-else constructie kan eigenlijk korter! Bovenstaande code verandert dan in:"
   ]
  },
  {
   "cell_type": "code",
   "execution_count": null,
   "metadata": {},
   "outputs": [],
   "source": [
    "x = float(input('Vul een getal in: '))\n",
    "\n",
    "def abs(x):\n",
    "    return x if x >= 0 else -x\n",
    "\n",
    "print(abs(x))"
   ]
  },
  {
   "cell_type": "markdown",
   "metadata": {},
   "source": [
    "Zie nu onderstaande code met een if-else erin."
   ]
  },
  {
   "cell_type": "code",
   "execution_count": null,
   "metadata": {},
   "outputs": [],
   "source": [
    "geslacht = input('Vul je geslacht in j/m: ')\n",
    "\n",
    "if geslacht == 'j':\n",
    "    print('Je geslacht is een jongen.')\n",
    "else:\n",
    "    print('Je geslacht is een meisje.')"
   ]
  },
  {
   "cell_type": "markdown",
   "metadata": {
    "solution2": "hidden",
    "solution2_first": true
   },
   "source": [
    "Herschrijf bovenstaande code naar de voorbeeldmanier."
   ]
  },
  {
   "cell_type": "code",
   "execution_count": null,
   "metadata": {
    "solution2": "hidden"
   },
   "outputs": [],
   "source": [
    "geslacht = input('Vul je geslacht in j/m: ')\n",
    "\n",
    "print('Je geslacht is een jongen.') if geslacht == 'j' else print('Je geslacht is een meisje.')"
   ]
  },
  {
   "cell_type": "markdown",
   "metadata": {},
   "source": [
    "### 5. Lists maken (List Comprehension)\n",
    "!! \\** Stel we willen een lijstje aanmaken waarbij elk element wordt berekend met behulp van een formule. Bijv. we maken een lijst aan met de kwadraten: [0, 1, 4, 9, 16, 25, … , $n^2$].\n",
    "\n",
    "Dit kan met een for-loop. \n"
   ]
  },
  {
   "cell_type": "code",
   "execution_count": 8,
   "metadata": {},
   "outputs": [
    {
     "name": "stdout",
     "output_type": "stream",
     "text": [
      "[0, 1, 4, 9, 16, 25, 36]\n"
     ]
    }
   ],
   "source": [
    "n = 6\n",
    "\n",
    "lijst = []\n",
    "\n",
    "for i in range(n+1):\n",
    "    lijst.append(i*i)\n",
    "    \n",
    "print(lijst)"
   ]
  },
  {
   "cell_type": "markdown",
   "metadata": {},
   "source": [
    "Bovenstaande kan ook met een nieuwe handige manier:"
   ]
  },
  {
   "cell_type": "code",
   "execution_count": 9,
   "metadata": {},
   "outputs": [
    {
     "name": "stdout",
     "output_type": "stream",
     "text": [
      "[0, 1, 4, 9, 16, 25, 36]\n"
     ]
    }
   ],
   "source": [
    "n = 6\n",
    "\n",
    "lijst = [i * i for i in range(n+1)]\n",
    "\n",
    "print(lijst)"
   ]
  },
  {
   "cell_type": "markdown",
   "metadata": {
    "solution2": "hidden",
    "solution2_first": true
   },
   "source": [
    "Maak nu een lijst aan met als elementen de letters van de zin: \n",
    "\n",
    "\"Dit is een kortere manier en wordt List Comprehension genoemd.\"\n",
    "\n",
    "Gebruik de korte manier om een lijst te maken."
   ]
  },
  {
   "cell_type": "code",
   "execution_count": 8,
   "metadata": {
    "solution2": "hidden"
   },
   "outputs": [
    {
     "name": "stdout",
     "output_type": "stream",
     "text": [
      "['D', 'i', 't', ' ', 'i', 's', ' ', 'e', 'e', 'n', ' ', 'k', 'o', 'r', 't', 'e', 'r', 'e', ' ', 'm', 'a', 'n', 'i', 'e', 'r', ' ', 'e', 'n', ' ', 'w', 'o', 'r', 'd', 't', ' ', 'L', 'i', 's', 't', ' ', 'C', 'o', 'm', 'p', 'r', 'e', 'h', 'e', 'n', 's', 'i', 'o', 'n', ' ', 'g', 'e', 'n', 'o', 'e', 'm', 'd']\n"
     ]
    }
   ],
   "source": [
    "zin = 'Dit is een kortere manier en wordt List Comprehension genoemd'\n",
    "\n",
    "lijst = [letter for letter in zin]\n",
    "\n",
    "print(lijst)"
   ]
  }
 ],
 "metadata": {
  "kernelspec": {
   "display_name": "Python 3",
   "language": "python",
   "name": "python3"
  },
  "language_info": {
   "codemirror_mode": {
    "name": "ipython",
    "version": 3
   },
   "file_extension": ".py",
   "mimetype": "text/x-python",
   "name": "python",
   "nbconvert_exporter": "python",
   "pygments_lexer": "ipython3",
   "version": "3.8.8"
  },
  "toc": {
   "base_numbering": 1,
   "nav_menu": {},
   "number_sections": false,
   "sideBar": true,
   "skip_h1_title": false,
   "title_cell": "Table of Contents",
   "title_sidebar": "Contents",
   "toc_cell": false,
   "toc_position": {
    "height": "calc(100% - 180px)",
    "left": "10px",
    "top": "150px",
    "width": "256px"
   },
   "toc_section_display": true,
   "toc_window_display": true
  }
 },
 "nbformat": 4,
 "nbformat_minor": 4
}
