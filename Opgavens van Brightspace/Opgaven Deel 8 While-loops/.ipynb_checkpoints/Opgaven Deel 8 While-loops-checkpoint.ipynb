{
 "cells": [
  {
   "cell_type": "markdown",
   "metadata": {},
   "source": [
    "# Opgaven Deel 8: While-loops\n",
    "**(Boek: Iteration par 7.1 - 7.9)**\n",
    "\n",
    "!! Twee uitroeptekens: Deze opgave moet je echt maken. Het geeft je kennis of technieken die niet in het college besproken zijn of in het boek staan, maar die je wel nodig hebt in de toekomstige opgaven/praktijk.\n",
    "\n",
    "De opgaven hebben verder verschillende moeilijkheidsgraden:\n",
    "\n",
    "\\* 1 ster: Nieuwe functies en methodes kun je direct toepassen. Kijk even in je aantekeningen of boek. \n",
    "Kijk niet te snel naar de uitwerkingen. Probeer op zijn minst vijf minuten na te denken en te proberen of in je aantekeningen te kijken, voordat je het opgeeft. Anders leer je er echt bijna niets van.\n",
    "\n",
    "\\** 2 sterren: Nieuwe functies en methodes moet je integreren in je oplossing. Die oplossing bedenken vergt wat creativiteit en vindingrijkheid (uiteindelijk ook ervaring). Dat maakt deze opgaven moeilijker. \n",
    "Kijk niet te snel naar de uitwerkingen. Probeer op zijn minst vijf tot tien minuten na te denken en te proberen, voordat je het opgeeft. \n",
    "\n",
    "\\*** 3 sterren: Zoals bij de twee sterren opgaven, maar er wordt nu een nog grotere vindingrijkheid van je verwacht. Vaak moet je ook meerdere functies en methoden toepassen. De codes zijn vaak wat langer daardoor.\n",
    "Kijk niet te snel naar de uitwerkingen. Probeer op zijn minst twintig tot dertig minuten na te denken en te proberen, voordat je het opgeeft. \n",
    "\n",
    "(LEUK) Hiervan denken we dat je het een (extra) leuke opgave vindt (met name het resultaat/uitvoer). Dus als je moet kiezen tussen opgaven is het een idee om deze opgaven in ieder geval te maken."
   ]
  },
  {
   "cell_type": "markdown",
   "metadata": {
    "solution2": "hidden",
    "solution2_first": true
   },
   "source": [
    "### 1.\n",
    "\\* Schrijf een programma dat Hello, World! tienmaal onder elkaar uitprint (nu met een while-loop)."
   ]
  },
  {
   "cell_type": "code",
   "execution_count": 1,
   "metadata": {
    "solution2": "hidden"
   },
   "outputs": [
    {
     "name": "stdout",
     "output_type": "stream",
     "text": [
      "Hello, World!\n",
      "Hello, World!\n",
      "Hello, World!\n",
      "Hello, World!\n",
      "Hello, World!\n",
      "Hello, World!\n",
      "Hello, World!\n",
      "Hello, World!\n",
      "Hello, World!\n",
      "Hello, World!\n"
     ]
    }
   ],
   "source": [
    "i = 1\n",
    "while i <= 10:\n",
    "  print('Hello, World!')\n",
    "  i += 1"
   ]
  },
  {
   "cell_type": "markdown",
   "metadata": {
    "solution2": "hidden",
    "solution2_first": true
   },
   "source": [
    "### 2.\n",
    "\\** Schrijf een programma dat onder elkaar willekeurige getallen print tussen [0, 1) en afrondt op drie decimalen. Je programma stopt pas als er een getal wordt geprint dat groter is dan 0,9."
   ]
  },
  {
   "cell_type": "code",
   "execution_count": 5,
   "metadata": {
    "solution2": "hidden"
   },
   "outputs": [
    {
     "name": "stdout",
     "output_type": "stream",
     "text": [
      "0.7434041487196933\n",
      "0.764931752270528\n",
      "0.4114925243408746\n",
      "0.4954520887499698\n",
      "0.7718539072982958\n",
      "0.35533195807506934\n",
      "0.47435745873117463\n",
      "0.5666347873234071\n",
      "0.557476005411048\n",
      "0.9118653256341802\n"
     ]
    }
   ],
   "source": [
    "import random\n",
    "\n",
    "getal = 0\n",
    "\n",
    "while getal <= 0.9:\n",
    "    getal = random.random()\n",
    "    print(getal)    "
   ]
  },
  {
   "cell_type": "markdown",
   "metadata": {
    "solution2": "shown",
    "solution2_first": true
   },
   "source": [
    "### 3.\n",
    " \\***  **Snijpunt bepalen**\n",
    " \n",
    "Schrijf een programma dat het snijpunt van de volgende twee functies bepaalt en uitprint. De uitvoer is zowel de x-coördinaat als de y-coördinaat. Rond af op drie decimalen nauwkeurig.  \n",
    "\n",
    "$f(x) = e^{-x}$  \n",
    "$g(x) = ln(x), x>0$\n",
    "\n",
    "Hint: Gebruik een While-loop. Bedenk dat $f(x)$ en $g(x)$ bijna aan elkaar gelijk zijn als $f(x) – g(x)$ ≈ 0. Varieer je x waarde in een while-loop en als $f(x) – g(x)$ dan bijna 0 of 0 is ben je er. Je moet zelf bepalen wanneer het verschil voldoende bij 0 ligt. De while-loop stopt als het verschil klein genoeg is en gaat anders door.  \n",
    "PS: bij Programmeren 3.3. zullen we een betere en veel snellere manier behandelen om snijpunten te bepalen."
   ]
  },
  {
   "cell_type": "code",
   "execution_count": 7,
   "metadata": {
    "solution2": "shown"
   },
   "outputs": [
    {
     "name": "stdout",
     "output_type": "stream",
     "text": [
      "Snijpunt: (1.31, 0.27)\n"
     ]
    }
   ],
   "source": [
    "import math\n",
    "\n",
    "delta = 1.0\n",
    "x = 0.01\n",
    "\n",
    "# In de while-loop halen we gx van fx (voor verschillende x-waarden) en dat verschil noemen we delta.  \n",
    "# Als delta bijna 0 is, dan zijn fx en gx dus bijna aan elkaar gelijk en hebben we het snijpunt gevonden.\n",
    "# We moeten afronden op vier decimalen, dus als delta kleiner is dan 0.00001, wordt aan die nauwkeurigheid voldaan. 0.00000001 kan\n",
    "# bijv. ook, dat is nog nauwkeuriger, maar dan moet je langer rekenen en die nauwkeurigheid wordt niet gevraagd, dus doen we dat niet.\n",
    "# Startwaarde van delta moet groter zijn dan 0.00001, anders stopt de while-loop direct en dat moet niet. Ik kies hier delta = 1.0.\n",
    "\n",
    "while delta > 0.00001:\n",
    "    fx = math.e**(-x)\n",
    "    gx = math.log(x)\n",
    "    \n",
    "    delta = abs(fx - gx)\n",
    "    \n",
    "    x = x + 0.000001\n",
    "    \n",
    "y = math.e**(-x)\n",
    "\n",
    "print(f'Snijpunt: ({round(x, 3)}, {round(y, 3)})') #derde decimaal getal is 0 en wordt niet geprint"
   ]
  }
 ],
 "metadata": {
  "kernelspec": {
   "display_name": "Python 3 (ipykernel)",
   "language": "python",
   "name": "python3"
  },
  "language_info": {
   "codemirror_mode": {
    "name": "ipython",
    "version": 3
   },
   "file_extension": ".py",
   "mimetype": "text/x-python",
   "name": "python",
   "nbconvert_exporter": "python",
   "pygments_lexer": "ipython3",
   "version": "3.9.12"
  },
  "toc": {
   "base_numbering": 1,
   "nav_menu": {},
   "number_sections": false,
   "sideBar": true,
   "skip_h1_title": false,
   "title_cell": "Table of Contents",
   "title_sidebar": "Contents",
   "toc_cell": false,
   "toc_position": {
    "height": "calc(100% - 180px)",
    "left": "10px",
    "top": "150px",
    "width": "256px"
   },
   "toc_section_display": true,
   "toc_window_display": false
  }
 },
 "nbformat": 4,
 "nbformat_minor": 4
}
