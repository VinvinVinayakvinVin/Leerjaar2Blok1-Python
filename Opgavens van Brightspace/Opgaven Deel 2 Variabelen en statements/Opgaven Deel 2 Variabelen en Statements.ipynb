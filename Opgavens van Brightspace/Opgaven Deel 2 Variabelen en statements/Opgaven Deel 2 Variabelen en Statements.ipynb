{
 "cells": [
  {
   "cell_type": "markdown",
   "id": "7c3d0dc6",
   "metadata": {},
   "source": [
    "# Opgaven Deel 2: Variabelen en Statements\n",
    "**(Boek: Variables, expressions and\n",
    "statements: par 2.1 - 2.10 plus Values and types: par 1.5)**\n",
    "\n",
    "Bij deze opgaven veel * (1 ster opgaven). Dat zijn misschien wat saaiere opgaven, maar je moet eerst de basis leren!\n",
    "Later worden de opgaven steeds interessanter!\n",
    "\n",
    "De opgaven hebben verschillende moeilijkheidsgraden:\n",
    "\n",
    "\\* 1 ster: Nieuwe functies en methodes kun je direct toepassen. Kijk even in je aantekeningen of boek. \n",
    "Kijk niet te snel naar de uitwerkingen. Probeer op zijn minst vijf minuten na te denken en te proberen of in je aantekeningen te kijken, voordat je het opgeeft. Anders leer je er echt bijna niets van.\n",
    "\n",
    "\\** 2 sterren: Nieuwe functies en methodes moet je integreren in je oplossing. Die oplossing bedenken vergt wat creativiteit en vindingrijkheid (uiteindelijk ook ervaring). Dat maakt deze opgaven moeilijker. \n",
    "Kijk niet te snel naar de uitwerkingen. Probeer op zijn minst vijf tot tien minuten na te denken en te proberen, voordat je het opgeeft. \n",
    "\n",
    "\\*** 3 sterren: Zoals bij de twee sterren opgaven, maar er wordt nu een nog grotere vindingrijkheid van je verwacht. Vaak moet je ook meerdere functies en methoden toepassen. De codes zijn vaak wat langer daardoor.\n",
    "Kijk niet te snel naar de uitwerkingen. Probeer op zijn minst twintig tot dertig minuten na te denken en te proberen, voordat je het opgeeft. \n",
    "\n",
    "(LEUK) Hiervan denken we dat je het een (extra) leuke opgave vindt (met name het resultaat/uitvoer). Dus als je moet kiezen tussen opgaven is het een idee om deze opgaven in ieder geval te maken."
   ]
  },
  {
   "cell_type": "markdown",
   "id": "38bafb81",
   "metadata": {
    "solution2": "shown",
    "solution2_first": true
   },
   "source": [
    "### 2.1\n",
    "\n",
    "\\* Schrijf een programma dat als invoer een voornaam heeft en dan de onderstaande zin uitprint: \n",
    " \n",
    "“Hoe gaat het met \\[voornaam\\]”\n",
    "\n",
    "Op de plek van \\[voornaam\\] staat dan je voornaam zonder \\[ en \\] dus.\n",
    "De gebruiker moet óók weten wat hij moet invullen."
   ]
  },
  {
   "cell_type": "code",
   "execution_count": 2,
   "id": "abccce4c",
   "metadata": {
    "nbgrader": {
     "grade": true,
     "grade_id": "cell-595daa61b7157a89",
     "locked": false,
     "points": 0,
     "schema_version": 3,
     "solution": true,
     "task": false
    },
    "solution2": "shown"
   },
   "outputs": [
    {
     "name": "stdout",
     "output_type": "stream",
     "text": [
      "Vul je voornaam inXiomara\n",
      "Hoe gaat het met Xiomara\n",
      "Hoe gaat het met Xiomara\n",
      "Hoe gaat het met Xiomara\n"
     ]
    }
   ],
   "source": [
    "voornaam = input(\"Vul je voornaam in\")\n",
    "print(\"Hoe gaat het met \" + voornaam)   # String optelling\n",
    "\n",
    "# Alternatieve oplossingen mogelijk:\n",
    "print(\"Hoe gaat het met\", voornaam)     # Alleen print (komt later in dit vak aan bod nog)\n",
    "print(f\"Hoe gaat het met {voornaam}\")   # f-strings (komt later in dit vak aan bod nog)\n",
    "                                        # Nu heb je deze twee manieren ook al vast gezien!"
   ]
  },
  {
   "cell_type": "markdown",
   "id": "c820ae4b",
   "metadata": {
    "solution2": "hidden",
    "solution2_first": true
   },
   "source": [
    "### 2.2\n",
    "\n",
    "\\* Schrijf een programma dat als invoer je voornaam heeft en dan de onderstaande zin uitprint:\n",
    "\n",
    "  “Hoe gaat het met [voornaam]?”\n",
    "\n",
    "Nu dus met een ? (vraagteken) achter je naam."
   ]
  },
  {
   "cell_type": "code",
   "execution_count": 3,
   "id": "f1a48b66",
   "metadata": {
    "nbgrader": {
     "grade": true,
     "grade_id": "cell-ffb59f5875afbda8",
     "locked": false,
     "points": 0,
     "schema_version": 3,
     "solution": true,
     "task": false
    },
    "solution2": "hidden"
   },
   "outputs": [
    {
     "name": "stdout",
     "output_type": "stream",
     "text": [
      "Vul je voornaam inRobert\n",
      "Hoe gaat het met Robert?\n",
      "Hoe gaat het met Robert?\n"
     ]
    }
   ],
   "source": [
    "voornaam = input(\"Vul je voornaam in\")\n",
    "print(\"Hoe gaat het met \" + voornaam + \"?\") # String optelling\n",
    "\n",
    "# Alternatieve oplossing mogelijk:\n",
    "print(f\"Hoe gaat het met {voornaam}?\")      # f-strings (komt later in dit vak aan bod nog)"
   ]
  },
  {
   "cell_type": "markdown",
   "id": "fa6d3f48",
   "metadata": {
    "solution2": "hidden",
    "solution2_first": true
   },
   "source": [
    "### 2.3\n",
    "\n",
    "\\* Schrijf een programma dat als invoer eerst je voornaam vraagt én daarna als tweede invoer je achternaam vraagt en dan de onderstaande zin uitprint:\n",
    "\n",
    "“Hoe gaat het met [voornaam] [achternaam]?”\n",
    "\n",
    "Wel een spatie tussen voor- en achternaam!\n"
   ]
  },
  {
   "cell_type": "code",
   "execution_count": 4,
   "id": "cc1a2694",
   "metadata": {
    "nbgrader": {
     "grade": true,
     "grade_id": "cell-fb35a357ac50e572",
     "locked": false,
     "points": 0,
     "schema_version": 3,
     "solution": true,
     "task": false
    },
    "solution2": "hidden"
   },
   "outputs": [
    {
     "name": "stdout",
     "output_type": "stream",
     "text": [
      "Vul voornaam inMichiel\n",
      "Vul achternaam inKwetters\n",
      "Hoe gaat het met Michiel Kwetters?\n",
      "Hoe gaat het met Michiel Kwetters?\n"
     ]
    }
   ],
   "source": [
    "voornaam = input(\"Vul voornaam in\")\n",
    "achternaam = input(\"Vul achternaam in\")\n",
    "print(\"Hoe gaat het met \" + voornaam + \" \" + achternaam + \"?\") # String optelling\n",
    "\n",
    "# Alternatieve oplossing mogelijk:\n",
    "print(f\"Hoe gaat het met {voornaam} {achternaam}?\")            # f-strings"
   ]
  },
  {
   "cell_type": "markdown",
   "id": "c0d7174d",
   "metadata": {
    "solution2": "hidden",
    "solution2_first": true
   },
   "source": [
    "### 2.4\n",
    "\n",
    "\\* Schrijf een programma dat Hello, World! tienmaal onder elkaar uitprint. Gebruik hiervoor de * operator voor strings."
   ]
  },
  {
   "cell_type": "code",
   "execution_count": 5,
   "id": "7e884ba2",
   "metadata": {
    "nbgrader": {
     "grade": true,
     "grade_id": "cell-e353fb4e3003b4e7",
     "locked": false,
     "points": 0,
     "schema_version": 3,
     "solution": true,
     "task": false
    },
    "solution2": "hidden"
   },
   "outputs": [
    {
     "name": "stdout",
     "output_type": "stream",
     "text": [
      "Hello, World!\n",
      "Hello, World!\n",
      "Hello, World!\n",
      "Hello, World!\n",
      "Hello, World!\n",
      "Hello, World!\n",
      "Hello, World!\n",
      "Hello, World!\n",
      "Hello, World!\n",
      "Hello, World!\n",
      "\n",
      "Hello, World!\n",
      "Hello, World!\n",
      "Hello, World!\n",
      "Hello, World!\n",
      "Hello, World!\n",
      "Hello, World!\n",
      "Hello, World!\n",
      "Hello, World!\n",
      "Hello, World!\n",
      "Hello, World!\n"
     ]
    }
   ],
   "source": [
    "print(\"Hello, World!\\n\"*10)\n",
    "# \\n zorgt ervoor dat er achter Hello, World! een nieuwe regel komt. \n",
    "# Zonder de \\n zou je 10x Hello, World! achter elkaar krijgen ipv onder elkaar.\n",
    "# Let op de \\n staat dus nog voor de \"\n",
    "\n",
    "\n",
    "# Klein alternatief + extra weetje!\n",
    "# De print statement geeft na het printen automatisch een nieuwe regel.\n",
    "# Soms wil je dat niet. Je kunt dit aangeven door in de print statement\n",
    "# end = '' toe te voegen. De default is end = '\\n'.\n",
    "# Dit willen we nu, zodat er maar 1 nieuwe regel komt na de laatste Hello, World! ipv 2.\n",
    "print(\"Hello, World!\\n\"*10, end = '')"
   ]
  },
  {
   "cell_type": "markdown",
   "id": "f933b24b",
   "metadata": {},
   "source": [
    "### 2.5\n",
    "\\* De waarde die bij **input()** wordt ingelezen wordt standaard gezien als tekst (string datatype), ook als je een getal hebt ingetypt! Als je wilt rekenen met getallen, moet je eerst de ingelezen input omzetten naar een getal met behulp van **int()** of **float()**. \n",
    "\n",
    "a. In onderstaand programma moet een getal als input opgeven worden. Dan wordt er geprint. Als je 3 intypt wat zal dan de uitkomst zijn denk je?"
   ]
  },
  {
   "cell_type": "code",
   "execution_count": null,
   "id": "00889163",
   "metadata": {},
   "outputs": [],
   "source": [
    "getal = input(\"Vul een getal in: \")\n",
    "print(getal + getal)"
   ]
  },
  {
   "cell_type": "markdown",
   "id": "be2da44a",
   "metadata": {
    "solution2": "hidden",
    "solution2_first": true
   },
   "source": [
    "Je moet dus eerst de ingelezen ‘3’ omzetten naar een getal. Bijv. met float().\n",
    "\n",
    "Zie onderstaande uitwerking:"
   ]
  },
  {
   "cell_type": "code",
   "execution_count": 1,
   "id": "b482c786",
   "metadata": {
    "solution2": "hidden"
   },
   "outputs": [
    {
     "name": "stdout",
     "output_type": "stream",
     "text": [
      "Vul een getal in: 3\n",
      "6.0\n"
     ]
    }
   ],
   "source": [
    "getal = float(input(\"Vul een getal in: \"))\n",
    "print(getal + getal)"
   ]
  },
  {
   "cell_type": "markdown",
   "id": "383138be",
   "metadata": {
    "solution2": "hidden",
    "solution2_first": true
   },
   "source": [
    "b. Waarom staat er 6.0 en niet 6?"
   ]
  },
  {
   "cell_type": "markdown",
   "id": "06b63cc4",
   "metadata": {
    "nbgrader": {
     "grade": true,
     "grade_id": "cell-9e3f0af970f4bc09",
     "locked": false,
     "points": 0,
     "schema_version": 3,
     "solution": true,
     "task": false
    },
    "solution2": "hidden"
   },
   "source": [
    "Getal is een float, en zal dus worden geprint als een komma getal."
   ]
  },
  {
   "cell_type": "markdown",
   "id": "bfd4b3e6",
   "metadata": {
    "solution2": "hidden",
    "solution2_first": true
   },
   "source": [
    "### 2.6\n",
    "\\* Schrijf een programma dat als invoer twee getallen heeft en bij elkaar optelt. Je programma print het resultaat uit.\n",
    "\n",
    "*Hint: opgave 2.5*\n"
   ]
  },
  {
   "cell_type": "code",
   "execution_count": 6,
   "id": "c41fb86e",
   "metadata": {
    "solution2": "hidden"
   },
   "outputs": [
    {
     "name": "stdout",
     "output_type": "stream",
     "text": [
      "Vul het eerste getal in: 8\n",
      "Vul het tweede getal in: 3\n",
      "11.0\n"
     ]
    }
   ],
   "source": [
    "getal1 = float(input(\"Vul het eerste getal in: \"))\n",
    "getal2 = float(input(\"Vul het tweede getal in: \"))\n",
    "print(getal1 + getal2)"
   ]
  },
  {
   "cell_type": "markdown",
   "id": "37e6b6ad",
   "metadata": {
    "solution2": "hidden",
    "solution2_first": true
   },
   "source": [
    "### 2.7\n",
    "\n",
    "\\** Schrijf een programma dat als invoer twee getallen heeft en waarvan het eerste getal een geheel getal is en het tweede een decimaal getal. Je programma print dan de onderstaande zin:\n",
    "\n",
    "“Ik heb het getal [getal1] en het getal [getal2] ingetypt.”"
   ]
  },
  {
   "cell_type": "code",
   "execution_count": 12,
   "id": "c1884fed",
   "metadata": {
    "solution2": "hidden"
   },
   "outputs": [
    {
     "name": "stdout",
     "output_type": "stream",
     "text": [
      "Vul het eerste getal in: 2\n",
      "Vul het tweede getal in: 5\n",
      "Ik heb het getal 2.0 en het getal 5 ingetypt.\n",
      "Ik heb het getal 2.0 en het getal 5 ingetypt.\n"
     ]
    }
   ],
   "source": [
    "getal1 = float(input(\"Vul het eerste getal in: \"))\n",
    "getal2 = int(input(\"Vul het tweede getal in: \"))\n",
    "print(\"Ik heb het getal \" + str(getal1) + \" en het getal \" + str(getal2) + \" ingetypt.\")\n",
    "# Tekst samenvoegen met de + operator werkt alleen op strings, niet voor getallen! \n",
    "# Je moet dus getal1 en getal2 weer terugbrengen naar string datatype met de functie str().\n",
    "\n",
    "# Een korter (handiger) alternatief is:\n",
    "print(f\"Ik heb het getal {getal1} en het getal {getal2} ingetypt.\")"
   ]
  },
  {
   "cell_type": "markdown",
   "id": "410fb5fc",
   "metadata": {
    "solution2": "hidden",
    "solution2_first": true
   },
   "source": [
    "### 2.8\n",
    "\\* Voor gehele getallen is er nog een operator, de % (modulus). Die bepaald de modulus van twee getallen. (Modulus is in het Engels: remainder).\n",
    "\n",
    "Voorbeeld 1: 23%6 geeft als resultaat 5. Want 6 gaat drie keer in 23 en dan blijft over \n",
    "23 – 18 = 5. \n",
    "\n",
    "Voorbeeld 2: 17%2 geeft als resultaat 1. Want 2 gaat acht keer in 17 en dan blijft over \n",
    "17 – 16 = 1. \n",
    "\n",
    "Voorbeeld 3: 16%2 geeft als resultaat 0. Want 2 gaat acht keer in 16 en dan blijft over \n",
    "16 – 16 = 0.\n",
    "\n",
    "Schrijf een programma dat als invoer twee gehele getallen a en b heeft en daarvan de modulus berekent en uitprint. Dus bereken a%b. \n",
    "\n",
    "PS: Zorg dat je deze modulus goed leert beheersen, je gaat het vaker in opgaven nodig hebben!\n"
   ]
  },
  {
   "cell_type": "code",
   "execution_count": 13,
   "id": "eba3d088",
   "metadata": {
    "nbgrader": {
     "grade": true,
     "grade_id": "cell-45aef5f0003d4efe",
     "locked": false,
     "points": 0,
     "schema_version": 3,
     "solution": true,
     "task": false
    },
    "solution2": "hidden"
   },
   "outputs": [
    {
     "name": "stdout",
     "output_type": "stream",
     "text": [
      "Vul het eerste getal in: 27\n",
      "Vul het tweede getal in: 8\n",
      "3\n"
     ]
    }
   ],
   "source": [
    "getal1 = int(input(\"Vul het eerste getal in: \"))\n",
    "getal2 = int(input(\"Vul het tweede getal in: \"))\n",
    "print(getal1%getal2)"
   ]
  },
  {
   "cell_type": "markdown",
   "id": "2e28325f",
   "metadata": {},
   "source": [
    "### 2.9\n",
    "\\* Een waarde van het string datatype kan je tussen enkelvoudige aanhalingstekens ‘ ‘ zetten: "
   ]
  },
  {
   "cell_type": "code",
   "execution_count": null,
   "id": "73850b80",
   "metadata": {},
   "outputs": [],
   "source": [
    "print('Hallo Wereld!')"
   ]
  },
  {
   "cell_type": "markdown",
   "id": "2703b61b",
   "metadata": {},
   "source": [
    "Maar dubbelvoudige aanhalingstekens “ “ mag ook:"
   ]
  },
  {
   "cell_type": "code",
   "execution_count": null,
   "id": "f5ccbf36",
   "metadata": {},
   "outputs": [],
   "source": [
    "print(\"Hallo Wereld!\")"
   ]
  },
  {
   "cell_type": "markdown",
   "id": "0897bd9f",
   "metadata": {},
   "source": [
    "Je kunt dit combineren als je een woord of zin ook echt tussen aanhalingstekens wilt hebben uitgeprint. Bijvoorbeeld: "
   ]
  },
  {
   "cell_type": "code",
   "execution_count": 17,
   "id": "68f95760",
   "metadata": {},
   "outputs": [
    {
     "name": "stdout",
     "output_type": "stream",
     "text": [
      "'Hallo'\n"
     ]
    }
   ],
   "source": [
    "print(\"'Hallo'\")"
   ]
  },
  {
   "cell_type": "markdown",
   "id": "b5d9bc9e",
   "metadata": {
    "solution2": "hidden",
    "solution2_first": true
   },
   "source": [
    "Schrijf een programma dat “Hallo“ uitprint, met dubbele aanhalingstekens dus."
   ]
  },
  {
   "cell_type": "code",
   "execution_count": 16,
   "id": "f45b92be",
   "metadata": {
    "nbgrader": {
     "grade": true,
     "grade_id": "cell-ade1b3b751861e7a",
     "locked": false,
     "points": 0,
     "schema_version": 3,
     "solution": true,
     "task": false
    },
    "solution2": "hidden"
   },
   "outputs": [
    {
     "name": "stdout",
     "output_type": "stream",
     "text": [
      "\"Hallo\"\n"
     ]
    }
   ],
   "source": [
    "print('\"Hallo\"')"
   ]
  },
  {
   "cell_type": "markdown",
   "id": "b2cd675d",
   "metadata": {},
   "source": [
    "### 2.10\n",
    "\n",
    "In tekst kun je \\n verwerken. Dat betekent dat de tekst na \\n op een nieuwe regel begint."
   ]
  },
  {
   "cell_type": "code",
   "execution_count": null,
   "id": "da8a336f",
   "metadata": {},
   "outputs": [],
   "source": [
    "print(\"Maandag\\nDinsdag\\nWoensdag\")"
   ]
  },
  {
   "cell_type": "markdown",
   "id": "c705e1af",
   "metadata": {
    "solution2": "hidden",
    "solution2_first": true
   },
   "source": [
    "Schrijf een programma dat alle zeven dagen van de week onder elkaar zet, met slechts één print() statement."
   ]
  },
  {
   "cell_type": "code",
   "execution_count": 18,
   "id": "8377d47b",
   "metadata": {
    "nbgrader": {
     "grade": true,
     "grade_id": "cell-5abfe779b2867750",
     "locked": false,
     "points": 0,
     "schema_version": 3,
     "solution": true,
     "task": false
    },
    "solution2": "hidden"
   },
   "outputs": [
    {
     "name": "stdout",
     "output_type": "stream",
     "text": [
      "Maandag\n",
      "Dinsdag\n",
      "Woensdag\n",
      "Donderdag\n",
      "Vrijdag\n",
      "Zaterdag\n",
      "Zondag\n",
      "\n",
      "Maandag\n",
      "Dinsdag\n",
      "Woensdag\n",
      "Donderdag\n",
      "Vrijdag\n",
      "Zaterdag\n",
      "Zondag\n"
     ]
    }
   ],
   "source": [
    "# Oplossing variant A\n",
    "print(\"Maandag\\nDinsdag\\nWoensdag\\nDonderdag\\nVrijdag\\nZaterdag\\nZondag\")\n",
    "\n",
    "# Oplossing variant B, met multiline string.\n",
    "# (Deze manier ken je niet, maar misschien handig om te onthouden!)\n",
    "print(\"\"\"\n",
    "Maandag\n",
    "Dinsdag\n",
    "Woensdag\n",
    "Donderdag\n",
    "Vrijdag\n",
    "Zaterdag\n",
    "Zondag\"\"\")"
   ]
  },
  {
   "cell_type": "markdown",
   "id": "cf6d61ab",
   "metadata": {
    "solution2": "hidden",
    "solution2_first": true
   },
   "source": [
    "### 2.11\n",
    "\n",
    "\\** In tekst kun je ook een tab verwerken. Dat betekent dat tekst inspringt.\n",
    "Dit doe je op een soortgelijke manier als in opgave 2.10 waar een nieuwe regel wordt gemaakt.\n",
    "\t\n",
    "Zoek op internet hoe je dit moet doen.\n",
    "\n",
    "(Programmeurs zoeken heel vaak het internet af voor oplossingen en informatie over hoe iets werkt in Python of in een andere programmeertaal. Het is handig je dit zoeken aan te leren.\n",
    "\n",
    "*Hint: type zoektermen in zoals Python, tab, etc.*\n"
   ]
  },
  {
   "cell_type": "code",
   "execution_count": 31,
   "id": "ea744456",
   "metadata": {
    "nbgrader": {
     "grade": true,
     "grade_id": "cell-04e0046e74b3d75b",
     "locked": false,
     "points": 0,
     "schema_version": 3,
     "solution": true,
     "task": false
    },
    "solution2": "hidden"
   },
   "outputs": [
    {
     "name": "stdout",
     "output_type": "stream",
     "text": [
      "Uitlijnen\tnog een keer\tklaar\n",
      "Uitlijnen           nog een keer        klaar               \n"
     ]
    }
   ],
   "source": [
    "print(\"Uitlijnen\\tnog een keer\\tklaar\")  # We gebruiken dus \\t\n",
    "\n",
    "# Opmerking: Het gebruik van tabs word vaak ontmoedigd, omdat verschillende\n",
    "# operating systems (Windows, Mac, Linux) er verschillend mee omgaan. Jouw\n",
    "# code kan dus een ander resultaat geven op een andere computer, dit is niet\n",
    "# gewenst. Een alternatief is, óf om handmatig spaties toe te voegen, óf om \n",
    "# f-strings te gebruiken en de breedte van ieder veld in te vullen. De :<20\n",
    "# geeft aan dat de tekst tussen {} met spaties aangevuld moet worden tot het\n",
    "# 20 karakters breed is. Die 20 kan ook een ander getal zijn.\n",
    "\n",
    "print(f\"{'Uitlijnen':<20}{'nog een keer':<20}{'klaar':<20}\") # Deze manier alvast goed onthouden!"
   ]
  },
  {
   "cell_type": "markdown",
   "id": "b62de765",
   "metadata": {
    "solution2": "hidden",
    "solution2_first": true
   },
   "source": [
    "### 2.12\n",
    "\n",
    "a) \\* Zorg ervoor dat je met één print() statement het volgende overzicht print (tussen het eerste woord van elke regel en Michiel zit een tab):\n",
    "\n",
    "    Hallo!  Michiel\n",
    "    Hello!  Michiel\n",
    "    Goedendag!      Michiel"
   ]
  },
  {
   "cell_type": "code",
   "execution_count": 33,
   "id": "4309d667",
   "metadata": {
    "nbgrader": {
     "grade": true,
     "grade_id": "cell-a94b1b25ccf14b5a",
     "locked": false,
     "points": 0,
     "schema_version": 3,
     "solution": true,
     "task": false
    },
    "solution2": "hidden"
   },
   "outputs": [
    {
     "name": "stdout",
     "output_type": "stream",
     "text": [
      "Hallo!\tMichiel\n",
      "Hello!\tMichiel\n",
      "Goedendag!\tMichiel\n",
      "Hallo!\tMichiel\n",
      "Hallo!\tMichiel\n",
      "Goedendag!\tMichiel\n"
     ]
    }
   ],
   "source": [
    "naam = \"Michiel\"\n",
    "print(f\"Hallo!\\t{naam}\")\n",
    "print(f\"Hello!\\t{naam}\")\n",
    "print(f\"Goedendag!\\t{naam}\")\n",
    "\n",
    "# Of:\n",
    "print(\"Hallo!\\tMichiel\")\n",
    "print(\"Hallo!\\tMichiel\")\n",
    "print(\"Goedendag!\\tMichiel\")"
   ]
  },
  {
   "cell_type": "markdown",
   "id": "7bda0e0e",
   "metadata": {
    "solution2": "hidden",
    "solution2_first": true
   },
   "source": [
    "b. \\* Dit is natuurlijk niet mooi uitgelijnd. Dat kan wel door bij de eerste twee regels twee tabs te hebben ipv één tab. Pas je programma aan zodat het overzicht als volgt wordt:\n",
    "\n",
    "    Hallo!          Michiel\n",
    "    Hello!          Michiel\n",
    "    Goedendag!      Michiel    "
   ]
  },
  {
   "cell_type": "code",
   "execution_count": 34,
   "id": "517459a4",
   "metadata": {
    "nbgrader": {
     "grade": true,
     "grade_id": "cell-378bba94aad75c13",
     "locked": false,
     "points": 0,
     "schema_version": 3,
     "solution": true,
     "task": false
    },
    "solution2": "hidden"
   },
   "outputs": [
    {
     "name": "stdout",
     "output_type": "stream",
     "text": [
      "Hallo!\t\tMichiel\n",
      "Hello!\t\tMichiel\n",
      "Goedendag!\tMichiel\n",
      "Hallo!          Michiel\n",
      "Hello!          Michiel\n",
      "Goedendag!      Michiel\n"
     ]
    }
   ],
   "source": [
    "# Zie ook opmerking opgave 2.11\n",
    "\n",
    "# Oplossing met tabs, probleem hier is dat je eigenlijk van te voren moet\n",
    "# weten hoeveel tabs je moet gebruiken om alles uit te lijnen.\n",
    "print(\"Hallo!\\t\\t\"+naam) # Naam is in a) al bepaald.\n",
    "print(\"Hello!\\t\\t\"+naam)\n",
    "print(\"Goedendag!\\t\"+naam)\n",
    "\n",
    "# Oplossing met f-strings, de :<16 geeft aan dat de Hallo/Hello/Goedendag \n",
    "# met spaties aangevuld moet worden dit het 16 karakters breed is.\n",
    "# Leer je deze methode dus uiteindelijk aan!\n",
    "print(f\"{'Hallo!':<16}{naam}\")\n",
    "print(f\"{'Hello!':<16}{naam}\")\n",
    "print(f\"{'Goedendag!':<16}{naam}\")"
   ]
  },
  {
   "cell_type": "markdown",
   "id": "52c9805e",
   "metadata": {},
   "source": [
    "### 2.13\n",
    "\n",
    "\\* Hieronder zijn zes variabelen aangemaakt, met ieder zo zijn eigen naam."
   ]
  },
  {
   "cell_type": "code",
   "execution_count": null,
   "id": "82a40568",
   "metadata": {},
   "outputs": [],
   "source": [
    "# Alle cijfers van het 2e jaars tentamen opgeteld.\n",
    "som_van_alle_programmeer_cijfers_van_het_2e_jaars_tentamen = 455\n",
    "\n",
    "# Aantal 2e jaars studenten die het tentamen hebben gemaakt\n",
    "z = 65\n",
    "\n",
    "Aantal_jongens = 35\n",
    "2ejaar_meisjes = 30\n",
    "Gem = som_van_alle_programmeer_cijfers_van_het_2e_jaars_tentamen / z\n",
    "Verhouding J/M = Aantal_jongens / 2ejaar_meisjes"
   ]
  },
  {
   "cell_type": "markdown",
   "id": "afa83466",
   "metadata": {
    "solution2": "hidden",
    "solution2_first": true
   },
   "source": [
    "a. Welke namen hiervan mogen, maar zijn niet geschikt? (m.a.w. de naam mag wel, maar de naam kan beter of is niet volgens afspraak). Hoe zou je die namen veranderen? Hoe zou jij ze noemen?\n",
    "\n",
    "b. Welke namen zijn fout?\n"
   ]
  },
  {
   "cell_type": "markdown",
   "id": "fa40e2a5",
   "metadata": {
    "nbgrader": {
     "grade": true,
     "grade_id": "cell-bdee7342fbb2b642",
     "locked": false,
     "points": 0,
     "schema_version": 3,
     "solution": true,
     "task": false
    },
    "solution2": "hidden"
   },
   "source": [
    "a.\n",
    "\n",
    "- **som_van_alle_programmeer_cijfers_van_het_2e_jaars_tentamen** mag, maar is aan de lange kant, deze variabelenaam wil je niet 10 keer typen.\n",
    "- **z** is een onlogische naam voor een aantal. In de wiskunde is meestal $z \\in \\mathbb{R}$, bijvoorbeeld een coördinaat, en niet een geheel getal. De naam **n** zou hier logischer zijn.\n",
    "- **Aantal_jongens**: stijl advies is om variabelenamen met een kleine letter te beginnen. **n_jongens** zou ook een keuze zijn, vooral als **n** al het totale aantal is.\n",
    "- **Gem**: stijl advies is om variabelenamen met een kleine letter te beginnen.\n",
    "\n",
    "b. \n",
    "\n",
    "- **2ejaar_meisjes**: Variabelenemen mogen niet met een getal beginnen.\n",
    "- **Verhouding J/M**: Variabelenamen mogen geen spaties of deelstrepen bevatten."
   ]
  },
  {
   "cell_type": "markdown",
   "id": "0add249b",
   "metadata": {},
   "source": [
    "### 2.14\n",
    "\n",
    "\\* Hieronder zijn drie variabelen aangemaakt, met ieder zo zijn eigen naam."
   ]
  },
  {
   "cell_type": "code",
   "execution_count": null,
   "id": "ae02aa4c",
   "metadata": {},
   "outputs": [],
   "source": [
    "afstand = float(input('Vul de afstand in van Utrecht naar Den Bosch (km):'))\n",
    "t = float(input('Hoe lang deed je over de tocht (uren)?:'))\n",
    "v = afstand/t\n",
    "print(v)"
   ]
  },
  {
   "cell_type": "markdown",
   "id": "7d981e93",
   "metadata": {
    "solution2": "hidden",
    "solution2_first": true
   },
   "source": [
    "Wat vind je van de naam voor deze variabelen?"
   ]
  },
  {
   "cell_type": "markdown",
   "id": "235a8ae1",
   "metadata": {
    "nbgrader": {
     "grade": true,
     "grade_id": "cell-3725e0ec3d21b274",
     "locked": false,
     "points": 0,
     "schema_version": 3,
     "solution": true,
     "task": false
    },
    "solution2": "hidden"
   },
   "source": [
    "De variabelenaam **afstand** is in het Nederlands, terwijl **v** kort is voor *velocity* (Engels voor snelheid). De variabelenamen zijn dus tweetalig. Daarnaast is **afstand** een naam van meerdere karakters terwijl **t** en **v** maar een karakter hebben. In meeste natuurkunde boeken zou het gebruikelijker zijn om de afstand **x** te noemen."
   ]
  },
  {
   "cell_type": "markdown",
   "id": "c49a08b0",
   "metadata": {
    "solution2": "hidden",
    "solution2_first": true
   },
   "source": [
    "### 2.15\n",
    "\n",
    "\\* *Keywords* mag je niet gebruiken als variabelenaam. Keywords hebben ook een andere kleur in je code (anders dan de standaard zwarte kleur). Dus je herkent het als je per ongeluk een keyword gebruikt.\n",
    "\n",
    "Maak de volgende variabelenamen aan en let op de kleur: **continue**; **global**, **when**.\n",
    "Welke van deze drie namen mochten dus wel en welke niet gebruikt worden als variabelennaam?\n"
   ]
  },
  {
   "cell_type": "code",
   "execution_count": null,
   "id": "a5c0fc4d",
   "metadata": {
    "nbgrader": {
     "grade": true,
     "grade_id": "cell-7f864720d81d994c",
     "locked": false,
     "points": 0,
     "schema_version": 3,
     "solution": true,
     "task": false
    },
    "solution2": "hidden"
   },
   "outputs": [],
   "source": [
    "continue     # Groen (in jupyter) dit mag dus niet.\n",
    "global       # Groen (in jupyter) dit mag dus niet.\n",
    "when         # Zwart (in jupyter) dit mag dus wel."
   ]
  },
  {
   "cell_type": "markdown",
   "id": "83495016",
   "metadata": {},
   "source": [
    "### 2.16\n",
    "\n",
    "a. \\* Iemand heeft geprobeerd om negen keer Hello, World! uit te printen. Zie de code hieronder."
   ]
  },
  {
   "cell_type": "code",
   "execution_count": null,
   "id": "82da4cdc",
   "metadata": {},
   "outputs": [],
   "source": [
    "print(\"Hello World!\")\n",
    "print(\"Hello World!\")\n",
    "print(\"Hello World!)\n",
    "print(\"Hello World!\")\n",
    "print(\"Hello World!\")\n",
    "print(\"Hello World!\"\n",
    "print(\"Hello World!\")\n",
    "print(\"Hello World!\")"
   ]
  },
  {
   "cell_type": "markdown",
   "id": "a3d68e5b",
   "metadata": {
    "solution2": "hidden",
    "solution2_first": true
   },
   "source": [
    "Er staan echter drie fouten in. Wat zijn deze drie fouten? Waarom is het fout en wat voor soort fout is het (Syntax, Runtime, Semantic of Bug)?"
   ]
  },
  {
   "cell_type": "markdown",
   "id": "b275a7df",
   "metadata": {
    "nbgrader": {
     "grade": true,
     "grade_id": "cell-73d74bc25971ab89",
     "locked": false,
     "points": 0,
     "schema_version": 3,
     "solution": true,
     "task": false
    },
    "solution2": "hidden"
   },
   "source": [
    "- Regel 3, syntax fout, \" ontbreekt.\n",
    "- Regel 6, syntax fout, ) ontbreekt.\n",
    "- Bug -- zelfs als de twee syntaxfouten worden gecorrigeerd, zal de code maar 8 keer \"Hello World!\" uitprinten, i.p.v. 9 keer."
   ]
  },
  {
   "cell_type": "markdown",
   "id": "6e00a492",
   "metadata": {
    "solution2": "hidden",
    "solution2_first": true
   },
   "source": [
    "b. \\* Hoe zou je de code om negen keer Hello, World! uit te printen beter kunnen doen t.o.v. de code hierboven (nadat je de fouten hebt hersteld)?\n",
    "\n",
    "Met *beter* bedoelen we nu een kortere code."
   ]
  },
  {
   "cell_type": "code",
   "execution_count": null,
   "id": "b8f5fea0",
   "metadata": {
    "nbgrader": {
     "grade": true,
     "grade_id": "cell-0edc7cdbcc1ff0a7",
     "locked": false,
     "points": 0,
     "schema_version": 3,
     "solution": true,
     "task": false
    },
    "solution2": "hidden"
   },
   "outputs": [],
   "source": [
    "print(\"Hello World!\\n\"*9, end='')"
   ]
  },
  {
   "cell_type": "markdown",
   "id": "5f2e6a8a",
   "metadata": {},
   "source": [
    "### 2.17\n",
    "\n",
    "\\* Hieronder staat een programma met comments erbij."
   ]
  },
  {
   "cell_type": "code",
   "execution_count": null,
   "id": "98aa835c",
   "metadata": {
    "nbgrader": {
     "grade": true,
     "grade_id": "cell-af348d72ef48957a",
     "locked": false,
     "points": 0,
     "schema_version": 3,
     "solution": true,
     "task": false
    }
   },
   "outputs": [],
   "source": [
    "# Hieronder berekenen we de snelheid van de trein tussen Utrecht en Leiden\n",
    "x = float(input('De treinafstand tussen Utrecht en Leiden is:')) # Afstand tussen beide steden met de trein\n",
    "t = float(input('Hoelang doet de trein hierover?:')) # Reisduur tussen beide steden\n",
    "v = x/t # Sneheid is afstand / tijd\n",
    "print(v) # Antwoord printen"
   ]
  },
  {
   "cell_type": "markdown",
   "id": "419086f0",
   "metadata": {
    "solution2": "hidden",
    "solution2_first": true
   },
   "source": [
    "Wat vind je van de comments? Welke vind je goed en welke niet? Hoe zou je die veranderen?\n",
    "\n",
    "Wat zou je weglaten of eventueel nog extra aan comments toevoegen?"
   ]
  },
  {
   "cell_type": "markdown",
   "id": "53d4273f",
   "metadata": {
    "nbgrader": {
     "grade": true,
     "grade_id": "cell-2c35c29899efe0de",
     "locked": false,
     "points": 0,
     "schema_version": 3,
     "solution": true,
     "task": false
    },
    "solution2": "hidden"
   },
   "source": [
    "Al het commentaar behalve de eerste regel is overbodig, de code/vraagstelling legt dit al voldoende uit."
   ]
  },
  {
   "cell_type": "markdown",
   "id": "caf46311",
   "metadata": {
    "solution2": "hidden",
    "solution2_first": true
   },
   "source": [
    "### 2.18\n",
    "\n",
    "\\* Dit is een opgave uit het boek: \n",
    "\n",
    "*Exercise 2.1:*\n",
    "Repeating my advice from the previous chapter, whenever you learn a new feature, you should try it out and make errors on purpose to see what goes wrong. \n",
    "- We’ve seen that n = 42 is legal. What about 42 = n?\n",
    "- How about x = y = 1? \n",
    "- In some languages every statement ends with a semi-colon, ;. What happens if you put a semi-colon at the end of a Python statement? \n",
    "- What if you put a period at the end of a statement? \n",
    "- In math notation you can multiply x and y like this: xy. What happens if you try that in Python?\n",
    "\n",
    "PS: Lees ook de error meldingen, zodat je ze in de toekomst herkent en je je errors sneller kunt oplossen.\n"
   ]
  },
  {
   "cell_type": "code",
   "execution_count": 35,
   "id": "a196aadb",
   "metadata": {
    "nbgrader": {
     "grade": true,
     "grade_id": "cell-b9b5bc6f2cc5aac5",
     "locked": false,
     "points": 0,
     "schema_version": 3,
     "solution": true,
     "task": false
    },
    "solution2": "hidden"
   },
   "outputs": [
    {
     "ename": "SyntaxError",
     "evalue": "cannot assign to literal (<ipython-input-35-161a763f76b8>, line 1)",
     "output_type": "error",
     "traceback": [
      "\u001b[1;36m  File \u001b[1;32m\"<ipython-input-35-161a763f76b8>\"\u001b[1;36m, line \u001b[1;32m1\u001b[0m\n\u001b[1;33m    42 = n   # Dit mag niet, je kan aan 42 geen andere waarde toekennen. Je mag een variabele naam ook niet beginnen met een cijfer.\u001b[0m\n\u001b[1;37m    ^\u001b[0m\n\u001b[1;31mSyntaxError\u001b[0m\u001b[1;31m:\u001b[0m cannot assign to literal\n"
     ]
    }
   ],
   "source": [
    "42 = n   # Dit mag niet, je kan aan 42 geen andere waarde toekennen. Je mag een variabele naam ook niet beginnen met een cijfer."
   ]
  },
  {
   "cell_type": "code",
   "execution_count": 36,
   "id": "d3200ef1",
   "metadata": {
    "nbgrader": {
     "grade": true,
     "grade_id": "cell-93b580e707e01c74",
     "locked": false,
     "points": 0,
     "schema_version": 3,
     "solution": true,
     "task": false
    },
    "solution2": "hidden"
   },
   "outputs": [
    {
     "name": "stdout",
     "output_type": "stream",
     "text": [
      "1 1\n"
     ]
    }
   ],
   "source": [
    "x = y = 1   # Dit mag, beide x en y zijn nu 1.\n",
    "print(x, y)"
   ]
  },
  {
   "cell_type": "code",
   "execution_count": 38,
   "id": "544bd26d",
   "metadata": {
    "nbgrader": {
     "grade": true,
     "grade_id": "cell-9e441e7d5c92125f",
     "locked": false,
     "points": 0,
     "schema_version": 3,
     "solution": true,
     "task": false
    },
    "solution2": "hidden"
   },
   "outputs": [],
   "source": [
    "# Dit doet niks, je kan een ; gebruiken om meerdere commando's op\n",
    "# een regel te schrijven, maar dit word in het algemeen afgeraden.\n",
    "x = 42;   "
   ]
  },
  {
   "cell_type": "code",
   "execution_count": 39,
   "id": "92f389fa",
   "metadata": {
    "nbgrader": {
     "grade": true,
     "grade_id": "cell-dba5406bf746f4c8",
     "locked": false,
     "points": 0,
     "schema_version": 3,
     "solution": true,
     "task": false
    },
    "solution2": "hidden"
   },
   "outputs": [
    {
     "ename": "SyntaxError",
     "evalue": "invalid syntax (<ipython-input-39-0b867c327b44>, line 2)",
     "output_type": "error",
     "traceback": [
      "\u001b[1;36m  File \u001b[1;32m\"<ipython-input-39-0b867c327b44>\"\u001b[1;36m, line \u001b[1;32m2\u001b[0m\n\u001b[1;33m    naam = \"Robert\".    # Dit mag niet\u001b[0m\n\u001b[1;37m                        ^\u001b[0m\n\u001b[1;31mSyntaxError\u001b[0m\u001b[1;31m:\u001b[0m invalid syntax\n"
     ]
    }
   ],
   "source": [
    "x = 42.             # Dit mag, x is nu een float\n",
    "naam = \"Robert\".    # Dit mag niet"
   ]
  },
  {
   "cell_type": "code",
   "execution_count": 40,
   "id": "5776706c",
   "metadata": {
    "nbgrader": {
     "grade": true,
     "grade_id": "cell-40b6d8759381dcf0",
     "locked": false,
     "points": 0,
     "schema_version": 3,
     "solution": true,
     "task": false
    },
    "solution2": "hidden"
   },
   "outputs": [
    {
     "ename": "NameError",
     "evalue": "name 'xy' is not defined",
     "output_type": "error",
     "traceback": [
      "\u001b[1;31m---------------------------------------------------------------------------\u001b[0m",
      "\u001b[1;31mNameError\u001b[0m                                 Traceback (most recent call last)",
      "\u001b[1;32m<ipython-input-40-6b5b347f8093>\u001b[0m in \u001b[0;36m<module>\u001b[1;34m\u001b[0m\n\u001b[1;32m----> 1\u001b[1;33m \u001b[0mprint\u001b[0m\u001b[1;33m(\u001b[0m\u001b[0mxy\u001b[0m\u001b[1;33m)\u001b[0m \u001b[1;31m# Dit mag niet, vermenigvuldigen is altijd met een *\u001b[0m\u001b[1;33m\u001b[0m\u001b[1;33m\u001b[0m\u001b[0m\n\u001b[0m",
      "\u001b[1;31mNameError\u001b[0m: name 'xy' is not defined"
     ]
    }
   ],
   "source": [
    "print(xy) # Dit mag niet, vermenigvuldigen is altijd met een *"
   ]
  },
  {
   "cell_type": "markdown",
   "id": "7a0d9e9c",
   "metadata": {
    "solution2": "hidden",
    "solution2_first": true
   },
   "source": [
    "### 2.19\n",
    "\n",
    "\\* Dit is een opgave uit het boek: \n",
    "\n",
    "*Exercise 2.2:*\n",
    "\n",
    "Practice using the Python interpreter as a calculator: \n",
    "1. The volume of a sphere with radius r is $\\frac{4}{3} \\pi r^3$. What is the volume of a sphere with radius 5? \n"
   ]
  },
  {
   "cell_type": "code",
   "execution_count": 41,
   "id": "60cccd7e",
   "metadata": {
    "nbgrader": {
     "grade": true,
     "grade_id": "cell-8e736998024008f4",
     "locked": false,
     "points": 0,
     "schema_version": 3,
     "solution": true,
     "task": false
    },
    "solution2": "hidden"
   },
   "outputs": [
    {
     "name": "stdout",
     "output_type": "stream",
     "text": [
      "523.5987755982989\n"
     ]
    }
   ],
   "source": [
    "# In de interpreter vul je:\n",
    "# 4/3*3.14*5**3\n",
    "\n",
    "# In Jupyter:\n",
    "# We hadden ook pi = 3.141592653 kunnen doen, maar dit is iets netter (en\n",
    "# meer cijfers achter de komma.) Wat een import is komt in een volgende les.\n",
    "from math import pi\n",
    "\n",
    "r = 5\n",
    "vol = (4*pi/3) * r**3\n",
    "\n",
    "print(vol)"
   ]
  },
  {
   "cell_type": "markdown",
   "id": "005da093",
   "metadata": {
    "solution2": "hidden",
    "solution2_first": true
   },
   "source": [
    "2. Suppose the cover price of a book is $\\$24.95$, but bookstores get a $40\\%$ discount. Shipping costs $\\$3$ for the first copy and 75 cents for each additional copy. What is the total wholesale cost for 60 copies? \n",
    "\n"
   ]
  },
  {
   "cell_type": "code",
   "execution_count": 42,
   "id": "2b62de09",
   "metadata": {
    "nbgrader": {
     "grade": true,
     "grade_id": "cell-c987f16f562b0d54",
     "locked": false,
     "points": 0,
     "schema_version": 3,
     "solution": true,
     "task": false
    },
    "solution2": "hidden"
   },
   "outputs": [
    {
     "name": "stdout",
     "output_type": "stream",
     "text": [
      "Wholesale cost: 945.45\n"
     ]
    }
   ],
   "source": [
    "# In de interpreter vul je:\n",
    "# 60*24.95*(1 - 0.4) + 3 + (60 - 1)*0.75\n",
    "\n",
    "# In Jupyter:\n",
    "cover = 24.95\n",
    "discount = 0.4\n",
    "n = 60\n",
    "ship1 = 3        # Shipping cost first copy\n",
    "ship_rest = 0.75 # Shipping cost for each additional copy\n",
    "\n",
    "cost = n*cover*(1 - discount) + ship1 + (n-1)*ship_rest\n",
    "\n",
    "# Print cost with two digits precision after the decimal point.\n",
    "print(f\"Wholesale cost: {cost:.2f}\")  # Wat nieuws geleerd weer: die .2f zorgt voor afronden op twee decimalen!"
   ]
  }
 ],
 "metadata": {
  "celltoolbar": "Create Assignment",
  "kernelspec": {
   "display_name": "Python 3 (ipykernel)",
   "language": "python",
   "name": "python3"
  },
  "language_info": {
   "codemirror_mode": {
    "name": "ipython",
    "version": 3
   },
   "file_extension": ".py",
   "mimetype": "text/x-python",
   "name": "python",
   "nbconvert_exporter": "python",
   "pygments_lexer": "ipython3",
   "version": "3.9.12"
  },
  "toc": {
   "base_numbering": 1,
   "nav_menu": {},
   "number_sections": false,
   "sideBar": true,
   "skip_h1_title": false,
   "title_cell": "Table of Contents",
   "title_sidebar": "Contents",
   "toc_cell": false,
   "toc_position": {
    "height": "calc(100% - 180px)",
    "left": "10px",
    "top": "150px",
    "width": "165px"
   },
   "toc_section_display": true,
   "toc_window_display": false
  }
 },
 "nbformat": 4,
 "nbformat_minor": 5
}
