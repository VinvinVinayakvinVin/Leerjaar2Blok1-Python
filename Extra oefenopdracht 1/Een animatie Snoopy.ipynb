{
 "cells": [
  {
   "cell_type": "code",
   "execution_count": 1,
   "id": "42488a8f",
   "metadata": {},
   "outputs": [],
   "source": [
    "from tkinter import *\n",
    "import time\n",
    "\n",
    "root = Tk()\n",
    "root.attributes(\"-topmost\", True)\n",
    "frame = Frame(root)\n",
    "\n",
    "def clearFrame():    \n",
    "    for widget in frame.winfo_children():\n",
    "       widget.destroy()  \n",
    "\n",
    "canvas = Canvas(root, width=600, height=500, bg=\"white\")\n",
    "\n",
    "n_rijen = len(open('Snoopy.txt').readlines())\n",
    "teller = 0\n",
    "while teller < 10:\n",
    "    file = open('Snoopy.txt')\n",
    "    text = Text(root)\n",
    "    for i in range(1, n_rijen + 1):\n",
    "        line = file.readline()\n",
    "        x = 100\n",
    "        n = 0\n",
    "        for letter in line:\n",
    "            canvas.create_text(x + n*5, i*10, text=letter)\n",
    "            n = n + 1\n",
    "    canvas.pack()\n",
    "    canvas.update()\n",
    "\n",
    "    time.sleep(0.6)\n",
    "    canvas.delete(\"all\")\n",
    "\n",
    "    file = open('Snoopy2.txt')\n",
    "\n",
    "    text = Text(root)\n",
    "    for i in range(1, n_rijen + 1):\n",
    "        line = file.readline()\n",
    "        x = 100\n",
    "        n = 0\n",
    "        for letter in line:\n",
    "            canvas.create_text(x + n*5, i*10, text=letter)\n",
    "            n = n + 1\n",
    "    canvas.pack()\n",
    "    canvas.update()\n",
    "\n",
    "    time.sleep(0.6)\n",
    "\n",
    "    if teller != 9:\n",
    "        canvas.delete(\"all\")    \n",
    "    \n",
    "    teller = teller + 1 \n",
    "\n",
    "root.mainloop()"
   ]
  },
  {
   "cell_type": "code",
   "execution_count": null,
   "id": "e966768a",
   "metadata": {},
   "outputs": [],
   "source": [
    "\n"
   ]
  },
  {
   "cell_type": "code",
   "execution_count": null,
   "id": "22d94815",
   "metadata": {},
   "outputs": [],
   "source": []
  },
  {
   "cell_type": "code",
   "execution_count": null,
   "id": "bf8c6306",
   "metadata": {},
   "outputs": [],
   "source": []
  }
 ],
 "metadata": {
  "kernelspec": {
   "display_name": "Python 3",
   "language": "python",
   "name": "python3"
  },
  "language_info": {
   "codemirror_mode": {
    "name": "ipython",
    "version": 3
   },
   "file_extension": ".py",
   "mimetype": "text/x-python",
   "name": "python",
   "nbconvert_exporter": "python",
   "pygments_lexer": "ipython3",
   "version": "3.8.8"
  }
 },
 "nbformat": 4,
 "nbformat_minor": 5
}
