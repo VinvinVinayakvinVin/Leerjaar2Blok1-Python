{
 "cells": [
  {
   "cell_type": "markdown",
   "id": "f805ab43",
   "metadata": {
    "slideshow": {
     "slide_type": "slide"
    }
   },
   "source": [
    "# Programmeren 2.1\n",
    "\n",
    "## Les 5.2 -- Verschillende soorten lijsten\n",
    "\n",
    "6 Okt 2022"
   ]
  },
  {
   "cell_type": "markdown",
   "id": "12150857",
   "metadata": {
    "slideshow": {
     "slide_type": "slide"
    }
   },
   "source": [
    "## Inhoud\n",
    "\n",
    "- Lijsten herhaling\n",
    "- *Nested* lijsten\n",
    "- Ander soorten lijsten\n",
    "  - **tuple**\n",
    "  - **dict**\n",
    "  - **set**\n",
    "- Programmeerstijl"
   ]
  },
  {
   "cell_type": "markdown",
   "id": "12a5e02d",
   "metadata": {
    "slideshow": {
     "slide_type": "slide"
    }
   },
   "source": [
    "### Lijsten herhaling\n",
    "\n",
    "Een lijst is een rij van waarden. Met lijsten kunnen we de volgende operaties uitvoeren:\n",
    "\n",
    "| Code | Betekenis | Alternatief |\n",
    "|:-----|:----------|:------------|\n",
    "| **xs[i]** | $i^{de}$ waarde van de lijst ||\n",
    "| **xs + ys** | Plak lijsten **xs** en **ys** achter elkaar ||\n",
    "| **xs \\* n** | Plak **n** kopien van **xs** achter elkaar ||\n",
    "| **x in xs** | Zit **x** in de lijst **xs**? (True/False) ||\n",
    "| **xs.append(x)** | Verleng **xs** met element **x** | **xs = xs + [x]** |\n",
    "| **xs.extend(ys)** | Verleng **xs** met lijst **ys** | **xs = xs + ys** |\n",
    "| **ys = xs** | **ys** verwijst naar dezelfde lijst als **xs** ||\n",
    "| **ys = xs.copy()** | **ys** is een kopie van **xs** ||\n",
    "\n",
    "Merk op: een string is een lijst van karakters, de **[i]**, **+** en **\\*** operaties doen precies wat je zou verwachten."
   ]
  },
  {
   "cell_type": "markdown",
   "id": "001d5ac4",
   "metadata": {
    "slideshow": {
     "slide_type": "slide"
    }
   },
   "source": [
    "- Indices van een lijst beginnen bij 0 en gaan tot (maar niet met) $n$, waar $n$ de lengte van de lijst is.\n",
    "- Negatieve indices tellen van het eind van de lijst terug, dus -1 is het laatste element $(n-1)$, -2 is het één na laatste element $(n-2)$, etc..."
   ]
  },
  {
   "cell_type": "code",
   "execution_count": 1,
   "id": "b3eb4c0c",
   "metadata": {},
   "outputs": [
    {
     "name": "stdout",
     "output_type": "stream",
     "text": [
      "19 17 13\n"
     ]
    }
   ],
   "source": [
    "xs = [2, 3, 5, 7, 11, 13, 17, 19]\n",
    "print(xs[-1], xs[-2], xs[-3])"
   ]
  },
  {
   "cell_type": "markdown",
   "id": "28d317b2",
   "metadata": {
    "slideshow": {
     "slide_type": "slide"
    }
   },
   "source": [
    "- Je kan deellijsten maken met '**[a:b]**', dit is een lijst met de element van index **a** tot (maar niet met) **b**.\n",
    "- Als je **a** weglaat dan start je bij het begin van de lijst, als je **b** weglaat dan eindig je bij het eind van de lijst."
   ]
  },
  {
   "cell_type": "code",
   "execution_count": 2,
   "id": "cc2d555b",
   "metadata": {
    "cell_style": "split"
   },
   "outputs": [
    {
     "name": "stdout",
     "output_type": "stream",
     "text": [
      "[5, 7, 11]\n"
     ]
    }
   ],
   "source": [
    "# Print elementen 2, 3 en 4\n",
    "print(xs[2:5])"
   ]
  },
  {
   "cell_type": "code",
   "execution_count": 3,
   "id": "429760e1",
   "metadata": {
    "cell_style": "split"
   },
   "outputs": [
    {
     "name": "stdout",
     "output_type": "stream",
     "text": [
      "[11, 13, 17]\n"
     ]
    }
   ],
   "source": [
    "#Print de 4e t/m de één na laatste elementen\n",
    "print(xs[4:-1])"
   ]
  },
  {
   "cell_type": "code",
   "execution_count": 4,
   "id": "f960e94b",
   "metadata": {
    "cell_style": "split"
   },
   "outputs": [
    {
     "name": "stdout",
     "output_type": "stream",
     "text": [
      "[2, 3, 5]\n"
     ]
    }
   ],
   "source": [
    "#Print de eerste drie elementen\n",
    "print(xs[:3])"
   ]
  },
  {
   "cell_type": "code",
   "execution_count": 5,
   "id": "9ff12486",
   "metadata": {
    "cell_style": "split"
   },
   "outputs": [
    {
     "name": "stdout",
     "output_type": "stream",
     "text": [
      "[13, 17, 19]\n"
     ]
    }
   ],
   "source": [
    "#Print de laatste drie elementen\n",
    "print(xs[-3:])"
   ]
  },
  {
   "cell_type": "markdown",
   "id": "074ef6f1",
   "metadata": {
    "slideshow": {
     "slide_type": "slide"
    }
   },
   "source": [
    "- Met de notatie **[a:b:c]** bekijk je de indices van **a** tot **b** in stappen van **c**.\n",
    "- Het weglaten van **a** of **b** blijft hetzelfde."
   ]
  },
  {
   "cell_type": "code",
   "execution_count": 6,
   "id": "01b59585",
   "metadata": {
    "cell_style": "split"
   },
   "outputs": [
    {
     "name": "stdout",
     "output_type": "stream",
     "text": [
      "[3, 7, 13, 19]\n"
     ]
    }
   ],
   "source": [
    "# Print elementen 1, 3, 5, en 7\n",
    "print(xs[1:8:2])"
   ]
  },
  {
   "cell_type": "code",
   "execution_count": 7,
   "id": "a2a5382c",
   "metadata": {
    "cell_style": "split"
   },
   "outputs": [
    {
     "name": "stdout",
     "output_type": "stream",
     "text": [
      "[2, 5, 11, 17]\n"
     ]
    }
   ],
   "source": [
    "# Print de elementen met even indices\n",
    "print(xs[::2])"
   ]
  },
  {
   "cell_type": "code",
   "execution_count": 8,
   "id": "4de98986",
   "metadata": {
    "cell_style": "split"
   },
   "outputs": [
    {
     "name": "stdout",
     "output_type": "stream",
     "text": [
      "[19, 17, 13, 11, 7, 5, 3, 2]\n"
     ]
    }
   ],
   "source": [
    "# Draai de lijst om\n",
    "print(xs[::-1])"
   ]
  },
  {
   "cell_type": "code",
   "execution_count": 9,
   "id": "2083401a",
   "metadata": {
    "cell_style": "split"
   },
   "outputs": [
    {
     "name": "stdout",
     "output_type": "stream",
     "text": [
      "[11, 7, 5, 3, 2]\n"
     ]
    }
   ],
   "source": [
    "# Print elementen 4, 3, 2, 1, 0\n",
    "print(xs[4::-1])"
   ]
  },
  {
   "cell_type": "markdown",
   "id": "ea31eec3",
   "metadata": {
    "slideshow": {
     "slide_type": "slide"
    }
   },
   "source": [
    "### *Nested* lijsten\n",
    "\n",
    "- Tot nu toe hebben we alleen lijsten van getallen of strings gezien, maar alles kan een element van een lijst zijn.\n",
    "- Een lijst waarvan ieder element opnieuw een lijst is, noemen we een *nested* lijst, of een 2 dimensionale array."
   ]
  },
  {
   "cell_type": "code",
   "execution_count": 10,
   "id": "99814656",
   "metadata": {
    "cell_style": "split"
   },
   "outputs": [
    {
     "name": "stdout",
     "output_type": "stream",
     "text": [
      "[[1, 2, 3], [3, 1, 2], [2, 3, 1]]\n"
     ]
    }
   ],
   "source": [
    "matrix = [[1, 2, 3], [3, 1, 2], [2, 3, 1]]\n",
    "print(matrix)"
   ]
  },
  {
   "cell_type": "code",
   "execution_count": 11,
   "id": "993ffcce",
   "metadata": {
    "cell_style": "split"
   },
   "outputs": [
    {
     "name": "stdout",
     "output_type": "stream",
     "text": [
      "[1, 2, 3]\n",
      "[3, 1, 2]\n",
      "[2, 3, 1]\n"
     ]
    }
   ],
   "source": [
    "for rij in matrix:\n",
    "    print(rij)"
   ]
  },
  {
   "cell_type": "code",
   "execution_count": 12,
   "id": "e31945d8",
   "metadata": {
    "cell_style": "split"
   },
   "outputs": [
    {
     "name": "stdout",
     "output_type": "stream",
     "text": [
      "[1, 2, 3]\n"
     ]
    }
   ],
   "source": [
    "# Print rij nul van de matrix\n",
    "print(matrix[0])"
   ]
  },
  {
   "cell_type": "code",
   "execution_count": 13,
   "id": "a8c75882",
   "metadata": {
    "cell_style": "split"
   },
   "outputs": [
    {
     "name": "stdout",
     "output_type": "stream",
     "text": [
      "3\n"
     ]
    }
   ],
   "source": [
    "# Print rij 0, kolom 2\n",
    "print(matrix[0][2])"
   ]
  },
  {
   "cell_type": "code",
   "execution_count": 14,
   "id": "07e13315",
   "metadata": {
    "slideshow": {
     "slide_type": "slide"
    }
   },
   "outputs": [
    {
     "name": "stdout",
     "output_type": "stream",
     "text": [
      "[0, 0, 0, 0, 0, 0, 0, 0, 0, 0]\n",
      "[0, 1, 2, 3, 4, 5, 6, 7, 8, 9]\n",
      "[0, 2, 4, 6, 8, 10, 12, 14, 16, 18]\n",
      "[0, 3, 6, 9, 12, 15, 18, 21, 24, 27]\n",
      "[0, 4, 8, 12, 16, 20, 24, 28, 32, 36]\n",
      "[0, 5, 10, 15, 20, 25, 30, 35, 40, 45]\n",
      "[0, 6, 12, 18, 24, 30, 36, 42, 48, 54]\n",
      "[0, 7, 14, 21, 28, 35, 42, 49, 56, 63]\n",
      "[0, 8, 16, 24, 32, 40, 48, 56, 64, 72]\n",
      "[0, 9, 18, 27, 36, 45, 54, 63, 72, 81]\n"
     ]
    }
   ],
   "source": [
    "producten = [[i*j for i in range(10)] for j in range(10)]\n",
    "for rij in producten:\n",
    "    print(rij)"
   ]
  },
  {
   "cell_type": "markdown",
   "id": "ac8c6fd7",
   "metadata": {
    "slideshow": {
     "slide_type": "slide"
    }
   },
   "source": [
    "Een lijst is een verwijzing naar een geheugenlocatie. In de volgende code zal een verandering van **matrix2** ook **matrix** veranderen."
   ]
  },
  {
   "cell_type": "code",
   "execution_count": 15,
   "id": "decafd26",
   "metadata": {},
   "outputs": [
    {
     "name": "stdout",
     "output_type": "stream",
     "text": [
      "[[1, 2, 3], [3, 1, 2], [2, 3, 1]]\n",
      "[[1, 2, 3], [3, 10, 2], [2, 3, 1]]\n"
     ]
    }
   ],
   "source": [
    "print(matrix)\n",
    "matrix2 = matrix\n",
    "matrix2[1][1] = 10\n",
    "print(matrix)"
   ]
  },
  {
   "cell_type": "markdown",
   "id": "5a5eb1e1",
   "metadata": {
    "slideshow": {
     "slide_type": "slide"
    }
   },
   "source": [
    "Voor enkelvoudige lijsten konden we hier het **copy** commando voor gebruiken als we dit niet willen. Echter, voor *nested* lijsten wil je ook van iedere rij een **copy** maken."
   ]
  },
  {
   "cell_type": "code",
   "execution_count": 16,
   "id": "73b0679c",
   "metadata": {},
   "outputs": [
    {
     "name": "stdout",
     "output_type": "stream",
     "text": [
      "[[1, 2, 3], [3, 10, 2], [2, 3, 1]]\n",
      "[[1, 2, 3], [3, 100, 2], [2, 3, 1]]\n"
     ]
    }
   ],
   "source": [
    "print(matrix2)\n",
    "matrix3 = matrix2.copy()\n",
    "matrix3[1][1] = 100\n",
    "print(matrix2)"
   ]
  },
  {
   "cell_type": "markdown",
   "id": "4ed218a0",
   "metadata": {
    "slideshow": {
     "slide_type": "slide"
    }
   },
   "source": [
    "We willen een zogenaamde *deep copy*."
   ]
  },
  {
   "cell_type": "markdown",
   "id": "6c056f8d",
   "metadata": {
    "cell_style": "split"
   },
   "source": [
    "Dit kunnen we zelf programmeren:"
   ]
  },
  {
   "cell_type": "markdown",
   "id": "9c8135f5",
   "metadata": {
    "cell_style": "split"
   },
   "source": [
    "Of we gebruiken het **deepcopy** commando:"
   ]
  },
  {
   "cell_type": "code",
   "execution_count": 17,
   "id": "c2acf41a",
   "metadata": {
    "cell_style": "split"
   },
   "outputs": [
    {
     "name": "stdout",
     "output_type": "stream",
     "text": [
      "[[1, 2, 3], [3, 100, 2], [2, 3, 1]]\n"
     ]
    }
   ],
   "source": [
    "matrix4 = [rij.copy() for rij in matrix3]\n",
    "print(matrix4)"
   ]
  },
  {
   "cell_type": "code",
   "execution_count": 18,
   "id": "7396bebd",
   "metadata": {
    "cell_style": "split"
   },
   "outputs": [
    {
     "name": "stdout",
     "output_type": "stream",
     "text": [
      "[[1, 2, 3], [3, 100, 2], [2, 3, 1]]\n"
     ]
    }
   ],
   "source": [
    "from copy import deepcopy\n",
    "matrix5 = deepcopy(matrix3)\n",
    "print(matrix5)"
   ]
  },
  {
   "cell_type": "markdown",
   "id": "bacee2a7",
   "metadata": {
    "slideshow": {
     "slide_type": "slide"
    }
   },
   "source": [
    "Het NumPy package bevat heel veel functies om slim en snel met grotere 2D arrays te werken."
   ]
  },
  {
   "cell_type": "code",
   "execution_count": 19,
   "id": "6382f9db",
   "metadata": {
    "cell_style": "split"
   },
   "outputs": [
    {
     "name": "stdout",
     "output_type": "stream",
     "text": [
      "[[ 0  0  0  0  0  0  0  0  0  0]\n",
      " [ 0  1  2  3  4  5  6  7  8  9]\n",
      " [ 0  2  4  6  8 10 12 14 16 18]\n",
      " [ 0  3  6  9 12 15 18 21 24 27]\n",
      " [ 0  4  8 12 16 20 24 28 32 36]\n",
      " [ 0  5 10 15 20 25 30 35 40 45]\n",
      " [ 0  6 12 18 24 30 36 42 48 54]\n",
      " [ 0  7 14 21 28 35 42 49 56 63]\n",
      " [ 0  8 16 24 32 40 48 56 64 72]\n",
      " [ 0  9 18 27 36 45 54 63 72 81]]\n"
     ]
    }
   ],
   "source": [
    "import numpy as np\n",
    "\n",
    "m4 = np.array(producten)\n",
    "print(m4)"
   ]
  },
  {
   "cell_type": "code",
   "execution_count": 20,
   "id": "373feafe",
   "metadata": {
    "cell_style": "split"
   },
   "outputs": [
    {
     "name": "stdout",
     "output_type": "stream",
     "text": [
      "[[ 6  8 10]\n",
      " [ 9 12 15]\n",
      " [12 16 20]\n",
      " [15 20 25]\n",
      " [18 24 30]]\n"
     ]
    }
   ],
   "source": [
    "print(m4[2:7,3:6])"
   ]
  },
  {
   "cell_type": "markdown",
   "id": "7caa7587",
   "metadata": {},
   "source": [
    "We zullen bij programmeren 2.1 niet veel werken met NumPy (al mag het wel!), maar dit kan bij vervolgvakken wel langskomen. Zie [https://numpy.org/doc/](https://numpy.org/doc/) voor meer info."
   ]
  },
  {
   "cell_type": "markdown",
   "id": "d0cb1dac",
   "metadata": {
    "slideshow": {
     "slide_type": "slide"
    }
   },
   "source": [
    "### Tuples\n",
    "\n",
    "Tuples zijn 2-tallen, 3-tallen, ..., of $n$-tallen van variabelen. Ze worden vaak gebruikt als een soort tijdelijke korte lijstjes:"
   ]
  },
  {
   "cell_type": "code",
   "execution_count": 21,
   "id": "539e421a",
   "metadata": {
    "cell_style": "split"
   },
   "outputs": [
    {
     "name": "stdout",
     "output_type": "stream",
     "text": [
      "<class 'tuple'>\n",
      "('Robert', 42)\n"
     ]
    }
   ],
   "source": [
    "t = ('Robert', 42)\n",
    "print(type(t))\n",
    "print(t)"
   ]
  },
  {
   "cell_type": "markdown",
   "id": "046b2a34",
   "metadata": {
    "cell_style": "split",
    "slideshow": {
     "slide_type": "-"
    }
   },
   "source": [
    "We kunnen de waarden in een *tuple* uitpakken in meerdere variabelen:"
   ]
  },
  {
   "cell_type": "code",
   "execution_count": 22,
   "id": "bf9911c7",
   "metadata": {
    "cell_style": "split"
   },
   "outputs": [
    {
     "name": "stdout",
     "output_type": "stream",
     "text": [
      "Robert 42\n"
     ]
    }
   ],
   "source": [
    "naam, leeftijd = t\n",
    "print(naam, leeftijd)"
   ]
  },
  {
   "cell_type": "markdown",
   "id": "428f6bed",
   "metadata": {
    "slideshow": {
     "slide_type": "slide"
    }
   },
   "source": [
    "Zo kunnen we bijvoorbeeld de waarden van twee variabelen omwisselen:"
   ]
  },
  {
   "cell_type": "code",
   "execution_count": 23,
   "id": "a2ddd05e",
   "metadata": {},
   "outputs": [
    {
     "name": "stdout",
     "output_type": "stream",
     "text": [
      "x=10, y=20\n",
      "x=20, y=10\n"
     ]
    }
   ],
   "source": [
    "x = 10\n",
    "y = 20\n",
    "print(f\"x={x}, y={y}\")\n",
    "x, y = y, x\n",
    "print(f\"x={x}, y={y}\")"
   ]
  },
  {
   "cell_type": "markdown",
   "id": "60ac7438",
   "metadata": {
    "slideshow": {
     "slide_type": "slide"
    }
   },
   "source": [
    "We kunnen een functie meerdere uitvoeren geven:"
   ]
  },
  {
   "cell_type": "code",
   "execution_count": 24,
   "id": "103b4853",
   "metadata": {},
   "outputs": [
    {
     "name": "stdout",
     "output_type": "stream",
     "text": [
      "(1.0, -4.0)\n"
     ]
    }
   ],
   "source": [
    "def abc_formule(a, b, c):\n",
    "    disc = b*b - 4*a*c\n",
    "    x1 = (-b + disc**0.5)/(2*a)\n",
    "    x2 = (-b - disc**0.5)/(2*a)\n",
    "    return x1, x2\n",
    "\n",
    "print(abc_formule(1, 3, -4))"
   ]
  },
  {
   "cell_type": "markdown",
   "id": "395a470a",
   "metadata": {},
   "source": [
    "We kunnen een *tuple* ook *uitpakken* naar de argumenten van een functie door een **\\*** voor de tuple te plaatsen."
   ]
  },
  {
   "cell_type": "code",
   "execution_count": 25,
   "id": "3403834b",
   "metadata": {},
   "outputs": [
    {
     "name": "stdout",
     "output_type": "stream",
     "text": [
      "(1.0, -4.0)\n",
      "(1.0, -4.0)\n"
     ]
    }
   ],
   "source": [
    "abc = (1, 3, -4)\n",
    "\n",
    "print(abc_formule(abc[0], abc[1], abc[2]))\n",
    "\n",
    "# Dit kan korter met\n",
    "print(abc_formule(*abc))\n"
   ]
  },
  {
   "cell_type": "markdown",
   "id": "f2a91755",
   "metadata": {
    "slideshow": {
     "slide_type": "slide"
    }
   },
   "source": [
    "Het **zip** commando combineert meerdere lijsten tot een lijst van tuples:"
   ]
  },
  {
   "cell_type": "code",
   "execution_count": 26,
   "id": "60dccef2",
   "metadata": {},
   "outputs": [
    {
     "name": "stdout",
     "output_type": "stream",
     "text": [
      "[(2, 7, 17), (3, 11, 19), (5, 13, 23)]\n"
     ]
    }
   ],
   "source": [
    "xs = [2, 3, 5]\n",
    "ys = [7, 11, 13]\n",
    "zs = [17, 19, 23]\n",
    "print(list(zip(xs, ys, zs)))"
   ]
  },
  {
   "cell_type": "markdown",
   "id": "7aadeaae",
   "metadata": {},
   "source": [
    "Dit hadden we al eerder gezien binnen een **for** loop:"
   ]
  },
  {
   "cell_type": "code",
   "execution_count": 27,
   "id": "55063e83",
   "metadata": {},
   "outputs": [
    {
     "name": "stdout",
     "output_type": "stream",
     "text": [
      "238\n",
      "627\n",
      "1495\n"
     ]
    }
   ],
   "source": [
    "for x, y, z in zip(xs, ys, zs):\n",
    "    print(x*y*z)"
   ]
  },
  {
   "cell_type": "markdown",
   "id": "6638be84",
   "metadata": {
    "slideshow": {
     "slide_type": "slide"
    }
   },
   "source": [
    "Tuples kunnen met elkaar vergeleken worden met **<**, **<=**, **>**, **>=**, **==** en **!=**.\n",
    "\n",
    "- Vergelijkingen werken van links naar rechts.\n",
    "- **(a, b) < (c, d)** is **True** als\n",
    "  - **a < c**, of als\n",
    "  - **a = c** en **b < d**.\n",
    "- Ook de **max** en **min** functies kunnen zo dus gebruikt worden."
   ]
  },
  {
   "cell_type": "markdown",
   "id": "87599b2c",
   "metadata": {},
   "source": [
    "Zo kan je bijvoorbeeld het minimum, en de index waar dit minimum voorkomt vinden:"
   ]
  },
  {
   "cell_type": "code",
   "execution_count": 28,
   "id": "96f05c58",
   "metadata": {},
   "outputs": [
    {
     "name": "stdout",
     "output_type": "stream",
     "text": [
      "xmin = 2 op index 3\n"
     ]
    }
   ],
   "source": [
    "xs = [3, 8, 99, 2, 5, 3, 8, 12, 4]\n",
    "xmin, ind = min((x, i) for i, x in enumerate(xs))\n",
    "print(f\"xmin = {xmin} op index {ind}\")"
   ]
  },
  {
   "cell_type": "markdown",
   "id": "9fe8f005",
   "metadata": {
    "slideshow": {
     "slide_type": "slide"
    }
   },
   "source": [
    "Tuples lijken heel erg op lijsten, maar er zijn een paar belangrijke verschillen:\n",
    "\n",
    "- De elementen van lijsten kunnen veranderen, de code **mijn_lijst[3] = 25** is toegestaan\n",
    "- De lengte van een lijst kan veranderen, we kunnen elementen toevoegen (met **append** of **extend**) of verwijderen (met **clear** of **pop**).\n",
    "- De elementen van tuple kunnen niet veranderen, de code **mijn_tuple[3] = 25** geeft een foutmelding.\n",
    "- De lengte van een tuple kan niet veranderen.\n",
    "\n",
    "Om deze reden noemen we tuples *immutable* en lijsten *mutable*.\n"
   ]
  },
  {
   "cell_type": "markdown",
   "id": "8c3f8a4b",
   "metadata": {
    "slideshow": {
     "slide_type": "slide"
    }
   },
   "source": [
    "### Dictionaries\n",
    "\n",
    "Soms is het werken met een lijst met indices onhandig, in veel situaties is zo'n index niet *logisch*. Bijvoorbeeld als we lijsten van studenten en hun cijfers hebben:"
   ]
  },
  {
   "cell_type": "code",
   "execution_count": 29,
   "id": "9ea04a8f",
   "metadata": {},
   "outputs": [],
   "source": [
    "studenten = ['Jan', 'Sara', 'Piet', 'Anna']\n",
    "cijfers = [7, 9, 6, 6]"
   ]
  },
  {
   "cell_type": "markdown",
   "id": "72694eae",
   "metadata": {},
   "source": [
    "Om het cijfer van iemand te vinden zouden we eerst de index moeten opzoeken, en dan het cijfer bij deze index."
   ]
  },
  {
   "cell_type": "code",
   "execution_count": 30,
   "id": "e5fad71d",
   "metadata": {},
   "outputs": [
    {
     "name": "stdout",
     "output_type": "stream",
     "text": [
      "Van wie wil je het cijfer weten? Jan\n",
      "Het cijfer van Jan is 7\n"
     ]
    }
   ],
   "source": [
    "naam = input('Van wie wil je het cijfer weten? ')\n",
    "i = studenten.index(naam)\n",
    "print(f\"Het cijfer van {naam} is {cijfers[i]}\")"
   ]
  },
  {
   "cell_type": "markdown",
   "id": "96c08409",
   "metadata": {},
   "source": [
    "Dit is omslachtig, en gevoelig voor fouten. De oplossing hiervoor is het gebruik van een *dictionary*."
   ]
  },
  {
   "cell_type": "markdown",
   "id": "fa7bb0c2",
   "metadata": {
    "slideshow": {
     "slide_type": "slide"
    }
   },
   "source": [
    "Een *dictionary* is een lijst van *keys* met bijbehorende *values*. Het werkt als een woordenboek -- je zoekt een woord (de *key*) op en krijgt zijn definitie (de *value*). De *key* is dus eigenlijk de index van een lijst."
   ]
  },
  {
   "cell_type": "code",
   "execution_count": 31,
   "id": "b5956070",
   "metadata": {},
   "outputs": [
    {
     "name": "stdout",
     "output_type": "stream",
     "text": [
      "<class 'dict'>\n",
      "{'Jan': 7, 'Sara': 9, 'Piet': 6, 'Anna': 6}\n"
     ]
    }
   ],
   "source": [
    "cijfers = {'Jan':7, 'Sara':9, 'Piet':6, 'Anna':6}\n",
    "print(type(cijfers))\n",
    "print(cijfers)"
   ]
  },
  {
   "cell_type": "code",
   "execution_count": 32,
   "id": "96ee5910",
   "metadata": {},
   "outputs": [
    {
     "name": "stdout",
     "output_type": "stream",
     "text": [
      "Van wie wil je het cijfer weten? Sara\n",
      "Het cijfer van Sara is 9\n"
     ]
    }
   ],
   "source": [
    "naam = input('Van wie wil je het cijfer weten? ')\n",
    "print(f\"Het cijfer van {naam} is {cijfers[naam]}\")"
   ]
  },
  {
   "cell_type": "markdown",
   "id": "e7e428b8",
   "metadata": {
    "slideshow": {
     "slide_type": "slide"
    }
   },
   "source": [
    "Er zijn een aantal regels voor wat je als *key* kan gebruiken. De *key* moet *immutable* zijn.\n",
    "\n",
    "|Wat mag wel? | Wat mag niet?|\n",
    "|:------------|:-------------|\n",
    "| Getallen | Lijsten |\n",
    "| Strings | Dictionaries |\n",
    "| Tuples van getallen of strings | Tuples van lijsten of dictionaries|"
   ]
  },
  {
   "cell_type": "markdown",
   "id": "848217df",
   "metadata": {
    "slideshow": {
     "slide_type": "slide"
    }
   },
   "source": [
    "Met een dictionary kan je de volgende operaties uitvoeren:\n",
    "\n",
    "| Code | Betekenis |\n",
    "|------|-----------|\n",
    "| **dic[k]** | De *value* bij *key* **k** |\n",
    "| **dic[k] = v** | Ken de *value* **v** toe aan *key* **k**, voeg deze *key* toe indien nodig|\n",
    "| **k in dic** | **True** als **dic k** als *key* heeft |\n",
    "| **for k in dic:** | Loop over de *keys* |\n",
    "| **for k, v in dic.items():** | Loop over de *key*, *value* paren |\n",
    "| **dic.keys()** | Een lijst van de *keys* |\n",
    "| **dic.values()** | Een lijst van de *values* |\n",
    "| **dic.update(dic2)** | Voeg de *key*, *value* paren uit **dic2** toe aan **dic** |\n",
    "\n",
    "Zie ook de helpfile voor **dict** voor meer opties.\n"
   ]
  },
  {
   "cell_type": "code",
   "execution_count": 33,
   "id": "248eba95",
   "metadata": {},
   "outputs": [
    {
     "name": "stdout",
     "output_type": "stream",
     "text": [
      "Help on class dict in module builtins:\n",
      "\n",
      "class dict(object)\n",
      " |  dict() -> new empty dictionary\n",
      " |  dict(mapping) -> new dictionary initialized from a mapping object's\n",
      " |      (key, value) pairs\n",
      " |  dict(iterable) -> new dictionary initialized as if via:\n",
      " |      d = {}\n",
      " |      for k, v in iterable:\n",
      " |          d[k] = v\n",
      " |  dict(**kwargs) -> new dictionary initialized with the name=value pairs\n",
      " |      in the keyword argument list.  For example:  dict(one=1, two=2)\n",
      " |  \n",
      " |  Built-in subclasses:\n",
      " |      StgDict\n",
      " |  \n",
      " |  Methods defined here:\n",
      " |  \n",
      " |  __contains__(self, key, /)\n",
      " |      True if the dictionary has the specified key, else False.\n",
      " |  \n",
      " |  __delitem__(self, key, /)\n",
      " |      Delete self[key].\n",
      " |  \n",
      " |  __eq__(self, value, /)\n",
      " |      Return self==value.\n",
      " |  \n",
      " |  __ge__(self, value, /)\n",
      " |      Return self>=value.\n",
      " |  \n",
      " |  __getattribute__(self, name, /)\n",
      " |      Return getattr(self, name).\n",
      " |  \n",
      " |  __getitem__(...)\n",
      " |      x.__getitem__(y) <==> x[y]\n",
      " |  \n",
      " |  __gt__(self, value, /)\n",
      " |      Return self>value.\n",
      " |  \n",
      " |  __init__(self, /, *args, **kwargs)\n",
      " |      Initialize self.  See help(type(self)) for accurate signature.\n",
      " |  \n",
      " |  __ior__(self, value, /)\n",
      " |      Return self|=value.\n",
      " |  \n",
      " |  __iter__(self, /)\n",
      " |      Implement iter(self).\n",
      " |  \n",
      " |  __le__(self, value, /)\n",
      " |      Return self<=value.\n",
      " |  \n",
      " |  __len__(self, /)\n",
      " |      Return len(self).\n",
      " |  \n",
      " |  __lt__(self, value, /)\n",
      " |      Return self<value.\n",
      " |  \n",
      " |  __ne__(self, value, /)\n",
      " |      Return self!=value.\n",
      " |  \n",
      " |  __or__(self, value, /)\n",
      " |      Return self|value.\n",
      " |  \n",
      " |  __repr__(self, /)\n",
      " |      Return repr(self).\n",
      " |  \n",
      " |  __reversed__(self, /)\n",
      " |      Return a reverse iterator over the dict keys.\n",
      " |  \n",
      " |  __ror__(self, value, /)\n",
      " |      Return value|self.\n",
      " |  \n",
      " |  __setitem__(self, key, value, /)\n",
      " |      Set self[key] to value.\n",
      " |  \n",
      " |  __sizeof__(...)\n",
      " |      D.__sizeof__() -> size of D in memory, in bytes\n",
      " |  \n",
      " |  clear(...)\n",
      " |      D.clear() -> None.  Remove all items from D.\n",
      " |  \n",
      " |  copy(...)\n",
      " |      D.copy() -> a shallow copy of D\n",
      " |  \n",
      " |  get(self, key, default=None, /)\n",
      " |      Return the value for key if key is in the dictionary, else default.\n",
      " |  \n",
      " |  items(...)\n",
      " |      D.items() -> a set-like object providing a view on D's items\n",
      " |  \n",
      " |  keys(...)\n",
      " |      D.keys() -> a set-like object providing a view on D's keys\n",
      " |  \n",
      " |  pop(...)\n",
      " |      D.pop(k[,d]) -> v, remove specified key and return the corresponding value.\n",
      " |      \n",
      " |      If key is not found, default is returned if given, otherwise KeyError is raised\n",
      " |  \n",
      " |  popitem(self, /)\n",
      " |      Remove and return a (key, value) pair as a 2-tuple.\n",
      " |      \n",
      " |      Pairs are returned in LIFO (last-in, first-out) order.\n",
      " |      Raises KeyError if the dict is empty.\n",
      " |  \n",
      " |  setdefault(self, key, default=None, /)\n",
      " |      Insert key with a value of default if key is not in the dictionary.\n",
      " |      \n",
      " |      Return the value for key if key is in the dictionary, else default.\n",
      " |  \n",
      " |  update(...)\n",
      " |      D.update([E, ]**F) -> None.  Update D from dict/iterable E and F.\n",
      " |      If E is present and has a .keys() method, then does:  for k in E: D[k] = E[k]\n",
      " |      If E is present and lacks a .keys() method, then does:  for k, v in E: D[k] = v\n",
      " |      In either case, this is followed by: for k in F:  D[k] = F[k]\n",
      " |  \n",
      " |  values(...)\n",
      " |      D.values() -> an object providing a view on D's values\n",
      " |  \n",
      " |  ----------------------------------------------------------------------\n",
      " |  Class methods defined here:\n",
      " |  \n",
      " |  __class_getitem__(...) from builtins.type\n",
      " |      See PEP 585\n",
      " |  \n",
      " |  fromkeys(iterable, value=None, /) from builtins.type\n",
      " |      Create a new dictionary with keys from iterable and values set to value.\n",
      " |  \n",
      " |  ----------------------------------------------------------------------\n",
      " |  Static methods defined here:\n",
      " |  \n",
      " |  __new__(*args, **kwargs) from builtins.type\n",
      " |      Create and return a new object.  See help(type) for accurate signature.\n",
      " |  \n",
      " |  ----------------------------------------------------------------------\n",
      " |  Data and other attributes defined here:\n",
      " |  \n",
      " |  __hash__ = None\n",
      "\n"
     ]
    }
   ],
   "source": [
    "help(dict)"
   ]
  },
  {
   "cell_type": "code",
   "execution_count": 34,
   "id": "437ae89c",
   "metadata": {
    "cell_style": "split",
    "slideshow": {
     "slide_type": "slide"
    }
   },
   "outputs": [
    {
     "name": "stdout",
     "output_type": "stream",
     "text": [
      "6\n"
     ]
    }
   ],
   "source": [
    "print(cijfers['Anna'])"
   ]
  },
  {
   "cell_type": "code",
   "execution_count": 35,
   "id": "45810cb3",
   "metadata": {
    "cell_style": "split"
   },
   "outputs": [
    {
     "name": "stdout",
     "output_type": "stream",
     "text": [
      "True\n"
     ]
    }
   ],
   "source": [
    "print('Anna' in cijfers)"
   ]
  },
  {
   "cell_type": "code",
   "execution_count": 36,
   "id": "6391db10",
   "metadata": {
    "cell_style": "split"
   },
   "outputs": [
    {
     "name": "stdout",
     "output_type": "stream",
     "text": [
      "Jan\n",
      "Sara\n",
      "Piet\n",
      "Anna\n"
     ]
    }
   ],
   "source": [
    "for k in cijfers:\n",
    "    print(k)"
   ]
  },
  {
   "cell_type": "code",
   "execution_count": 37,
   "id": "bedce27b",
   "metadata": {
    "cell_style": "split"
   },
   "outputs": [
    {
     "name": "stdout",
     "output_type": "stream",
     "text": [
      "Jan 7\n",
      "Sara 9\n",
      "Piet 6\n",
      "Anna 6\n"
     ]
    }
   ],
   "source": [
    "for k, v in cijfers.items():\n",
    "    print(k, v)"
   ]
  },
  {
   "cell_type": "code",
   "execution_count": 38,
   "id": "58e6f3a7",
   "metadata": {
    "cell_style": "center",
    "slideshow": {
     "slide_type": "-"
    }
   },
   "outputs": [
    {
     "name": "stdout",
     "output_type": "stream",
     "text": [
      "{'Jan': 7, 'Sara': 9, 'Piet': 6, 'Anna': 6}\n",
      "{'Jan': 7, 'Sara': 9, 'Piet': 6, 'Anna': 8, 'Michiel': 5}\n"
     ]
    }
   ],
   "source": [
    "print(cijfers)\n",
    "cijfers.update({'Anna':8, 'Michiel':5})\n",
    "print(cijfers)"
   ]
  },
  {
   "cell_type": "markdown",
   "id": "fc2f6899",
   "metadata": {
    "slideshow": {
     "slide_type": "slide"
    }
   },
   "source": [
    "Een combinatie van dictionaries en lijsten word soms gebruikt om data op te slaan:\n",
    "\n",
    "Het bestand getallenxyz.txt heeft de volgende structuur:\n",
    "\n",
    "        X  ,     Y  ,     Z   \n",
    "     +2.038,  +1.233,  +0.435\n",
    "     +0.052,  -1.155,  +1.239\n",
    "     -0.266,  -0.006,  +0.144"
   ]
  },
  {
   "cell_type": "markdown",
   "id": "0805c1dd",
   "metadata": {
    "slideshow": {
     "slide_type": "slide"
    }
   },
   "source": [
    "De volgende code leest dit in:"
   ]
  },
  {
   "cell_type": "code",
   "execution_count": 39,
   "id": "41a66b0b",
   "metadata": {},
   "outputs": [
    {
     "name": "stdout",
     "output_type": "stream",
     "text": [
      "\n",
      "Totaal X = 54.702, \n",
      "Totaal Y = 0.013, \n",
      "Totaal Z = 71.221.\n"
     ]
    }
   ],
   "source": [
    "file = open('getallenxyz.txt')\n",
    "\n",
    "# Lees eerste regels met kolomnamen\n",
    "labels = {label.strip() for label in file.readline().split(',')}\n",
    "\n",
    "# Initialiseer data als een dictionary van lege\n",
    "# lijsten, en vul deze aan.\n",
    "data = {label:[] for label in labels}\n",
    "for regel in file:\n",
    "    waardes = [float(v) for v in regel.split(',')]\n",
    "    for label, waarde in zip(labels, waardes):\n",
    "        data[label].append(waarde)\n",
    "        \n",
    "print(f\"\"\"\n",
    "Totaal X = {sum(data['X']):.3f}, \n",
    "Totaal Y = {sum(data['Y']):.3f}, \n",
    "Totaal Z = {sum(data['Z']):.3f}.\"\"\")"
   ]
  },
  {
   "cell_type": "markdown",
   "id": "2321ba9e",
   "metadata": {
    "slideshow": {
     "slide_type": "slide"
    }
   },
   "source": [
    "### Verzamelingen\n",
    "\n",
    "In de wiskunde kennen we het begrip een verzameling. Dit is een lijst van waardes, zonder volgorde, en zonder dubbele waardes.\n",
    "\n",
    "Ook Python kent verzamelingen:"
   ]
  },
  {
   "cell_type": "code",
   "execution_count": 40,
   "id": "9ff3e2d4",
   "metadata": {},
   "outputs": [
    {
     "name": "stdout",
     "output_type": "stream",
     "text": [
      "<class 'set'>\n",
      "{2, 3, 5, 7, 11}\n"
     ]
    }
   ],
   "source": [
    "verzameling = {2, 3, 5, 7, 11}\n",
    "print(type(verzameling))\n",
    "print(verzameling)"
   ]
  },
  {
   "cell_type": "markdown",
   "id": "6fad8a9d",
   "metadata": {},
   "source": [
    "Met het **set** commando kunnen we een lijst omzetten naar een verzameling, dit heeft het effect dat alle dubbele waardes verwijderd worden."
   ]
  },
  {
   "cell_type": "code",
   "execution_count": 41,
   "id": "3e309f21",
   "metadata": {},
   "outputs": [
    {
     "name": "stdout",
     "output_type": "stream",
     "text": [
      "{2, 3, 5, 7, 11}\n"
     ]
    }
   ],
   "source": [
    "verzameling = set([2, 3, 3, 3, 5, 5, 7, 11, 11])\n",
    "print(verzameling)"
   ]
  },
  {
   "cell_type": "markdown",
   "id": "7434dc5c",
   "metadata": {
    "slideshow": {
     "slide_type": "slide"
    }
   },
   "source": [
    "Met verzamelingen kunnen we de volgende operaties uitvoeren:\n",
    "\n",
    "| Code | Wiskundige notatie | Betekenis |\n",
    "|------|--------------------|-----------|\n",
    "| **A \\| B** | $A \\cup B$ | Vereniging (*union*) van $A$ en $B$ |\n",
    "| **A & B** | $A \\cap B$ | Doorsnijding (*intersection*) van $A$ en $B$ |\n",
    "| **A - B** | $A \\setminus B$ | Verwijder de elementen van $B$ uit $A$ |\n",
    "| **x in A** | $x \\in A$ | **True** als $x$ een element van $A$ is |\n",
    "| **A < B** | $A \\subset B$ | **True** als $A$ een stricte deelverzameling van $B$ is |\n",
    "| **A <= B** | $A \\subseteq B$ | **True** als $A$ een deelverzameling van $B$ is |\n",
    "| **for x in A:** || Loop over de elementen van $A$ |"
   ]
  },
  {
   "cell_type": "code",
   "execution_count": 42,
   "id": "c2b5c7ca",
   "metadata": {
    "cell_style": "split",
    "slideshow": {
     "slide_type": "slide"
    }
   },
   "outputs": [],
   "source": [
    "A = {2, 3, 5, 7, 11, 13}\n",
    "B = {7, 11, 13, 17, 19}"
   ]
  },
  {
   "cell_type": "code",
   "execution_count": 43,
   "id": "fc7ed192",
   "metadata": {
    "cell_style": "split"
   },
   "outputs": [
    {
     "name": "stdout",
     "output_type": "stream",
     "text": [
      "{2, 3, 5, 7, 11, 13, 17, 19}\n"
     ]
    }
   ],
   "source": [
    "print(A | B)"
   ]
  },
  {
   "cell_type": "code",
   "execution_count": 44,
   "id": "5b3b8fb3",
   "metadata": {
    "cell_style": "split"
   },
   "outputs": [
    {
     "name": "stdout",
     "output_type": "stream",
     "text": [
      "{11, 13, 7}\n"
     ]
    }
   ],
   "source": [
    "print(A & B)"
   ]
  },
  {
   "cell_type": "code",
   "execution_count": 45,
   "id": "7fc92bab",
   "metadata": {
    "cell_style": "split"
   },
   "outputs": [
    {
     "name": "stdout",
     "output_type": "stream",
     "text": [
      "{2, 3, 5}\n"
     ]
    }
   ],
   "source": [
    "print(A - B)"
   ]
  },
  {
   "cell_type": "code",
   "execution_count": 46,
   "id": "02aea6a7",
   "metadata": {
    "cell_style": "split"
   },
   "outputs": [
    {
     "name": "stdout",
     "output_type": "stream",
     "text": [
      "False\n"
     ]
    }
   ],
   "source": [
    "print(A < B)"
   ]
  },
  {
   "cell_type": "code",
   "execution_count": 47,
   "id": "319ca2d9",
   "metadata": {
    "cell_style": "split"
   },
   "outputs": [
    {
     "name": "stdout",
     "output_type": "stream",
     "text": [
      "True\n"
     ]
    }
   ],
   "source": [
    "print({2,3} < A)"
   ]
  },
  {
   "cell_type": "code",
   "execution_count": 48,
   "id": "2588f799",
   "metadata": {
    "cell_style": "split"
   },
   "outputs": [
    {
     "name": "stdout",
     "output_type": "stream",
     "text": [
      "4\n",
      "9\n",
      "25\n",
      "49\n",
      "121\n",
      "169\n"
     ]
    }
   ],
   "source": [
    "for x in A:\n",
    "    print(x**2)"
   ]
  },
  {
   "cell_type": "code",
   "execution_count": 49,
   "id": "f1724b0c",
   "metadata": {
    "cell_style": "split"
   },
   "outputs": [
    {
     "name": "stdout",
     "output_type": "stream",
     "text": [
      "989\n"
     ]
    }
   ],
   "source": [
    "print(sum(x**2 for x in B))"
   ]
  },
  {
   "cell_type": "markdown",
   "id": "31b62264",
   "metadata": {
    "slideshow": {
     "slide_type": "slide"
    }
   },
   "source": [
    "## Programmeerstijl\n",
    "\n",
    "- Voor *dictionaries*, *tuples* en *sets* gelden dezelfde naamgevingsregels als voor lijsten.\n",
    "- De naam van een *dictionary* verwijsd naar de *value*, niet de *key*.\n",
    "\n",
    "\n",
    "De keuze voor datastructuur (list, dict of set) is heel belangrijk, de juiste keuze kan leiden tot veel kortere en leesbaardere code. Denk hier goed over na! Het kan handig zijn jezelf de volgende vragen te stellen:\n",
    "- Is volgorde van elementen belangrijk? (lijst)\n",
    "- Moet je kunnen zoeken? (dictionary)\n",
    "- Moeten elementen uniek zijn? (set)"
   ]
  }
 ],
 "metadata": {
  "celltoolbar": "Slideshow",
  "kernelspec": {
   "display_name": "Python 3 (ipykernel)",
   "language": "python",
   "name": "python3"
  },
  "language_info": {
   "codemirror_mode": {
    "name": "ipython",
    "version": 3
   },
   "file_extension": ".py",
   "mimetype": "text/x-python",
   "name": "python",
   "nbconvert_exporter": "python",
   "pygments_lexer": "ipython3",
   "version": "3.9.13"
  },
  "toc": {
   "base_numbering": 1,
   "nav_menu": {},
   "number_sections": false,
   "sideBar": true,
   "skip_h1_title": true,
   "title_cell": "Table of Contents",
   "title_sidebar": "Contents",
   "toc_cell": false,
   "toc_position": {},
   "toc_section_display": true,
   "toc_window_display": false
  }
 },
 "nbformat": 4,
 "nbformat_minor": 5
}
