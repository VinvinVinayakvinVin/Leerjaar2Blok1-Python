{
 "cells": [
  {
   "cell_type": "markdown",
   "id": "e2daa83a",
   "metadata": {
    "slideshow": {
     "slide_type": "slide"
    }
   },
   "source": [
    "# Programmeren 2.1\n",
    "\n",
    "## Les 6.1 -- Pandas en werken met data bestanden\n",
    "\n",
    "10 Okt 2022"
   ]
  },
  {
   "cell_type": "markdown",
   "id": "65eed591",
   "metadata": {
    "slideshow": {
     "slide_type": "slide"
    }
   },
   "source": [
    "## Inhoud\n",
    "\n",
    "- Herhaling inlezen bestanden\n",
    "- Pandas\n",
    "- Programmeerstijl"
   ]
  },
  {
   "cell_type": "markdown",
   "id": "dc0c2565",
   "metadata": {
    "slideshow": {
     "slide_type": "slide"
    }
   },
   "source": [
    "## Inlezen bestanden\n",
    "\n",
    "Eerder hebben we gezien hoe we d.m.v. het **open** commando en **for** loops bestanden kunnen inlezen.\n",
    "\n",
    "Bijvoorbeeld, het bestand getallenxyz2.txt heeft de volgende structuur:\n",
    "\n",
    "    X,Y,Z\n",
    "    +2.038,  +1.233,  +0.435\n",
    "    +0.052,  -1.155,  +1.239\n",
    "    -0.266,  -0.006,  +0.144\n",
    "     \n",
    "Dit word ook wel een *comma seperated values* of (.csv) bestand genoemd. Labels en waarden zijn gescheiden met komma's, bij bestanden die gebruik maken van decimale komma's is deze *delimiter* vaak een puntkomma '**;**'. Als de *delimiter* een tab (**'\\t'**) is, dan spreekt men over *tab seperated values* (.tsv)."
   ]
  },
  {
   "cell_type": "markdown",
   "id": "7e337678",
   "metadata": {
    "slideshow": {
     "slide_type": "slide"
    }
   },
   "source": [
    "Eerder hebben we gezien hoe we een *comma seperated value* bestand kunnen inlezen in lijsten."
   ]
  },
  {
   "cell_type": "code",
   "execution_count": 1,
   "id": "b927c6e4",
   "metadata": {},
   "outputs": [
    {
     "name": "stdout",
     "output_type": "stream",
     "text": [
      "Totaal X = 54.702,\n",
      "Totaal Y = 71.221,\n",
      "Totaal Z = 0.013.\n"
     ]
    }
   ],
   "source": [
    "file = open('getallenxyz2.txt')\n",
    "labels = file.readline().strip().split(',')\n",
    "\n",
    "# Maak lege lijsten aan\n",
    "xs, ys, zs = [], [], []\n",
    "for line in file:\n",
    "    # Lees regel, zet om naar drie getallen, en voeg toe aan xs, ys en zs.\n",
    "    x, y, z = (float(s) for s in line.split(','))\n",
    "    xs.append(x)\n",
    "    ys.append(y)\n",
    "    zs.append(z)\n",
    "    \n",
    "print(f\"Totaal X = {sum(xs):.3f},\\nTotaal Y = {sum(ys):.3f},\\nTotaal Z = {sum(zs):.3f}.\")"
   ]
  },
  {
   "cell_type": "markdown",
   "id": "8588bedb",
   "metadata": {
    "slideshow": {
     "slide_type": "slide"
    }
   },
   "source": [
    "Of als een dictionary van lijsten..."
   ]
  },
  {
   "cell_type": "code",
   "execution_count": 2,
   "id": "eba91d5a",
   "metadata": {},
   "outputs": [
    {
     "name": "stdout",
     "output_type": "stream",
     "text": [
      "\n",
      "Totaal X = 54.702,\n",
      "Totaal Y = 71.221,\n",
      "Totaal Z = 0.013.\n"
     ]
    }
   ],
   "source": [
    "file = open('getallenxyz2.txt')\n",
    "labels = file.readline().strip().split(',')\n",
    "\n",
    "# Maak een dictionary met lege lijsten aan\n",
    "data = {label:[] for label in labels}\n",
    "for line in file:\n",
    "    # Lees regel en zet om naar getallen\n",
    "    values = [float(s) for s in line.split(',')]\n",
    "    \n",
    "    # Voeg getallen toe aan bijbehorende lijsten in data\n",
    "    for k, v in zip(labels, values):\n",
    "        data[k].append(v)\n",
    "print(f\"\"\"\n",
    "Totaal X = {sum(data['X']):.3f},\n",
    "Totaal Y = {sum(data['Y']):.3f},\n",
    "Totaal Z = {sum(data['Z']):.3f}.\"\"\")"
   ]
  },
  {
   "cell_type": "markdown",
   "id": "7a43795d",
   "metadata": {
    "slideshow": {
     "slide_type": "slide"
    }
   },
   "source": [
    "Of als een geneste lijst..."
   ]
  },
  {
   "cell_type": "code",
   "execution_count": 3,
   "id": "3bb84327",
   "metadata": {},
   "outputs": [
    {
     "name": "stdout",
     "output_type": "stream",
     "text": [
      "Totaal X = 54.702,\n",
      "Totaal Y = 71.221,\n",
      "Totaal Z = 0.013.\n"
     ]
    }
   ],
   "source": [
    "file = open('getallenxyz2.txt')\n",
    "labels = file.readline().strip().split(',')\n",
    "\n",
    "# Lees data, ieder element van data is een lijst van [x, y, z] waarden.\n",
    "data = [[float(s) for s in line.split(',')] for line in file]\n",
    "\n",
    "# Bereken sommen\n",
    "somx = sum(v[0] for v in data)\n",
    "somy = sum(v[1] for v in data)\n",
    "somz = sum(v[2] for v in data)\n",
    "\n",
    "print(f\"Totaal X = {somx:.3f},\\nTotaal Y = {somy:.3f},\\nTotaal Z = {somz:.3f}.\")"
   ]
  },
  {
   "cell_type": "markdown",
   "id": "2034ed0e",
   "metadata": {
    "slideshow": {
     "slide_type": "slide"
    }
   },
   "source": [
    "## Pandas\n",
    "\n",
    "Data bestanden inlezen is iets dat je heel vaak zal moeten doen, dit zelf programmeren met al deze **for** loops is omslachtig. Voor meeste bestandstypes zijn hier standaard commando's voor, deze zijn onderdeel van het **pandas** package.\n",
    "\n",
    "Zie ook [https://pandas.pydata.org/docs/user_guide/index.html](https://pandas.pydata.org/docs/user_guide/index.html) voor meer info.\n",
    "\n",
    "De basis van **pandas** is een **DataFrame**, onderstaand code zet een **dict** van lijsten om naar een dataframe."
   ]
  },
  {
   "cell_type": "code",
   "execution_count": 4,
   "id": "9b73132b",
   "metadata": {},
   "outputs": [
    {
     "data": {
      "text/html": [
       "<div>\n",
       "<style scoped>\n",
       "    .dataframe tbody tr th:only-of-type {\n",
       "        vertical-align: middle;\n",
       "    }\n",
       "\n",
       "    .dataframe tbody tr th {\n",
       "        vertical-align: top;\n",
       "    }\n",
       "\n",
       "    .dataframe thead th {\n",
       "        text-align: right;\n",
       "    }\n",
       "</style>\n",
       "<table border=\"1\" class=\"dataframe\">\n",
       "  <thead>\n",
       "    <tr style=\"text-align: right;\">\n",
       "      <th></th>\n",
       "      <th>X</th>\n",
       "      <th>Y</th>\n",
       "      <th>Z</th>\n",
       "    </tr>\n",
       "  </thead>\n",
       "  <tbody>\n",
       "    <tr>\n",
       "      <th>0</th>\n",
       "      <td>1</td>\n",
       "      <td>4</td>\n",
       "      <td>7</td>\n",
       "    </tr>\n",
       "    <tr>\n",
       "      <th>1</th>\n",
       "      <td>2</td>\n",
       "      <td>5</td>\n",
       "      <td>8</td>\n",
       "    </tr>\n",
       "    <tr>\n",
       "      <th>2</th>\n",
       "      <td>3</td>\n",
       "      <td>6</td>\n",
       "      <td>9</td>\n",
       "    </tr>\n",
       "  </tbody>\n",
       "</table>\n",
       "</div>"
      ],
      "text/plain": [
       "   X  Y  Z\n",
       "0  1  4  7\n",
       "1  2  5  8\n",
       "2  3  6  9"
      ]
     },
     "metadata": {},
     "output_type": "display_data"
    }
   ],
   "source": [
    "import pandas as pd\n",
    "\n",
    "data_dict = {'X':[1,2,3], 'Y':[4,5,6],'Z':[7,8,9]}\n",
    "df = pd.DataFrame(data_dict)\n",
    "display(df)"
   ]
  },
  {
   "cell_type": "markdown",
   "id": "28ab6da4",
   "metadata": {
    "slideshow": {
     "slide_type": "slide"
    }
   },
   "source": [
    "Voor het inlezen van bestanden bestaat onder andere de **read_csv** functie."
   ]
  },
  {
   "cell_type": "code",
   "execution_count": 5,
   "id": "7010ee94",
   "metadata": {
    "cell_style": "split"
   },
   "outputs": [
    {
     "name": "stdout",
     "output_type": "stream",
     "text": [
      "<class 'pandas.core.frame.DataFrame'>\n",
      "          X      Y      Z\n",
      "0     2.038  1.233  0.435\n",
      "1     0.052 -1.155  1.239\n",
      "2    -0.266 -0.006  0.144\n",
      "3     0.769  0.425  1.206\n",
      "4    -0.942  1.523 -0.621\n",
      "...     ...    ...    ...\n",
      "9995 -0.332 -0.930  2.245\n",
      "9996 -0.975  0.360  1.281\n",
      "9997 -1.708 -0.539 -0.645\n",
      "9998  1.723  0.359  0.574\n",
      "9999  2.222 -2.344 -0.324\n",
      "\n",
      "[10000 rows x 3 columns]\n"
     ]
    }
   ],
   "source": [
    "data = pd.read_csv('getallenxyz2.txt')\n",
    "\n",
    "print(type(data))\n",
    "print(data)"
   ]
  },
  {
   "cell_type": "code",
   "execution_count": 6,
   "id": "3fd081f0",
   "metadata": {
    "cell_style": "split"
   },
   "outputs": [
    {
     "name": "stdout",
     "output_type": "stream",
     "text": [
      "\n",
      "Totaal X = 54.702,\n",
      "Totaal Y = 71.221,\n",
      "Totaal Z = 0.013.\n"
     ]
    }
   ],
   "source": [
    "print(f\"\"\"\n",
    "Totaal X = {data['X'].sum():.3f},\n",
    "Totaal Y = {data['Y'].sum():.3f},\n",
    "Totaal Z = {data['Z'].sum():.3f}.\"\"\")"
   ]
  },
  {
   "cell_type": "markdown",
   "id": "e87d5613",
   "metadata": {
    "slideshow": {
     "slide_type": "slide"
    }
   },
   "source": [
    "Voor het inlezen van Excel (**.xlsx**) bestanden bestaat de **read_excel** functie."
   ]
  },
  {
   "cell_type": "code",
   "execution_count": 20,
   "id": "0ac6c127",
   "metadata": {},
   "outputs": [
    {
     "data": {
      "text/html": [
       "<div>\n",
       "<style scoped>\n",
       "    .dataframe tbody tr th:only-of-type {\n",
       "        vertical-align: middle;\n",
       "    }\n",
       "\n",
       "    .dataframe tbody tr th {\n",
       "        vertical-align: top;\n",
       "    }\n",
       "\n",
       "    .dataframe thead th {\n",
       "        text-align: right;\n",
       "    }\n",
       "</style>\n",
       "<table border=\"1\" class=\"dataframe\">\n",
       "  <thead>\n",
       "    <tr style=\"text-align: right;\">\n",
       "      <th></th>\n",
       "      <th>X</th>\n",
       "      <th>Y</th>\n",
       "      <th>Z</th>\n",
       "    </tr>\n",
       "  </thead>\n",
       "  <tbody>\n",
       "    <tr>\n",
       "      <th>0</th>\n",
       "      <td>2.038</td>\n",
       "      <td>1.233</td>\n",
       "      <td>0.435</td>\n",
       "    </tr>\n",
       "    <tr>\n",
       "      <th>1</th>\n",
       "      <td>0.052</td>\n",
       "      <td>-1.155</td>\n",
       "      <td>1.239</td>\n",
       "    </tr>\n",
       "    <tr>\n",
       "      <th>2</th>\n",
       "      <td>-0.266</td>\n",
       "      <td>-0.006</td>\n",
       "      <td>0.144</td>\n",
       "    </tr>\n",
       "    <tr>\n",
       "      <th>3</th>\n",
       "      <td>0.769</td>\n",
       "      <td>0.425</td>\n",
       "      <td>1.206</td>\n",
       "    </tr>\n",
       "    <tr>\n",
       "      <th>4</th>\n",
       "      <td>-0.942</td>\n",
       "      <td>1.523</td>\n",
       "      <td>-0.621</td>\n",
       "    </tr>\n",
       "    <tr>\n",
       "      <th>...</th>\n",
       "      <td>...</td>\n",
       "      <td>...</td>\n",
       "      <td>...</td>\n",
       "    </tr>\n",
       "    <tr>\n",
       "      <th>9995</th>\n",
       "      <td>-0.332</td>\n",
       "      <td>-0.930</td>\n",
       "      <td>2.245</td>\n",
       "    </tr>\n",
       "    <tr>\n",
       "      <th>9996</th>\n",
       "      <td>-0.975</td>\n",
       "      <td>0.360</td>\n",
       "      <td>1.281</td>\n",
       "    </tr>\n",
       "    <tr>\n",
       "      <th>9997</th>\n",
       "      <td>-1.708</td>\n",
       "      <td>-0.539</td>\n",
       "      <td>-0.645</td>\n",
       "    </tr>\n",
       "    <tr>\n",
       "      <th>9998</th>\n",
       "      <td>1.723</td>\n",
       "      <td>0.359</td>\n",
       "      <td>0.574</td>\n",
       "    </tr>\n",
       "    <tr>\n",
       "      <th>9999</th>\n",
       "      <td>2.222</td>\n",
       "      <td>-2.344</td>\n",
       "      <td>-0.324</td>\n",
       "    </tr>\n",
       "  </tbody>\n",
       "</table>\n",
       "<p>10000 rows × 3 columns</p>\n",
       "</div>"
      ],
      "text/plain": [
       "          X      Y      Z\n",
       "0     2.038  1.233  0.435\n",
       "1     0.052 -1.155  1.239\n",
       "2    -0.266 -0.006  0.144\n",
       "3     0.769  0.425  1.206\n",
       "4    -0.942  1.523 -0.621\n",
       "...     ...    ...    ...\n",
       "9995 -0.332 -0.930  2.245\n",
       "9996 -0.975  0.360  1.281\n",
       "9997 -1.708 -0.539 -0.645\n",
       "9998  1.723  0.359  0.574\n",
       "9999  2.222 -2.344 -0.324\n",
       "\n",
       "[10000 rows x 3 columns]"
      ]
     },
     "metadata": {},
     "output_type": "display_data"
    }
   ],
   "source": [
    "data = pd.read_excel('getallenxyz.xlsx')\n",
    "display(data)"
   ]
  },
  {
   "cell_type": "markdown",
   "id": "57134ba9",
   "metadata": {
    "slideshow": {
     "slide_type": "slide"
    }
   },
   "source": [
    "De data wordt ingelezen in een zogenaamde *Pandas Dataframe* (Later dit jaar zullen jullie ook met *dataframes* in de statistische programmeertaal *R* gaan werken.)\n",
    "\n",
    "Een *dataframe* gedraagd zich een beetje als a *dictionary* met als *key*'s de kolomnamen, en als *values* de lijsten met data. Maar een *dataframe* heeft nog wat extra functionaliteiten. Zo geeft **print(data)** een mooie tekst weergave van je data, en **display(data)** geeft een tabel weergave.\n",
    "\n",
    "Zie ook **help(pd.DataFrame)** voor meer info."
   ]
  },
  {
   "cell_type": "code",
   "execution_count": 8,
   "id": "99ad92c2",
   "metadata": {
    "cell_style": "split"
   },
   "outputs": [
    {
     "name": "stdout",
     "output_type": "stream",
     "text": [
      "          X      Y      Z\n",
      "0     2.038  1.233  0.435\n",
      "1     0.052 -1.155  1.239\n",
      "2    -0.266 -0.006  0.144\n",
      "3     0.769  0.425  1.206\n",
      "4    -0.942  1.523 -0.621\n",
      "...     ...    ...    ...\n",
      "9995 -0.332 -0.930  2.245\n",
      "9996 -0.975  0.360  1.281\n",
      "9997 -1.708 -0.539 -0.645\n",
      "9998  1.723  0.359  0.574\n",
      "9999  2.222 -2.344 -0.324\n",
      "\n",
      "[10000 rows x 3 columns]\n"
     ]
    }
   ],
   "source": [
    "print(data)"
   ]
  },
  {
   "cell_type": "code",
   "execution_count": 9,
   "id": "db9da96f",
   "metadata": {
    "cell_style": "split"
   },
   "outputs": [
    {
     "data": {
      "text/html": [
       "<div>\n",
       "<style scoped>\n",
       "    .dataframe tbody tr th:only-of-type {\n",
       "        vertical-align: middle;\n",
       "    }\n",
       "\n",
       "    .dataframe tbody tr th {\n",
       "        vertical-align: top;\n",
       "    }\n",
       "\n",
       "    .dataframe thead th {\n",
       "        text-align: right;\n",
       "    }\n",
       "</style>\n",
       "<table border=\"1\" class=\"dataframe\">\n",
       "  <thead>\n",
       "    <tr style=\"text-align: right;\">\n",
       "      <th></th>\n",
       "      <th>X</th>\n",
       "      <th>Y</th>\n",
       "      <th>Z</th>\n",
       "    </tr>\n",
       "  </thead>\n",
       "  <tbody>\n",
       "    <tr>\n",
       "      <th>0</th>\n",
       "      <td>2.038</td>\n",
       "      <td>1.233</td>\n",
       "      <td>0.435</td>\n",
       "    </tr>\n",
       "    <tr>\n",
       "      <th>1</th>\n",
       "      <td>0.052</td>\n",
       "      <td>-1.155</td>\n",
       "      <td>1.239</td>\n",
       "    </tr>\n",
       "    <tr>\n",
       "      <th>2</th>\n",
       "      <td>-0.266</td>\n",
       "      <td>-0.006</td>\n",
       "      <td>0.144</td>\n",
       "    </tr>\n",
       "    <tr>\n",
       "      <th>3</th>\n",
       "      <td>0.769</td>\n",
       "      <td>0.425</td>\n",
       "      <td>1.206</td>\n",
       "    </tr>\n",
       "    <tr>\n",
       "      <th>4</th>\n",
       "      <td>-0.942</td>\n",
       "      <td>1.523</td>\n",
       "      <td>-0.621</td>\n",
       "    </tr>\n",
       "    <tr>\n",
       "      <th>...</th>\n",
       "      <td>...</td>\n",
       "      <td>...</td>\n",
       "      <td>...</td>\n",
       "    </tr>\n",
       "    <tr>\n",
       "      <th>9995</th>\n",
       "      <td>-0.332</td>\n",
       "      <td>-0.930</td>\n",
       "      <td>2.245</td>\n",
       "    </tr>\n",
       "    <tr>\n",
       "      <th>9996</th>\n",
       "      <td>-0.975</td>\n",
       "      <td>0.360</td>\n",
       "      <td>1.281</td>\n",
       "    </tr>\n",
       "    <tr>\n",
       "      <th>9997</th>\n",
       "      <td>-1.708</td>\n",
       "      <td>-0.539</td>\n",
       "      <td>-0.645</td>\n",
       "    </tr>\n",
       "    <tr>\n",
       "      <th>9998</th>\n",
       "      <td>1.723</td>\n",
       "      <td>0.359</td>\n",
       "      <td>0.574</td>\n",
       "    </tr>\n",
       "    <tr>\n",
       "      <th>9999</th>\n",
       "      <td>2.222</td>\n",
       "      <td>-2.344</td>\n",
       "      <td>-0.324</td>\n",
       "    </tr>\n",
       "  </tbody>\n",
       "</table>\n",
       "<p>10000 rows × 3 columns</p>\n",
       "</div>"
      ],
      "text/plain": [
       "          X      Y      Z\n",
       "0     2.038  1.233  0.435\n",
       "1     0.052 -1.155  1.239\n",
       "2    -0.266 -0.006  0.144\n",
       "3     0.769  0.425  1.206\n",
       "4    -0.942  1.523 -0.621\n",
       "...     ...    ...    ...\n",
       "9995 -0.332 -0.930  2.245\n",
       "9996 -0.975  0.360  1.281\n",
       "9997 -1.708 -0.539 -0.645\n",
       "9998  1.723  0.359  0.574\n",
       "9999  2.222 -2.344 -0.324\n",
       "\n",
       "[10000 rows x 3 columns]"
      ]
     },
     "metadata": {},
     "output_type": "display_data"
    }
   ],
   "source": [
    "display(data)"
   ]
  },
  {
   "cell_type": "markdown",
   "id": "b887f571",
   "metadata": {
    "slideshow": {
     "slide_type": "slide"
    }
   },
   "source": [
    "Kolommen kunnen worden aangeroepen alsof het *dataframe* een *dictionary* is. Als de kolomnaam geen spaties bevat kan je ook **data.\\<kolomnaam\\>** gebruiken."
   ]
  },
  {
   "cell_type": "code",
   "execution_count": 10,
   "id": "4fb48cae",
   "metadata": {
    "cell_style": "split"
   },
   "outputs": [
    {
     "name": "stdout",
     "output_type": "stream",
     "text": [
      "0       2.038\n",
      "1       0.052\n",
      "2      -0.266\n",
      "3       0.769\n",
      "4      -0.942\n",
      "        ...  \n",
      "9995   -0.332\n",
      "9996   -0.975\n",
      "9997   -1.708\n",
      "9998    1.723\n",
      "9999    2.222\n",
      "Name: X, Length: 10000, dtype: float64\n"
     ]
    }
   ],
   "source": [
    "print(data['X'])"
   ]
  },
  {
   "cell_type": "code",
   "execution_count": 11,
   "id": "ba805567",
   "metadata": {
    "cell_style": "split"
   },
   "outputs": [
    {
     "name": "stdout",
     "output_type": "stream",
     "text": [
      "0       2.038\n",
      "1       0.052\n",
      "2      -0.266\n",
      "3       0.769\n",
      "4      -0.942\n",
      "        ...  \n",
      "9995   -0.332\n",
      "9996   -0.975\n",
      "9997   -1.708\n",
      "9998    1.723\n",
      "9999    2.222\n",
      "Name: X, Length: 10000, dtype: float64\n"
     ]
    }
   ],
   "source": [
    "print(data.X)"
   ]
  },
  {
   "cell_type": "markdown",
   "id": "095cfef3",
   "metadata": {
    "slideshow": {
     "slide_type": "slide"
    }
   },
   "source": [
    "Je kan meerdere kolommen selecteren door een lijst van kolomnamen mee te geven:"
   ]
  },
  {
   "cell_type": "code",
   "execution_count": 12,
   "id": "913e3749",
   "metadata": {
    "cell_style": "split"
   },
   "outputs": [
    {
     "data": {
      "text/html": [
       "<div>\n",
       "<style scoped>\n",
       "    .dataframe tbody tr th:only-of-type {\n",
       "        vertical-align: middle;\n",
       "    }\n",
       "\n",
       "    .dataframe tbody tr th {\n",
       "        vertical-align: top;\n",
       "    }\n",
       "\n",
       "    .dataframe thead th {\n",
       "        text-align: right;\n",
       "    }\n",
       "</style>\n",
       "<table border=\"1\" class=\"dataframe\">\n",
       "  <thead>\n",
       "    <tr style=\"text-align: right;\">\n",
       "      <th></th>\n",
       "      <th>X</th>\n",
       "      <th>Y</th>\n",
       "    </tr>\n",
       "  </thead>\n",
       "  <tbody>\n",
       "    <tr>\n",
       "      <th>0</th>\n",
       "      <td>2.038</td>\n",
       "      <td>1.233</td>\n",
       "    </tr>\n",
       "    <tr>\n",
       "      <th>1</th>\n",
       "      <td>0.052</td>\n",
       "      <td>-1.155</td>\n",
       "    </tr>\n",
       "    <tr>\n",
       "      <th>2</th>\n",
       "      <td>-0.266</td>\n",
       "      <td>-0.006</td>\n",
       "    </tr>\n",
       "    <tr>\n",
       "      <th>3</th>\n",
       "      <td>0.769</td>\n",
       "      <td>0.425</td>\n",
       "    </tr>\n",
       "    <tr>\n",
       "      <th>4</th>\n",
       "      <td>-0.942</td>\n",
       "      <td>1.523</td>\n",
       "    </tr>\n",
       "    <tr>\n",
       "      <th>...</th>\n",
       "      <td>...</td>\n",
       "      <td>...</td>\n",
       "    </tr>\n",
       "    <tr>\n",
       "      <th>9995</th>\n",
       "      <td>-0.332</td>\n",
       "      <td>-0.930</td>\n",
       "    </tr>\n",
       "    <tr>\n",
       "      <th>9996</th>\n",
       "      <td>-0.975</td>\n",
       "      <td>0.360</td>\n",
       "    </tr>\n",
       "    <tr>\n",
       "      <th>9997</th>\n",
       "      <td>-1.708</td>\n",
       "      <td>-0.539</td>\n",
       "    </tr>\n",
       "    <tr>\n",
       "      <th>9998</th>\n",
       "      <td>1.723</td>\n",
       "      <td>0.359</td>\n",
       "    </tr>\n",
       "    <tr>\n",
       "      <th>9999</th>\n",
       "      <td>2.222</td>\n",
       "      <td>-2.344</td>\n",
       "    </tr>\n",
       "  </tbody>\n",
       "</table>\n",
       "<p>10000 rows × 2 columns</p>\n",
       "</div>"
      ],
      "text/plain": [
       "          X      Y\n",
       "0     2.038  1.233\n",
       "1     0.052 -1.155\n",
       "2    -0.266 -0.006\n",
       "3     0.769  0.425\n",
       "4    -0.942  1.523\n",
       "...     ...    ...\n",
       "9995 -0.332 -0.930\n",
       "9996 -0.975  0.360\n",
       "9997 -1.708 -0.539\n",
       "9998  1.723  0.359\n",
       "9999  2.222 -2.344\n",
       "\n",
       "[10000 rows x 2 columns]"
      ]
     },
     "metadata": {},
     "output_type": "display_data"
    }
   ],
   "source": [
    "kolommen = ['X', 'Y']\n",
    "display(data[kolommen])"
   ]
  },
  {
   "cell_type": "code",
   "execution_count": 13,
   "id": "57295f65",
   "metadata": {
    "cell_style": "split"
   },
   "outputs": [
    {
     "data": {
      "text/html": [
       "<div>\n",
       "<style scoped>\n",
       "    .dataframe tbody tr th:only-of-type {\n",
       "        vertical-align: middle;\n",
       "    }\n",
       "\n",
       "    .dataframe tbody tr th {\n",
       "        vertical-align: top;\n",
       "    }\n",
       "\n",
       "    .dataframe thead th {\n",
       "        text-align: right;\n",
       "    }\n",
       "</style>\n",
       "<table border=\"1\" class=\"dataframe\">\n",
       "  <thead>\n",
       "    <tr style=\"text-align: right;\">\n",
       "      <th></th>\n",
       "      <th>X</th>\n",
       "    </tr>\n",
       "  </thead>\n",
       "  <tbody>\n",
       "    <tr>\n",
       "      <th>0</th>\n",
       "      <td>2.038</td>\n",
       "    </tr>\n",
       "    <tr>\n",
       "      <th>1</th>\n",
       "      <td>0.052</td>\n",
       "    </tr>\n",
       "    <tr>\n",
       "      <th>2</th>\n",
       "      <td>-0.266</td>\n",
       "    </tr>\n",
       "    <tr>\n",
       "      <th>3</th>\n",
       "      <td>0.769</td>\n",
       "    </tr>\n",
       "    <tr>\n",
       "      <th>4</th>\n",
       "      <td>-0.942</td>\n",
       "    </tr>\n",
       "    <tr>\n",
       "      <th>...</th>\n",
       "      <td>...</td>\n",
       "    </tr>\n",
       "    <tr>\n",
       "      <th>9995</th>\n",
       "      <td>-0.332</td>\n",
       "    </tr>\n",
       "    <tr>\n",
       "      <th>9996</th>\n",
       "      <td>-0.975</td>\n",
       "    </tr>\n",
       "    <tr>\n",
       "      <th>9997</th>\n",
       "      <td>-1.708</td>\n",
       "    </tr>\n",
       "    <tr>\n",
       "      <th>9998</th>\n",
       "      <td>1.723</td>\n",
       "    </tr>\n",
       "    <tr>\n",
       "      <th>9999</th>\n",
       "      <td>2.222</td>\n",
       "    </tr>\n",
       "  </tbody>\n",
       "</table>\n",
       "<p>10000 rows × 1 columns</p>\n",
       "</div>"
      ],
      "text/plain": [
       "          X\n",
       "0     2.038\n",
       "1     0.052\n",
       "2    -0.266\n",
       "3     0.769\n",
       "4    -0.942\n",
       "...     ...\n",
       "9995 -0.332\n",
       "9996 -0.975\n",
       "9997 -1.708\n",
       "9998  1.723\n",
       "9999  2.222\n",
       "\n",
       "[10000 rows x 1 columns]"
      ]
     },
     "metadata": {},
     "output_type": "display_data"
    }
   ],
   "source": [
    "# Een enkele kolom in een display\n",
    "display(data[['X']])"
   ]
  },
  {
   "cell_type": "markdown",
   "id": "6c500b48",
   "metadata": {
    "slideshow": {
     "slide_type": "slide"
    }
   },
   "source": [
    "- Wiskundige operaties werken op *alle waarden* in een kolom. (Optelling en vermenigvuldiging werken dus anders dan met lijsten!)\n",
    "- Veel wiskundige/statistische functies kunnen ook met een **.** achter een kolom geplaatst worden."
   ]
  },
  {
   "cell_type": "code",
   "execution_count": 14,
   "id": "903cc498",
   "metadata": {
    "cell_style": "split"
   },
   "outputs": [
    {
     "name": "stdout",
     "output_type": "stream",
     "text": [
      "0       7.775\n",
      "1      -3.361\n",
      "2      -0.550\n",
      "3       2.813\n",
      "4       2.685\n",
      "        ...  \n",
      "9995   -3.454\n",
      "9996   -0.870\n",
      "9997   -5.033\n",
      "9998    4.523\n",
      "9999   -2.588\n",
      "Length: 10000, dtype: float64\n"
     ]
    }
   ],
   "source": [
    "print(2*data.X + 3*data.Y)"
   ]
  },
  {
   "cell_type": "code",
   "execution_count": 15,
   "id": "3b1c8e1f",
   "metadata": {
    "cell_style": "split"
   },
   "outputs": [
    {
     "name": "stdout",
     "output_type": "stream",
     "text": [
      "Totaal X = 54.702\n",
      "Totaal X = 54.702\n"
     ]
    }
   ],
   "source": [
    "print(f\"Totaal X = {data.X.sum():.3f}\")\n",
    "print(f\"Totaal X = {sum(data.X):.3f}\")"
   ]
  },
  {
   "cell_type": "code",
   "execution_count": 16,
   "id": "80ed46f6",
   "metadata": {
    "cell_style": "split"
   },
   "outputs": [
    {
     "name": "stdout",
     "output_type": "stream",
     "text": [
      "\n",
      "Gemiddelde X = 0.00547\n",
      "Gemiddelde Y = 0.00712\n",
      "Gemiddelde Z = 0.0000013\n"
     ]
    }
   ],
   "source": [
    "print(f\"\"\"\n",
    "Gemiddelde X = {data.X.mean():.5f}\n",
    "Gemiddelde Y = {data.Y.mean():.5f}\n",
    "Gemiddelde Z = {data.Z.mean():.7f}\"\"\")"
   ]
  },
  {
   "cell_type": "markdown",
   "id": "fd676e28",
   "metadata": {
    "cell_style": "split",
    "slideshow": {
     "slide_type": "slide"
    }
   },
   "source": [
    "Ook de vergelijkingsoperatatoren werken op de waardes in een kolom"
   ]
  },
  {
   "cell_type": "markdown",
   "id": "1a4162c2",
   "metadata": {
    "cell_style": "split"
   },
   "source": [
    "Een lijst van **True/False** waardes kan gebruikt worden om rijen te selecteren"
   ]
  },
  {
   "cell_type": "code",
   "execution_count": 17,
   "id": "92579714",
   "metadata": {
    "cell_style": "split"
   },
   "outputs": [
    {
     "name": "stdout",
     "output_type": "stream",
     "text": [
      "0        True\n",
      "1        True\n",
      "2       False\n",
      "3        True\n",
      "4       False\n",
      "        ...  \n",
      "9995    False\n",
      "9996    False\n",
      "9997    False\n",
      "9998     True\n",
      "9999     True\n",
      "Name: X, Length: 10000, dtype: bool\n"
     ]
    }
   ],
   "source": [
    "# Welke X zijn positief?\n",
    "print(data.X > 0)"
   ]
  },
  {
   "cell_type": "code",
   "execution_count": 18,
   "id": "845c6768",
   "metadata": {
    "cell_style": "split"
   },
   "outputs": [
    {
     "name": "stdout",
     "output_type": "stream",
     "text": [
      "0       2.038\n",
      "1       0.052\n",
      "3       0.769\n",
      "9       1.077\n",
      "11      0.532\n",
      "        ...  \n",
      "9990    0.162\n",
      "9991    1.162\n",
      "9992    0.587\n",
      "9998    1.723\n",
      "9999    2.222\n",
      "Name: X, Length: 5007, dtype: float64\n"
     ]
    }
   ],
   "source": [
    "# Wat zijn de waardes van Y bij positieve X?\n",
    "print(data.X[data.X > 0])"
   ]
  },
  {
   "cell_type": "code",
   "execution_count": 19,
   "id": "ed4de21d",
   "metadata": {
    "cell_style": "center"
   },
   "outputs": [
    {
     "name": "stdout",
     "output_type": "stream",
     "text": [
      "5007\n"
     ]
    }
   ],
   "source": [
    "# De sum functie beschouwt True als 1 en False als 0, we kunnen deze dus gebruiken om te tellen\n",
    "print(sum(data.X > 0))"
   ]
  },
  {
   "cell_type": "markdown",
   "id": "c38a9c5d",
   "metadata": {
    "slideshow": {
     "slide_type": "slide"
    }
   },
   "source": [
    "## Programmeerstijl\n",
    "\n",
    "- Het is gebruikelijk om pandas **as pd** in te lezen.\n",
    "- Gebruikelijke namen voor *dataframes* zijn **data** of **df**.\n",
    "\n",
    "- Pandas gebruik je voornamelijk als je *statistiek* wilt doen. Voor veel andere toepassingen is het inlezen in lijsten of **dict**s handiger.\n",
    "\n",
    "Tip: Pandas heeft verschrikkelijk veel opties en mogelijkheden. Het is onmogelijk dit in één les allemaal te noemen. Google is je beste vriend!"
   ]
  }
 ],
 "metadata": {
  "celltoolbar": "Slideshow",
  "kernelspec": {
   "display_name": "Python 3 (ipykernel)",
   "language": "python",
   "name": "python3"
  },
  "language_info": {
   "codemirror_mode": {
    "name": "ipython",
    "version": 3
   },
   "file_extension": ".py",
   "mimetype": "text/x-python",
   "name": "python",
   "nbconvert_exporter": "python",
   "pygments_lexer": "ipython3",
   "version": "3.9.13"
  },
  "toc": {
   "base_numbering": 1,
   "nav_menu": {},
   "number_sections": false,
   "sideBar": true,
   "skip_h1_title": true,
   "title_cell": "Table of Contents",
   "title_sidebar": "Contents",
   "toc_cell": false,
   "toc_position": {},
   "toc_section_display": true,
   "toc_window_display": false
  }
 },
 "nbformat": 4,
 "nbformat_minor": 5
}
