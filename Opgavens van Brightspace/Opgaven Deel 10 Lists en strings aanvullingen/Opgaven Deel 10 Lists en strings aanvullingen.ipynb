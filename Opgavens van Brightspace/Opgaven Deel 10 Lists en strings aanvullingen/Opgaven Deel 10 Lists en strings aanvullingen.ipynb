{
 "cells": [
  {
   "cell_type": "markdown",
   "metadata": {},
   "source": [
    "# Opgaven Deel 10: Lists en strings aanvullingen\n",
    "**(Boek: delen van h8 en h10)**\n",
    "\n",
    "!! Twee uitroeptekens: Deze opgave moet je echt maken. Het geeft je kennis of technieken die niet in het college besproken zijn of in het boek staan, maar die je wel nodig hebt in de toekomstige opgaven/praktijk.\n",
    "\n",
    "De opgaven hebben verder verschillende moeilijkheidsgraden:\n",
    "\n",
    "\\* 1 ster: Nieuwe functies en methodes kun je direct toepassen. Kijk even in je aantekeningen of boek. \n",
    "Kijk niet te snel naar de uitwerkingen. Probeer op zijn minst vijf minuten na te denken en te proberen of in je aantekeningen te kijken, voordat je het opgeeft. Anders leer je er echt bijna niets van.\n",
    "\n",
    "\\** 2 sterren: Nieuwe functies en methodes moet je integreren in je oplossing. Die oplossing bedenken vergt wat creativiteit en vindingrijkheid (uiteindelijk ook ervaring). Dat maakt deze opgaven moeilijker. \n",
    "Kijk niet te snel naar de uitwerkingen. Probeer op zijn minst vijf tot tien minuten na te denken en te proberen, voordat je het opgeeft. \n",
    "\n",
    "\\*** 3 sterren: Zoals bij de twee sterren opgaven, maar er wordt nu een nog grotere vindingrijkheid van je verwacht. Vaak moet je ook meerdere functies en methoden toepassen. De codes zijn vaak wat langer daardoor.\n",
    "Kijk niet te snel naar de uitwerkingen. Probeer op zijn minst twintig tot dertig minuten na te denken en te proberen, voordat je het opgeeft. \n",
    "\n",
    "(LEUK) Hiervan denken we dat je het een (extra) leuke opgave vindt (met name het resultaat/uitvoer). Dus als je moet kiezen tussen opgaven is het een idee om deze opgaven in ieder geval te maken."
   ]
  },
  {
   "cell_type": "markdown",
   "metadata": {},
   "source": [
    "### Lists en strings aanvullingen\n",
    "Hieronder volgen een aantal opgaven die nested lists oefenen. Ook wordt er aangevuld met extra functies en technieken die horen bij lists en strings."
   ]
  },
  {
   "cell_type": "markdown",
   "metadata": {
    "solution2": "hidden",
    "solution2_first": true
   },
   "source": [
    "#### 1. Lees par 8.2: len() functie\n",
    "\n",
    "\\* a. Schrijf een programma dat van de volgende woorden/zinnen bepaalt hoeveel characters (letters en symbolen) het heeft:\n",
    "\n",
    "\n",
    "'Borgcube'\n",
    "\n",
    "'Netflixen en bingewatchen'\n",
    "\n",
    "'Happy@gmail.com'\n",
    "\n",
    "*Hint*: len()\n",
    "\n",
    "\n",
    "\\* b. Worden symbolen geteld (zoals @ en .) en ook spaties?"
   ]
  },
  {
   "cell_type": "code",
   "execution_count": 1,
   "metadata": {
    "scrolled": true,
    "solution2": "hidden"
   },
   "outputs": [
    {
     "name": "stdout",
     "output_type": "stream",
     "text": [
      "8\n",
      "25\n",
      "15\n"
     ]
    }
   ],
   "source": [
    "#a\n",
    "print(len('Borgcube'))\n",
    "print(len('Netflixen en bingewatchen'))\n",
    "print(len('Happy@gmail.com'))\n",
    "\n",
    "#b\n",
    "#Ja, speciale tekens en spaties worden ook geteld"
   ]
  },
  {
   "cell_type": "markdown",
   "metadata": {
    "solution2": "hidden",
    "solution2_first": true
   },
   "source": [
    "#### 2. Lees par 8.4: String Slices\n",
    "\n",
    "\\* a. Schrijf een programma dat van de volgende zin 'Netflixen en bingewatchen' alleen 'Netflixen' uitprint.\n",
    "\n",
    "\\* b. Schrijf een programma dat van de volgende zin 'Netflixen en bingewatchen' alleen 'bingewatchen' uitprint."
   ]
  },
  {
   "cell_type": "code",
   "execution_count": 2,
   "metadata": {
    "solution2": "hidden"
   },
   "outputs": [
    {
     "name": "stdout",
     "output_type": "stream",
     "text": [
      "Netflixen\n",
      "bingewatchen\n"
     ]
    }
   ],
   "source": [
    "# a.\n",
    "#print de eerste 9 karakters van de string\n",
    "print('Netflixen en bingewatchen'[:9])\n",
    "\n",
    "# b.\n",
    "#print vanaf het 13e karakter van de string\n",
    "print('Netflixen en bingewatchen'[13:])\n"
   ]
  },
  {
   "cell_type": "markdown",
   "metadata": {
    "solution2": "hidden",
    "solution2_first": true
   },
   "source": [
    "###### 3. Lees par 8.6: Searching\n",
    "\n",
    "!! \\** Schrijf een programma dat van elk element in de volgende lijst: \n",
    "\n",
    "emailAdressen = ['Happy@gmail.com', 'Vrolijk@gmail.com', 'Frohlichgmail.com'] bepaald op welke plek het @ staat (dus het hoeveelste character).\n",
    "\n",
    "Ja, in het derde element ontbreekt de @, je programma moet hier mee om kunnen gaan.\n",
    "\n",
    "*Hint*: Schrijf eerst een functie waarmee je een karakter opzoekt in een string. De input is dan een string en een karakter en de output is de index van het karakter in de string."
   ]
  },
  {
   "cell_type": "code",
   "execution_count": 83,
   "metadata": {
    "solution2": "hidden"
   },
   "outputs": [
    {
     "name": "stdout",
     "output_type": "stream",
     "text": [
      "Character nummer 6\n",
      "Character nummer 8\n",
      "@ zit niet in het emailadres.\n"
     ]
    }
   ],
   "source": [
    "emailAdressen = ['Happy@gmail.com', 'Vrolijk@gmail.com', 'Frohlichgmail.com']\n",
    "\n",
    "def find(woord, symbool):\n",
    "    \"\"\"\n",
    "    Zoekt een karakter op in een string.\n",
    "    \n",
    "    Parameters\n",
    "    ----------\n",
    "    woord: string\n",
    "           de string waarin wordt gezocht naar een speciaal karakter\n",
    "    symbool: string\n",
    "           het karaker om op te zoeken in 'woord'\n",
    "       \n",
    "    Returns\n",
    "    -------\n",
    "    index: int\n",
    "        index van de string waar het karakter zit\n",
    "        -1 als karakter niet voorkomt in string\n",
    "    \"\"\"\n",
    "    index = 0\n",
    "    \n",
    "    while index < len(woord):\n",
    "        if woord[index] == symbool:\n",
    "            return index\n",
    "        index = index + 1\n",
    "        \n",
    "    return -1\n",
    "\n",
    "for woord in emailAdressen:\n",
    "    index = find(woord, '@')\n",
    "    if index == -1:\n",
    "        print('@ zit niet in het emailadres.')\n",
    "    else:\n",
    "        print('Character nummer', index + 1)"
   ]
  },
  {
   "cell_type": "markdown",
   "metadata": {
    "solution2": "hidden",
    "solution2_first": true
   },
   "source": [
    "###### !! ** 4. Lees par 8.7: Counting\n",
    "\n",
    "a. Schrijf een programma dat bepaald hoeveel e's er in de langste plaatsnaam van Nederland zitten: \n",
    "\n",
    "Westerhaar-Vriezenveensewijk\n",
    "\n",
    "b. Bepaal hoevel letters/tekens deze plaatsnaam heeft.\n",
    "\n",
    "c. Bepaal hoeveel klinkers (a, e, i, o, u en y) er in de volgende zin zitten: 'Ik wou dat de afwas af was'\n",
    "\n",
    "d. Bepaal hoeveel klinkers er in het tekstbestand quotes.txt zitten (zie Brightspace) en zet dus eerst de file in de juiste map en lees daarna in."
   ]
  },
  {
   "cell_type": "code",
   "execution_count": 3,
   "metadata": {
    "solution2": "hidden"
   },
   "outputs": [
    {
     "name": "stdout",
     "output_type": "stream",
     "text": [
      "7\n"
     ]
    }
   ],
   "source": [
    "plaatsnaam = 'Westerhaar-Vriezenveensewijk'\n",
    "\n",
    "# a.\n",
    "teller = 0\n",
    "\n",
    "for letter in plaatsnaam:\n",
    "    if letter == 'e':\n",
    "        teller = teller + 1\n",
    "print(teller)"
   ]
  },
  {
   "cell_type": "code",
   "execution_count": 4,
   "metadata": {
    "solution2": "hidden"
   },
   "outputs": [
    {
     "name": "stdout",
     "output_type": "stream",
     "text": [
      "28\n"
     ]
    }
   ],
   "source": [
    "# b.\n",
    "print(len(plaatsnaam))"
   ]
  },
  {
   "cell_type": "code",
   "execution_count": 5,
   "metadata": {
    "solution2": "hidden"
   },
   "outputs": [
    {
     "name": "stdout",
     "output_type": "stream",
     "text": [
      "9\n"
     ]
    }
   ],
   "source": [
    "# c.\n",
    "zin = 'Ik wou dat de afwas af was'\n",
    "teller = 0\n",
    "\n",
    "for letter in zin.lower(): # Wat gebeurt er als je .lower() er niet bij zet? \n",
    "    if letter == 'a' or letter == 'e' or letter == 'i' or letter == 'o' or letter == 'u' or letter == 'y':\n",
    "        teller = teller + 1\n",
    "        \n",
    "print(teller)"
   ]
  },
  {
   "cell_type": "code",
   "execution_count": 6,
   "metadata": {
    "solution2": "hidden"
   },
   "outputs": [
    {
     "name": "stdout",
     "output_type": "stream",
     "text": [
      "71\n"
     ]
    }
   ],
   "source": [
    "# d.\n",
    "file = open('quotes.txt')\n",
    "myFile = file.readlines()\n",
    "\n",
    "teller = 0\n",
    "\n",
    "for zin in myFile:    \n",
    "    for letter in zin.lower(): \n",
    "        if letter == 'a' or letter == 'e' or letter == 'i' or letter == 'o' or letter == 'u' or letter == 'y':\n",
    "            teller = teller + 1\n",
    "            \n",
    "print(teller)"
   ]
  },
  {
   "cell_type": "markdown",
   "metadata": {
    "solution2": "hidden",
    "solution2_first": true
   },
   "source": [
    "### 5. Lees 8.10: String Comparisons\n",
    "\n",
    "\\** Schrijf een programma dat bepaald of een ingevuld woord (via input()) eerder of later in alfabetische orde staat dan het woord 'Science-fiction'. \n",
    "\n",
    "Test o.a. met de woorden: 'aandacht', 'Wiskunde', 'PS5' en 'Science-fiction'\n",
    "\n"
   ]
  },
  {
   "cell_type": "code",
   "execution_count": 7,
   "metadata": {
    "solution2": "hidden"
   },
   "outputs": [
    {
     "name": "stdout",
     "output_type": "stream",
     "text": [
      "Vul een woord in: Wiskunde\n",
      "Het woord, Wiskunde, komt na science-fiction.\n"
     ]
    }
   ],
   "source": [
    "woord = input('Vul een woord in: ')\n",
    "\n",
    "if woord.lower() < 'science-fiction': # dus alles met kleine letter\n",
    "    print('Het woord, ' + woord + ', komt voor science-fiction.')\n",
    "elif woord.lower() > 'science-fiction':\n",
    "    print('Het woord, ' + woord + ', komt na science-fiction.')\n",
    "else:\n",
    "    print('Je hebt hetzelfde woord ingevuld als Science-fiction')"
   ]
  },
  {
   "cell_type": "markdown",
   "metadata": {
    "solution2": "hidden",
    "solution2_first": true
   },
   "source": [
    "### 6. Paragraaf 10.6 aanvulling: sort()\n",
    "\n",
    "!! \\* a. Lees deze paragraaf en sorteer de volgende twee lijsten:\n",
    "\n",
    "woorden = ['Kat', 'Hond', 'Papegaai', 'Konijn', 'Cavia']\n",
    "\n",
    "cijfers = [-40, 5.8, 10, 1, -3]\n",
    "\n",
    "\\* b. kun je de sort() ook gebruiken op een gemixte lijst:\n",
    "\n",
    "doorelkaar = ['woorden', 4, -9.0, 'cijfers', True]"
   ]
  },
  {
   "cell_type": "code",
   "execution_count": 8,
   "metadata": {
    "solution2": "hidden"
   },
   "outputs": [
    {
     "name": "stdout",
     "output_type": "stream",
     "text": [
      "['Cavia', 'Hond', 'Kat', 'Konijn', 'Papegaai']\n",
      "[-40, -3, 1, 5.8, 10]\n"
     ]
    }
   ],
   "source": [
    "# a.\n",
    "woorden = ['Kat', 'Hond', 'Papegaai', 'Konijn', 'Cavia']\n",
    "cijfers = [-40, 5.8, 10, 1, -3]\n",
    "\n",
    "woorden.sort()\n",
    "print(woorden)\n",
    "\n",
    "cijfers.sort()\n",
    "print(cijfers)"
   ]
  },
  {
   "cell_type": "code",
   "execution_count": 9,
   "metadata": {
    "solution2": "hidden"
   },
   "outputs": [
    {
     "ename": "TypeError",
     "evalue": "'<' not supported between instances of 'int' and 'str'",
     "output_type": "error",
     "traceback": [
      "\u001b[1;31m---------------------------------------------------------------------------\u001b[0m",
      "\u001b[1;31mTypeError\u001b[0m                                 Traceback (most recent call last)",
      "\u001b[1;32m<ipython-input-9-294ec3bea5d6>\u001b[0m in \u001b[0;36m<module>\u001b[1;34m\u001b[0m\n\u001b[0;32m      2\u001b[0m \u001b[0mdoorelkaar\u001b[0m \u001b[1;33m=\u001b[0m \u001b[1;33m[\u001b[0m\u001b[1;34m'woorden'\u001b[0m\u001b[1;33m,\u001b[0m \u001b[1;36m4\u001b[0m\u001b[1;33m,\u001b[0m \u001b[1;33m-\u001b[0m\u001b[1;36m9.0\u001b[0m\u001b[1;33m,\u001b[0m \u001b[1;34m'cijfers'\u001b[0m\u001b[1;33m,\u001b[0m \u001b[1;32mTrue\u001b[0m\u001b[1;33m]\u001b[0m\u001b[1;33m\u001b[0m\u001b[1;33m\u001b[0m\u001b[0m\n\u001b[0;32m      3\u001b[0m \u001b[1;33m\u001b[0m\u001b[0m\n\u001b[1;32m----> 4\u001b[1;33m \u001b[0mdoorelkaar\u001b[0m\u001b[1;33m.\u001b[0m\u001b[0msort\u001b[0m\u001b[1;33m(\u001b[0m\u001b[1;33m)\u001b[0m\u001b[1;33m\u001b[0m\u001b[1;33m\u001b[0m\u001b[0m\n\u001b[0m\u001b[0;32m      5\u001b[0m \u001b[0mprint\u001b[0m\u001b[1;33m(\u001b[0m\u001b[0mdoorelkaar\u001b[0m\u001b[1;33m)\u001b[0m\u001b[1;33m\u001b[0m\u001b[1;33m\u001b[0m\u001b[0m\n\u001b[0;32m      6\u001b[0m \u001b[1;33m\u001b[0m\u001b[0m\n",
      "\u001b[1;31mTypeError\u001b[0m: '<' not supported between instances of 'int' and 'str'"
     ]
    }
   ],
   "source": [
    "# b.\n",
    "doorelkaar = ['woorden', 4, -9.0, 'cijfers', True]\n",
    "\n",
    "doorelkaar.sort()\n",
    "print(doorelkaar)\n",
    "\n",
    "# nee dus, dit lukt niet"
   ]
  },
  {
   "cell_type": "markdown",
   "metadata": {
    "solution2": "hidden",
    "solution2_first": true
   },
   "source": [
    "### \\* 7. Paragraaf 10.7 aanvulling: sum()\n",
    "\n",
    "a. Lees deze paragraaf en sommeer de volgende lijst (de beoordelingscijferts op IMDB voor de acht seizoenen van GofT):\n",
    "\n",
    "waarderingen = [9.31, 9.1, 9.1, 9.06, 9.05, 8.96, 8.83, 6.33]\n",
    "\n",
    "b. Bepaal het gemiddelde van bovenstaande lijst.\n",
    "\n",
    "c. Bepaal het minimum van deze lijst. Is daar een functie voor zoals sum(). Raadpleeg eventueel internet."
   ]
  },
  {
   "cell_type": "code",
   "execution_count": 10,
   "metadata": {
    "solution2": "hidden"
   },
   "outputs": [
    {
     "name": "stdout",
     "output_type": "stream",
     "text": [
      "69.74000000000001\n",
      "8.717500000000001\n",
      "6.33\n"
     ]
    }
   ],
   "source": [
    "waarderingen = [9.31, 9.1, 9.1, 9.06, 9.05, 8.96, 8.83, 6.33]\n",
    "\n",
    "# a.\n",
    "print(sum(waarderingen))\n",
    "\n",
    "# b. \n",
    "print(sum(waarderingen)/len(waarderingen))\n",
    "\n",
    "# c. \n",
    "print(min(waarderingen))"
   ]
  },
  {
   "cell_type": "markdown",
   "metadata": {
    "solution2": "hidden",
    "solution2_first": true
   },
   "source": [
    "### !! \\* 8. Paragraaf 10.8 aanvulling: Deleting\n",
    "\n",
    "Lees deze paragraaf. \n",
    "We gebruiken de volgende lijst:\n",
    "\n",
    "elementen = ['Flamingo', 'Caspian', 'Boek', 'Zed', 14, 25, 'Barbara Elsborg', 'Drama', 'Happy End', 'The Story of Us']\n",
    "\n",
    "a. Delete het 3e element en print dan de nieuwe lijst en het gewiste element.\n",
    "Gebruik de pop() functie.\n",
    "\n",
    "b. Delete het 5e en 6e element (dus de getallen 14 en 25). Dat is dus index 4 en 5 van de lijst.\n",
    "Gebruik de *del* methode.\n",
    "\n",
    "c. Delete het woord 'Flamingo' en 'Drama' uit de lijst. Gebruik remove()."
   ]
  },
  {
   "cell_type": "code",
   "execution_count": 11,
   "metadata": {
    "solution2": "hidden"
   },
   "outputs": [
    {
     "name": "stdout",
     "output_type": "stream",
     "text": [
      "['Flamingo', 'Caspian', 'Zed', 14, 25, 'Barbara Elsborg', 'Drama', 'Happy End', 'The Story of Us']\n",
      "Boek\n"
     ]
    }
   ],
   "source": [
    "# a.\n",
    "elementen = ['Flamingo', 'Caspian', 'Boek', 'Zed', 14, 25, 'Barbara Elsborg', 'Drama', 'Happy End', 'The Story of Us']\n",
    "\n",
    "x = elementen.pop(2)\n",
    "print(elementen)\n",
    "print(x)"
   ]
  },
  {
   "cell_type": "code",
   "execution_count": 12,
   "metadata": {
    "solution2": "hidden"
   },
   "outputs": [
    {
     "name": "stdout",
     "output_type": "stream",
     "text": [
      "['Flamingo', 'Caspian', 'Boek', 'Zed', 'Barbara Elsborg', 'Drama', 'Happy End', 'The Story of Us']\n"
     ]
    }
   ],
   "source": [
    "# b.\n",
    "elementen = ['Flamingo', 'Caspian', 'Boek', 'Zed', 14, 25, 'Barbara Elsborg', 'Drama', 'Happy End', 'The Story of Us']\n",
    "\n",
    "del elementen[4:6] # 6 telt niet mee\n",
    "\n",
    "print(elementen)"
   ]
  },
  {
   "cell_type": "code",
   "execution_count": 13,
   "metadata": {
    "solution2": "hidden"
   },
   "outputs": [
    {
     "name": "stdout",
     "output_type": "stream",
     "text": [
      "['Caspian', 'Boek', 'Zed', 14, 25, 'Barbara Elsborg', 'Happy End', 'The Story of Us']\n"
     ]
    }
   ],
   "source": [
    "# c.\n",
    "elementen = ['Flamingo', 'Caspian', 'Boek', 'Zed', 14, 25, 'Barbara Elsborg', 'Drama', 'Happy End', 'The Story of Us']\n",
    "\n",
    "elementen.remove('Flamingo')\n",
    "elementen.remove('Drama')\n",
    "\n",
    "print(elementen)"
   ]
  },
  {
   "cell_type": "markdown",
   "metadata": {},
   "source": [
    "### Nested lists\n",
    "Hieronder volgen een aantal opgaven over nested lists. Belangrijke opgaven!"
   ]
  },
  {
   "cell_type": "markdown",
   "metadata": {
    "solution2": "hidden",
    "solution2_first": true
   },
   "source": [
    "### 9.\n",
    "Zie de volgende nested-list *cubes*:\n",
    "\n",
    "cubes = [[0, 1, 8], [1, 8, 27], [8, 27, 64]]\n",
    "\n",
    "Schrijf een programma dat:\n",
    "\n",
    "\\* a. Het cijfer print in de tweede rij en derde kolom (dus index rij is 1 en index kolom is 2)\n",
    "\n",
    "\\* b. Het cijfer print in de n-de rij en m-de kolom. n en m zijn input variabelen.\n",
    "\n",
    "\\* c. De hele n-de rij print. n is een input variabele.\n",
    "\n",
    "\\** d. Print van elke rij de som uit.\n",
    "\n",
    "!! \\** e. Print van de totale nested list (matrix) de som uit. Wat is het grote verschil in uitwerking tussen opgave d en e? \n",
    "\n",
    "\\** f. Bepaal ook het gemiddelde van de matrix."
   ]
  },
  {
   "cell_type": "code",
   "execution_count": 14,
   "metadata": {
    "solution2": "hidden"
   },
   "outputs": [
    {
     "name": "stdout",
     "output_type": "stream",
     "text": [
      "27\n"
     ]
    }
   ],
   "source": [
    "cubes = [[0, 1, 8], [1, 8, 27], [8, 27, 64]]\n",
    "\n",
    "# a.\n",
    "print(cubes[1][2])"
   ]
  },
  {
   "cell_type": "code",
   "execution_count": 16,
   "metadata": {
    "solution2": "hidden"
   },
   "outputs": [
    {
     "name": "stdout",
     "output_type": "stream",
     "text": [
      "Vul geheel getal in tussen 1 en 3: 1\n",
      "Vul geheel getal in tussen 1 en 3: 1\n",
      "0\n"
     ]
    }
   ],
   "source": [
    "# b.\n",
    "n = int(input('Vul geheel getal in tussen 1 en 3: '))\n",
    "m = int(input('Vul geheel getal in tussen 1 en 3: '))\n",
    "\n",
    "print(cubes[n-1][m-1])"
   ]
  },
  {
   "cell_type": "code",
   "execution_count": 17,
   "metadata": {
    "solution2": "hidden"
   },
   "outputs": [
    {
     "name": "stdout",
     "output_type": "stream",
     "text": [
      "Vul geheel getal in tussen 1 en 3: 2\n",
      "[1, 8, 27]\n"
     ]
    }
   ],
   "source": [
    "# c.\n",
    "n = int(input('Vul geheel getal in tussen 1 en 3: '))\n",
    "\n",
    "print(cubes[n-1])"
   ]
  },
  {
   "cell_type": "code",
   "execution_count": 18,
   "metadata": {
    "solution2": "hidden"
   },
   "outputs": [
    {
     "name": "stdout",
     "output_type": "stream",
     "text": [
      "De som van rij 1 is: 9\n",
      "De som van rij 2 is: 36\n",
      "De som van rij 3 is: 99\n"
     ]
    }
   ],
   "source": [
    "# d.\n",
    "n_rijen = len(cubes)\n",
    "\n",
    "for i in range(n_rijen): #loop voor elke rij\n",
    "    som = 0\n",
    "    \n",
    "    for j in cubes[i]: #loop over de kolommen\n",
    "        som = som + j\n",
    "        \n",
    "    print('De som van rij ' + str(i + 1) + ' is: ' + str(som))   "
   ]
  },
  {
   "cell_type": "code",
   "execution_count": null,
   "metadata": {
    "solution2": "hidden"
   },
   "outputs": [],
   "source": [
    "# e.\n",
    "n_rijen = len(cubes)\n",
    "som = 0\n",
    "\n",
    "for i in range(n_rijen):\n",
    "    for j in cubes[i]:\n",
    "        som = som + j\n",
    "        \n",
    "print('De som van de matrix is: ' + str(som)) "
   ]
  },
  {
   "cell_type": "code",
   "execution_count": 4,
   "metadata": {
    "solution2": "hidden"
   },
   "outputs": [
    {
     "name": "stdout",
     "output_type": "stream",
     "text": [
      "De som van de matrix is: 144\n",
      "Gemiddelde is: 16.0\n"
     ]
    }
   ],
   "source": [
    "# f.\n",
    "\n",
    "cubes = [[0, 1, 8], [1, 8, 27], [8, 27, 64]]\n",
    "n_rijen = len(cubes)\n",
    "som = 0\n",
    "n_elementen = 0\n",
    "\n",
    "for i in range(n_rijen):\n",
    "    for j in cubes[i]:\n",
    "        som = som + j\n",
    "        n_elementen = n_elementen + 1\n",
    "        \n",
    "print('De som van de matrix is: ' + str(som)) \n",
    "\n",
    "gemiddelde = som / n_elementen\n",
    "print('Gemiddelde is:', gemiddelde)"
   ]
  },
  {
   "cell_type": "markdown",
   "metadata": {
    "solution2": "hidden",
    "solution2_first": true
   },
   "source": [
    "### 10.\n",
    "Een matrix (nested list) zelf maken met input.\n",
    "\n",
    "\\* a. Maak een matrix met twee rijen en twee kolommen. De waarden van de matrix moeten ingevuld worden via input.\n",
    "Print de matrix uit.\n",
    "\n",
    "!! \\** b. Zoals a, maar nu moet je eerst via input opgeven hoeveel rijen en kolommen de matrix moet hebben. Print de matrix uit.\n",
    "\n",
    "\\* c. Zoals b, maar nu moet de input getallen zijn en de elementen van de matrix de kwadraten van de invoer."
   ]
  },
  {
   "cell_type": "code",
   "execution_count": 21,
   "metadata": {
    "solution2": "hidden"
   },
   "outputs": [
    {
     "name": "stdout",
     "output_type": "stream",
     "text": [
      "2\n",
      "4\n",
      "6\n",
      "8\n",
      "[['2', '4'], ['6', '8']]\n"
     ]
    }
   ],
   "source": [
    "# a.\n",
    "matrix = [[input(), input()], [input(), input()]]\n",
    "\n",
    "print(matrix)"
   ]
  },
  {
   "cell_type": "code",
   "execution_count": 20,
   "metadata": {
    "solution2": "hidden"
   },
   "outputs": [
    {
     "name": "stdout",
     "output_type": "stream",
     "text": [
      "Vul het aantal rijen in: 2\n",
      "Vul het aantal kolommen in: 3\n",
      "a\n",
      "g\n",
      "e\n",
      "b\n",
      "7\n",
      "m\n",
      "[['a', 'g', 'e'], ['b', '7', 'm']]\n"
     ]
    }
   ],
   "source": [
    "###### b.\n",
    "n_rijen = int(input('Vul het aantal rijen in: '))\n",
    "m_kolom = int(input('Vul het aantal kolommen in: '))\n",
    "\n",
    "matrix = []\n",
    "\n",
    "for i in range(n_rijen):\n",
    "    rij = []\n",
    "    for j in range(m_kolom):\n",
    "        rij.append(input())\n",
    "    matrix.append(rij)\n",
    "    \n",
    "print(matrix)"
   ]
  },
  {
   "cell_type": "code",
   "execution_count": 22,
   "metadata": {
    "solution2": "hidden"
   },
   "outputs": [
    {
     "name": "stdout",
     "output_type": "stream",
     "text": [
      "Vul het aantal rijen in: 2\n",
      "Vul het aantal kolommen in: 2\n",
      "4\n",
      "2\n",
      "7\n",
      "5\n",
      "[[16.0, 4.0], [49.0, 25.0]]\n"
     ]
    }
   ],
   "source": [
    "# c.\n",
    "n_rijen = int(input('Vul het aantal rijen in: '))\n",
    "m_kolom = int(input('Vul het aantal kolommen in: '))\n",
    "\n",
    "matrix = []\n",
    "\n",
    "for i in range(n_rijen):\n",
    "    rij = []\n",
    "    for j in range(m_kolom):\n",
    "        waarde = float(input())\n",
    "        rij.append(waarde*waarde)\n",
    "    matrix.append(rij)\n",
    "    \n",
    "print(matrix)"
   ]
  },
  {
   "cell_type": "markdown",
   "metadata": {
    "solution2": "hidden",
    "solution2_first": true
   },
   "source": [
    "### 11. Gegevens opzoeken uit een databestand\n",
    "\n",
    "Download het bestand scores.txt van Bightspace. Open het bijv. met notepad of kladblok. Je ziet er voetballers staan met het aantal doelpunten per maand dat ze in een zeker jaar hebben gemaakt. (Sorry als het niet helemaal realistisch is).\n",
    "\n",
    "\\** a. Schrijf een programma dat het bestand scores.txt opent en inleest en de gegevens opslaat in een matrix (geneste lijst). De elementen van elke rij van de matrix zijn de naam van de voetballer en de scores van hem. Print de matrix daarna uit (en controleer of de matrix klopt).\n",
    "\n",
    "*Hint*: gebruik een for-loop en ook split()\n",
    "\n",
    "\\** b. Vul je programma aan met: Na het inlezen van de textfile wordt de gebruiker gevraagd om de naam van een voetballer in te vullen en daarna de maandnaam (jan, jun, aug, etc). \n",
    "Vervolgens wordt er geprint wat het aantal doelpunten is geweest van de desbetreffende voetballer en maand."
   ]
  },
  {
   "cell_type": "code",
   "execution_count": 1,
   "metadata": {
    "solution2": "hidden"
   },
   "outputs": [
    {
     "name": "stdout",
     "output_type": "stream",
     "text": [
      "[['Naam', 'jan', 'feb', 'maa', 'apr', 'mei', 'jun', 'jul', 'aug', 'sep', 'okt', 'nov', 'dec'], ['Ronaldo', '6', '6', '4', '8', '9', '7', '10', '6', '5', '7', '8', '9'], ['Maradonna', '5', '7', '3', '9', '8', '8', '9', '7', '4', '8', '7', '10'], ['Figo', '3', '9', '2', '4', '4', '16', '12', '6', '10', '7', '5', '6'], ['Zidane', '10', '9', '8', '7', '6', '5', '6', '7', '8', '9', '10', '11'], ['Muller', '5', '5', '5', '8', '8', '8', '10', '10', '10', '6', '6', '6'], ['Gullit', '3', '5', '7', '11', '13', '11', '7', '5', '3', '5', '7', '11'], ['Cruijf', '9', '9', '9', '9', '9', '9', '9', '9', '9', '9', '9', '9'], ['Rijkaard', '11', '9', '10', '8', '7', '9', '9', '6', '5', '7', '6', '5']]\n"
     ]
    }
   ],
   "source": [
    "# a.\n",
    "file = open('scores.txt')\n",
    "scores = file.readlines()\n",
    "\n",
    "score_matrix = []\n",
    "\n",
    "for line in scores:\n",
    "    score_matrix.append(line.split())\n",
    "\n",
    "print(score_matrix)"
   ]
  },
  {
   "cell_type": "code",
   "execution_count": 2,
   "metadata": {
    "solution2": "hidden"
   },
   "outputs": [
    {
     "name": "stdout",
     "output_type": "stream",
     "text": [
      "Vul de naam van de voetballer in: Figo\n",
      "Vul de maandnaam in, afgekort dus als jan, feb of maa: jan\n",
      "3\n"
     ]
    }
   ],
   "source": [
    "# b. Aanvulling op a.\n",
    "voetballernaam = input('Vul de naam van de voetballer in: ')\n",
    "maand = input('Vul de maandnaam in, afgekort dus als jan, feb of maa: ')\n",
    "\n",
    "# Bepaal eerst in welke rij de voetballer staat, let op je begint met index 0.\n",
    "def rijnr(naam):\n",
    "    rij_nr = 0\n",
    "    \n",
    "    for rij in score_matrix:\n",
    "        if rij[0] == naam:\n",
    "            return rij_nr\n",
    "        else:\n",
    "            rij_nr = rij_nr + 1\n",
    "            \n",
    "# Bepaal eerst in welke kolom de maand staat, let op je begint met index 0.\n",
    "def kolomnr(naam):\n",
    "    kolom_nr = 0\n",
    "    \n",
    "    for kolom in score_matrix[0]:  # Op de eerste rij staan de maandnamen\n",
    "        if kolom == naam:\n",
    "            return kolom_nr\n",
    "        else:\n",
    "            kolom_nr = kolom_nr + 1\n",
    "\n",
    "rij_index = rijnr(voetballernaam)\n",
    "kolom_index = kolomnr(maand)\n",
    "\n",
    "print(score_matrix[rij_index][kolom_index])\n"
   ]
  },
  {
   "cell_type": "markdown",
   "metadata": {
    "solution2": "hidden",
    "solution2_first": true
   },
   "source": [
    "!! \\*** c. (Lastig!) Vul b aan met: Als de naam van de voetballer niet voorkomt of de maandnaam niet goed is gespeld, moet je programma dit aangeven en opnieuw de voetballernaam of maandnaam vragen.\n",
    "\n",
    "\\** d. Print ook uit wat het gemiddeld aantal doelpunten per maand is van de ingevulde voetballer."
   ]
  },
  {
   "cell_type": "code",
   "execution_count": 23,
   "metadata": {
    "solution2": "hidden"
   },
   "outputs": [
    {
     "name": "stdout",
     "output_type": "stream",
     "text": [
      "[['Naam', 'jan', 'feb', 'maa', 'apr', 'mei', 'jun', 'jul', 'aug', 'sep', 'okt', 'nov', 'dec'], ['Ronaldo', '6', '6', '4', '8', '9', '7', '10', '6', '5', '7', '8', '9'], ['Maradonna', '5', '7', '3', '9', '8', '8', '9', '7', '4', '8', '7', '10'], ['Figo', '3', '9', '2', '4', '4', '16', '12', '6', '10', '7', '5', '6'], ['Zidane', '10', '9', '8', '7', '6', '5', '6', '7', '8', '9', '10', '11'], ['Muller', '5', '5', '5', '8', '8', '8', '10', '10', '10', '6', '6', '6'], ['Gullit', '3', '5', '7', '11', '13', '11', '7', '5', '3', '5', '7', '11'], ['Cruijf', '9', '9', '9', '9', '9', '9', '9', '9', '9', '9', '9', '9'], ['Rijkaard', '11', '9', '10', '8', '7', '9', '9', '6', '5', '7', '6', '5']]\n",
      "Vul de naam van de voetballer in: Michiel\n",
      "Ingevulde naam van de voetballer staat niet in het bestand, vul een juiste naam in: Fido\n",
      "Ingevulde naam van de voetballer staat niet in het bestand, vul een juiste naam in: Figo\n",
      "Vul de maandnaam in, afgekort dus als jan, feb of maa: feb\n",
      "9\n"
     ]
    }
   ],
   "source": [
    "# c.\n",
    "file = open('scores.txt')\n",
    "scores = file.readlines()\n",
    "\n",
    "score_matrix = []\n",
    "\n",
    "for line in scores:\n",
    "    score_matrix.append(line.split())\n",
    "\n",
    "print(score_matrix)\n",
    "\n",
    "# Bepaal eerst in welke rij de voetballer staat, let op je begint met index 0.\n",
    "def rijnr():\n",
    "    # Als naam niet gevonden is, naam opnieuw vragen en zoeken in de matrix, totdat bekende naam is ingevoerd.\n",
    "    is_naamonbekend = True\n",
    "    is_eersteloop = True\n",
    "    \n",
    "    while is_naamonbekend:\n",
    "        if is_eersteloop: #als de eersteloop True is, vraag dan om de naam als input anders, vraag opnieuw om een naam\n",
    "            naam = input('Vul de naam van de voetballer in: ')\n",
    "        else:\n",
    "            naam = input('Ingevulde naam van de voetballer staat niet in het bestand, vul een juiste naam in: ')\n",
    "            \n",
    "        rij_nr = 0\n",
    "        \n",
    "        for rij in score_matrix: #zoek dan de naam op in de matrix\n",
    "            if rij[0] == naam:\n",
    "                is_naamonbekend = False\n",
    "                return rij_nr\n",
    "            else:               \n",
    "                rij_nr = rij_nr + 1\n",
    "                if rij_nr == len(score_matrix): #als je aan het eind van de matrix zit, vraag dan opnieuw een naam\n",
    "                    is_eersteloop = False\n",
    "            \n",
    "# Bepaal eerst in welke kolom de maand staat, let op je begint met index 0.\n",
    "def kolomnr():\n",
    "    is_maandonbekend = True\n",
    "    is_eersteloop = True\n",
    "    \n",
    "    while is_maandonbekend:\n",
    "        if is_eersteloop:\n",
    "            naam = input('Vul de maandnaam in, afgekort dus als jan, feb of maa: ')\n",
    "        else:\n",
    "            naam = input('Ingevulde maand is niet juist, vul juiste maandnaam in als jan, feb of maa: ')        \n",
    "        kolom_nr = 0\n",
    "        for kolom in score_matrix[0]:  # Op de eerste rij staan de maandnamen\n",
    "            if kolom == naam:\n",
    "                is_maandonbekend = False\n",
    "                return kolom_nr\n",
    "            else:\n",
    "                kolom_nr = kolom_nr + 1\n",
    "                if kolom_nr == len(score_matrix[0]):\n",
    "                    is_eersteloop = False\n",
    "\n",
    "rij_index = rijnr()\n",
    "kolom_index = kolomnr()\n",
    "\n",
    "print(score_matrix[rij_index][kolom_index])  "
   ]
  },
  {
   "cell_type": "code",
   "execution_count": 24,
   "metadata": {
    "solution2": "hidden"
   },
   "outputs": [
    {
     "name": "stdout",
     "output_type": "stream",
     "text": [
      "7.0\n"
     ]
    }
   ],
   "source": [
    "#d. Aanvulling\n",
    "score = []\n",
    "\n",
    "for i in range(1, 13):\n",
    "    score.append(int(score_matrix[rij_index][i])) # Van string getallen '3' getallen maken 3.\n",
    "    \n",
    "gemiddelde = sum(score)/12    \n",
    "print(gemiddelde)"
   ]
  },
  {
   "cell_type": "markdown",
   "metadata": {
    "solution2": "hidden",
    "solution2_first": true
   },
   "source": [
    "### 12.  \n",
    "**Vermenigvuldiging matrixes en vectoren**\n",
    "\n",
    "Neem de volgende matrix en vector over:\n",
    "\n",
    "matrix = [[1, 2, 3], [5, 7, 11], [13, 17, 19]]\n",
    "\n",
    "vector = [2, 4, 8]\n",
    "\n",
    "!! \\*** a. (Lastig) Schrijf een programma dat deze matrix en vector met elkaar vermenigvuldigd en print het resultaat (er komt dus een nieuwe vector uit, die print je dan uit. Zie lineaire algebra boek) \n",
    "\n",
    "!! \\*** b. (Nog lastiger) Neem de tweede matrix hieronder ook over en bepaal de vermenigvuldiging van de twee matrixen (matrix x matrix2):\n",
    "\n",
    "matrix2 = [[2, 4, 8], [3, 9, 27], [4, 16, 64]]"
   ]
  },
  {
   "cell_type": "code",
   "execution_count": 52,
   "metadata": {
    "solution2": "hidden"
   },
   "outputs": [
    {
     "name": "stdout",
     "output_type": "stream",
     "text": [
      "[34, 126, 246]\n"
     ]
    }
   ],
   "source": [
    "# a.\n",
    "matrix = [[1, 2, 3], [5, 7, 11], [13, 17, 19]]\n",
    "vector = [2, 4, 8]\n",
    "\n",
    "vectorOutput = []\n",
    "\n",
    "for i in range(len(matrix)):\n",
    "    som = 0\n",
    "    \n",
    "    for j in range(len(vector)):\n",
    "        som = som + matrix[i][j]*vector[j]\n",
    "    vectorOutput.append(som)\n",
    "    \n",
    "print(vectorOutput)"
   ]
  },
  {
   "cell_type": "code",
   "execution_count": 54,
   "metadata": {
    "solution2": "hidden"
   },
   "outputs": [
    {
     "name": "stdout",
     "output_type": "stream",
     "text": [
      "[34, 126, 246]\n"
     ]
    }
   ],
   "source": [
    "#zelfde als a maar met list comprehensions\n",
    "matrix = [[1, 2, 3], [5, 7, 11], [13, 17, 19]]\n",
    "vector = [2, 4, 8]\n",
    "\n",
    "vectorOutput2 = [sum(a*b for a,b in zip(row_matrix, vector)) for row_matrix in matrix]\n",
    "\n",
    "print(vectorOutput2)"
   ]
  },
  {
   "cell_type": "code",
   "execution_count": 70,
   "metadata": {
    "solution2": "hidden"
   },
   "outputs": [
    {
     "name": "stdout",
     "output_type": "stream",
     "text": [
      "[[20, 70, 254], [75, 259, 933], [153, 509, 1779]]\n"
     ]
    }
   ],
   "source": [
    "# b.\n",
    "matrix = [[1, 2, 3], [5, 7, 11], [13, 17, 19]]\n",
    "matrix2 = [[2, 4, 8], [3, 9, 27], [4, 16, 64]]\n",
    "\n",
    "vectorOutput = []\n",
    "\n",
    "for i in range(len(matrix)): # aantal rijen matrix 1  \n",
    "    rij = []\n",
    "    \n",
    "    for j in range(len(matrix2[0])):  # aantal kolommen matrix 2\n",
    "        som = 0\n",
    "        for k in range(len(matrix2)): # aantal rijen matrix 2\n",
    "            som = som + matrix[i][k]*matrix2[k][j]\n",
    "        rij.append(som)\n",
    "    vectorOutput.append(rij)\n",
    "    \n",
    "print(vectorOutput)"
   ]
  },
  {
   "cell_type": "code",
   "execution_count": 84,
   "metadata": {
    "solution2": "hidden"
   },
   "outputs": [
    {
     "name": "stdout",
     "output_type": "stream",
     "text": [
      "[[[20], [70], [254]], [[75], [259], [933]], [[153], [509], [1779]], [[200], [650], [2234]]]\n"
     ]
    }
   ],
   "source": [
    "#zelfde als b maar met list comprehensions\n",
    "matrix = [[1, 2, 3], [5, 7, 11], [13, 17, 19]]\n",
    "matrix2 = [[2, 4, 8], [3, 9, 27], [4, 16, 64]]\n",
    "\n",
    "matrixOutput = [[[sum(a*b for a,b in zip(matrix_row, matrix2_col))] for matrix2_col in zip(*matrix2)] for matrix_row in matrix]\n",
    "    \n",
    "# matrixOutput = []\n",
    "    \n",
    "print(matrixOutput)"
   ]
  }
 ],
 "metadata": {
  "kernelspec": {
   "display_name": "Python 3 (ipykernel)",
   "language": "python",
   "name": "python3"
  },
  "language_info": {
   "codemirror_mode": {
    "name": "ipython",
    "version": 3
   },
   "file_extension": ".py",
   "mimetype": "text/x-python",
   "name": "python",
   "nbconvert_exporter": "python",
   "pygments_lexer": "ipython3",
   "version": "3.9.12"
  },
  "toc": {
   "base_numbering": 1,
   "nav_menu": {},
   "number_sections": false,
   "sideBar": true,
   "skip_h1_title": false,
   "title_cell": "Table of Contents",
   "title_sidebar": "Contents",
   "toc_cell": false,
   "toc_position": {
    "height": "calc(100% - 180px)",
    "left": "10px",
    "top": "150px",
    "width": "256px"
   },
   "toc_section_display": true,
   "toc_window_display": false
  }
 },
 "nbformat": 4,
 "nbformat_minor": 4
}
