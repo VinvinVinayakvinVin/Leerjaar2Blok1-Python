{
 "cells": [
  {
   "cell_type": "markdown",
   "metadata": {},
   "source": [
    "# Opgaven Deel 5: Lijsten en for-loops\n",
    "**(Boek: Lists: par 10.1 - 10.3 plus 10.6 plus 10.13)**\n",
    "\n",
    "!! Twee uitroeptekens: Deze opgave moet je echt maken. Het geeft je kennis of technieken die niet in het college besproken zijn of in het boek staan, maar die je wel nodig hebt in de toekomstige opgaven/praktijk.\n",
    "\n",
    "De opgaven hebben verder verschillende moeilijkheidsgraden:\n",
    "\n",
    "\\* 1 ster: Nieuwe functies en methodes kun je direct toepassen. Kijk even in je aantekeningen of boek. \n",
    "Kijk niet te snel naar de uitwerkingen. Probeer op zijn minst vijf minuten na te denken en te proberen of in je aantekeningen te kijken, voordat je het opgeeft. Anders leer je er echt bijna niets van.\n",
    "\n",
    "\\** 2 sterren: Nieuwe functies en methodes moet je integreren in je oplossing. Die oplossing bedenken vergt wat creativiteit en vindingrijkheid (uiteindelijk ook ervaring). Dat maakt deze opgaven moeilijker. \n",
    "Kijk niet te snel naar de uitwerkingen. Probeer op zijn minst vijf tot tien minuten na te denken en te proberen, voordat je het opgeeft. \n",
    "\n",
    "\\*** 3 sterren: Zoals bij de twee sterren opgaven, maar er wordt nu een nog grotere vindingrijkheid van je verwacht. Vaak moet je ook meerdere functies en methoden toepassen. De codes zijn vaak wat langer daardoor.\n",
    "Kijk niet te snel naar de uitwerkingen. Probeer op zijn minst twintig tot dertig minuten na te denken en te proberen, voordat je het opgeeft. \n",
    "\n",
    "(LEUK) Hiervan denken we dat je het een (extra) leuke opgave vindt (met name het resultaat/uitvoer). Dus als je moet kiezen tussen opgaven is het een idee om deze opgaven in ieder geval te maken."
   ]
  },
  {
   "cell_type": "markdown",
   "metadata": {
    "solution2": "hidden",
    "solution2_first": true
   },
   "source": [
    "### 1.\n",
    "\\* Maak in Python de volgende lijst (handmatig) aan: \n",
    "\n",
    "[‘Amerikaanse Zeearend’, ‘Zeearend’, ‘Steenarend’, ‘Apenarend’, ‘Kip’, ‘Buizerd’]\n",
    "\n",
    "Noem deze lijst arenden. \n",
    "\n",
    "a. Print de lijst arenden uit.  \n",
    "b. Print het 3e element van de lijst arenden uit.  \n",
    "c. Iemand heeft een fout gemaakt in de lijst: een kip is geen arend. I.p.v. kip had er Kroonarend moeten staan.  \n",
    "Zorg ervoor dat je met een statement ‘Kip’ vervangt door de naam ‘Kroonarend’.\n",
    "\n",
    "Print arenden nogmaals uit en controleer of de lijst juist is aangepast.\n",
    "\n",
    "Hint: arenden[…] = …"
   ]
  },
  {
   "cell_type": "code",
   "execution_count": 1,
   "metadata": {
    "solution2": "hidden"
   },
   "outputs": [
    {
     "name": "stdout",
     "output_type": "stream",
     "text": [
      "['Amerikaanse Zeearend', 'Zeearend', 'Steenarend', 'Apenarend', 'Kip', 'Buizerd']\n",
      "Steenarend\n",
      "['Amerikaanse Zeearend', 'Zeearend', 'Steenarend', 'Apenarend', 'Kroonarend', 'Buizerd']\n"
     ]
    }
   ],
   "source": [
    "#maak de lijst\n",
    "arenden = ['Amerikaanse Zeearend', 'Zeearend', 'Steenarend', 'Apenarend', 'Kip', 'Buizerd']\n",
    "\n",
    "#a\n",
    "print(arenden)\n",
    "\n",
    "#b\n",
    "print(arenden[2]) # Index is eentje lager omdat indices vanaf 0 beginnen te tellen\n",
    "\n",
    "#c\n",
    "arenden[4] = 'Kroonarend' # Lijsten zijn 'mutable' (veranderlijk, je kunt ze aanpassen)\n",
    "print(arenden)"
   ]
  },
  {
   "cell_type": "markdown",
   "metadata": {
    "solution2": "hidden",
    "solution2_first": true
   },
   "source": [
    "### 2.\n",
    "\\* Schrijf een programma met als invoervariabele een geheel getal *n* en maak in je programma (handmatig) de volgende lijst aan:\n",
    "\n",
    "cijfers = [5.0, 6.5, 1.0, 5.5, 2.5]\n",
    "\n",
    "Je programma print het n-de element van deze lijst uit. Bijvoorbeeld: 'Het 2e element is 6.5.'\n",
    "\n",
    "Als je een *n* invoert groter dan 5 of kleiner dan 0, dan moet er een melding komen dat *n* ligt tussen [1, 5]. \n"
   ]
  },
  {
   "cell_type": "code",
   "execution_count": 2,
   "metadata": {
    "solution2": "hidden"
   },
   "outputs": [
    {
     "name": "stdout",
     "output_type": "stream",
     "text": [
      "Vul een geheel getal in tussen 1 tm 5\n",
      "4\n",
      "5.5\n"
     ]
    }
   ],
   "source": [
    "#Maak de lijst\n",
    "cijfers = [5.0, 6.5, 1.0, 5.5, 2.5]\n",
    "\n",
    "#Geef een geheel getal op\n",
    "n = int(input('Vul een geheel getal in tussen 1 tm 5\\n'))\n",
    "\n",
    "#Als n in [1, 5] ligt, print dan het n-de element anders, geef een melding \n",
    "if 1 <= n <= 5:\n",
    "    print(cijfers[n-1])\n",
    "else:\n",
    "    print('Je getal moet tussen 1 en 5 zitten en geheel zijn.\\n')"
   ]
  },
  {
   "cell_type": "markdown",
   "metadata": {},
   "source": [
    "### 3.\n",
    "\\* **in statement**.\n",
    "\n",
    "Stel je wilt nagaan of een element in een lijst zit.   \n",
    "Bijv. of de kaassoort Goudse in de lijst kazen staat: kazen = [‘Edammer’, ‘Brie’, ‘Blue Danish’, ‘Stilton’]  \n",
    "Hiervoor kun je het **in statement** gebruiken:"
   ]
  },
  {
   "cell_type": "code",
   "execution_count": null,
   "metadata": {},
   "outputs": [],
   "source": [
    "kazen = ['Edammer', 'Brie', 'Blue Danish', 'Stilton']\n",
    "\n",
    "print('Goudse' in kazen)\n",
    "print('Brie' in kazen)"
   ]
  },
  {
   "cell_type": "markdown",
   "metadata": {
    "solution2": "hidden",
    "solution2_first": true
   },
   "source": [
    "Als het element in de lijst staat geeft het **in** statement *True*, zo niet dan *False* (dus een boolean datatype).  \n",
    "\n",
    "Maak nu een programma met daarin de volgende lijst (handmatig): \n",
    "[‘Utrecht’, ‘Amsterdam’, ‘Den Bosch’, ‘Rotterdam’, ‘Den Haag’, ‘Haarlem’, ‘Maastricht’]\n",
    "\n",
    "Noem deze lijst *steden*.\n",
    "\n",
    "Als input kun je een stadsnaam invullen. Je programma geeft als uitvoer *True* als de stad in de lijst staat, anders *False*.\n"
   ]
  },
  {
   "cell_type": "code",
   "execution_count": 3,
   "metadata": {
    "solution2": "hidden"
   },
   "outputs": [
    {
     "name": "stdout",
     "output_type": "stream",
     "text": [
      "Vul een stadsnaam in.\n",
      "Groningen\n",
      "False\n"
     ]
    }
   ],
   "source": [
    "steden = ['Utrecht', 'Amsterdam', 'Den Bosch', 'Rotterdam', 'Den Haag', 'Haarlem', 'Maastricht']\n",
    "\n",
    "stadsnaam = input('Vul een stadsnaam in.\\n')\n",
    "\n",
    "#Komt de ingevulde stad voor in 'steden'\n",
    "print(stadsnaam in steden)"
   ]
  },
  {
   "cell_type": "markdown",
   "metadata": {},
   "source": [
    "### 4.\n",
    "\\* **append statement**.\n",
    "\n",
    "Je kunt ook een lijst aanmaken via input (i.p.v. handmatig een lijst maken in je code).\n",
    "Hiervoor hebben we de append statement nodig en een lege lijst.\n",
    "Eerst wordt een lege lijst aangemaakt en daarna vullen we die lijst met elementen.\n",
    "Voorbeeld:"
   ]
  },
  {
   "cell_type": "code",
   "execution_count": null,
   "metadata": {},
   "outputs": [],
   "source": [
    "#Lege lijst\n",
    "namen = []\n",
    "\n",
    "#Drie namen om in de lijst 'namen' te zetten\n",
    "naam1 = input('Vul de eerste naam in\\n ')\n",
    "naam2 = input('Vul de tweede naam in\\n ')\n",
    "naam3 = input('Vul de derde naam in \\n ')\n",
    "\n",
    "#De lijst 'namen' aanvullen met de drie opgegeven namen via input\n",
    "namen.append(naam1)\n",
    "namen.append(naam2)\n",
    "namen.append(naam3)\n",
    "\n",
    "#De lijst 'namen' printen\n",
    "print(namen)"
   ]
  },
  {
   "cell_type": "markdown",
   "metadata": {
    "solution2": "hidden",
    "solution2_first": true
   },
   "source": [
    "Een lege lijst verkrijg je door [], bijv. namen = []. Namen is nu een lege lijst.  \n",
    "Je kunt daarna steeds een nieuw element toevoegen aan de lijst met .append().  \n",
    "namen.append(naam1) voegt dan de waarde van naam1 toe aan de lijst namen.  \n",
    "\n",
    "a.\tSchrijf een programma dat de gebruiker vijf getallen laat invullen en die getallen in een lijst zet. Print de lijst daarna uit.  \n"
   ]
  },
  {
   "cell_type": "code",
   "execution_count": 6,
   "metadata": {
    "solution2": "hidden"
   },
   "outputs": [
    {
     "name": "stdout",
     "output_type": "stream",
     "text": [
      "Vul een getal in\n",
      "6\n",
      "Vul een getal in\n",
      "2\n",
      "Vul een getal in\n",
      "9\n",
      "Vul een getal in\n",
      "7\n",
      "Vul een getal in\n",
      "1\n",
      "[6.0, 2.0, 9.0, 7.0, 1.0]\n"
     ]
    }
   ],
   "source": [
    "getallen = []\n",
    "\n",
    "#a\n",
    "getal1 = float(input('Vul een getal in\\n'))\n",
    "getal2 = float(input('Vul een getal in\\n'))\n",
    "getal3 = float(input('Vul een getal in\\n'))\n",
    "getal4 = float(input('Vul een getal in\\n'))\n",
    "getal5 = float(input('Vul een getal in\\n'))\n",
    "\n",
    "#Nog een manier om meerdere inputs te geven. Type meerdere getallen in 1 keer gescheiden door een spatie.\n",
    "# getal1, getal2, getal3, getal4, getal5 = input(\"Vul 5 getallen in: \").split()\n",
    "# deze .split() wordt in een latere les nog besproken, maar nu ken je hem alvast!\n",
    "\n",
    "getallen.append(getal1)\n",
    "getallen.append(getal2)\n",
    "getallen.append(getal3)\n",
    "getallen.append(getal4)\n",
    "getallen.append(getal5)\n",
    "\n",
    "print(getallen)"
   ]
  },
  {
   "cell_type": "markdown",
   "metadata": {
    "solution2": "hidden",
    "solution2_first": true
   },
   "source": [
    "b.\tSchrijf een programma dat drie willekeurige getallen tussen [0, 10) in een lijst zet. Print de lijst daarna uit.\n",
    "\n",
    "Tip: Met welke functie kon je ook alweer willekeurige (gehele) getallen maken uit een gegeven bereik?"
   ]
  },
  {
   "cell_type": "code",
   "execution_count": 7,
   "metadata": {
    "solution2": "hidden"
   },
   "outputs": [
    {
     "name": "stdout",
     "output_type": "stream",
     "text": [
      "[6, 2, 8]\n"
     ]
    }
   ],
   "source": [
    "#b\n",
    "import random\n",
    "\n",
    "willekeur = []\n",
    "\n",
    "#Kies random 3 getallen\n",
    "getal1 = random.randint(0, 9)\n",
    "getal2 = random.randint(0, 9)\n",
    "getal3 = random.randint(0, 9)\n",
    "\n",
    "willekeur.append(getal1)\n",
    "willekeur.append(getal2)\n",
    "willekeur.append(getal3)\n",
    "\n",
    "print(willekeur)"
   ]
  },
  {
   "cell_type": "markdown",
   "metadata": {
    "solution2": "hidden",
    "solution2_first": true
   },
   "source": [
    "### 5.\n",
    "\\* **For-loop met range() statement**\n",
    "\n",
    "a. Schrijf een programma dat ‘Hello, World!’ tienmaal onder elkaar uitprint.\n",
    "(Nu met een for-loop en de range() statement).\n",
    "\n",
    "\n"
   ]
  },
  {
   "cell_type": "code",
   "execution_count": 8,
   "metadata": {
    "solution2": "hidden"
   },
   "outputs": [
    {
     "name": "stdout",
     "output_type": "stream",
     "text": [
      "Hello, World!\n",
      "Hello, World!\n",
      "Hello, World!\n",
      "Hello, World!\n",
      "Hello, World!\n",
      "Hello, World!\n",
      "Hello, World!\n",
      "Hello, World!\n",
      "Hello, World!\n",
      "Hello, World!\n"
     ]
    }
   ],
   "source": [
    "#a\n",
    "#range(10) geeft een reeks van getallen van 0 t/m 9\n",
    "for i in range(10):\n",
    "    print('Hello, World!')"
   ]
  },
  {
   "cell_type": "markdown",
   "metadata": {
    "solution2": "hidden",
    "solution2_first": true
   },
   "source": [
    "b. Schrijf een programma met invoervariabele een geheel getal n en dat ‘Hello, World!’ \n",
    "n-maal onder elkaar  uitprint. "
   ]
  },
  {
   "cell_type": "code",
   "execution_count": 9,
   "metadata": {
    "solution2": "hidden"
   },
   "outputs": [
    {
     "name": "stdout",
     "output_type": "stream",
     "text": [
      "Vul een geheel getal in\n",
      "3\n",
      "Hello, World!\n",
      "Hello, World!\n",
      "Hello, World!\n"
     ]
    }
   ],
   "source": [
    "#b\n",
    "n = int(input('Vul een geheel getal in\\n'))\n",
    "\n",
    "for i in range(n):\n",
    "    print('Hello, World!')"
   ]
  },
  {
   "cell_type": "markdown",
   "metadata": {
    "solution2": "hidden",
    "solution2_first": true
   },
   "source": [
    "### 6. \n",
    "\\* a. Schrijf een programma dat de getallen 1 t/m 25 onder elkaar uitprint (mbv een for-loop).   \n",
    "\n"
   ]
  },
  {
   "cell_type": "code",
   "execution_count": 2,
   "metadata": {
    "solution2": "hidden"
   },
   "outputs": [
    {
     "name": "stdout",
     "output_type": "stream",
     "text": [
      "1\n",
      "2\n",
      "3\n",
      "4\n",
      "5\n",
      "6\n",
      "7\n",
      "8\n",
      "9\n",
      "10\n",
      "11\n",
      "12\n",
      "13\n",
      "14\n",
      "15\n",
      "16\n",
      "17\n",
      "18\n",
      "19\n",
      "20\n",
      "21\n",
      "22\n",
      "23\n",
      "24\n",
      "25\n"
     ]
    }
   ],
   "source": [
    "#a\n",
    "for i in range(25):\n",
    "    print(i+1) #i loopt van 0 t/m 24 dus tel 1 erbij op"
   ]
  },
  {
   "cell_type": "code",
   "execution_count": null,
   "metadata": {
    "solution2": "hidden"
   },
   "outputs": [],
   "source": [
    "#a kan ook met\n",
    "for i in range(1, 26):\n",
    "    print(i)"
   ]
  },
  {
   "cell_type": "markdown",
   "metadata": {
    "solution2": "hidden",
    "solution2_first": true
   },
   "source": [
    "\\* b. Schrijf een programma dat de getallen 1 t/m n onder elkaar uitprint. De invoer is de variabele *n* .  "
   ]
  },
  {
   "cell_type": "code",
   "execution_count": null,
   "metadata": {
    "solution2": "hidden"
   },
   "outputs": [],
   "source": [
    "#b\n",
    "n = int(input('Vul een geheel getal in\\n'))\n",
    "\n",
    "for i in range(n):\n",
    "    print(i+1)"
   ]
  },
  {
   "cell_type": "markdown",
   "metadata": {
    "solution2": "hidden",
    "solution2_first": true
   },
   "source": [
    "\\** c. Schrijf een programma dat de getallen 1 t/m n onder elkaar uitprint, maar alleen de oneven  getallen. De invoer is de variabele *n* .   \n",
    "*Hint*: zie opgave 4.4 van Opgaven Deel 4 en dan nog iets met if?  "
   ]
  },
  {
   "cell_type": "code",
   "execution_count": null,
   "metadata": {
    "solution2": "hidden"
   },
   "outputs": [],
   "source": [
    "#c\n",
    "n = int(input('Vul een geheel getal in\\n'))\n",
    "\n",
    "for i in range(n):\n",
    "    if (i+1)%2 == 1: #als getal/2 een restwaarde heeft van 1, dan is het getal oneven\n",
    "        print(i+1)"
   ]
  },
  {
   "cell_type": "markdown",
   "metadata": {
    "solution2": "hidden",
    "solution2_first": true
   },
   "source": [
    "\n",
    "\\** d. Als c, maar nu alleen de even getallen."
   ]
  },
  {
   "cell_type": "code",
   "execution_count": null,
   "metadata": {
    "solution2": "hidden"
   },
   "outputs": [],
   "source": [
    "#d\n",
    "n = int(input('Vul een geheel getal in\\n'))\n",
    "\n",
    "for i in range(n):\n",
    "    if (i+1)%2 == 0: #restwaarde = 0, dan even\n",
    "        print(i+1)"
   ]
  },
  {
   "cell_type": "markdown",
   "metadata": {
    "solution2": "hidden",
    "solution2_first": true
   },
   "source": [
    "### 7.\n",
    "\\* Doe opgave 4 nogmaals, maar nu met een kortere code door een for-loop te gebruiken."
   ]
  },
  {
   "cell_type": "code",
   "execution_count": null,
   "metadata": {
    "solution2": "hidden"
   },
   "outputs": [],
   "source": [
    "#a\n",
    "getallen = []\n",
    "\n",
    "for x in range(5):\n",
    "    getal = float(input('Vul een getal in\\n'))\n",
    "    getallen.append(getal)\n",
    "\n",
    "print(getallen)"
   ]
  },
  {
   "cell_type": "code",
   "execution_count": null,
   "metadata": {
    "solution2": "hidden"
   },
   "outputs": [],
   "source": [
    "#b\n",
    "import random\n",
    "\n",
    "willekeur = []\n",
    "\n",
    "for x in range(3):\n",
    "    getal = random.randint(0, 9)\n",
    "    willekeur.append(getal)\n",
    "\n",
    "print(willekeur)"
   ]
  },
  {
   "cell_type": "markdown",
   "metadata": {
    "solution2": "hidden",
    "solution2_first": true
   },
   "source": [
    "### 8.\n",
    "\\*** Schrijf een programma dat, met gebruikmaking van slechts één for-loop en één if-statement, de gehele getallen vanaf 1000 t/m 2000 print met vijf getallen per regel.\n",
    "\n",
    "Hint: % operator én onderzoek op internet de print() statement beter. Welke parameters kun je in print() invullen? Zoekwoorden Python, print() en end. \n"
   ]
  },
  {
   "cell_type": "code",
   "execution_count": 11,
   "metadata": {
    "solution2": "hidden"
   },
   "outputs": [
    {
     "name": "stdout",
     "output_type": "stream",
     "text": [
      "1000 1001 1002 1003 1004 \n",
      "\n",
      "1005 1006 1007 1008 1009 \n",
      "\n",
      "1010 1011 1012 1013 1014 \n",
      "\n",
      "1015 1016 1017 1018 1019 \n",
      "\n",
      "1020 1021 1022 1023 1024 \n",
      "\n",
      "1025 1026 1027 1028 1029 \n",
      "\n",
      "1030 1031 1032 1033 1034 \n",
      "\n",
      "1035 1036 1037 1038 1039 \n",
      "\n",
      "1040 1041 1042 1043 1044 \n",
      "\n",
      "1045 1046 1047 1048 1049 \n",
      "\n",
      "1050 1051 1052 1053 1054 \n",
      "\n",
      "1055 1056 1057 1058 1059 \n",
      "\n",
      "1060 1061 1062 1063 1064 \n",
      "\n",
      "1065 1066 1067 1068 1069 \n",
      "\n",
      "1070 1071 1072 1073 1074 \n",
      "\n",
      "1075 1076 1077 1078 1079 \n",
      "\n",
      "1080 1081 1082 1083 1084 \n",
      "\n",
      "1085 1086 1087 1088 1089 \n",
      "\n",
      "1090 1091 1092 1093 1094 \n",
      "\n",
      "1095 1096 1097 1098 1099 \n",
      "\n",
      "1100 1101 1102 1103 1104 \n",
      "\n",
      "1105 1106 1107 1108 1109 \n",
      "\n",
      "1110 1111 1112 1113 1114 \n",
      "\n",
      "1115 1116 1117 1118 1119 \n",
      "\n",
      "1120 1121 1122 1123 1124 \n",
      "\n",
      "1125 1126 1127 1128 1129 \n",
      "\n",
      "1130 1131 1132 1133 1134 \n",
      "\n",
      "1135 1136 1137 1138 1139 \n",
      "\n",
      "1140 1141 1142 1143 1144 \n",
      "\n",
      "1145 1146 1147 1148 1149 \n",
      "\n",
      "1150 1151 1152 1153 1154 \n",
      "\n",
      "1155 1156 1157 1158 1159 \n",
      "\n",
      "1160 1161 1162 1163 1164 \n",
      "\n",
      "1165 1166 1167 1168 1169 \n",
      "\n",
      "1170 1171 1172 1173 1174 \n",
      "\n",
      "1175 1176 1177 1178 1179 \n",
      "\n",
      "1180 1181 1182 1183 1184 \n",
      "\n",
      "1185 1186 1187 1188 1189 \n",
      "\n",
      "1190 1191 1192 1193 1194 \n",
      "\n",
      "1195 1196 1197 1198 1199 \n",
      "\n",
      "1200 1201 1202 1203 1204 \n",
      "\n",
      "1205 1206 1207 1208 1209 \n",
      "\n",
      "1210 1211 1212 1213 1214 \n",
      "\n",
      "1215 1216 1217 1218 1219 \n",
      "\n",
      "1220 1221 1222 1223 1224 \n",
      "\n",
      "1225 1226 1227 1228 1229 \n",
      "\n",
      "1230 1231 1232 1233 1234 \n",
      "\n",
      "1235 1236 1237 1238 1239 \n",
      "\n",
      "1240 1241 1242 1243 1244 \n",
      "\n",
      "1245 1246 1247 1248 1249 \n",
      "\n",
      "1250 1251 1252 1253 1254 \n",
      "\n",
      "1255 1256 1257 1258 1259 \n",
      "\n",
      "1260 1261 1262 1263 1264 \n",
      "\n",
      "1265 1266 1267 1268 1269 \n",
      "\n",
      "1270 1271 1272 1273 1274 \n",
      "\n",
      "1275 1276 1277 1278 1279 \n",
      "\n",
      "1280 1281 1282 1283 1284 \n",
      "\n",
      "1285 1286 1287 1288 1289 \n",
      "\n",
      "1290 1291 1292 1293 1294 \n",
      "\n",
      "1295 1296 1297 1298 1299 \n",
      "\n",
      "1300 1301 1302 1303 1304 \n",
      "\n",
      "1305 1306 1307 1308 1309 \n",
      "\n",
      "1310 1311 1312 1313 1314 \n",
      "\n",
      "1315 1316 1317 1318 1319 \n",
      "\n",
      "1320 1321 1322 1323 1324 \n",
      "\n",
      "1325 1326 1327 1328 1329 \n",
      "\n",
      "1330 1331 1332 1333 1334 \n",
      "\n",
      "1335 1336 1337 1338 1339 \n",
      "\n",
      "1340 1341 1342 1343 1344 \n",
      "\n",
      "1345 1346 1347 1348 1349 \n",
      "\n",
      "1350 1351 1352 1353 1354 \n",
      "\n",
      "1355 1356 1357 1358 1359 \n",
      "\n",
      "1360 1361 1362 1363 1364 \n",
      "\n",
      "1365 1366 1367 1368 1369 \n",
      "\n",
      "1370 1371 1372 1373 1374 \n",
      "\n",
      "1375 1376 1377 1378 1379 \n",
      "\n",
      "1380 1381 1382 1383 1384 \n",
      "\n",
      "1385 1386 1387 1388 1389 \n",
      "\n",
      "1390 1391 1392 1393 1394 \n",
      "\n",
      "1395 1396 1397 1398 1399 \n",
      "\n",
      "1400 1401 1402 1403 1404 \n",
      "\n",
      "1405 1406 1407 1408 1409 \n",
      "\n",
      "1410 1411 1412 1413 1414 \n",
      "\n",
      "1415 1416 1417 1418 1419 \n",
      "\n",
      "1420 1421 1422 1423 1424 \n",
      "\n",
      "1425 1426 1427 1428 1429 \n",
      "\n",
      "1430 1431 1432 1433 1434 \n",
      "\n",
      "1435 1436 1437 1438 1439 \n",
      "\n",
      "1440 1441 1442 1443 1444 \n",
      "\n",
      "1445 1446 1447 1448 1449 \n",
      "\n",
      "1450 1451 1452 1453 1454 \n",
      "\n",
      "1455 1456 1457 1458 1459 \n",
      "\n",
      "1460 1461 1462 1463 1464 \n",
      "\n",
      "1465 1466 1467 1468 1469 \n",
      "\n",
      "1470 1471 1472 1473 1474 \n",
      "\n",
      "1475 1476 1477 1478 1479 \n",
      "\n",
      "1480 1481 1482 1483 1484 \n",
      "\n",
      "1485 1486 1487 1488 1489 \n",
      "\n",
      "1490 1491 1492 1493 1494 \n",
      "\n",
      "1495 1496 1497 1498 1499 \n",
      "\n",
      "1500 1501 1502 1503 1504 \n",
      "\n",
      "1505 1506 1507 1508 1509 \n",
      "\n",
      "1510 1511 1512 1513 1514 \n",
      "\n",
      "1515 1516 1517 1518 1519 \n",
      "\n",
      "1520 1521 1522 1523 1524 \n",
      "\n",
      "1525 1526 1527 1528 1529 \n",
      "\n",
      "1530 1531 1532 1533 1534 \n",
      "\n",
      "1535 1536 1537 1538 1539 \n",
      "\n",
      "1540 1541 1542 1543 1544 \n",
      "\n",
      "1545 1546 1547 1548 1549 \n",
      "\n",
      "1550 1551 1552 1553 1554 \n",
      "\n",
      "1555 1556 1557 1558 1559 \n",
      "\n",
      "1560 1561 1562 1563 1564 \n",
      "\n",
      "1565 1566 1567 1568 1569 \n",
      "\n",
      "1570 1571 1572 1573 1574 \n",
      "\n",
      "1575 1576 1577 1578 1579 \n",
      "\n",
      "1580 1581 1582 1583 1584 \n",
      "\n",
      "1585 1586 1587 1588 1589 \n",
      "\n",
      "1590 1591 1592 1593 1594 \n",
      "\n",
      "1595 1596 1597 1598 1599 \n",
      "\n",
      "1600 1601 1602 1603 1604 \n",
      "\n",
      "1605 1606 1607 1608 1609 \n",
      "\n",
      "1610 1611 1612 1613 1614 \n",
      "\n",
      "1615 1616 1617 1618 1619 \n",
      "\n",
      "1620 1621 1622 1623 1624 \n",
      "\n",
      "1625 1626 1627 1628 1629 \n",
      "\n",
      "1630 1631 1632 1633 1634 \n",
      "\n",
      "1635 1636 1637 1638 1639 \n",
      "\n",
      "1640 1641 1642 1643 1644 \n",
      "\n",
      "1645 1646 1647 1648 1649 \n",
      "\n",
      "1650 1651 1652 1653 1654 \n",
      "\n",
      "1655 1656 1657 1658 1659 \n",
      "\n",
      "1660 1661 1662 1663 1664 \n",
      "\n",
      "1665 1666 1667 1668 1669 \n",
      "\n",
      "1670 1671 1672 1673 1674 \n",
      "\n",
      "1675 1676 1677 1678 1679 \n",
      "\n",
      "1680 1681 1682 1683 1684 \n",
      "\n",
      "1685 1686 1687 1688 1689 \n",
      "\n",
      "1690 1691 1692 1693 1694 \n",
      "\n",
      "1695 1696 1697 1698 1699 \n",
      "\n",
      "1700 1701 1702 1703 1704 \n",
      "\n",
      "1705 1706 1707 1708 1709 \n",
      "\n",
      "1710 1711 1712 1713 1714 \n",
      "\n",
      "1715 1716 1717 1718 1719 \n",
      "\n",
      "1720 1721 1722 1723 1724 \n",
      "\n",
      "1725 1726 1727 1728 1729 \n",
      "\n",
      "1730 1731 1732 1733 1734 \n",
      "\n",
      "1735 1736 1737 1738 1739 \n",
      "\n",
      "1740 1741 1742 1743 1744 \n",
      "\n",
      "1745 1746 1747 1748 1749 \n",
      "\n",
      "1750 1751 1752 1753 1754 \n",
      "\n",
      "1755 1756 1757 1758 1759 \n",
      "\n",
      "1760 1761 1762 1763 1764 \n",
      "\n",
      "1765 1766 1767 1768 1769 \n",
      "\n",
      "1770 1771 1772 1773 1774 \n",
      "\n",
      "1775 1776 1777 1778 1779 \n",
      "\n",
      "1780 1781 1782 1783 1784 \n",
      "\n",
      "1785 1786 1787 1788 1789 \n",
      "\n",
      "1790 1791 1792 1793 1794 \n",
      "\n",
      "1795 1796 1797 1798 1799 \n",
      "\n",
      "1800 1801 1802 1803 1804 \n",
      "\n",
      "1805 1806 1807 1808 1809 \n",
      "\n",
      "1810 1811 1812 1813 1814 \n",
      "\n",
      "1815 1816 1817 1818 1819 \n",
      "\n",
      "1820 1821 1822 1823 1824 \n",
      "\n",
      "1825 1826 1827 1828 1829 \n",
      "\n",
      "1830 1831 1832 1833 1834 \n",
      "\n",
      "1835 1836 1837 1838 1839 \n",
      "\n",
      "1840 1841 1842 1843 1844 \n",
      "\n",
      "1845 1846 1847 1848 1849 \n",
      "\n",
      "1850 1851 1852 1853 1854 \n",
      "\n",
      "1855 1856 1857 1858 1859 \n",
      "\n",
      "1860 1861 1862 1863 1864 \n",
      "\n",
      "1865 1866 1867 1868 1869 \n",
      "\n",
      "1870 1871 1872 1873 1874 \n",
      "\n",
      "1875 1876 1877 1878 1879 \n",
      "\n",
      "1880 1881 1882 1883 1884 \n",
      "\n",
      "1885 1886 1887 1888 1889 \n",
      "\n",
      "1890 1891 1892 1893 1894 \n",
      "\n",
      "1895 1896 1897 1898 1899 \n",
      "\n",
      "1900 1901 1902 1903 1904 \n",
      "\n",
      "1905 1906 1907 1908 1909 \n",
      "\n",
      "1910 1911 1912 1913 1914 \n",
      "\n",
      "1915 1916 1917 1918 1919 \n",
      "\n",
      "1920 1921 1922 1923 1924 \n",
      "\n",
      "1925 1926 1927 1928 1929 \n",
      "\n",
      "1930 1931 1932 1933 1934 \n",
      "\n",
      "1935 1936 1937 1938 1939 \n",
      "\n",
      "1940 1941 1942 1943 1944 \n",
      "\n",
      "1945 1946 1947 1948 1949 \n",
      "\n",
      "1950 1951 1952 1953 1954 \n",
      "\n",
      "1955 1956 1957 1958 1959 \n",
      "\n",
      "1960 1961 1962 1963 1964 \n",
      "\n",
      "1965 1966 1967 1968 1969 \n",
      "\n",
      "1970 1971 1972 1973 1974 \n",
      "\n",
      "1975 1976 1977 1978 1979 \n",
      "\n",
      "1980 1981 1982 1983 1984 \n",
      "\n",
      "1985 1986 1987 1988 1989 \n",
      "\n",
      "1990 1991 1992 1993 1994 \n",
      "\n",
      "1995 1996 1997 1998 1999 \n",
      "\n",
      "2000 "
     ]
    }
   ],
   "source": [
    "for i in range(1001):\n",
    "    #i begint bij 0 dus tel 1000 erbij om te beginnen bij 1000\n",
    "    print(i+1000, end = ' ') # na het printen geeft de end een spatie\n",
    "    \n",
    "    #het vijfde getal heeft een restwaarde van 0 wanneer gedeeld door 5\n",
    "    if (i+1)%5 == 0:\n",
    "        print('\\n') # nieuwe regel (dus na het 5e getal)"
   ]
  },
  {
   "cell_type": "markdown",
   "metadata": {
    "solution2": "hidden",
    "solution2_first": true
   },
   "source": [
    "### 9.\n",
    "\\** **Optellen**\n",
    "\n",
    "Schrijf een programma met één invoervariabele n. De uitvoer is de optelsom van: \n",
    "1 + 2 + 3 + 4 + … + n. \n",
    "\n",
    "Bijv. voor n = 1 is de uitkomst 1 en voor n = 7 is dat 28."
   ]
  },
  {
   "cell_type": "code",
   "execution_count": 12,
   "metadata": {
    "solution2": "hidden"
   },
   "outputs": [
    {
     "name": "stdout",
     "output_type": "stream",
     "text": [
      "Vul een geheel getal in\n",
      "7\n",
      "28\n"
     ]
    }
   ],
   "source": [
    "n = int(input('Vul een geheel getal in\\n'))\n",
    "\n",
    "#maak een variabele om de som op te slaan\n",
    "som = 0\n",
    "\n",
    "for x in range(n):\n",
    "    som = som + (x + 1)  #tel steeds het volgende getal bij 'som' op. Vergeet de + 1 niet omdat x begint bij 0. \n",
    "\n",
    "print(som)"
   ]
  },
  {
   "cell_type": "markdown",
   "metadata": {
    "solution2": "shown",
    "solution2_first": true
   },
   "source": [
    "### 10.\n",
    "!! \\***  **Rij van Fibonacci**\n",
    "\n",
    "De rij van Fibonacci bestaat uit de getallen: 1, 1, 2, 3, 5, 8, 13, 21, 34, etc. \n",
    "Ofwel element $a_n = a_{n-2} + a_{n-1}$, waarbij $a_1 = a_2 = 1$.  \n",
    "Schrijf een programma dat de n-de term van de rij van Fibonacci uitprint. \n",
    "\n",
    "De zevende term is bijvoorbeeld 13. Je invoervariabele is *n*.\n"
   ]
  },
  {
   "cell_type": "code",
   "execution_count": 13,
   "metadata": {
    "solution2": "shown"
   },
   "outputs": [
    {
     "name": "stdout",
     "output_type": "stream",
     "text": [
      "Vul een geheel getal in\n",
      "7\n",
      "13\n"
     ]
    }
   ],
   "source": [
    "#Variabelen voor de eerste 2 termen\n",
    "a1 = 1\n",
    "a2 = 1\n",
    "\n",
    "n = int(input('Vul een geheel getal in\\n'))\n",
    "\n",
    "for x in range(3, n+1):\n",
    "    an = a1 + a2 #de n-de term is de som van de 2 voorgaande termen\n",
    "    #schuif de eerste 2 termen nu een plek verder voor de volgende loop\n",
    "    #Nog onduidelijk? Schrijf op papier uit hoe a1, a2 en an veranderen voor bv 4 loops\n",
    "    a1 = a2 \n",
    "    a2 = an\n",
    "\n",
    "if n == 1 or n == 2:\n",
    "    print(1)\n",
    "else:\n",
    "    print(an)"
   ]
  },
  {
   "cell_type": "markdown",
   "metadata": {
    "solution2": "hidden",
    "solution2_first": true
   },
   "source": [
    "### 11.\n",
    "\\** **Gek woord**\n",
    "\n",
    "Schrijf een programma met drie invoervariabelen *woord* (string), *letter* (string) en *n* (int).   \n",
    "De uitvoer is het woord met links en rechts ervan n-maal de letter.\n",
    "\n",
    "(Bijv. invoer: plantje R 5. De uitvoer is dan RRRRRplantjeRRRRR).\n"
   ]
  },
  {
   "cell_type": "code",
   "execution_count": null,
   "metadata": {
    "solution2": "hidden"
   },
   "outputs": [],
   "source": [
    "woord = input('type een woord in\\n')\n",
    "letter = input('type een letter in\\n')\n",
    "n = int(input('Vul een geheel getal in\\n'))\n",
    "\n",
    "for i in range(n):\n",
    "    woord = letter + woord + letter\n",
    "\n",
    "print(woord)"
   ]
  },
  {
   "cell_type": "markdown",
   "metadata": {
    "solution2": "hidden",
    "solution2_first": true
   },
   "source": [
    "### 12.\n",
    "\\** **Inproduct van twee vectoren**\n",
    "\n",
    "Neem de vector v = [1, 2, 3, 4, 5] en de vector w = [25, 16, 9, 4, 1].  \n",
    "Schrijf een programma dat van deze twee vectoren het inproduct bepaald. \n",
    "\n",
    "*Hint*: Gebruik een for-loop en voor een vector kun je een list gebruiken.\n",
    "\n"
   ]
  },
  {
   "cell_type": "code",
   "execution_count": null,
   "metadata": {
    "solution2": "hidden"
   },
   "outputs": [],
   "source": [
    "v = [1, 2, 3, 4, 5] \n",
    "w = [25, 16, 9, 4, 1]\n",
    "\n",
    "#Maak een variabele om de som bij te houden\n",
    "inproduct = 0\n",
    "\n",
    "for x in range(5):\n",
    "    #tel steeds het product van v[x] en w[x] bij de som op\n",
    "    inproduct = inproduct + v[x] * w[x]\n",
    "\n",
    "print(inproduct)  "
   ]
  },
  {
   "cell_type": "code",
   "execution_count": null,
   "metadata": {
    "solution2": "hidden"
   },
   "outputs": [],
   "source": [
    "#alternatief met len(). len() geeft de lengte van een vector terug. \n",
    "#Handig als de lengte van de vectoren niet van te voren bekend is of kan variëren.\n",
    "\n",
    "v = [1, 2, 3, 4, 5] \n",
    "w = [25, 16, 9, 4, 1]\n",
    "\n",
    "inproduct = 0\n",
    "\n",
    "for x in range(len(v)):\n",
    "    inproduct = inproduct + v[x] * w[x]\n",
    "\n",
    "print(inproduct)  "
   ]
  },
  {
   "cell_type": "markdown",
   "metadata": {
    "solution2": "hidden",
    "solution2_first": true
   },
   "source": [
    "### 13.\n",
    "!! \\***  **Lijst aanpassen**\n",
    "\n",
    "Schrijf een programma met daarin:\n",
    "\n",
    "- Een functie die een lijst aanmaakt met n-elementen. Elk element is een geheel getal met een waarde tussen de 1 en 10 (10 doet mee). De functie retourneert de lijst als output.\n",
    "\n",
    "- Een functie die als invoer een lijst heeft en dan de elementen van die lijst aanpast: elk element wordt gekwadrateerd. De functie retourneert deze veranderde lijst. *Hint*: Je weet niet precies hoe groot de lijst is, terwijl de range() statement dat wel moet weten. Gebruik dus de len() statement. Vergeten wat len() doet met een lijst? Check internet! Zoektermen len() en list. \n",
    "\n",
    "Je programma heeft als input het getal *n* en print de twee lijsten uit.\n"
   ]
  },
  {
   "cell_type": "code",
   "execution_count": 16,
   "metadata": {
    "solution2": "hidden"
   },
   "outputs": [
    {
     "name": "stdout",
     "output_type": "stream",
     "text": [
      "Vul een geheel getal in\n",
      "6\n",
      "[3, 3, 9, 5, 2, 5]\n",
      "[9, 9, 81, 25, 4, 25]\n"
     ]
    }
   ],
   "source": [
    "import random\n",
    "\n",
    "def lijstmaker(n):\n",
    "    \"\"\"\n",
    "    Maakt een lijst van n random elementen met een waarde tussen [1, 10]\n",
    "    \n",
    "    Parameters\n",
    "    ----------\n",
    "    n: float\n",
    "       de lengte van de lijst \n",
    "       \n",
    "    Returns\n",
    "    -------\n",
    "    lijst\n",
    "    \n",
    "    \"\"\"\n",
    "    lijst = []\n",
    "    \n",
    "    for i in range(n):\n",
    "        lijst.append(random.randint(1, 10))\n",
    "    \n",
    "    return lijst\n",
    "\n",
    "def lijstaanpassen(lijst):\n",
    "    \"\"\"\n",
    "    Kwadrateert elk element van een lijst\n",
    "    \n",
    "    Parameters\n",
    "    ----------\n",
    "    lijst: list\n",
    "           de lijst om te kwadrateren\n",
    "       \n",
    "    Returns\n",
    "    -------\n",
    "    list\n",
    "        een lijst met elk element gekwadrateert\n",
    "    \n",
    "    \"\"\"\n",
    "    kwadraten = []\n",
    "    \n",
    "    n = len(lijst)\n",
    "    \n",
    "    for i in range(n):\n",
    "        kwadraten.append(lijst[i] * lijst[i])\n",
    "        \n",
    "    return kwadraten\n",
    "\n",
    "n = int(input('Vul een geheel getal in\\n'))\n",
    "\n",
    "lijst = lijstmaker(n)\n",
    "nwe_lijst = lijstaanpassen(lijst)\n",
    "\n",
    "print(lijst)\n",
    "print(nwe_lijst)"
   ]
  },
  {
   "cell_type": "code",
   "execution_count": 17,
   "metadata": {
    "solution2": "hidden"
   },
   "outputs": [
    {
     "name": "stdout",
     "output_type": "stream",
     "text": [
      "Vul een geheel getal in\n",
      "6\n",
      "[1, 2, 3, 5, 1, 2]\n",
      "[1, 4, 9, 25, 1, 4]\n"
     ]
    }
   ],
   "source": [
    "#Een andere manier voor lijstaanpassen()\n",
    "#Deze versie veranderd de originele lijst\n",
    "\n",
    "# import random\n",
    "\n",
    "def lijstmaker(n):\n",
    "    \"\"\"\n",
    "    Maakt een lijst van n random elementen met een waarde tussen [1, 10]\n",
    "    \n",
    "    Parameters\n",
    "    ----------\n",
    "    n: float\n",
    "       de lengte van de lijst \n",
    "       \n",
    "    Returns\n",
    "    -------\n",
    "    lijst\n",
    "    \n",
    "    \"\"\"\n",
    "    lijst = []\n",
    "    \n",
    "    for i in range(n):\n",
    "        lijst.append(random.randint(1, 10))\n",
    "    \n",
    "    return lijst\n",
    "\n",
    "def lijstaanpassen(lijst):\n",
    "    \"\"\"\n",
    "    Kwadrateert elk element van een lijst\n",
    "    \n",
    "    Parameters\n",
    "    ----------\n",
    "    lijst: list\n",
    "           de lijst om te kwadrateren\n",
    "       \n",
    "    Returns\n",
    "    -------\n",
    "    list\n",
    "        een lijst met elk element gekwadrateert\n",
    "    \n",
    "    \"\"\"\n",
    "    n = len(lijst)\n",
    "    \n",
    "    for i in range(n):\n",
    "        lijst[i] = lijst[i] **2\n",
    "        \n",
    "    return lijst\n",
    "\n",
    "n = int(input('Vul een geheel getal in\\n'))\n",
    "\n",
    "lijst = lijstmaker(n)\n",
    "print(lijst)\n",
    "\n",
    "nwe_lijst = lijstaanpassen(lijst)\n",
    "print(nwe_lijst)"
   ]
  },
  {
   "cell_type": "markdown",
   "metadata": {
    "solution2": "hidden",
    "solution2_first": true
   },
   "source": [
    "### 14.\n",
    "\\** Zie opgave 3. Als je utrecht schrijft i.p.v. Utrecht zal je programma bij opgave a *False* geven. Om dit te voorkomen kun je ervoor zorgen dat de stadsnamen allemaal met kleine letters wordt geschreven, of juist allemaal met hoofdletter! Zowel de namen in je stedenlijst als de stadsnaam van je input. \n",
    "\n",
    "Vul je programma van opgave 3 nu aan met:\n",
    "1. Laat je programma (dus niet handmatig) de stadsnamen in je stedenlijst veranderen: alles nu met kleine letters geschreven.\n",
    "2. Zorg ervoor dat de inputwaarde verandert in een naam met alleen maar kleine letters.\n",
    "\n",
    "Je hebt hier de functie lower() voor nodig. Zoek dit op internet op! \n",
    "En een for-loop.\n",
    "\n",
    "Lukt het alternatief ook, alles met hoofdletter schrijven?"
   ]
  },
  {
   "cell_type": "code",
   "execution_count": 1,
   "metadata": {
    "solution2": "hidden"
   },
   "outputs": [
    {
     "name": "stdout",
     "output_type": "stream",
     "text": [
      "Vul een stadsnaam in.\n",
      "UTRecht\n",
      "True\n",
      "['utrecht', 'amsterdam', 'den bosch', 'rotterdam', 'den haag', 'haarlem', 'maastricht']\n",
      "utrecht\n"
     ]
    }
   ],
   "source": [
    "steden = ['Utrecht', 'Amsterdam', 'Den Bosch', 'Rotterdam', 'Den Haag', 'Haarlem', 'Maastricht']\n",
    "\n",
    "#lower() geeft een string met alleen kleine letters (lower case)\n",
    "for i in range(len(steden)):\n",
    "    steden[i] = steden[i].lower()\n",
    "\n",
    "stadsnaam = input('Vul een stadsnaam in.\\n').lower() # .lower() mag je dus direct achter de print statement zetten\n",
    "print(stadsnaam in steden)\n",
    "\n",
    "# Zie hoe de lijst en je input veranderd is:\n",
    "print(steden)\n",
    "print(stadsnaam)"
   ]
  },
  {
   "cell_type": "code",
   "execution_count": 2,
   "metadata": {
    "solution2": "hidden"
   },
   "outputs": [
    {
     "name": "stdout",
     "output_type": "stream",
     "text": [
      "Vul een stadsnaam in.\n",
      "GrOnInGeN\n",
      "False\n",
      "['UTRECHT', 'AMSTERDAM', 'DEN BOSCH', 'ROTTERDAM', 'DEN HAAG', 'HAARLEM', 'MAASTRICHT']\n",
      "GRONINGEN\n"
     ]
    }
   ],
   "source": [
    "# Alternatief met uppercase\n",
    "\n",
    "steden = ['Utrecht', 'Amsterdam', 'Den Bosch', 'Rotterdam', 'Den Haag', 'Haarlem', 'Maastricht']\n",
    "\n",
    "for i in range(len(steden)):\n",
    "    steden[i] = steden[i].upper()\n",
    "\n",
    "stadsnaam = input('Vul een stadsnaam in.\\n').upper()\n",
    "print(stadsnaam in steden)\n",
    "\n",
    "# Zie hoe de lijst en je input veranderd is:\n",
    "print(steden)\n",
    "print(stadsnaam)"
   ]
  },
  {
   "cell_type": "markdown",
   "metadata": {
    "solution2": "hidden",
    "solution2_first": true
   },
   "source": [
    "### 15.\n",
    "!! \\***  **Taylorreeks**\n",
    "\n",
    "De e-macht is uit te drukken in een zogenaamde Taylorreeks (krijg je later dit jaar bij Calculus):  \n",
    "\n",
    "$e^x = \\sum_{n=0}^{\\infty} \\frac{x^{n}}{n!} = 1 + x + \\frac{x^2}{2} + \\frac{x^3}{6} + ... $\n",
    "\n",
    "Als we alleen N-termen meenemen, dan krijgen we de Ne Taylorbenadering voor de \n",
    "e-macht.  Dus:\n",
    "\n",
    "$e^x \\approx \\sum_{n=0}^{N-1} \\frac{x^{n}}{n!} = 1 + x + \\frac{x^2}{2} + \\frac{x^3}{6} + ... + \\frac{x^{N-1}}{(N-1)!}$\n",
    "\n",
    "Schrijf een programma met invoervariabelen *x* en *N* dat de Ne Taylorbenadering voor de \n",
    "e-macht bepaalt en uitprint. Print ook de e-macht uit die je berekent met math.exp(). \n",
    "Zijn de verschillen groot?\n",
    "\n",
    "*Hint*: Schrijf eerst een functie die de faculteit bepaalt van n.\n",
    "Hoe kun je n! in een for-loop bepalen?"
   ]
  },
  {
   "cell_type": "code",
   "execution_count": 4,
   "metadata": {
    "solution2": "hidden"
   },
   "outputs": [
    {
     "name": "stdout",
     "output_type": "stream",
     "text": [
      "Vul een geheel getal in\n",
      "1\n",
      "Vul een geheel getal in\n",
      "6\n",
      "Benadering   2.7166666666666663\n",
      "Uitkomst math 2.718281828459045\n"
     ]
    }
   ],
   "source": [
    "import math\n",
    "\n",
    "def faculteit(n):\n",
    "    \"\"\"\n",
    "    Bereken n faculteit\n",
    "    \n",
    "    Parameters\n",
    "    ----------\n",
    "    n: int \n",
    "       \n",
    "    Returns\n",
    "    -------\n",
    "    int\n",
    "        n faculteit\n",
    "    \"\"\"\n",
    "    facul = 1\n",
    "    \n",
    "    if n == 0:\n",
    "        return 1\n",
    "    else:\n",
    "        for i in range(n):\n",
    "            facul = facul * (i + 1)  \n",
    "        return facul                \n",
    "\n",
    "x = float(input('Vul een geheel getal in\\n'))\n",
    "n = int(input('Vul een geheel getal in\\n'))\n",
    "\n",
    "som = 0\n",
    "\n",
    "for i in range(n):    \n",
    "    som = som + math.pow(x, i) / faculteit(i)\n",
    "\n",
    "print('Benadering   ' + str(som))\n",
    "print('Uitkomst math ' + str(math.exp(x))) "
   ]
  },
  {
   "cell_type": "code",
   "execution_count": null,
   "metadata": {
    "solution2": "hidden"
   },
   "outputs": [],
   "source": [
    "# Alternatief voor faculteit (korter)\n",
    "\n",
    "def faculteit(n):\n",
    "    facul = 1\n",
    "    for i in range(1, n + 1):\n",
    "        facul = facul * (i + 1)  \n",
    "    return facul "
   ]
  },
  {
   "cell_type": "markdown",
   "metadata": {
    "solution2": "hidden",
    "solution2_first": true
   },
   "source": [
    "### 16.\n",
    "!! \\***  **Minimum en maximum**\n",
    "\n",
    "a. Maak een programma met daarin:\n",
    "1. Een zelfgeschreven functie met invoer een geheel getal *n*.\n",
    "De functie heeft als uitvoer een lijst met daarin n willekeurige getallen tussen de [0, 100).  \n",
    "*Hint*: De random module en append().\n",
    "\n",
    "2. Een zelfgeschreven functie met invoer een lijst en die als uitvoer het minimum geeft van die lijst.\n",
    "Hint: zoek op internet (of in Python) een waarde die plus oneindig representeert, zoals math.pi bijvoorbeeld de waarde van pi representeert.\n",
    "\n",
    "\n",
    "3. Het programma print de *n* getallen van de gemaakte lijst uit en geeft daarna aan wat het minimum is van die getallen. Hiervoor maak je gebruik van de twee geschreven functies. \n",
    "\n",
    "b. Zoals a, maar nu maximum."
   ]
  },
  {
   "cell_type": "code",
   "execution_count": 7,
   "metadata": {
    "solution2": "hidden"
   },
   "outputs": [
    {
     "name": "stdout",
     "output_type": "stream",
     "text": [
      "Vul een geheel getal in\n",
      "7\n",
      "[63, 8, 57, 30, 17, 80, 4]\n",
      "4\n"
     ]
    }
   ],
   "source": [
    "#a\n",
    "import random\n",
    "import math\n",
    "\n",
    "def lijstmaker(n):\n",
    "    lijst = []\n",
    "    for i in range(n):\n",
    "        lijst.append(random.randint(0, 100))\n",
    "    return lijst\n",
    "\n",
    "def minimum(lijst):\n",
    "    mini = math.inf # plus oneindig waarde. \n",
    "    \n",
    "    for i in range(len(lijst)):\n",
    "        if lijst[i] < mini: # Je kijkt voor elk element in de lijst of het kleiner is dan je huidige minimum.\n",
    "            mini = lijst[i] # Zo ja, dan heb je een nieuw minimum gevonden.\n",
    "                            # Waarom heb je dan plus oneindig nodig?: Je zult het eerste element in je lijst \n",
    "    return mini             # met een ander getal moeten vergelijken! Geen enkel getal is groot genoeg, \n",
    "                            # behalve oneindig. (Waarom?).\n",
    "n = int(input('Vul een geheel getal in\\n'))\n",
    "\n",
    "lijst = lijstmaker(n)\n",
    "\n",
    "print(lijst)\n",
    "print(minimum(lijst))"
   ]
  },
  {
   "cell_type": "code",
   "execution_count": 8,
   "metadata": {
    "solution2": "hidden"
   },
   "outputs": [
    {
     "name": "stdout",
     "output_type": "stream",
     "text": [
      "Vul een geheel getal in\n",
      "11\n",
      "[86, 92, 9, 40, 80, 70, 71, 40, 10, 56, 41]\n",
      "92\n"
     ]
    }
   ],
   "source": [
    "#b\n",
    "# import random\n",
    "# import math\n",
    "\n",
    "def lijstmaker(n):\n",
    "    lijst = []\n",
    "    \n",
    "    for i in range(n):\n",
    "        lijst.append(random.randint(0, 100))\n",
    "        \n",
    "    return lijst\n",
    "\n",
    "def maximum(lijst):\n",
    "    maxi = -math.inf  #zet een maximum van -oneindig\n",
    "    \n",
    "    for i in range(len(lijst)):\n",
    "        if lijst[i] > maxi: #Vergelijk de getallen met het huidige maximum. Als een getal groter is, stel dan het maximum gelijk aan het getal. \n",
    "            maxi = lijst[i]\n",
    "            \n",
    "    return maxi\n",
    "\n",
    "n = int(input('Vul een geheel getal in\\n'))\n",
    "\n",
    "lijst = lijstmaker(n)\n",
    "\n",
    "print(lijst)\n",
    "print(maximum(lijst))"
   ]
  }
 ],
 "metadata": {
  "kernelspec": {
   "display_name": "Python 3 (ipykernel)",
   "language": "python",
   "name": "python3"
  },
  "language_info": {
   "codemirror_mode": {
    "name": "ipython",
    "version": 3
   },
   "file_extension": ".py",
   "mimetype": "text/x-python",
   "name": "python",
   "nbconvert_exporter": "python",
   "pygments_lexer": "ipython3",
   "version": "3.9.12"
  },
  "toc": {
   "base_numbering": 1,
   "nav_menu": {},
   "number_sections": false,
   "sideBar": true,
   "skip_h1_title": false,
   "title_cell": "Table of Contents",
   "title_sidebar": "Contents",
   "toc_cell": false,
   "toc_position": {
    "height": "calc(100% - 180px)",
    "left": "10px",
    "top": "150px",
    "width": "165px"
   },
   "toc_section_display": true,
   "toc_window_display": true
  }
 },
 "nbformat": 4,
 "nbformat_minor": 4
}
