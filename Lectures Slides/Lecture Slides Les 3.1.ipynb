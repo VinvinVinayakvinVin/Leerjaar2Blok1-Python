{
 "cells": [
  {
   "cell_type": "markdown",
   "id": "11a48700",
   "metadata": {
    "slideshow": {
     "slide_type": "slide"
    }
   },
   "source": [
    "# Programmeren 2.1\n",
    "\n",
    "### Les 3.1 -- Lijsten en loops\n",
    "\n",
    "19 Sep 2022"
   ]
  },
  {
   "cell_type": "markdown",
   "id": "65e5ca04",
   "metadata": {
    "slideshow": {
     "slide_type": "slide"
    }
   },
   "source": [
    "## Inhoud\n",
    "- Lijsten\n",
    "- **for** loops\n",
    "- de **range** functie\n",
    "- Operaties op lijsten\n",
    "- Programmeerstijl"
   ]
  },
  {
   "cell_type": "markdown",
   "id": "967e4608",
   "metadata": {
    "slideshow": {
     "slide_type": "slide"
    }
   },
   "source": [
    "Tot zo ver hebben we alleen maar met simpele variabelen gewerkt, maar vooral toepassingen met veel data is dat omslachtig."
   ]
  },
  {
   "cell_type": "code",
   "execution_count": 1,
   "id": "4760480b",
   "metadata": {
    "cell_style": "split"
   },
   "outputs": [
    {
     "name": "stdout",
     "output_type": "stream",
     "text": [
      "Som: 58\n"
     ]
    }
   ],
   "source": [
    "x1 = 2\n",
    "x2 = 3\n",
    "x3 = 5\n",
    "x4 = 7\n",
    "x5 = 11\n",
    "x6 = 13\n",
    "x7 = 17\n",
    "som = x1 + x2 + x3 + x4 + x5 + x6 + x7\n",
    "print(\"Som:\", som)"
   ]
  },
  {
   "cell_type": "markdown",
   "id": "0050adf8",
   "metadata": {
    "cell_style": "split"
   },
   "source": [
    "- Het is onhandig om iedere waarde een andere \"naam\" te geven.\n",
    "- We hebben geen goede manier om de $n^{de}$ waarde van $x$ te achterhalen voor variabele $n$."
   ]
  },
  {
   "cell_type": "markdown",
   "id": "de925134",
   "metadata": {
    "slideshow": {
     "slide_type": "slide"
    }
   },
   "source": [
    "Een oplossing hiervoor is het gebruik van *lijsten*."
   ]
  },
  {
   "cell_type": "code",
   "execution_count": 2,
   "id": "751a8e18",
   "metadata": {},
   "outputs": [
    {
     "name": "stdout",
     "output_type": "stream",
     "text": [
      "Type xs:  <class 'list'>\n",
      "Lengte van xs:  7\n",
      "Som: 58\n"
     ]
    }
   ],
   "source": [
    "xs = [2, 3, 5, 7, 11, 13, 17]\n",
    "print(\"Type xs: \", type(xs))\n",
    "print(\"Lengte van xs: \", len(xs))\n",
    "som = xs[0] + xs[1] + xs[2] + xs[3] + xs[4] + xs[5] + xs[6]\n",
    "print(\"Som:\", som)"
   ]
  },
  {
   "cell_type": "markdown",
   "id": "b2b1dddb",
   "metadata": {
    "slideshow": {
     "slide_type": "slide"
    }
   },
   "source": [
    "- De variabele **xs** is een lijst met 7 waardes\n",
    "- Deze waardes zijn genummerd 0 t/m 6\n",
    "- De $n^{de}$ waarde van **xs** roepen we aan met **xs[n]**\n",
    "- De lengte van een lijst vind je met het **len** commando (net zoals bij **str**)"
   ]
  },
  {
   "cell_type": "markdown",
   "id": "c03195e3",
   "metadata": {
    "slideshow": {
     "slide_type": "slide"
    }
   },
   "source": [
    "Je kan de waarden van een lijst één voor één afgaan met een **for** loop:"
   ]
  },
  {
   "cell_type": "code",
   "execution_count": 3,
   "id": "b78c54e7",
   "metadata": {
    "cell_style": "split"
   },
   "outputs": [
    {
     "name": "stdout",
     "output_type": "stream",
     "text": [
      "2\n",
      "3\n",
      "5\n",
      "7\n",
      "11\n",
      "13\n",
      "17\n"
     ]
    }
   ],
   "source": [
    "xs = [2, 3, 5, 7, 11, 13, 17]\n",
    "for x in xs:\n",
    "    print(x)"
   ]
  },
  {
   "cell_type": "markdown",
   "id": "77248e21",
   "metadata": {
    "cell_style": "split"
   },
   "source": [
    "Een **for** loop heeft de vorm:\n",
    "\n",
    "    for <waarde> in <lijst>:\n",
    "        # code\n",
    "\n",
    "De ingesprongen code wordt voor iedere waarde in de lijst herhaald."
   ]
  },
  {
   "cell_type": "markdown",
   "id": "d01a01d1",
   "metadata": {
    "slideshow": {
     "slide_type": "slide"
    }
   },
   "source": [
    "Je kan ook andere programmastructuren gebruiken binnen een **for** loop."
   ]
  },
  {
   "cell_type": "code",
   "execution_count": 26,
   "id": "33940a43",
   "metadata": {},
   "outputs": [
    {
     "name": "stdout",
     "output_type": "stream",
     "text": [
      "Geef een getal:111\n",
      "111 is niet deelbaar door 2.\n",
      "111 is deelbaar door 3.\n",
      "111 is niet deelbaar door 5.\n",
      "111 is niet deelbaar door 7.\n",
      "111 is niet deelbaar door 11.\n",
      "111 is niet deelbaar door 13.\n",
      "111 is niet deelbaar door 17.\n",
      "Klaar!\n"
     ]
    }
   ],
   "source": [
    "xs = [2, 3, 5, 7, 11, 13, 17]\n",
    "k = int(input(\"Geef een getal:\"))\n",
    "for x in xs:\n",
    "    if (k%x == 0):\n",
    "        print(f\"{k} is deelbaar door {x}.\")\n",
    "    else:\n",
    "        print(f\"{k} is niet deelbaar door {x}.\")\n",
    "print(\"Klaar!\")"
   ]
  },
  {
   "cell_type": "markdown",
   "id": "4d67b49b",
   "metadata": {
    "slideshow": {
     "slide_type": "slide"
    }
   },
   "source": [
    "We kunnen onze som nu ook met een loop berekenen:"
   ]
  },
  {
   "cell_type": "code",
   "execution_count": 5,
   "id": "64b58729",
   "metadata": {
    "cell_style": "split"
   },
   "outputs": [
    {
     "name": "stdout",
     "output_type": "stream",
     "text": [
      "Som: 58\n"
     ]
    }
   ],
   "source": [
    "xs = [2, 3, 5, 7, 11, 13, 17]\n",
    "\n",
    "# De som van niks is 0\n",
    "som = 0\n",
    "for x in xs:\n",
    "    # Voor iedere waarde van x\n",
    "    # verhoog de som met x.\n",
    "    som = som + x\n",
    "print(\"Som:\", som)"
   ]
  },
  {
   "cell_type": "markdown",
   "id": "fd80595b",
   "metadata": {
    "cell_style": "split"
   },
   "source": [
    "- Begin: **som = 0**\n",
    "- 0e waarde, **som = 0 + 2 = 2**\n",
    "- 1e waarde, **som = 0 + 2 + 3 = 5**\n",
    "- 2e waarde, **som = 2 + 3 + 5 = 10**\n",
    "- 3e waarde, **som = 2 + 3 + 5 + 7 = 17**\n",
    "- 4e waarde, **som = 17 + 11 = 28**\n",
    "- 5e waarde, **som = 28 + 13 = 41**\n",
    "- 6e waarde, **som = 41 + 17 = 58**"
   ]
  },
  {
   "cell_type": "markdown",
   "id": "6fb254dd",
   "metadata": {
    "slideshow": {
     "slide_type": "slide"
    }
   },
   "source": [
    "Lijsten kunnen ook andere datatypes, bijvoorbeeld **str** bevatten:"
   ]
  },
  {
   "cell_type": "code",
   "execution_count": 6,
   "id": "a460b845",
   "metadata": {},
   "outputs": [
    {
     "name": "stdout",
     "output_type": "stream",
     "text": [
      "Goedemiddag Robert!\n",
      "Goedemiddag Michiel!\n",
      "Goedemiddag Xiomara!\n"
     ]
    }
   ],
   "source": [
    "docenten = ['Robert', 'Michiel', 'Xiomara']\n",
    "for docent in docenten:\n",
    "    print(f\"Goedemiddag {docent}!\")"
   ]
  },
  {
   "cell_type": "markdown",
   "id": "9ed498ee",
   "metadata": {
    "slideshow": {
     "slide_type": "slide"
    }
   },
   "source": [
    "Soms heb je gewoon de lijst $[0, 1, 2, \\ldots, 999]$ in een loop nodig, dit is uiteraard wat onhandig om van te voren typen. Hiervoor kunnen we de **range** functie gebruiken."
   ]
  },
  {
   "cell_type": "code",
   "execution_count": 7,
   "id": "a4e10094",
   "metadata": {
    "cell_style": "split"
   },
   "outputs": [
    {
     "name": "stdout",
     "output_type": "stream",
     "text": [
      "0\n",
      "1\n",
      "2\n",
      "3\n",
      "4\n",
      "5\n",
      "6\n",
      "7\n",
      "8\n",
      "9\n"
     ]
    }
   ],
   "source": [
    "# range(n) geeft de getallen\n",
    "# 0 tot n (zonder n zelf)\n",
    "for i in range(10):\n",
    "    print(i)"
   ]
  },
  {
   "cell_type": "code",
   "execution_count": 8,
   "id": "5eda925a",
   "metadata": {
    "cell_style": "split"
   },
   "outputs": [
    {
     "name": "stdout",
     "output_type": "stream",
     "text": [
      "10\n",
      "11\n",
      "12\n",
      "13\n",
      "14\n",
      "15\n",
      "16\n",
      "17\n",
      "18\n",
      "19\n"
     ]
    }
   ],
   "source": [
    "# range(m,n) geeft de getallen\n",
    "# m tot n\n",
    "for i in range(10,20):\n",
    "    print(i)"
   ]
  },
  {
   "cell_type": "markdown",
   "id": "ccf5aa11",
   "metadata": {
    "cell_style": "split",
    "slideshow": {
     "slide_type": "slide"
    }
   },
   "source": [
    "Zo kunnen we bijvoorbeeld:\n",
    "$$\n",
    "\\sum_{n=1}^\\infty \\frac{1}{n^2} = \\frac{\\pi^2}{6}\n",
    "$$\n",
    "benaderen door\n",
    "$$\n",
    "\\sum_{n=1}^{10000} \\frac{1}{n^2},\n",
    "$$\n",
    "te berekenen."
   ]
  },
  {
   "cell_type": "code",
   "execution_count": 2,
   "id": "16c8b9bd",
   "metadata": {
    "cell_style": "split"
   },
   "outputs": [
    {
     "name": "stdout",
     "output_type": "stream",
     "text": [
      "1.6448340718480652\n",
      "1.6449340668482264\n"
     ]
    }
   ],
   "source": [
    "from math import pi\n",
    "som = 0\n",
    "for n in range(1, 10001):\n",
    "    som = som + 1/(n**2)\n",
    "print(som)\n",
    "print(pi**2 / 6)"
   ]
  },
  {
   "cell_type": "markdown",
   "id": "a29ced54",
   "metadata": {},
   "source": [
    "Merk op: in de toekomst zullen we hier ook vooral de **sum** functie voor gebruiken."
   ]
  },
  {
   "cell_type": "markdown",
   "id": "407b5b7f",
   "metadata": {
    "slideshow": {
     "slide_type": "slide"
    }
   },
   "source": [
    "Een **for** loop met **range** kan je ook gebruiken om dezelfde actie een aantal keer te herhalen."
   ]
  },
  {
   "cell_type": "code",
   "execution_count": 10,
   "id": "40c00db2",
   "metadata": {},
   "outputs": [
    {
     "name": "stdout",
     "output_type": "stream",
     "text": [
      "Hello World!\n",
      "Hello World!\n",
      "Hello World!\n",
      "Hello World!\n",
      "Hello World!\n",
      "Hello World!\n",
      "Hello World!\n",
      "Hello World!\n",
      "Hello World!\n",
      "Hello World!\n"
     ]
    }
   ],
   "source": [
    "## Print 10 keer Hello World!\n",
    "for i in range(10):\n",
    "    print(\"Hello World!\")"
   ]
  },
  {
   "cell_type": "markdown",
   "id": "9dac961d",
   "metadata": {
    "slideshow": {
     "slide_type": "slide"
    }
   },
   "source": [
    "Terug naar lijsten -- met lijsten kunnen we de volgende operaties uitvoeren:\n",
    "\n",
    "| Code | Betekenis | Alternatief |\n",
    "|:-----|:----------|:------------|\n",
    "| **xs[i]** | $i^{de}$ waarde van de lijst ||\n",
    "| **xs + ys** | Plak lijsten **xs** en **ys** achter elkaar ||\n",
    "| **xs \\* n** | Plak **n** kopien van **xs** achter elkaar ||\n",
    "| **x in xs** | Zit **x** in de lijst **xs**? (True/False) ||\n",
    "| **xs.append(x)** | Verleng **xs** met element **x** | **xs = xs + [x]** |\n",
    "| **xs.extend(ys)** | Verleng **xs** met lijst **ys** | **xs = xs + ys** |\n",
    "| **ys = xs** | **ys** verwijst naar dezelfde lijst als **xs** ||\n",
    "| **ys = xs.copy()** | **ys** is een kopie van **xs** ||\n",
    "\n",
    "Merk op: een string is een lijst van karakters, de **[i]**, **+** en **\\*** operaties doen precies wat je zou verwachten."
   ]
  },
  {
   "cell_type": "markdown",
   "id": "0a87a4fc",
   "metadata": {
    "slideshow": {
     "slide_type": "slide"
    }
   },
   "source": [
    "De lijst van mogelijke operaties op een lijst is ook benaderbaar met de **help** functie."
   ]
  },
  {
   "cell_type": "code",
   "execution_count": 25,
   "id": "a6b740b0",
   "metadata": {},
   "outputs": [
    {
     "name": "stdout",
     "output_type": "stream",
     "text": [
      "Help on class list in module builtins:\n",
      "\n",
      "class list(object)\n",
      " |  list(iterable=(), /)\n",
      " |  \n",
      " |  Built-in mutable sequence.\n",
      " |  \n",
      " |  If no argument is given, the constructor creates a new empty list.\n",
      " |  The argument must be an iterable if specified.\n",
      " |  \n",
      " |  Methods defined here:\n",
      " |  \n",
      " |  __add__(self, value, /)\n",
      " |      Return self+value.\n",
      " |  \n",
      " |  __contains__(self, key, /)\n",
      " |      Return key in self.\n",
      " |  \n",
      " |  __delitem__(self, key, /)\n",
      " |      Delete self[key].\n",
      " |  \n",
      " |  __eq__(self, value, /)\n",
      " |      Return self==value.\n",
      " |  \n",
      " |  __ge__(self, value, /)\n",
      " |      Return self>=value.\n",
      " |  \n",
      " |  __getattribute__(self, name, /)\n",
      " |      Return getattr(self, name).\n",
      " |  \n",
      " |  __getitem__(...)\n",
      " |      x.__getitem__(y) <==> x[y]\n",
      " |  \n",
      " |  __gt__(self, value, /)\n",
      " |      Return self>value.\n",
      " |  \n",
      " |  __iadd__(self, value, /)\n",
      " |      Implement self+=value.\n",
      " |  \n",
      " |  __imul__(self, value, /)\n",
      " |      Implement self*=value.\n",
      " |  \n",
      " |  __init__(self, /, *args, **kwargs)\n",
      " |      Initialize self.  See help(type(self)) for accurate signature.\n",
      " |  \n",
      " |  __iter__(self, /)\n",
      " |      Implement iter(self).\n",
      " |  \n",
      " |  __le__(self, value, /)\n",
      " |      Return self<=value.\n",
      " |  \n",
      " |  __len__(self, /)\n",
      " |      Return len(self).\n",
      " |  \n",
      " |  __lt__(self, value, /)\n",
      " |      Return self<value.\n",
      " |  \n",
      " |  __mul__(self, value, /)\n",
      " |      Return self*value.\n",
      " |  \n",
      " |  __ne__(self, value, /)\n",
      " |      Return self!=value.\n",
      " |  \n",
      " |  __repr__(self, /)\n",
      " |      Return repr(self).\n",
      " |  \n",
      " |  __reversed__(self, /)\n",
      " |      Return a reverse iterator over the list.\n",
      " |  \n",
      " |  __rmul__(self, value, /)\n",
      " |      Return value*self.\n",
      " |  \n",
      " |  __setitem__(self, key, value, /)\n",
      " |      Set self[key] to value.\n",
      " |  \n",
      " |  __sizeof__(self, /)\n",
      " |      Return the size of the list in memory, in bytes.\n",
      " |  \n",
      " |  append(self, object, /)\n",
      " |      Append object to the end of the list.\n",
      " |  \n",
      " |  clear(self, /)\n",
      " |      Remove all items from list.\n",
      " |  \n",
      " |  copy(self, /)\n",
      " |      Return a shallow copy of the list.\n",
      " |  \n",
      " |  count(self, value, /)\n",
      " |      Return number of occurrences of value.\n",
      " |  \n",
      " |  extend(self, iterable, /)\n",
      " |      Extend list by appending elements from the iterable.\n",
      " |  \n",
      " |  index(self, value, start=0, stop=9223372036854775807, /)\n",
      " |      Return first index of value.\n",
      " |      \n",
      " |      Raises ValueError if the value is not present.\n",
      " |  \n",
      " |  insert(self, index, object, /)\n",
      " |      Insert object before index.\n",
      " |  \n",
      " |  pop(self, index=-1, /)\n",
      " |      Remove and return item at index (default last).\n",
      " |      \n",
      " |      Raises IndexError if list is empty or index is out of range.\n",
      " |  \n",
      " |  remove(self, value, /)\n",
      " |      Remove first occurrence of value.\n",
      " |      \n",
      " |      Raises ValueError if the value is not present.\n",
      " |  \n",
      " |  reverse(self, /)\n",
      " |      Reverse *IN PLACE*.\n",
      " |  \n",
      " |  sort(self, /, *, key=None, reverse=False)\n",
      " |      Sort the list in ascending order and return None.\n",
      " |      \n",
      " |      The sort is in-place (i.e. the list itself is modified) and stable (i.e. the\n",
      " |      order of two equal elements is maintained).\n",
      " |      \n",
      " |      If a key function is given, apply it once to each list item and sort them,\n",
      " |      ascending or descending, according to their function values.\n",
      " |      \n",
      " |      The reverse flag can be set to sort in descending order.\n",
      " |  \n",
      " |  ----------------------------------------------------------------------\n",
      " |  Static methods defined here:\n",
      " |  \n",
      " |  __new__(*args, **kwargs) from builtins.type\n",
      " |      Create and return a new object.  See help(type) for accurate signature.\n",
      " |  \n",
      " |  ----------------------------------------------------------------------\n",
      " |  Data and other attributes defined here:\n",
      " |  \n",
      " |  __hash__ = None\n",
      "\n"
     ]
    }
   ],
   "source": [
    "help(list)"
   ]
  },
  {
   "cell_type": "code",
   "execution_count": 11,
   "id": "9118e0b1",
   "metadata": {
    "cell_style": "split",
    "slideshow": {
     "slide_type": "slide"
    }
   },
   "outputs": [
    {
     "name": "stdout",
     "output_type": "stream",
     "text": [
      "xs = [2, 3, 5]\n",
      "ys = [7, 11, 13]\n",
      "zs = [2, 3, 5, 7, 11, 13]\n"
     ]
    }
   ],
   "source": [
    "xs = [2,3,5]\n",
    "ys = [7,11,13]\n",
    "zs = xs + ys\n",
    "print(\"xs =\", xs)\n",
    "print(\"ys =\", ys)\n",
    "print(\"zs =\", zs)"
   ]
  },
  {
   "cell_type": "code",
   "execution_count": 12,
   "id": "35af5117",
   "metadata": {
    "cell_style": "split"
   },
   "outputs": [
    {
     "name": "stdout",
     "output_type": "stream",
     "text": [
      "xs = [2, 3, 5, 7, 11, 13]\n",
      "ys = [7, 11, 13]\n"
     ]
    }
   ],
   "source": [
    "xs = [2,3,5]\n",
    "ys = [7,11,13]\n",
    "xs.extend(ys)\n",
    "print(\"xs =\", xs)\n",
    "print(\"ys =\", ys)"
   ]
  },
  {
   "cell_type": "code",
   "execution_count": 13,
   "id": "4c3d0589",
   "metadata": {
    "cell_style": "split"
   },
   "outputs": [
    {
     "name": "stdout",
     "output_type": "stream",
     "text": [
      "xs = [2, 3, 5, 7, 11, 13, 17]\n"
     ]
    }
   ],
   "source": [
    "xs.append(17)\n",
    "print(\"xs =\", xs)"
   ]
  },
  {
   "cell_type": "code",
   "execution_count": 14,
   "id": "9f45b516",
   "metadata": {
    "cell_style": "split"
   },
   "outputs": [
    {
     "name": "stdout",
     "output_type": "stream",
     "text": [
      "[2, 3, 5, 2, 3, 5, 2, 3, 5]\n"
     ]
    }
   ],
   "source": [
    "xs = [2,3,5]\n",
    "print(xs*3)"
   ]
  },
  {
   "cell_type": "code",
   "execution_count": 15,
   "id": "55191f4b",
   "metadata": {
    "cell_style": "split"
   },
   "outputs": [
    {
     "name": "stdout",
     "output_type": "stream",
     "text": [
      "R\n",
      "o\n",
      "b\n",
      "e\n",
      "r\n",
      "t\n"
     ]
    }
   ],
   "source": [
    "naam = \"Robert\"\n",
    "for c in naam:\n",
    "    print(c)"
   ]
  },
  {
   "cell_type": "markdown",
   "id": "c1a92ba5",
   "metadata": {
    "slideshow": {
     "slide_type": "slide"
    }
   },
   "source": [
    "Met de combinatie van **for**, **input** en **append** kan je een gebruiker lijsten laten invoeren:"
   ]
  },
  {
   "cell_type": "code",
   "execution_count": 29,
   "id": "8a1fff99",
   "metadata": {},
   "outputs": [
    {
     "name": "stdout",
     "output_type": "stream",
     "text": [
      "Geef 5 getallen:\n",
      "1e getal: 34\n",
      "2e getal: 67\n",
      "3e getal: 9\n",
      "4e getal: 4\n",
      "5e getal: 234543256\n",
      "Je hebt de getallen [34, 67, 9, 4, 234543256] ingevoerd.\n",
      "De som is 234543370\n",
      "Het gemiddelde is 46908674.0\n"
     ]
    }
   ],
   "source": [
    "# Begin met een lege lijst\n",
    "getallen = []\n",
    "print(\"Geef 5 getallen:\")\n",
    "for i in range(5):\n",
    "    x = int(input(f\"{i+1}e getal: \"))\n",
    "    getallen.append(x)\n",
    "print(\"Je hebt de getallen\", getallen, \"ingevoerd.\")\n",
    "print(\"De som is\", sum(getallen))\n",
    "print(\"Het gemiddelde is\", sum(getallen)/5)"
   ]
  },
  {
   "cell_type": "code",
   "execution_count": 17,
   "id": "6691f7c4",
   "metadata": {
    "cell_style": "split",
    "slideshow": {
     "slide_type": "slide"
    }
   },
   "outputs": [],
   "source": [
    "def faculteit(n):\n",
    "    if n == 0:\n",
    "        return 1\n",
    "    \n",
    "    # Startwaarde\n",
    "    fact_n = 1\n",
    "    \n",
    "    # Loop van 1 t/m n\n",
    "    for i in range(1, n+1):\n",
    "        fact_n = fact_n * i\n",
    "    return fact_n\n",
    "        "
   ]
  },
  {
   "cell_type": "code",
   "execution_count": 30,
   "id": "42792bf3",
   "metadata": {
    "cell_style": "split"
   },
   "outputs": [
    {
     "name": "stdout",
     "output_type": "stream",
     "text": [
      "Geef 5 getallen:\n",
      "1e getal: 12\n",
      "2e getal: 3\n",
      "3e getal: 6\n",
      "4e getal: 15\n",
      "5e getal: 8\n",
      "12! = 479001600\n",
      "3! = 6\n",
      "6! = 720\n",
      "15! = 1307674368000\n",
      "8! = 40320\n"
     ]
    }
   ],
   "source": [
    "# Lees getallen\n",
    "getallen = []\n",
    "print(\"Geef 5 getallen:\")\n",
    "for i in range(5):\n",
    "    n = int(input(f\"{i+1}e getal: \"))\n",
    "    getallen.append(n)\n",
    "\n",
    "# Bereken en print faculteiten\n",
    "for getal in getallen:\n",
    "    fact_getal = faculteit(getal)\n",
    "    print(f\"{getal}! = {fact_getal}\")"
   ]
  },
  {
   "cell_type": "markdown",
   "id": "844ac33c",
   "metadata": {
    "cell_style": "center",
    "slideshow": {
     "slide_type": "slide"
    }
   },
   "source": [
    "Een lijstvariabele is een verwijzing naar een geheugenlocatie waar de elementen van de lijst staan. In de code"
   ]
  },
  {
   "cell_type": "code",
   "execution_count": 19,
   "id": "b392cc9c",
   "metadata": {},
   "outputs": [],
   "source": [
    "xs = [2, 3, 5, 7, 9, 11, 17]\n",
    "ys = xs"
   ]
  },
  {
   "cell_type": "markdown",
   "id": "da58a42a",
   "metadata": {},
   "source": [
    "verwijst **ys** dus nog steeds naar dezelfde geheugenlocatie. Een verandering van een element van **ys** zal dus ook hetzelfde element van **xs** veranderen:"
   ]
  },
  {
   "cell_type": "code",
   "execution_count": 20,
   "id": "09b304b8",
   "metadata": {},
   "outputs": [
    {
     "name": "stdout",
     "output_type": "stream",
     "text": [
      "xs = [2, 3, 999, 7, 9, 11, 17], ys = [2, 3, 999, 7, 9, 11, 17]\n"
     ]
    }
   ],
   "source": [
    "ys[2] = 999\n",
    "print(f\"xs = {xs}, ys = {ys}\")"
   ]
  },
  {
   "cell_type": "markdown",
   "id": "71b2369e",
   "metadata": {
    "slideshow": {
     "slide_type": "slide"
    }
   },
   "source": [
    "Wil je een *kopie* van **xs** die je onafhankelijk kan veranderen dan dien je het **copy()** commando te gebruiken."
   ]
  },
  {
   "cell_type": "markdown",
   "id": "1c877226",
   "metadata": {
    "cell_style": "split"
   },
   "source": [
    "Met **copy()**:"
   ]
  },
  {
   "cell_type": "markdown",
   "id": "7e1ff6b8",
   "metadata": {
    "cell_style": "split"
   },
   "source": [
    "Zelf uitgeprogrammeerd:"
   ]
  },
  {
   "cell_type": "code",
   "execution_count": 21,
   "id": "059d6ec1",
   "metadata": {
    "cell_style": "split"
   },
   "outputs": [
    {
     "name": "stdout",
     "output_type": "stream",
     "text": [
      "xs = [2, 3, 5, 7, 9, 11, 17]\n",
      "ys = [2, 3, 999, 7, 9, 11, 17]\n"
     ]
    }
   ],
   "source": [
    "xs = [2, 3, 5, 7, 9, 11, 17]\n",
    "ys = xs.copy()\n",
    "ys[2] = 999\n",
    "print(f\"xs = {xs}\\nys = {ys}\")"
   ]
  },
  {
   "cell_type": "code",
   "execution_count": 22,
   "id": "94235f73",
   "metadata": {
    "cell_style": "split"
   },
   "outputs": [
    {
     "name": "stdout",
     "output_type": "stream",
     "text": [
      "xs = [2, 3, 5, 7, 9, 11, 17]\n",
      "ys = [2, 3, 999, 7, 9, 11, 17]\n"
     ]
    }
   ],
   "source": [
    "xs = [2, 3, 5, 7, 9, 11, 17]\n",
    "# Kopieer lijst\n",
    "ys = []\n",
    "for x in xs:\n",
    "    ys.append(x)\n",
    "    \n",
    "ys[2] = 999\n",
    "print(f\"xs = {xs}\\nys = {ys}\")"
   ]
  },
  {
   "cell_type": "markdown",
   "id": "1f81aa3f",
   "metadata": {
    "slideshow": {
     "slide_type": "slide"
    }
   },
   "source": [
    "## Programmeerstijl\n",
    "\n",
    "- Naamgeving\n",
    "  - Naam lijsten is meervoud, en eindigd op \"-s\" of \"-en\"\n",
    "  - Naam element lijst is enkelvoud\n",
    "  - Index bij **for** \\<index\\> **in range(...):** is een variabele met een naam van één letter, meestal **i**, **j** of **k**\n",
    "  - Bovengrens in **range** is (of hangt af van) **n**, **N**, **m** of **M**\n",
    "- Gebruik **append** en **extend** om duidelijk te maken dat lijsten veranderen."
   ]
  }
 ],
 "metadata": {
  "celltoolbar": "Slideshow",
  "kernelspec": {
   "display_name": "Python 3 (ipykernel)",
   "language": "python",
   "name": "python3"
  },
  "language_info": {
   "codemirror_mode": {
    "name": "ipython",
    "version": 3
   },
   "file_extension": ".py",
   "mimetype": "text/x-python",
   "name": "python",
   "nbconvert_exporter": "python",
   "pygments_lexer": "ipython3",
   "version": "3.9.13"
  },
  "toc": {
   "base_numbering": 1,
   "nav_menu": {},
   "number_sections": false,
   "sideBar": true,
   "skip_h1_title": true,
   "title_cell": "Table of Contents",
   "title_sidebar": "Contents",
   "toc_cell": false,
   "toc_position": {},
   "toc_section_display": true,
   "toc_window_display": false
  }
 },
 "nbformat": 4,
 "nbformat_minor": 5
}
